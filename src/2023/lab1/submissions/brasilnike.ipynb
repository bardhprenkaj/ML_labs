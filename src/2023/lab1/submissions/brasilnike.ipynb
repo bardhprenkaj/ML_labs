{
 "cells": [
  {
   "cell_type": "markdown",
   "metadata": {
    "id": "xPYdYTOOLXFO"
   },
   "source": [
    "**Objective**: Build an XGBoost model for predicting heart disease and experiment with hyperparameter tuning to improve its performance.\n",
    "\n",
    "Dataset: [Heart Disease UCI](https://archive.ics.uci.edu/dataset/45/heart+disease)"
   ]
  },
  {
   "cell_type": "markdown",
   "metadata": {
    "id": "pob-gDK2Ll8V"
   },
   "source": [
    "# Task 1: Data Loading and Exploration\n",
    "1. Load the Heart Disease UCI dataset.\n",
    "2. Explore the dataset to understand its structure and features.\n",
    "3. Split the data into training and testing sets."
   ]
  },
  {
   "cell_type": "code",
   "execution_count": 69,
   "metadata": {},
   "outputs": [
    {
     "name": "stdout",
     "output_type": "stream",
     "text": [
      "Requirement already satisfied: ucimlrepo in c:\\users\\calim\\anaconda3\\lib\\site-packages (0.0.3)\n"
     ]
    }
   ],
   "source": [
    "!pip install ucimlrepo"
   ]
  },
  {
   "cell_type": "code",
   "execution_count": 70,
   "metadata": {
    "id": "3_HtpocjLpun"
   },
   "outputs": [
    {
     "name": "stdout",
     "output_type": "stream",
     "text": [
      "{'uci_id': 45, 'name': 'Heart Disease', 'repository_url': 'https://archive.ics.uci.edu/dataset/45/heart+disease', 'data_url': 'https://archive.ics.uci.edu/static/public/45/data.csv', 'abstract': '4 databases: Cleveland, Hungary, Switzerland, and the VA Long Beach', 'area': 'Health and Medicine', 'tasks': ['Classification'], 'characteristics': ['Multivariate'], 'num_instances': 303, 'num_features': 13, 'feature_types': ['Categorical', 'Integer', 'Real'], 'demographics': ['Age', 'Sex'], 'target_col': ['num'], 'index_col': None, 'has_missing_values': 'yes', 'missing_values_symbol': 'NaN', 'year_of_dataset_creation': 1989, 'last_updated': 'Fri Nov 03 2023', 'dataset_doi': '10.24432/C52P4X', 'creators': ['Andras Janosi', 'William Steinbrunn', 'Matthias Pfisterer', 'Robert Detrano'], 'intro_paper': {'title': 'International application of a new probability algorithm for the diagnosis of coronary artery disease.', 'authors': 'R. Detrano, A. Jánosi, W. Steinbrunn, M. Pfisterer, J. Schmid, S. Sandhu, K. Guppy, S. Lee, V. Froelicher', 'published_in': 'American Journal of Cardiology', 'year': 1989, 'url': 'https://www.semanticscholar.org/paper/a7d714f8f87bfc41351eb5ae1e5472f0ebbe0574', 'doi': None}, 'additional_info': {'summary': 'This database contains 76 attributes, but all published experiments refer to using a subset of 14 of them.  In particular, the Cleveland database is the only one that has been used by ML researchers to date.  The \"goal\" field refers to the presence of heart disease in the patient.  It is integer valued from 0 (no presence) to 4. Experiments with the Cleveland database have concentrated on simply attempting to distinguish presence (values 1,2,3,4) from absence (value 0).  \\n   \\nThe names and social security numbers of the patients were recently removed from the database, replaced with dummy values.\\n\\nOne file has been \"processed\", that one containing the Cleveland database.  All four unprocessed files also exist in this directory.\\n\\nTo see Test Costs (donated by Peter Turney), please see the folder \"Costs\" ', 'purpose': None, 'funded_by': None, 'instances_represent': None, 'recommended_data_splits': None, 'sensitive_data': None, 'preprocessing_description': None, 'variable_info': 'Only 14 attributes used:\\r\\n      1. #3  (age)       \\r\\n      2. #4  (sex)       \\r\\n      3. #9  (cp)        \\r\\n      4. #10 (trestbps)  \\r\\n      5. #12 (chol)      \\r\\n      6. #16 (fbs)       \\r\\n      7. #19 (restecg)   \\r\\n      8. #32 (thalach)   \\r\\n      9. #38 (exang)     \\r\\n      10. #40 (oldpeak)   \\r\\n      11. #41 (slope)     \\r\\n      12. #44 (ca)        \\r\\n      13. #51 (thal)      \\r\\n      14. #58 (num)       (the predicted attribute)\\r\\n\\r\\nComplete attribute documentation:\\r\\n      1 id: patient identification number\\r\\n      2 ccf: social security number (I replaced this with a dummy value of 0)\\r\\n      3 age: age in years\\r\\n      4 sex: sex (1 = male; 0 = female)\\r\\n      5 painloc: chest pain location (1 = substernal; 0 = otherwise)\\r\\n      6 painexer (1 = provoked by exertion; 0 = otherwise)\\r\\n      7 relrest (1 = relieved after rest; 0 = otherwise)\\r\\n      8 pncaden (sum of 5, 6, and 7)\\r\\n      9 cp: chest pain type\\r\\n        -- Value 1: typical angina\\r\\n        -- Value 2: atypical angina\\r\\n        -- Value 3: non-anginal pain\\r\\n        -- Value 4: asymptomatic\\r\\n     10 trestbps: resting blood pressure (in mm Hg on admission to the hospital)\\r\\n     11 htn\\r\\n     12 chol: serum cholestoral in mg/dl\\r\\n     13 smoke: I believe this is 1 = yes; 0 = no (is or is not a smoker)\\r\\n     14 cigs (cigarettes per day)\\r\\n     15 years (number of years as a smoker)\\r\\n     16 fbs: (fasting blood sugar > 120 mg/dl)  (1 = true; 0 = false)\\r\\n     17 dm (1 = history of diabetes; 0 = no such history)\\r\\n     18 famhist: family history of coronary artery disease (1 = yes; 0 = no)\\r\\n     19 restecg: resting electrocardiographic results\\r\\n        -- Value 0: normal\\r\\n        -- Value 1: having ST-T wave abnormality (T wave inversions and/or ST elevation or depression of > 0.05 mV)\\r\\n        -- Value 2: showing probable or definite left ventricular hypertrophy by Estes\\' criteria\\r\\n     20 ekgmo (month of exercise ECG reading)\\r\\n     21 ekgday(day of exercise ECG reading)\\r\\n     22 ekgyr (year of exercise ECG reading)\\r\\n     23 dig (digitalis used furing exercise ECG: 1 = yes; 0 = no)\\r\\n     24 prop (Beta blocker used during exercise ECG: 1 = yes; 0 = no)\\r\\n     25 nitr (nitrates used during exercise ECG: 1 = yes; 0 = no)\\r\\n     26 pro (calcium channel blocker used during exercise ECG: 1 = yes; 0 = no)\\r\\n     27 diuretic (diuretic used used during exercise ECG: 1 = yes; 0 = no)\\r\\n     28 proto: exercise protocol\\r\\n          1 = Bruce     \\r\\n          2 = Kottus\\r\\n          3 = McHenry\\r\\n          4 = fast Balke\\r\\n          5 = Balke\\r\\n          6 = Noughton \\r\\n          7 = bike 150 kpa min/min  (Not sure if \"kpa min/min\" is what was written!)\\r\\n          8 = bike 125 kpa min/min  \\r\\n          9 = bike 100 kpa min/min\\r\\n         10 = bike 75 kpa min/min\\r\\n         11 = bike 50 kpa min/min\\r\\n         12 = arm ergometer\\r\\n     29 thaldur: duration of exercise test in minutes\\r\\n     30 thaltime: time when ST measure depression was noted\\r\\n     31 met: mets achieved\\r\\n     32 thalach: maximum heart rate achieved\\r\\n     33 thalrest: resting heart rate\\r\\n     34 tpeakbps: peak exercise blood pressure (first of 2 parts)\\r\\n     35 tpeakbpd: peak exercise blood pressure (second of 2 parts)\\r\\n     36 dummy\\r\\n     37 trestbpd: resting blood pressure\\r\\n     38 exang: exercise induced angina (1 = yes; 0 = no)\\r\\n     39 xhypo: (1 = yes; 0 = no)\\r\\n     40 oldpeak = ST depression induced by exercise relative to rest\\r\\n     41 slope: the slope of the peak exercise ST segment\\r\\n        -- Value 1: upsloping\\r\\n        -- Value 2: flat\\r\\n        -- Value 3: downsloping\\r\\n     42 rldv5: height at rest\\r\\n     43 rldv5e: height at peak exercise\\r\\n     44 ca: number of major vessels (0-3) colored by flourosopy\\r\\n     45 restckm: irrelevant\\r\\n     46 exerckm: irrelevant\\r\\n     47 restef: rest raidonuclid (sp?) ejection fraction\\r\\n     48 restwm: rest wall (sp?) motion abnormality\\r\\n        0 = none\\r\\n        1 = mild or moderate\\r\\n        2 = moderate or severe\\r\\n        3 = akinesis or dyskmem (sp?)\\r\\n     49 exeref: exercise radinalid (sp?) ejection fraction\\r\\n     50 exerwm: exercise wall (sp?) motion \\r\\n     51 thal: 3 = normal; 6 = fixed defect; 7 = reversable defect\\r\\n     52 thalsev: not used\\r\\n     53 thalpul: not used\\r\\n     54 earlobe: not used\\r\\n     55 cmo: month of cardiac cath (sp?)  (perhaps \"call\")\\r\\n     56 cday: day of cardiac cath (sp?)\\r\\n     57 cyr: year of cardiac cath (sp?)\\r\\n     58 num: diagnosis of heart disease (angiographic disease status)\\r\\n        -- Value 0: < 50% diameter narrowing\\r\\n        -- Value 1: > 50% diameter narrowing\\r\\n        (in any major vessel: attributes 59 through 68 are vessels)\\r\\n     59 lmt\\r\\n     60 ladprox\\r\\n     61 laddist\\r\\n     62 diag\\r\\n     63 cxmain\\r\\n     64 ramus\\r\\n     65 om1\\r\\n     66 om2\\r\\n     67 rcaprox\\r\\n     68 rcadist\\r\\n     69 lvx1: not used\\r\\n     70 lvx2: not used\\r\\n     71 lvx3: not used\\r\\n     72 lvx4: not used\\r\\n     73 lvf: not used\\r\\n     74 cathef: not used\\r\\n     75 junk: not used\\r\\n     76 name: last name of patient  (I replaced this with the dummy string \"name\")', 'citation': None}}\n",
      "        name     role         type demographic  \\\n",
      "0        age  Feature      Integer         Age   \n",
      "1        sex  Feature  Categorical         Sex   \n",
      "2         cp  Feature  Categorical        None   \n",
      "3   trestbps  Feature      Integer        None   \n",
      "4       chol  Feature      Integer        None   \n",
      "5        fbs  Feature  Categorical        None   \n",
      "6    restecg  Feature  Categorical        None   \n",
      "7    thalach  Feature      Integer        None   \n",
      "8      exang  Feature  Categorical        None   \n",
      "9    oldpeak  Feature      Integer        None   \n",
      "10     slope  Feature  Categorical        None   \n",
      "11        ca  Feature      Integer        None   \n",
      "12      thal  Feature  Categorical        None   \n",
      "13       num   Target      Integer        None   \n",
      "\n",
      "                                          description  units missing_values  \n",
      "0                                                None  years             no  \n",
      "1                                                None   None             no  \n",
      "2                                                None   None             no  \n",
      "3   resting blood pressure (on admission to the ho...  mm Hg             no  \n",
      "4                                   serum cholestoral  mg/dl             no  \n",
      "5                     fasting blood sugar > 120 mg/dl   None             no  \n",
      "6                                                None   None             no  \n",
      "7                         maximum heart rate achieved   None             no  \n",
      "8                             exercise induced angina   None             no  \n",
      "9   ST depression induced by exercise relative to ...   None             no  \n",
      "10                                               None   None             no  \n",
      "11  number of major vessels (0-3) colored by flour...   None            yes  \n",
      "12                                               None   None            yes  \n",
      "13                         diagnosis of heart disease   None             no  \n"
     ]
    }
   ],
   "source": [
    "url = 'https://archive.ics.uci.edu/ml/machine-learning-databases/heart-disease/processed.cleveland.data'\n",
    "\n",
    "\n",
    "\n",
    "# Import necessary libraries\n",
    "import pandas as pd\n",
    "from sklearn.model_selection import train_test_split\n",
    "from sklearn.metrics import accuracy_score\n",
    "from ucimlrepo import fetch_ucirepo \n",
    "  \n",
    "# fetch dataset \n",
    "heart_disease = fetch_ucirepo(id=45) \n",
    "  \n",
    "# data (as pandas dataframes) \n",
    "X = heart_disease.data.features \n",
    "y = heart_disease.data.targets \n",
    "  \n",
    "# metadata \n",
    "print(heart_disease.metadata) \n",
    "  \n",
    "# variable information \n",
    "print(heart_disease.variables) \n",
    "\n",
    "\n",
    "X_train_heart, X_test_heart, y_train_heart, y_test_heart = train_test_split(X, y, test_size=0.2, random_state=42)"
   ]
  },
  {
   "cell_type": "markdown",
   "metadata": {
    "id": "R6mFhVc8LpGW"
   },
   "source": [
    "# Task 2: Data Preprocessing\n",
    "1. Handle missing values if any.\n",
    "2. Encode categorical variables using appropriate methods.\n",
    "3. Standardize or normalize numerical features if necessary."
   ]
  },
  {
   "cell_type": "code",
   "execution_count": 71,
   "metadata": {
    "id": "8gqyaMz3LTaZ"
   },
   "outputs": [],
   "source": [
    "# insert code here\n",
    "# Check for missing values in training set\n",
    "missing_values_train = X_train_heart.isna().sum()\n",
    "\n",
    "# Check for missing values in test set\n",
    "missing_values_test = X_test_heart.isna().sum()\n"
   ]
  },
  {
   "cell_type": "code",
   "execution_count": 72,
   "metadata": {},
   "outputs": [
    {
     "name": "stdout",
     "output_type": "stream",
     "text": [
      "age         0\n",
      "sex         0\n",
      "cp          0\n",
      "trestbps    0\n",
      "chol        0\n",
      "fbs         0\n",
      "restecg     0\n",
      "thalach     0\n",
      "exang       0\n",
      "oldpeak     0\n",
      "slope       0\n",
      "ca          3\n",
      "thal        2\n",
      "dtype: int64\n",
      "age         0\n",
      "sex         0\n",
      "cp          0\n",
      "trestbps    0\n",
      "chol        0\n",
      "fbs         0\n",
      "restecg     0\n",
      "thalach     0\n",
      "exang       0\n",
      "oldpeak     0\n",
      "slope       0\n",
      "ca          1\n",
      "thal        0\n",
      "dtype: int64\n"
     ]
    }
   ],
   "source": [
    "print(missing_values_train)\n",
    "print(missing_values_test)"
   ]
  },
  {
   "cell_type": "code",
   "execution_count": 73,
   "metadata": {},
   "outputs": [
    {
     "name": "stdout",
     "output_type": "stream",
     "text": [
      "Index(['age', 'sex', 'cp', 'trestbps', 'chol', 'fbs', 'restecg', 'thalach',\n",
      "       'exang', 'oldpeak', 'slope', 'ca', 'thal'],\n",
      "      dtype='object')\n",
      "Index(['age', 'sex', 'cp', 'trestbps', 'chol', 'fbs', 'restecg', 'thalach',\n",
      "       'exang', 'oldpeak', 'slope', 'ca', 'thal'],\n",
      "      dtype='object')\n"
     ]
    }
   ],
   "source": [
    "# Handle missing values in \"ca\" column in the training set\n",
    "X_train_heart['ca'].fillna(X_train_heart['ca'].mean(), inplace=True)\n",
    "\n",
    "# Handle missing values in \"ca\" column in the test set\n",
    "X_test_heart['ca'].fillna(X_test_heart['ca'].mean(), inplace=True)\n",
    "\n",
    "# Handle missing values in \"thal\" column in the training set\n",
    "#X_train_heart['thal'].fillna(X_train_heart['thal'].mode()[0], inplace=True)\n",
    "X_train_heart['thal'].dropna(axis = 0, inplace=True)\n",
    "X_test_heart['thal'].dropna(axis = 0, inplace=True)\n",
    "\n",
    "\n",
    "print(X_train_heart.columns)\n",
    "\n",
    "X_train_heart=pd.get_dummies(X_train_heart)\n",
    "X_test_heart=pd.get_dummies(X_test_heart)\n",
    "\n",
    "#X_train_heart = pd.get_dummies(X_train_heart, columns=['sex', 'cp', 'fbs', 'restecg', 'exang', 'slope', 'thal'])\n",
    "#X_test_heart = pd.get_dummies(X_test_heart, columns=['sex', 'cp', 'fbs', 'restecg', 'exang', 'slope', 'thal'])\n",
    "\n",
    "print(X_train_heart.columns)"
   ]
  },
  {
   "cell_type": "code",
   "execution_count": 74,
   "metadata": {},
   "outputs": [
    {
     "name": "stdout",
     "output_type": "stream",
     "text": [
      "age         0\n",
      "sex         0\n",
      "cp          0\n",
      "trestbps    0\n",
      "chol        0\n",
      "fbs         0\n",
      "restecg     0\n",
      "thalach     0\n",
      "exang       0\n",
      "oldpeak     0\n",
      "slope       0\n",
      "ca          0\n",
      "thal        2\n",
      "dtype: int64\n",
      "age         0\n",
      "sex         0\n",
      "cp          0\n",
      "trestbps    0\n",
      "chol        0\n",
      "fbs         0\n",
      "restecg     0\n",
      "thalach     0\n",
      "exang       0\n",
      "oldpeak     0\n",
      "slope       0\n",
      "ca          0\n",
      "thal        0\n",
      "dtype: int64\n"
     ]
    }
   ],
   "source": [
    "# insert code here\n",
    "# Check for missing values in training set\n",
    "missing_values_train = X_train_heart.isna().sum()\n",
    "\n",
    "# Check for missing values in test set\n",
    "missing_values_test = X_test_heart.isna().sum()\n",
    "\n",
    "print(missing_values_train)\n",
    "print(missing_values_test)"
   ]
  },
  {
   "cell_type": "code",
   "execution_count": 75,
   "metadata": {},
   "outputs": [
    {
     "data": {
      "text/plain": [
       "(242, 13)"
      ]
     },
     "execution_count": 75,
     "metadata": {},
     "output_type": "execute_result"
    }
   ],
   "source": [
    "X_train_heart.shape"
   ]
  },
  {
   "cell_type": "code",
   "execution_count": 76,
   "metadata": {},
   "outputs": [
    {
     "name": "stdout",
     "output_type": "stream",
     "text": [
      "Index(['age', 'sex', 'cp', 'trestbps', 'chol', 'fbs', 'restecg', 'thalach',\n",
      "       'exang', 'oldpeak', 'slope', 'ca', 'thal'],\n",
      "      dtype='object')\n",
      "          age       sex        cp  trestbps      chol       fbs   restecg  \\\n",
      "132 -2.838504  0.722504 -1.104690 -0.125982 -0.864142 -0.397360  1.012492   \n",
      "202  0.241352  0.722504 -0.092057  0.974653 -2.483637  2.516611 -0.995893   \n",
      "196  1.561291  0.722504 -2.117322  1.524970 -0.241260  2.516611  1.012492   \n",
      "75   1.121311 -1.384075 -0.092057  1.524970  2.374848 -0.397360  1.012492   \n",
      "176 -0.308622  0.722504  0.920575 -1.336680 -0.262023  2.516611 -0.995893   \n",
      "\n",
      "      thalach     exang   oldpeak     slope        ca      thal  \n",
      "132  2.314470 -0.715891 -0.873573 -0.963432 -0.727197 -0.875535  \n",
      "202  1.021242 -0.715891 -0.704854 -0.963432  0.394094  1.199807  \n",
      "196 -0.851710 -0.715891 -0.789214  0.655669  0.394094 -0.875535  \n",
      "75   0.040172 -0.715891 -0.198698 -0.963432 -0.727197 -0.875535  \n",
      "176 -0.138205 -0.715891 -0.789214 -0.963432  2.636676  1.199807  \n"
     ]
    }
   ],
   "source": [
    "from sklearn.preprocessing import StandardScaler\n",
    "\n",
    "# Identify numerical columns\n",
    "numerical_columns = X_train_heart.select_dtypes(include=['int64', 'float64']).columns\n",
    "\n",
    "print(numerical_columns)\n",
    "\n",
    "# Standardize numerical features in the training set\n",
    "scaler = StandardScaler()\n",
    "X_train_heart[numerical_columns] = scaler.fit_transform(X_train_heart[numerical_columns])\n",
    "\n",
    "# Standardize numerical features in the test set\n",
    "X_test_heart[numerical_columns] = scaler.transform(X_test_heart[numerical_columns])\n",
    "\n",
    "print(X_train_heart.head())"
   ]
  },
  {
   "cell_type": "markdown",
   "metadata": {
    "id": "YZXT_IjuLzAt"
   },
   "source": [
    "# Task 3: Initial XGBoost Model\n",
    "1. Build an initial XGBoost model using default hyperparameters.\n",
    "2. Train the model on the training set and evaluate its performance on the testing set.\n",
    "3. Note down the accuracy and any other relevant metrics."
   ]
  },
  {
   "cell_type": "code",
   "execution_count": 77,
   "metadata": {},
   "outputs": [
    {
     "name": "stdout",
     "output_type": "stream",
     "text": [
      "     num\n",
      "132    0\n",
      "202    0\n",
      "196    0\n",
      "75     0\n",
      "176    0\n",
      "..   ...\n",
      "188    1\n",
      "71     3\n",
      "106    2\n",
      "270    1\n",
      "102    0\n",
      "\n",
      "[242 rows x 1 columns]\n"
     ]
    }
   ],
   "source": [
    "print(y_train_heart)"
   ]
  },
  {
   "cell_type": "code",
   "execution_count": 78,
   "metadata": {},
   "outputs": [],
   "source": [
    "#!pip install xgboost"
   ]
  },
  {
   "cell_type": "code",
   "execution_count": 79,
   "metadata": {
    "id": "6H-Za_CvL2JK"
   },
   "outputs": [
    {
     "name": "stdout",
     "output_type": "stream",
     "text": [
      "[0 0 0 0 0 0 0 3 1 0 1 0 1 0 2 0 3 0 2 0 0 0 1 2 0 0 0 1 3 0 1 1 0 0 0 1 3\n",
      " 2 2 1 1 3 0 0 0 2 1 2 0 3 0 0 0 0 2 0 0 0 0 0 3 0 3 0 4 1 0 1 0 0 3 0 0 0\n",
      " 0 1 0 2 1 0 3 0 1 0 0 2 3 0 0 3 1 3 3 3 1 1 0 0 0 0 2 0 0 0 0 2 0 0 0 3 0\n",
      " 0 0 1 3 0 0 0 0 4 0 3 1 0 0 0 0 0 3 0 0 0 3 0 0 2 0 1 0 2 0 0 0 1 0 0 1 1\n",
      " 0 1 1 1 1 0 0 2 2 0 2 2 1 0 1 4 3 1 0 4 3 0 1 0 3 0 0 2 1 0 1 0 4 0 2 0 2\n",
      " 0 4 0 0 1 0 0 0 0 0 0 2 0 0 3 0 3 2 4 0 0 0 0 1 0 1 2 1 0 4 2 1 2 0 0 0 3\n",
      " 0 0 0 0 3 0 0 0 0 0 0 1 4 0 0 1 3 2 1 0]\n"
     ]
    },
    {
     "name": "stderr",
     "output_type": "stream",
     "text": [
      "c:\\Users\\calim\\anaconda3\\Lib\\site-packages\\sklearn\\preprocessing\\_label.py:114: DataConversionWarning: A column-vector y was passed when a 1d array was expected. Please change the shape of y to (n_samples, ), for example using ravel().\n",
      "  y = column_or_1d(y, warn=True)\n",
      "c:\\Users\\calim\\anaconda3\\Lib\\site-packages\\sklearn\\preprocessing\\_label.py:132: DataConversionWarning: A column-vector y was passed when a 1d array was expected. Please change the shape of y to (n_samples, ), for example using ravel().\n",
      "  y = column_or_1d(y, dtype=self.classes_.dtype, warn=True)\n"
     ]
    },
    {
     "name": "stdout",
     "output_type": "stream",
     "text": [
      "Test accuracy 0.47540983606557374\n"
     ]
    }
   ],
   "source": [
    "# Import XGBClassifier from xgboost\n",
    "import xgboost as xgb\n",
    "from xgboost import XGBClassifier\n",
    "from sklearn.preprocessing import LabelEncoder\n",
    "\n",
    "# Import accuracy_score for evaluation\n",
    "from sklearn.metrics import accuracy_score\n",
    "\n",
    "# Create an XGBoost model\n",
    "xgb_model = XGBClassifier(random_state=42)\n",
    "\n",
    "# Encode the target variable using Label Encoding\n",
    "label_encoder_xgb = LabelEncoder()\n",
    "y_train_heart_encoded = label_encoder_xgb.fit_transform(y_train_heart)\n",
    "print(y_train_heart_encoded)\n",
    "y_test_heart_encoded = label_encoder_xgb.transform(y_test_heart)\n",
    "\n",
    "# Train the model\n",
    "xgb_model.fit(X_train_heart, y_train_heart_encoded.ravel())\n",
    "\n",
    "# Make predictions on the test set\n",
    "xgb_predictions = xgb_model.predict(X_test_heart)\n",
    "\n",
    "# Decode the predictions back to original labels if needed\n",
    "xgb_predictions_original_labels = label_encoder_xgb.inverse_transform(xgb_predictions)\n",
    "\n",
    "# Evaluate the accuracy of the model\n",
    "xgb_accuracy = accuracy_score(y_test_heart, xgb_predictions_original_labels)\n",
    "print(f'Test accuracy {xgb_accuracy}')"
   ]
  },
  {
   "cell_type": "code",
   "execution_count": 80,
   "metadata": {},
   "outputs": [
    {
     "data": {
      "text/plain": [
       "<Axes: title={'center': 'Feature importance'}, xlabel='F score', ylabel='Features'>"
      ]
     },
     "execution_count": 80,
     "metadata": {},
     "output_type": "execute_result"
    },
    {
     "data": {
      "image/png": "[encoded data removed]",
      "text/plain": [
       "<Figure size 640x480 with 1 Axes>"
      ]
     },
     "metadata": {},
     "output_type": "display_data"
    }
   ],
   "source": [
    "xgb.plot_importance(xgb_model)"
   ]
  },
  {
   "cell_type": "code",
   "execution_count": null,
   "metadata": {},
   "outputs": [],
   "source": []
  },
  {
   "cell_type": "code",
   "execution_count": null,
   "metadata": {},
   "outputs": [],
   "source": []
  },
  {
   "cell_type": "code",
   "execution_count": null,
   "metadata": {},
   "outputs": [],
   "source": []
  },
  {
   "cell_type": "code",
   "execution_count": null,
   "metadata": {},
   "outputs": [],
   "source": []
  },
  {
   "cell_type": "code",
   "execution_count": null,
   "metadata": {},
   "outputs": [],
   "source": []
  },
  {
   "cell_type": "markdown",
   "metadata": {
    "id": "WFnt6TGPL3lI"
   },
   "source": [
    "# Task 4: Hyperparameter Tuning\n",
    "1. Experiment with hyperparameter tuning to improve model performance.\n",
    "2. Adjust hyperparameters such as learning_rate, n_estimators, max_depth, etc.\n",
    "3. Use techniques like cross-validation to find optimal hyperparameters.\n",
    "4. Train and evaluate the model with the tuned hyperparameters."
   ]
  },
  {
   "cell_type": "code",
   "execution_count": 81,
   "metadata": {
    "id": "nTKRJpnzL9n6"
   },
   "outputs": [
    {
     "name": "stderr",
     "output_type": "stream",
     "text": [
      "c:\\Users\\calim\\anaconda3\\Lib\\site-packages\\sklearn\\preprocessing\\_label.py:114: DataConversionWarning: A column-vector y was passed when a 1d array was expected. Please change the shape of y to (n_samples, ), for example using ravel().\n",
      "  y = column_or_1d(y, warn=True)\n",
      "c:\\Users\\calim\\anaconda3\\Lib\\site-packages\\sklearn\\preprocessing\\_label.py:132: DataConversionWarning: A column-vector y was passed when a 1d array was expected. Please change the shape of y to (n_samples, ), for example using ravel().\n",
      "  y = column_or_1d(y, dtype=self.classes_.dtype, warn=True)\n"
     ]
    },
    {
     "name": "stdout",
     "output_type": "stream",
     "text": [
      "[0 0 0 0 0 0 0 3 1 0 1 0 1 0 2 0 3 0 2 0 0 0 1 2 0 0 0 1 3 0 1 1 0 0 0 1 3\n",
      " 2 2 1 1 3 0 0 0 2 1 2 0 3 0 0 0 0 2 0 0 0 0 0 3 0 3 0 4 1 0 1 0 0 3 0 0 0\n",
      " 0 1 0 2 1 0 3 0 1 0 0 2 3 0 0 3 1 3 3 3 1 1 0 0 0 0 2 0 0 0 0 2 0 0 0 3 0\n",
      " 0 0 1 3 0 0 0 0 4 0 3 1 0 0 0 0 0 3 0 0 0 3 0 0 2 0 1 0 2 0 0 0 1 0 0 1 1\n",
      " 0 1 1 1 1 0 0 2 2 0 2 2 1 0 1 4 3 1 0 4 3 0 1 0 3 0 0 2 1 0 1 0 4 0 2 0 2\n",
      " 0 4 0 0 1 0 0 0 0 0 0 2 0 0 3 0 3 2 4 0 0 0 0 1 0 1 2 1 0 4 2 1 2 0 0 0 3\n",
      " 0 0 0 0 3 0 0 0 0 0 0 1 4 0 0 1 3 2 1 0]\n",
      "Test accuracy 0.47540983606557374\n"
     ]
    },
    {
     "name": "stdout",
     "output_type": "stream",
     "text": [
      "Test accuracy 0.4918032786885246\n"
     ]
    }
   ],
   "source": [
    "# Initialize XGBClassifier with initial hyperparameters\n",
    "xgb1 = XGBClassifier(n_estimators=100, max_depth=2, learning_rate=0.1)\n",
    "\n",
    "# Encode the target variable using Label Encoding\n",
    "label_encoder_xgb = LabelEncoder()\n",
    "y_train_heart_encoded = label_encoder_xgb.fit_transform(y_train_heart)\n",
    "print(y_train_heart_encoded)\n",
    "y_test_heart_encoded = label_encoder_xgb.transform(y_test_heart)\n",
    "\n",
    "# Train the model\n",
    "xgb1.fit(X_train_heart, y_train_heart_encoded.ravel())\n",
    "\n",
    "# Make predictions on the test set\n",
    "xgb_predictions = xgb1.predict(X_test_heart)\n",
    "\n",
    "# Decode the predictions back to original labels if needed\n",
    "xgb_predictions_original_labels = label_encoder_xgb.inverse_transform(xgb_predictions)\n",
    "\n",
    "# Evaluate the accuracy of the model\n",
    "xgb_accuracy = accuracy_score(y_test_heart, xgb_predictions_original_labels)\n",
    "print(f'Test accuracy {xgb_accuracy}')\n",
    "\n",
    "# Adjust the hyperparameters and repeat the process\n",
    "xgb2 = XGBClassifier(n_estimators=200, max_depth=3, learning_rate=0.001)\n",
    "xgb2.fit(X_train_heart, y_train_heart_encoded.ravel())\n",
    "xgb_predictions2 = xgb2.predict(X_test_heart)\n",
    "xgb_predictions_original_labels2 = label_encoder_xgb.inverse_transform(xgb_predictions2)\n",
    "xgb_accuracy = accuracy_score(y_test_heart, xgb_predictions_original_labels2)\n",
    "print(f'Test accuracy {xgb_accuracy}')\n",
    "\n",
    "#We can see that the accuracy of the model has improved by tuning the hyperparameters."
   ]
  },
  {
   "cell_type": "code",
   "execution_count": 82,
   "metadata": {},
   "outputs": [
    {
     "name": "stderr",
     "output_type": "stream",
     "text": [
      "c:\\Users\\calim\\anaconda3\\Lib\\site-packages\\sklearn\\preprocessing\\_label.py:114: DataConversionWarning: A column-vector y was passed when a 1d array was expected. Please change the shape of y to (n_samples, ), for example using ravel().\n",
      "  y = column_or_1d(y, warn=True)\n",
      "c:\\Users\\calim\\anaconda3\\Lib\\site-packages\\sklearn\\preprocessing\\_label.py:132: DataConversionWarning: A column-vector y was passed when a 1d array was expected. Please change the shape of y to (n_samples, ), for example using ravel().\n",
      "  y = column_or_1d(y, dtype=self.classes_.dtype, warn=True)\n"
     ]
    },
    {
     "name": "stdout",
     "output_type": "stream",
     "text": [
      "Best Parameters:  {'learning_rate': 0.1, 'max_depth': 10, 'n_estimators': 100}\n",
      "Best Score:  0.6116496598639456\n"
     ]
    }
   ],
   "source": [
    "from sklearn.model_selection import GridSearchCV\n",
    "# Define the parameter grid\n",
    "param_grid = {\n",
    "    'n_estimators': [100, 200, 300, 400],\n",
    "    'max_depth': [2, 3, 5, 10],\n",
    "    'learning_rate': [0.01, 0.1, 0.2, 0.3],\n",
    "}\n",
    "\n",
    "# Initialize XGBClassifier\n",
    "xgb_best = XGBClassifier()\n",
    "\n",
    "# Initialize GridSearchCV with 5-fold cross-validation\n",
    "grid_search = GridSearchCV(estimator=xgb_best, param_grid=param_grid, cv=5)\n",
    "\n",
    "y_train_heart_encoded = label_encoder_xgb.fit_transform(y_train_heart)\n",
    "\n",
    "y_test_heart_encoded = label_encoder_xgb.transform(y_test_heart)\n",
    "\n",
    "# Train the model\n",
    "grid_search.fit(X_train_heart, y_train_heart_encoded.ravel())\n",
    "\n",
    "# Get the best parameters and the best score\n",
    "print(\"Best Parameters: \", grid_search.best_params_)\n",
    "print(\"Best Score: \", grid_search.best_score_)"
   ]
  },
  {
   "cell_type": "code",
   "execution_count": 83,
   "metadata": {},
   "outputs": [
    {
     "name": "stdout",
     "output_type": "stream",
     "text": [
      "Test accuracy with best parameters: 0.4918032786885246\n"
     ]
    }
   ],
   "source": [
    "# Initialize XGBClassifier with the best parameters\n",
    "xgb_best = XGBClassifier(n_estimators=100,\n",
    "                          max_depth=10,\n",
    "                          learning_rate=0.1)\n",
    "# Train the model on the training set\n",
    "xgb_best.fit(X_train_heart, y_train_heart_encoded.ravel())\n",
    "\n",
    "# Make predictions on the test set\n",
    "xgb_best_predictions = xgb_best.predict(X_test_heart)\n",
    "\n",
    "xgb_predictions_original_labels_best = label_encoder_xgb.inverse_transform(xgb_best_predictions)\n",
    "xgb_accuracy_best = accuracy_score(y_test_heart, xgb_predictions_original_labels_best)\n",
    "\n",
    "# Evaluate the accuracy of the model\n",
    "print(f'Test accuracy with best parameters: {xgb_accuracy_best}')\n",
    "\n",
    "#There is a difference between train/test, that's why the accuracy is not that good"
   ]
  },
  {
   "cell_type": "markdown",
   "metadata": {
    "id": "8Lumo2DCL_L9"
   },
   "source": [
    "# Task 5: Feature Importance\n",
    "1. Explore feature importance using the **feature_importances_** attribute of the trained XGBoost model.\n",
    "2. Identify the most important features for heart disease prediction."
   ]
  },
  {
   "cell_type": "code",
   "execution_count": 84,
   "metadata": {
    "id": "GbH5D_YHMGav"
   },
   "outputs": [
    {
     "data": {
      "image/png": "[encoded data removed]",
      "text/plain": [
       "<Figure size 1000x600 with 1 Axes>"
      ]
     },
     "metadata": {},
     "output_type": "display_data"
    }
   ],
   "source": [
    "import matplotlib.pyplot as plt\n",
    "\n",
    "# Get feature importances from the trained XGBoost model\n",
    "feature_importances = xgb_best.feature_importances_\n",
    "\n",
    "# Get the names of the features\n",
    "feature_names = X_train_heart.columns\n",
    "\n",
    "# Sort the feature importances in descending order\n",
    "sorted_indices = feature_importances.argsort()[::-1]\n",
    "\n",
    "# Get the top 10 most important features\n",
    "top_features = feature_names[sorted_indices][:10]\n",
    "\n",
    "# Plot the feature importances\n",
    "plt.figure(figsize=(10, 6))\n",
    "plt.bar(range(len(top_features)), feature_importances[sorted_indices][:10], tick_label=top_features)\n",
    "plt.xticks(rotation=90)\n",
    "plt.xlabel('Features')\n",
    "plt.ylabel('Importance')\n",
    "plt.title('Top 10 Most Important Features for Heart Disease Prediction')\n",
    "plt.show()\n"
   ]
  },
  {
   "cell_type": "markdown",
   "metadata": {
    "id": "JiAL2L9LMFpL"
   },
   "source": [
    "# Task 6: Model Evaluation\n",
    "1. Compare the performance metrics of the initial model and the tuned model.\n",
    "2. Visualize the improvement achieved in a clear and concise manner.\n",
    "3. Discuss the impact of hyperparameter tuning and feature importance on model performance."
   ]
  },
  {
   "cell_type": "code",
   "execution_count": null,
   "metadata": {},
   "outputs": [],
   "source": []
  },
  {
   "cell_type": "code",
   "execution_count": 85,
   "metadata": {
    "id": "PpqMJ4bBMNRa"
   },
   "outputs": [
    {
     "name": "stdout",
     "output_type": "stream",
     "text": [
      "Initial Model Accuracy: 0.47540983606557374\n",
      "Tuned Model Accuracy: 0.4918032786885246\n"
     ]
    }
   ],
   "source": [
    "# Evaluate the initial model\n",
    "initial_model_predictions = xgb1.predict(X_test_heart)\n",
    "initial_model_accuracy = accuracy_score(y_test_heart, initial_model_predictions)\n",
    "\n",
    "# Evaluate the tuned model\n",
    "tuned_model_predictions = xgb_best.predict(X_test_heart)\n",
    "tuned_model_accuracy = accuracy_score(y_test_heart, tuned_model_predictions)\n",
    "\n",
    "print(f\"Initial Model Accuracy: {initial_model_accuracy}\")\n",
    "print(f\"Tuned Model Accuracy: {tuned_model_accuracy}\")\n"
   ]
  },
  {
   "cell_type": "code",
   "execution_count": 86,
   "metadata": {},
   "outputs": [
    {
     "data": {
      "image/png": "[encoded data removed]",
      "text/plain": [
       "<Figure size 640x480 with 1 Axes>"
      ]
     },
     "metadata": {},
     "output_type": "display_data"
    }
   ],
   "source": [
    "import matplotlib.pyplot as plt\n",
    "\n",
    "# Define the accuracy values\n",
    "accuracy_values = [initial_model_accuracy, tuned_model_accuracy]\n",
    "\n",
    "# Define the labels for the models\n",
    "model_labels = ['Initial Model', 'Tuned Model']\n",
    "\n",
    "# Plot the bar chart\n",
    "plt.bar(model_labels, accuracy_values)\n",
    "plt.xlabel('Model')\n",
    "plt.ylabel('Accuracy')\n",
    "plt.title('Accuracy Comparison: Initial Model vs Tuned Model')\n",
    "plt.show()"
   ]
  },
  {
   "cell_type": "code",
   "execution_count": 87,
   "metadata": {},
   "outputs": [],
   "source": [
    "# We can see the by finding the best hyperparameters for the model, \n",
    "# we were able to improve the accuracy of the model.\n",
    "\n",
    "# By plotting the feature importances, we can see the most important features \n",
    "# so we can focus on them to improve the model's performance."
   ]
  }
 ],
 "metadata": {
  "colab": {
   "provenance": []
  },
  "kernelspec": {
   "display_name": "Python 3 (ipykernel)",
   "language": "python",
   "name": "python3"
  },
  "language_info": {
   "codemirror_mode": {
    "name": "ipython",
    "version": 3
   },
   "file_extension": ".py",
   "mimetype": "text/x-python",
   "name": "python",
   "nbconvert_exporter": "python",
   "pygments_lexer": "ipython3",
   "version": "3.11.5"
  }
 },
 "nbformat": 4,
 "nbformat_minor": 1
}
