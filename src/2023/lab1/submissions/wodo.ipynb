{
  "nbformat": 4,
  "nbformat_minor": 0,
  "metadata": {
    "colab": {
      "provenance": []
    },
    "kernelspec": {
      "name": "python3",
      "display_name": "Python 3"
    },
    "language_info": {
      "name": "python"
    }
  },
  "cells": [
    {
      "cell_type": "markdown",
      "source": [
        "**Objective**: Build an XGBoost model for predicting heart disease and experiment with hyperparameter tuning to improve its performance.\n",
        "\n",
        "Dataset: [Heart Disease UCI](https://archive.ics.uci.edu/dataset/45/heart+disease)"
      ],
      "metadata": {
        "id": "xPYdYTOOLXFO"
      }
    },
    {
      "cell_type": "markdown",
      "source": [
        "# Task 1: Data Loading and Exploration\n",
        "1. Load the Heart Disease UCI dataset.\n",
        "2. Explore the dataset to understand its structure and features.\n",
        "3. Split the data into training and testing sets."
      ],
      "metadata": {
        "id": "pob-gDK2Ll8V"
      }
    },
    {
      "cell_type": "code",
      "source": [
        "!pip install ucimlrepo"
      ],
      "metadata": {
        "id": "3_HtpocjLpun",
        "colab": {
          "base_uri": "https://localhost:8080/"
        },
        "outputId": "38fd8a83-5091-42c7-d218-77130ae826b6"
      },
      "execution_count": 1,
      "outputs": [
        {
          "output_type": "stream",
          "name": "stdout",
          "text": [
            "Collecting ucimlrepo\n",
            "  Downloading ucimlrepo-0.0.3-py3-none-any.whl (7.0 kB)\n",
            "Installing collected packages: ucimlrepo\n",
            "Successfully installed ucimlrepo-0.0.3\n"
          ]
        }
      ]
    },
    {
      "cell_type": "code",
      "source": [
        "from ucimlrepo import fetch_ucirepo\n",
        "from sklearn.model_selection import train_test_split\n",
        "\n",
        "heart_disease = fetch_ucirepo(id=45)\n",
        "\n",
        "# data (as pandas dataframes)\n",
        "X = heart_disease.data.features\n",
        "y = heart_disease.data.targets\n",
        "\n",
        "# Split of dataset in train and test\n",
        "X_train, X_test, y_train, y_test = train_test_split(X, y, test_size=0.2, random_state=42)"
      ],
      "metadata": {
        "id": "iXrefQeIvfkr"
      },
      "execution_count": 2,
      "outputs": []
    },
    {
      "cell_type": "markdown",
      "source": [
        "# Task 2: Data Preprocessing\n",
        "1. Handle missing values if any.\n",
        "2. Encode categorical variables using appropriate methods.\n",
        "3. Standardize or normalize numerical features if necessary."
      ],
      "metadata": {
        "id": "R6mFhVc8LpGW"
      }
    },
    {
      "cell_type": "code",
      "execution_count": 3,
      "metadata": {
        "id": "8gqyaMz3LTaZ"
      },
      "outputs": [],
      "source": [
        "import pandas as pd\n",
        "\n",
        "#encoding of categorical variables with one-hot encoding\n",
        "X_train = pd.get_dummies(X_train)\n",
        "X_test = pd.get_dummies(X_test)\n",
        "\n",
        "#filling all the missing values with zeros\n",
        "X_train, X_test = X_train.align(X_test, join='outer', axis=1, fill_value=0)"
      ]
    },
    {
      "cell_type": "code",
      "source": [
        "from sklearn.preprocessing import StandardScaler\n",
        "\n",
        "#now for standardize the numerical features, we are going to consider only the numerical values\n",
        "\n",
        "num_values = X.select_dtypes(include=['int64', 'float64']).columns\n",
        "\n",
        "scaler = StandardScaler()\n",
        "\n",
        "X[num_values] = scaler.fit_transform(X[num_values])\n"
      ],
      "metadata": {
        "colab": {
          "base_uri": "https://localhost:8080/"
        },
        "id": "RR0ENAdbxRiY",
        "outputId": "cdbcc213-27d0-46cb-d89b-f950ac6b9fb3"
      },
      "execution_count": 4,
      "outputs": [
        {
          "output_type": "stream",
          "name": "stderr",
          "text": [
            "<ipython-input-4-b35bbd0d2b59>:9: SettingWithCopyWarning: \n",
            "A value is trying to be set on a copy of a slice from a DataFrame.\n",
            "Try using .loc[row_indexer,col_indexer] = value instead\n",
            "\n",
            "See the caveats in the documentation: https://pandas.pydata.org/pandas-docs/stable/user_guide/indexing.html#returning-a-view-versus-a-copy\n",
            "  X[num_values] = scaler.fit_transform(X[num_values])\n"
          ]
        }
      ]
    },
    {
      "cell_type": "code",
      "source": [
        "X"
      ],
      "metadata": {
        "colab": {
          "base_uri": "https://localhost:8080/",
          "height": 419
        },
        "id": "sekCDdix-WCP",
        "outputId": "dd6efc16-a823-451d-b68f-1d546eebd9a7"
      },
      "execution_count": 5,
      "outputs": [
        {
          "output_type": "execute_result",
          "data": {
            "text/plain": [
              "          age       sex        cp  trestbps      chol       fbs   restecg  \\\n",
              "0    0.948726  0.686202 -2.251775  0.757525 -0.264900  2.394438  1.016684   \n",
              "1    1.392002  0.686202  0.877985  1.611220  0.760415 -0.417635  1.016684   \n",
              "2    1.392002  0.686202  0.877985 -0.665300 -0.342283 -0.417635  1.016684   \n",
              "3   -1.932564  0.686202 -0.165268 -0.096170  0.063974 -0.417635 -0.996749   \n",
              "4   -1.489288 -1.457296 -1.208521 -0.096170 -0.825922 -0.417635  1.016684   \n",
              "..        ...       ...       ...       ...       ...       ...       ...   \n",
              "298 -1.046013  0.686202 -2.251775 -1.234430  0.334813 -0.417635 -0.996749   \n",
              "299  1.502821  0.686202  0.877985  0.700612 -1.038723  2.394438 -0.996749   \n",
              "300  0.283813  0.686202  0.877985 -0.096170 -2.238149 -0.417635 -0.996749   \n",
              "301  0.283813 -1.457296 -1.208521 -0.096170 -0.206864 -0.417635  1.016684   \n",
              "302 -1.821745  0.686202 -0.165268  0.359134 -1.386944 -0.417635 -0.996749   \n",
              "\n",
              "      thalach     exang   oldpeak     slope        ca      thal  \n",
              "0    0.017197 -0.696631  1.087338  2.274579 -0.718306  0.653650  \n",
              "1   -1.821905  1.435481  0.397182  0.649113  2.487269 -0.895552  \n",
              "2   -0.902354  1.435481  1.346147  0.649113  1.418744  1.170051  \n",
              "3    1.637359 -0.696631  2.122573  2.274579 -0.718306 -0.895552  \n",
              "4    0.980537 -0.696631  0.310912 -0.976352 -0.718306 -0.895552  \n",
              "..        ...       ...       ...       ...       ...       ...  \n",
              "298 -0.770990 -0.696631  0.138373  0.649113 -0.718306  1.170051  \n",
              "299 -0.376896 -0.696631  2.036303  0.649113  1.418744  1.170051  \n",
              "300 -1.515388  1.435481  0.138373  0.649113  0.350219  1.170051  \n",
              "301  1.068113 -0.696631 -0.896862  0.649113  0.350219 -0.895552  \n",
              "302  1.024325 -0.696631 -0.896862 -0.976352       NaN -0.895552  \n",
              "\n",
              "[303 rows x 13 columns]"
            ],
            "text/html": [
              "\n",
              "  <div id=\"df-6774a152-9de2-4f72-9fc6-1a0b1133ea78\" class=\"colab-df-container\">\n",
              "    <div>\n",
              "<style scoped>\n",
              "    .dataframe tbody tr th:only-of-type {\n",
              "        vertical-align: middle;\n",
              "    }\n",
              "\n",
              "    .dataframe tbody tr th {\n",
              "        vertical-align: top;\n",
              "    }\n",
              "\n",
              "    .dataframe thead th {\n",
              "        text-align: right;\n",
              "    }\n",
              "</style>\n",
              "<table border=\"1\" class=\"dataframe\">\n",
              "  <thead>\n",
              "    <tr style=\"text-align: right;\">\n",
              "      <th></th>\n",
              "      <th>age</th>\n",
              "      <th>sex</th>\n",
              "      <th>cp</th>\n",
              "      <th>trestbps</th>\n",
              "      <th>chol</th>\n",
              "      <th>fbs</th>\n",
              "      <th>restecg</th>\n",
              "      <th>thalach</th>\n",
              "      <th>exang</th>\n",
              "      <th>oldpeak</th>\n",
              "      <th>slope</th>\n",
              "      <th>ca</th>\n",
              "      <th>thal</th>\n",
              "    </tr>\n",
              "  </thead>\n",
              "  <tbody>\n",
              "    <tr>\n",
              "      <th>0</th>\n",
              "      <td>0.948726</td>\n",
              "      <td>0.686202</td>\n",
              "      <td>-2.251775</td>\n",
              "      <td>0.757525</td>\n",
              "      <td>-0.264900</td>\n",
              "      <td>2.394438</td>\n",
              "      <td>1.016684</td>\n",
              "      <td>0.017197</td>\n",
              "      <td>-0.696631</td>\n",
              "      <td>1.087338</td>\n",
              "      <td>2.274579</td>\n",
              "      <td>-0.718306</td>\n",
              "      <td>0.653650</td>\n",
              "    </tr>\n",
              "    <tr>\n",
              "      <th>1</th>\n",
              "      <td>1.392002</td>\n",
              "      <td>0.686202</td>\n",
              "      <td>0.877985</td>\n",
              "      <td>1.611220</td>\n",
              "      <td>0.760415</td>\n",
              "      <td>-0.417635</td>\n",
              "      <td>1.016684</td>\n",
              "      <td>-1.821905</td>\n",
              "      <td>1.435481</td>\n",
              "      <td>0.397182</td>\n",
              "      <td>0.649113</td>\n",
              "      <td>2.487269</td>\n",
              "      <td>-0.895552</td>\n",
              "    </tr>\n",
              "    <tr>\n",
              "      <th>2</th>\n",
              "      <td>1.392002</td>\n",
              "      <td>0.686202</td>\n",
              "      <td>0.877985</td>\n",
              "      <td>-0.665300</td>\n",
              "      <td>-0.342283</td>\n",
              "      <td>-0.417635</td>\n",
              "      <td>1.016684</td>\n",
              "      <td>-0.902354</td>\n",
              "      <td>1.435481</td>\n",
              "      <td>1.346147</td>\n",
              "      <td>0.649113</td>\n",
              "      <td>1.418744</td>\n",
              "      <td>1.170051</td>\n",
              "    </tr>\n",
              "    <tr>\n",
              "      <th>3</th>\n",
              "      <td>-1.932564</td>\n",
              "      <td>0.686202</td>\n",
              "      <td>-0.165268</td>\n",
              "      <td>-0.096170</td>\n",
              "      <td>0.063974</td>\n",
              "      <td>-0.417635</td>\n",
              "      <td>-0.996749</td>\n",
              "      <td>1.637359</td>\n",
              "      <td>-0.696631</td>\n",
              "      <td>2.122573</td>\n",
              "      <td>2.274579</td>\n",
              "      <td>-0.718306</td>\n",
              "      <td>-0.895552</td>\n",
              "    </tr>\n",
              "    <tr>\n",
              "      <th>4</th>\n",
              "      <td>-1.489288</td>\n",
              "      <td>-1.457296</td>\n",
              "      <td>-1.208521</td>\n",
              "      <td>-0.096170</td>\n",
              "      <td>-0.825922</td>\n",
              "      <td>-0.417635</td>\n",
              "      <td>1.016684</td>\n",
              "      <td>0.980537</td>\n",
              "      <td>-0.696631</td>\n",
              "      <td>0.310912</td>\n",
              "      <td>-0.976352</td>\n",
              "      <td>-0.718306</td>\n",
              "      <td>-0.895552</td>\n",
              "    </tr>\n",
              "    <tr>\n",
              "      <th>...</th>\n",
              "      <td>...</td>\n",
              "      <td>...</td>\n",
              "      <td>...</td>\n",
              "      <td>...</td>\n",
              "      <td>...</td>\n",
              "      <td>...</td>\n",
              "      <td>...</td>\n",
              "      <td>...</td>\n",
              "      <td>...</td>\n",
              "      <td>...</td>\n",
              "      <td>...</td>\n",
              "      <td>...</td>\n",
              "      <td>...</td>\n",
              "    </tr>\n",
              "    <tr>\n",
              "      <th>298</th>\n",
              "      <td>-1.046013</td>\n",
              "      <td>0.686202</td>\n",
              "      <td>-2.251775</td>\n",
              "      <td>-1.234430</td>\n",
              "      <td>0.334813</td>\n",
              "      <td>-0.417635</td>\n",
              "      <td>-0.996749</td>\n",
              "      <td>-0.770990</td>\n",
              "      <td>-0.696631</td>\n",
              "      <td>0.138373</td>\n",
              "      <td>0.649113</td>\n",
              "      <td>-0.718306</td>\n",
              "      <td>1.170051</td>\n",
              "    </tr>\n",
              "    <tr>\n",
              "      <th>299</th>\n",
              "      <td>1.502821</td>\n",
              "      <td>0.686202</td>\n",
              "      <td>0.877985</td>\n",
              "      <td>0.700612</td>\n",
              "      <td>-1.038723</td>\n",
              "      <td>2.394438</td>\n",
              "      <td>-0.996749</td>\n",
              "      <td>-0.376896</td>\n",
              "      <td>-0.696631</td>\n",
              "      <td>2.036303</td>\n",
              "      <td>0.649113</td>\n",
              "      <td>1.418744</td>\n",
              "      <td>1.170051</td>\n",
              "    </tr>\n",
              "    <tr>\n",
              "      <th>300</th>\n",
              "      <td>0.283813</td>\n",
              "      <td>0.686202</td>\n",
              "      <td>0.877985</td>\n",
              "      <td>-0.096170</td>\n",
              "      <td>-2.238149</td>\n",
              "      <td>-0.417635</td>\n",
              "      <td>-0.996749</td>\n",
              "      <td>-1.515388</td>\n",
              "      <td>1.435481</td>\n",
              "      <td>0.138373</td>\n",
              "      <td>0.649113</td>\n",
              "      <td>0.350219</td>\n",
              "      <td>1.170051</td>\n",
              "    </tr>\n",
              "    <tr>\n",
              "      <th>301</th>\n",
              "      <td>0.283813</td>\n",
              "      <td>-1.457296</td>\n",
              "      <td>-1.208521</td>\n",
              "      <td>-0.096170</td>\n",
              "      <td>-0.206864</td>\n",
              "      <td>-0.417635</td>\n",
              "      <td>1.016684</td>\n",
              "      <td>1.068113</td>\n",
              "      <td>-0.696631</td>\n",
              "      <td>-0.896862</td>\n",
              "      <td>0.649113</td>\n",
              "      <td>0.350219</td>\n",
              "      <td>-0.895552</td>\n",
              "    </tr>\n",
              "    <tr>\n",
              "      <th>302</th>\n",
              "      <td>-1.821745</td>\n",
              "      <td>0.686202</td>\n",
              "      <td>-0.165268</td>\n",
              "      <td>0.359134</td>\n",
              "      <td>-1.386944</td>\n",
              "      <td>-0.417635</td>\n",
              "      <td>-0.996749</td>\n",
              "      <td>1.024325</td>\n",
              "      <td>-0.696631</td>\n",
              "      <td>-0.896862</td>\n",
              "      <td>-0.976352</td>\n",
              "      <td>NaN</td>\n",
              "      <td>-0.895552</td>\n",
              "    </tr>\n",
              "  </tbody>\n",
              "</table>\n",
              "<p>303 rows × 13 columns</p>\n",
              "</div>\n",
              "    <div class=\"colab-df-buttons\">\n",
              "\n",
              "  <div class=\"colab-df-container\">\n",
              "    <button class=\"colab-df-convert\" onclick=\"convertToInteractive('df-6774a152-9de2-4f72-9fc6-1a0b1133ea78')\"\n",
              "            title=\"Convert this dataframe to an interactive table.\"\n",
              "            style=\"display:none;\">\n",
              "\n",
              "  <svg xmlns=\"http://www.w3.org/2000/svg\" height=\"24px\" viewBox=\"0 -960 960 960\">\n",
              "    <path d=\"M120-120v-720h720v720H120Zm60-500h600v-160H180v160Zm220 220h160v-160H400v160Zm0 220h160v-160H400v160ZM180-400h160v-160H180v160Zm440 0h160v-160H620v160ZM180-180h160v-160H180v160Zm440 0h160v-160H620v160Z\"/>\n",
              "  </svg>\n",
              "    </button>\n",
              "\n",
              "  <style>\n",
              "    .colab-df-container {\n",
              "      display:flex;\n",
              "      gap: 12px;\n",
              "    }\n",
              "\n",
              "    .colab-df-convert {\n",
              "      background-color: #E8F0FE;\n",
              "      border: none;\n",
              "      border-radius: 50%;\n",
              "      cursor: pointer;\n",
              "      display: none;\n",
              "      fill: #1967D2;\n",
              "      height: 32px;\n",
              "      padding: 0 0 0 0;\n",
              "      width: 32px;\n",
              "    }\n",
              "\n",
              "    .colab-df-convert:hover {\n",
              "      background-color: #E2EBFA;\n",
              "      box-shadow: 0px 1px 2px rgba(60, 64, 67, 0.3), 0px 1px 3px 1px rgba(60, 64, 67, 0.15);\n",
              "      fill: #174EA6;\n",
              "    }\n",
              "\n",
              "    .colab-df-buttons div {\n",
              "      margin-bottom: 4px;\n",
              "    }\n",
              "\n",
              "    [theme=dark] .colab-df-convert {\n",
              "      background-color: #3B4455;\n",
              "      fill: #D2E3FC;\n",
              "    }\n",
              "\n",
              "    [theme=dark] .colab-df-convert:hover {\n",
              "      background-color: #434B5C;\n",
              "      box-shadow: 0px 1px 3px 1px rgba(0, 0, 0, 0.15);\n",
              "      filter: drop-shadow(0px 1px 2px rgba(0, 0, 0, 0.3));\n",
              "      fill: #FFFFFF;\n",
              "    }\n",
              "  </style>\n",
              "\n",
              "    <script>\n",
              "      const buttonEl =\n",
              "        document.querySelector('#df-6774a152-9de2-4f72-9fc6-1a0b1133ea78 button.colab-df-convert');\n",
              "      buttonEl.style.display =\n",
              "        google.colab.kernel.accessAllowed ? 'block' : 'none';\n",
              "\n",
              "      async function convertToInteractive(key) {\n",
              "        const element = document.querySelector('#df-6774a152-9de2-4f72-9fc6-1a0b1133ea78');\n",
              "        const dataTable =\n",
              "          await google.colab.kernel.invokeFunction('convertToInteractive',\n",
              "                                                    [key], {});\n",
              "        if (!dataTable) return;\n",
              "\n",
              "        const docLinkHtml = 'Like what you see? Visit the ' +\n",
              "          '<a target=\"_blank\" href=https://colab.research.google.com/notebooks/data_table.ipynb>data table notebook</a>'\n",
              "          + ' to learn more about interactive tables.';\n",
              "        element.innerHTML = '';\n",
              "        dataTable['output_type'] = 'display_data';\n",
              "        await google.colab.output.renderOutput(dataTable, element);\n",
              "        const docLink = document.createElement('div');\n",
              "        docLink.innerHTML = docLinkHtml;\n",
              "        element.appendChild(docLink);\n",
              "      }\n",
              "    </script>\n",
              "  </div>\n",
              "\n",
              "\n",
              "<div id=\"df-99e12454-c7b3-4073-8da6-d71883182918\">\n",
              "  <button class=\"colab-df-quickchart\" onclick=\"quickchart('df-99e12454-c7b3-4073-8da6-d71883182918')\"\n",
              "            title=\"Suggest charts\"\n",
              "            style=\"display:none;\">\n",
              "\n",
              "<svg xmlns=\"http://www.w3.org/2000/svg\" height=\"24px\"viewBox=\"0 0 24 24\"\n",
              "     width=\"24px\">\n",
              "    <g>\n",
              "        <path d=\"M19 3H5c-1.1 0-2 .9-2 2v14c0 1.1.9 2 2 2h14c1.1 0 2-.9 2-2V5c0-1.1-.9-2-2-2zM9 17H7v-7h2v7zm4 0h-2V7h2v10zm4 0h-2v-4h2v4z\"/>\n",
              "    </g>\n",
              "</svg>\n",
              "  </button>\n",
              "\n",
              "<style>\n",
              "  .colab-df-quickchart {\n",
              "      --bg-color: #E8F0FE;\n",
              "      --fill-color: #1967D2;\n",
              "      --hover-bg-color: #E2EBFA;\n",
              "      --hover-fill-color: #174EA6;\n",
              "      --disabled-fill-color: #AAA;\n",
              "      --disabled-bg-color: #DDD;\n",
              "  }\n",
              "\n",
              "  [theme=dark] .colab-df-quickchart {\n",
              "      --bg-color: #3B4455;\n",
              "      --fill-color: #D2E3FC;\n",
              "      --hover-bg-color: #434B5C;\n",
              "      --hover-fill-color: #FFFFFF;\n",
              "      --disabled-bg-color: #3B4455;\n",
              "      --disabled-fill-color: #666;\n",
              "  }\n",
              "\n",
              "  .colab-df-quickchart {\n",
              "    background-color: var(--bg-color);\n",
              "    border: none;\n",
              "    border-radius: 50%;\n",
              "    cursor: pointer;\n",
              "    display: none;\n",
              "    fill: var(--fill-color);\n",
              "    height: 32px;\n",
              "    padding: 0;\n",
              "    width: 32px;\n",
              "  }\n",
              "\n",
              "  .colab-df-quickchart:hover {\n",
              "    background-color: var(--hover-bg-color);\n",
              "    box-shadow: 0 1px 2px rgba(60, 64, 67, 0.3), 0 1px 3px 1px rgba(60, 64, 67, 0.15);\n",
              "    fill: var(--button-hover-fill-color);\n",
              "  }\n",
              "\n",
              "  .colab-df-quickchart-complete:disabled,\n",
              "  .colab-df-quickchart-complete:disabled:hover {\n",
              "    background-color: var(--disabled-bg-color);\n",
              "    fill: var(--disabled-fill-color);\n",
              "    box-shadow: none;\n",
              "  }\n",
              "\n",
              "  .colab-df-spinner {\n",
              "    border: 2px solid var(--fill-color);\n",
              "    border-color: transparent;\n",
              "    border-bottom-color: var(--fill-color);\n",
              "    animation:\n",
              "      spin 1s steps(1) infinite;\n",
              "  }\n",
              "\n",
              "  @keyframes spin {\n",
              "    0% {\n",
              "      border-color: transparent;\n",
              "      border-bottom-color: var(--fill-color);\n",
              "      border-left-color: var(--fill-color);\n",
              "    }\n",
              "    20% {\n",
              "      border-color: transparent;\n",
              "      border-left-color: var(--fill-color);\n",
              "      border-top-color: var(--fill-color);\n",
              "    }\n",
              "    30% {\n",
              "      border-color: transparent;\n",
              "      border-left-color: var(--fill-color);\n",
              "      border-top-color: var(--fill-color);\n",
              "      border-right-color: var(--fill-color);\n",
              "    }\n",
              "    40% {\n",
              "      border-color: transparent;\n",
              "      border-right-color: var(--fill-color);\n",
              "      border-top-color: var(--fill-color);\n",
              "    }\n",
              "    60% {\n",
              "      border-color: transparent;\n",
              "      border-right-color: var(--fill-color);\n",
              "    }\n",
              "    80% {\n",
              "      border-color: transparent;\n",
              "      border-right-color: var(--fill-color);\n",
              "      border-bottom-color: var(--fill-color);\n",
              "    }\n",
              "    90% {\n",
              "      border-color: transparent;\n",
              "      border-bottom-color: var(--fill-color);\n",
              "    }\n",
              "  }\n",
              "</style>\n",
              "\n",
              "  <script>\n",
              "    async function quickchart(key) {\n",
              "      const quickchartButtonEl =\n",
              "        document.querySelector('#' + key + ' button');\n",
              "      quickchartButtonEl.disabled = true;  // To prevent multiple clicks.\n",
              "      quickchartButtonEl.classList.add('colab-df-spinner');\n",
              "      try {\n",
              "        const charts = await google.colab.kernel.invokeFunction(\n",
              "            'suggestCharts', [key], {});\n",
              "      } catch (error) {\n",
              "        console.error('Error during call to suggestCharts:', error);\n",
              "      }\n",
              "      quickchartButtonEl.classList.remove('colab-df-spinner');\n",
              "      quickchartButtonEl.classList.add('colab-df-quickchart-complete');\n",
              "    }\n",
              "    (() => {\n",
              "      let quickchartButtonEl =\n",
              "        document.querySelector('#df-99e12454-c7b3-4073-8da6-d71883182918 button');\n",
              "      quickchartButtonEl.style.display =\n",
              "        google.colab.kernel.accessAllowed ? 'block' : 'none';\n",
              "    })();\n",
              "  </script>\n",
              "</div>\n",
              "    </div>\n",
              "  </div>\n"
            ]
          },
          "metadata": {},
          "execution_count": 5
        }
      ]
    },
    {
      "cell_type": "markdown",
      "source": [
        "# Task 3: Initial XGBoost Model\n",
        "1. Build an initial XGBoost model using default hyperparameters.\n",
        "2. Train the model on the training set and evaluate its performance on the testing set.\n",
        "3. Note down the accuracy and any other relevant metrics."
      ],
      "metadata": {
        "id": "YZXT_IjuLzAt"
      }
    },
    {
      "cell_type": "code",
      "source": [
        "!pip install xgboost\n",
        "from xgboost import XGBClassifier\n",
        "from sklearn.preprocessing import LabelEncoder\n",
        "from sklearn.metrics import accuracy_score, precision_score, recall_score, f1_score"
      ],
      "metadata": {
        "id": "6H-Za_CvL2JK",
        "colab": {
          "base_uri": "https://localhost:8080/"
        },
        "outputId": "95254b56-a568-4622-ec81-73d86234fe8d"
      },
      "execution_count": 6,
      "outputs": [
        {
          "output_type": "stream",
          "name": "stdout",
          "text": [
            "Requirement already satisfied: xgboost in /usr/local/lib/python3.10/dist-packages (2.0.2)\n",
            "Requirement already satisfied: numpy in /usr/local/lib/python3.10/dist-packages (from xgboost) (1.23.5)\n",
            "Requirement already satisfied: scipy in /usr/local/lib/python3.10/dist-packages (from xgboost) (1.11.4)\n"
          ]
        }
      ]
    },
    {
      "cell_type": "code",
      "source": [
        "xgb_model = XGBClassifier(random_state=42)\n",
        "label_encoder= LabelEncoder()"
      ],
      "metadata": {
        "id": "5r0leKxJDA4j"
      },
      "execution_count": 7,
      "outputs": []
    },
    {
      "cell_type": "code",
      "source": [
        "y_train = label_encoder.fit_transform(y_train)\n",
        "y_test = label_encoder.fit_transform(y_test)"
      ],
      "metadata": {
        "colab": {
          "base_uri": "https://localhost:8080/"
        },
        "id": "B2rRPGq9GXEf",
        "outputId": "673742a8-9928-4be8-bb38-9e602f23715f"
      },
      "execution_count": 8,
      "outputs": [
        {
          "output_type": "stream",
          "name": "stderr",
          "text": [
            "/usr/local/lib/python3.10/dist-packages/sklearn/preprocessing/_label.py:116: DataConversionWarning: A column-vector y was passed when a 1d array was expected. Please change the shape of y to (n_samples, ), for example using ravel().\n",
            "  y = column_or_1d(y, warn=True)\n",
            "/usr/local/lib/python3.10/dist-packages/sklearn/preprocessing/_label.py:116: DataConversionWarning: A column-vector y was passed when a 1d array was expected. Please change the shape of y to (n_samples, ), for example using ravel().\n",
            "  y = column_or_1d(y, warn=True)\n"
          ]
        }
      ]
    },
    {
      "cell_type": "code",
      "source": [
        "xgb_model.fit(X_train, y_train)"
      ],
      "metadata": {
        "colab": {
          "base_uri": "https://localhost:8080/",
          "height": 244
        },
        "id": "i5Tn6LGrGYgq",
        "outputId": "2dc0de34-384b-46b1-bf78-52743dc00693"
      },
      "execution_count": 9,
      "outputs": [
        {
          "output_type": "execute_result",
          "data": {
            "text/plain": [
              "XGBClassifier(base_score=None, booster=None, callbacks=None,\n",
              "              colsample_bylevel=None, colsample_bynode=None,\n",
              "              colsample_bytree=None, device=None, early_stopping_rounds=None,\n",
              "              enable_categorical=False, eval_metric=None, feature_types=None,\n",
              "              gamma=None, grow_policy=None, importance_type=None,\n",
              "              interaction_constraints=None, learning_rate=None, max_bin=None,\n",
              "              max_cat_threshold=None, max_cat_to_onehot=None,\n",
              "              max_delta_step=None, max_depth=None, max_leaves=None,\n",
              "              min_child_weight=None, missing=nan, monotone_constraints=None,\n",
              "              multi_strategy=None, n_estimators=None, n_jobs=None,\n",
              "              num_parallel_tree=None, objective='multi:softprob', ...)"
            ],
            "text/html": [
              "<style>#sk-container-id-1 {color: black;background-color: white;}#sk-container-id-1 pre{padding: 0;}#sk-container-id-1 div.sk-toggleable {background-color: white;}#sk-container-id-1 label.sk-toggleable__label {cursor: pointer;display: block;width: 100%;margin-bottom: 0;padding: 0.3em;box-sizing: border-box;text-align: center;}#sk-container-id-1 label.sk-toggleable__label-arrow:before {content: \"▸\";float: left;margin-right: 0.25em;color: #696969;}#sk-container-id-1 label.sk-toggleable__label-arrow:hover:before {color: black;}#sk-container-id-1 div.sk-estimator:hover label.sk-toggleable__label-arrow:before {color: black;}#sk-container-id-1 div.sk-toggleable__content {max-height: 0;max-width: 0;overflow: hidden;text-align: left;background-color: #f0f8ff;}#sk-container-id-1 div.sk-toggleable__content pre {margin: 0.2em;color: black;border-radius: 0.25em;background-color: #f0f8ff;}#sk-container-id-1 input.sk-toggleable__control:checked~div.sk-toggleable__content {max-height: 200px;max-width: 100%;overflow: auto;}#sk-container-id-1 input.sk-toggleable__control:checked~label.sk-toggleable__label-arrow:before {content: \"▾\";}#sk-container-id-1 div.sk-estimator input.sk-toggleable__control:checked~label.sk-toggleable__label {background-color: #d4ebff;}#sk-container-id-1 div.sk-label input.sk-toggleable__control:checked~label.sk-toggleable__label {background-color: #d4ebff;}#sk-container-id-1 input.sk-hidden--visually {border: 0;clip: rect(1px 1px 1px 1px);clip: rect(1px, 1px, 1px, 1px);height: 1px;margin: -1px;overflow: hidden;padding: 0;position: absolute;width: 1px;}#sk-container-id-1 div.sk-estimator {font-family: monospace;background-color: #f0f8ff;border: 1px dotted black;border-radius: 0.25em;box-sizing: border-box;margin-bottom: 0.5em;}#sk-container-id-1 div.sk-estimator:hover {background-color: #d4ebff;}#sk-container-id-1 div.sk-parallel-item::after {content: \"\";width: 100%;border-bottom: 1px solid gray;flex-grow: 1;}#sk-container-id-1 div.sk-label:hover label.sk-toggleable__label {background-color: #d4ebff;}#sk-container-id-1 div.sk-serial::before {content: \"\";position: absolute;border-left: 1px solid gray;box-sizing: border-box;top: 0;bottom: 0;left: 50%;z-index: 0;}#sk-container-id-1 div.sk-serial {display: flex;flex-direction: column;align-items: center;background-color: white;padding-right: 0.2em;padding-left: 0.2em;position: relative;}#sk-container-id-1 div.sk-item {position: relative;z-index: 1;}#sk-container-id-1 div.sk-parallel {display: flex;align-items: stretch;justify-content: center;background-color: white;position: relative;}#sk-container-id-1 div.sk-item::before, #sk-container-id-1 div.sk-parallel-item::before {content: \"\";position: absolute;border-left: 1px solid gray;box-sizing: border-box;top: 0;bottom: 0;left: 50%;z-index: -1;}#sk-container-id-1 div.sk-parallel-item {display: flex;flex-direction: column;z-index: 1;position: relative;background-color: white;}#sk-container-id-1 div.sk-parallel-item:first-child::after {align-self: flex-end;width: 50%;}#sk-container-id-1 div.sk-parallel-item:last-child::after {align-self: flex-start;width: 50%;}#sk-container-id-1 div.sk-parallel-item:only-child::after {width: 0;}#sk-container-id-1 div.sk-dashed-wrapped {border: 1px dashed gray;margin: 0 0.4em 0.5em 0.4em;box-sizing: border-box;padding-bottom: 0.4em;background-color: white;}#sk-container-id-1 div.sk-label label {font-family: monospace;font-weight: bold;display: inline-block;line-height: 1.2em;}#sk-container-id-1 div.sk-label-container {text-align: center;}#sk-container-id-1 div.sk-container {/* jupyter's `normalize.less` sets `[hidden] { display: none; }` but bootstrap.min.css set `[hidden] { display: none !important; }` so we also need the `!important` here to be able to override the default hidden behavior on the sphinx rendered scikit-learn.org. See: https://github.com/scikit-learn/scikit-learn/issues/21755 */display: inline-block !important;position: relative;}#sk-container-id-1 div.sk-text-repr-fallback {display: none;}</style><div id=\"sk-container-id-1\" class=\"sk-top-container\"><div class=\"sk-text-repr-fallback\"><pre>XGBClassifier(base_score=None, booster=None, callbacks=None,\n",
              "              colsample_bylevel=None, colsample_bynode=None,\n",
              "              colsample_bytree=None, device=None, early_stopping_rounds=None,\n",
              "              enable_categorical=False, eval_metric=None, feature_types=None,\n",
              "              gamma=None, grow_policy=None, importance_type=None,\n",
              "              interaction_constraints=None, learning_rate=None, max_bin=None,\n",
              "              max_cat_threshold=None, max_cat_to_onehot=None,\n",
              "              max_delta_step=None, max_depth=None, max_leaves=None,\n",
              "              min_child_weight=None, missing=nan, monotone_constraints=None,\n",
              "              multi_strategy=None, n_estimators=None, n_jobs=None,\n",
              "              num_parallel_tree=None, objective=&#x27;multi:softprob&#x27;, ...)</pre><b>In a Jupyter environment, please rerun this cell to show the HTML representation or trust the notebook. <br />On GitHub, the HTML representation is unable to render, please try loading this page with nbviewer.org.</b></div><div class=\"sk-container\" hidden><div class=\"sk-item\"><div class=\"sk-estimator sk-toggleable\"><input class=\"sk-toggleable__control sk-hidden--visually\" id=\"sk-estimator-id-1\" type=\"checkbox\" checked><label for=\"sk-estimator-id-1\" class=\"sk-toggleable__label sk-toggleable__label-arrow\">XGBClassifier</label><div class=\"sk-toggleable__content\"><pre>XGBClassifier(base_score=None, booster=None, callbacks=None,\n",
              "              colsample_bylevel=None, colsample_bynode=None,\n",
              "              colsample_bytree=None, device=None, early_stopping_rounds=None,\n",
              "              enable_categorical=False, eval_metric=None, feature_types=None,\n",
              "              gamma=None, grow_policy=None, importance_type=None,\n",
              "              interaction_constraints=None, learning_rate=None, max_bin=None,\n",
              "              max_cat_threshold=None, max_cat_to_onehot=None,\n",
              "              max_delta_step=None, max_depth=None, max_leaves=None,\n",
              "              min_child_weight=None, missing=nan, monotone_constraints=None,\n",
              "              multi_strategy=None, n_estimators=None, n_jobs=None,\n",
              "              num_parallel_tree=None, objective=&#x27;multi:softprob&#x27;, ...)</pre></div></div></div></div></div>"
            ]
          },
          "metadata": {},
          "execution_count": 9
        }
      ]
    },
    {
      "cell_type": "code",
      "source": [
        "preds = xgb_model.predict(X_test)\n",
        "accuracy_score(y_test, preds)"
      ],
      "metadata": {
        "colab": {
          "base_uri": "https://localhost:8080/"
        },
        "id": "0wB_qr7yGzov",
        "outputId": "88e28e39-e8cf-4a8f-96b7-536518f9de94"
      },
      "execution_count": 10,
      "outputs": [
        {
          "output_type": "execute_result",
          "data": {
            "text/plain": [
              "0.47540983606557374"
            ]
          },
          "metadata": {},
          "execution_count": 10
        }
      ]
    },
    {
      "cell_type": "markdown",
      "source": [
        "# Task 4: Hyperparameter Tuning\n",
        "1. Experiment with hyperparameter tuning to improve model performance.\n",
        "2. Adjust hyperparameters such as learning_rate, n_estimators, max_depth, etc.\n",
        "3. Use techniques like cross-validation to find optimal hyperparameters.\n",
        "4. Train and evaluate the model with the tuned hyperparameters."
      ],
      "metadata": {
        "id": "WFnt6TGPL3lI"
      }
    },
    {
      "cell_type": "code",
      "source": [
        "from sklearn.model_selection import GridSearchCV\n",
        "import xgboost as xgb\n",
        "from xgboost import XGBClassifier\n",
        "from sklearn.preprocessing import LabelEncoder\n",
        "\n",
        "# Define the hyperparameter grid\n",
        "param_grid = {\n",
        "    'n_estimators': [100, 300, 500],\n",
        "    'max_depth': [2, 3, 4],\n",
        "    'learning_rate': [0.1,0.2]\n",
        "}\n",
        "\n",
        "grid_search = GridSearchCV(estimator = xgb_model, param_grid = param_grid, cv=5, scoring='accuracy', n_jobs=-1)\n",
        "grid_search.fit(X_train,y_train)\n",
        "print(\"Best Hyperparameters:\", grid_search.best_params_)\n",
        "\n"
      ],
      "metadata": {
        "id": "nTKRJpnzL9n6",
        "colab": {
          "base_uri": "https://localhost:8080/"
        },
        "outputId": "fd69c7db-19e0-4a8a-b261-4f140302786c"
      },
      "execution_count": 11,
      "outputs": [
        {
          "output_type": "stream",
          "name": "stdout",
          "text": [
            "Best Hyperparameters: {'learning_rate': 0.1, 'max_depth': 4, 'n_estimators': 100}\n"
          ]
        }
      ]
    },
    {
      "cell_type": "code",
      "source": [
        "#Now use the best hyperparameters\n",
        "\n",
        "new_xgb_model = XGBClassifier(learning_rate=0.1, max_depth=4, n_estimators=100)\n",
        "\n",
        "new_xgb_model.fit(X_train,y_train)\n",
        "\n",
        "y_pred = new_xgb_model.predict(X_test)\n",
        "\n",
        "accuracy = accuracy_score(y_test, y_pred)\n",
        "\n",
        "print(\"Accuracy\", accuracy)\n"
      ],
      "metadata": {
        "colab": {
          "base_uri": "https://localhost:8080/"
        },
        "id": "UgwrwidHryij",
        "outputId": "10fb9e64-e46f-456a-e9f1-b077c13a3c18"
      },
      "execution_count": 12,
      "outputs": [
        {
          "output_type": "stream",
          "name": "stdout",
          "text": [
            "Accuracy 0.5245901639344263\n"
          ]
        }
      ]
    },
    {
      "cell_type": "markdown",
      "source": [
        "# Task 5: Feature Importance\n",
        "1. Explore feature importance using the **feature_importances_** attribute of the trained XGBoost model.\n",
        "2. Identify the most important features for heart disease prediction."
      ],
      "metadata": {
        "id": "8Lumo2DCL_L9"
      }
    },
    {
      "cell_type": "code",
      "source": [
        "import matplotlib.pyplot as plt\n",
        "\n",
        "feature_important = new_xgb_model.feature_importances_\n",
        "\n",
        "values = X_train.columns\n",
        "\n",
        "idx = feature_important.argsort()[::-1]\n",
        "\n",
        "#To display the plot\n",
        "top_feat = 5\n",
        "plt.figure(figsize=(10, 5))\n",
        "plt.bar(range(top_feat), feature_important[idx][:top_feat], align=\"center\")\n",
        "plt.xticks(range(top_feat), values[idx][:top_feat], rotation=45, ha=\"right\")\n",
        "plt.xlabel(\"Values\")\n",
        "plt.ylabel(\"Feature Important\")\n",
        "plt.title(\"Top {} Feature Importances\".format(top_feat))\n",
        "plt.tight_layout()\n",
        "plt.show()\n",
        "\n",
        "\n",
        "\n",
        "#To display the importance of the top 5 features\n",
        "\n",
        "\n",
        "feature_important_df = pd.DataFrame({'Features': values, 'Importance': feature_important})\n",
        "feature_important_df = feature_important_df.sort_values(by='Importance', ascending=False)\n",
        "\n",
        "top_5 = feature_important_df.head(top_feat)\n",
        "print(top_5)"
      ],
      "metadata": {
        "id": "GbH5D_YHMGav",
        "colab": {
          "base_uri": "https://localhost:8080/",
          "height": 609
        },
        "outputId": "f2dc33c4-9d6b-4bc0-b8e0-8ffdaa1e8be4"
      },
      "execution_count": 13,
      "outputs": [
        {
          "output_type": "display_data",
          "data": {
            "text/plain": [
              "<Figure size 1000x500 with 1 Axes>"
            ],
            "image/png": "[encoded data removed]"
          },
          "metadata": {}
        },
        {
          "output_type": "stream",
          "name": "stdout",
          "text": [
            "   Features  Importance\n",
            "2        cp    0.143746\n",
            "11       ca    0.127940\n",
            "12     thal    0.117600\n",
            "8     exang    0.091739\n",
            "10    slope    0.077090\n"
          ]
        }
      ]
    },
    {
      "cell_type": "markdown",
      "source": [
        "# Task 6: Model Evaluation\n",
        "1. Compare the performance metrics of the initial model and the tuned model.\n",
        "2. Visualize the improvement achieved in a clear and concise manner.\n",
        "3. Discuss the impact of hyperparameter tuning and feature importance on model performance."
      ],
      "metadata": {
        "id": "JiAL2L9LMFpL"
      }
    },
    {
      "cell_type": "code",
      "source": [
        "#to compare the basic xgb model and the new, we can reuse the variables xgb_model and new_xgb_model\n",
        "#we can also use \"preds\" used for xgb_model and y_pred for new_xgb_model\n",
        "\n",
        "#computation of accuracy, precision, recall and f1_score for the basic model with basic hyperparameters\n",
        "basic_accuracy = accuracy_score(y_test, preds)\n",
        "basic_precision = precision_score(y_test, preds, average='weighted')\n",
        "basic_recall = recall_score(y_test, preds, average='weighted')\n",
        "basic_f1_score = f1_score(y_test, preds, average='weighted')\n",
        "\n",
        "#computation of accuracy, precision, recall and f1_score for the new model with optimal hyperparameters\n",
        "\n",
        "new_accuracy = accuracy_score(y_test, y_pred)\n",
        "new_precision = precision_score(y_test, y_pred, average='weighted')\n",
        "new_recall = recall_score(y_test, y_pred, average='weighted')\n",
        "new_f1_score = f1_score(y_test, y_pred, average='weighted')\n",
        "\n",
        "\n",
        "print(\"=====================================\")\n",
        "print(\"Basic XGB Model:\")\n",
        "print(f'Accuracy: + {basic_accuracy}')\n",
        "print(f'Precision: + {basic_precision}')\n",
        "print(f'Recall: + {basic_recall}')\n",
        "print(f'F1_Score: + {basic_f1_score}')\n",
        "print(\"=====================================\")\n",
        "print(\"New XGB Model:\")\n",
        "print(f'Accuracy: + {new_accuracy}')\n",
        "print(f'Precision: + {new_precision}')\n",
        "print(f'Recall: + {new_recall}')\n",
        "print(f'F1_Score: + {new_f1_score}')\n",
        "print(\"=====================================\")"
      ],
      "metadata": {
        "id": "PpqMJ4bBMNRa",
        "colab": {
          "base_uri": "https://localhost:8080/"
        },
        "outputId": "928879c6-fe72-4370-d646-5ebc8923e821"
      },
      "execution_count": 14,
      "outputs": [
        {
          "output_type": "stream",
          "name": "stdout",
          "text": [
            "=====================================\n",
            "Basic XGB Model:\n",
            "Accuracy: + 0.47540983606557374\n",
            "Precision: + 0.4074011571841851\n",
            "Recall: + 0.47540983606557374\n",
            "F1_Score: + 0.4387635756056809\n",
            "=====================================\n",
            "New XGB Model:\n",
            "Accuracy: + 0.5245901639344263\n",
            "Precision: + 0.4495316159250586\n",
            "Recall: + 0.5245901639344263\n",
            "F1_Score: + 0.48246153293068744\n",
            "=====================================\n"
          ]
        },
        {
          "output_type": "stream",
          "name": "stderr",
          "text": [
            "/usr/local/lib/python3.10/dist-packages/sklearn/metrics/_classification.py:1344: UndefinedMetricWarning: Precision is ill-defined and being set to 0.0 in labels with no predicted samples. Use `zero_division` parameter to control this behavior.\n",
            "  _warn_prf(average, modifier, msg_start, len(result))\n"
          ]
        }
      ]
    },
    {
      "cell_type": "code",
      "source": [
        "\n",
        "plt_names = [\"Basic Model\", \"Optimal Model\"]\n",
        "accuracy_values = [basic_accuracy, new_accuracy]\n",
        "plt.figure(figsize=(10,5))\n",
        "plt.bar(plt_names, accuracy_values, color=['red', 'green'])\n",
        "plt.ylim(0,1)\n",
        "plt.xlabel(\"Model\")\n",
        "plt.ylabel(\"Accuracy\")\n",
        "plt.title(\"Comparison of old model and new model\")\n",
        "plt.show()"
      ],
      "metadata": {
        "colab": {
          "base_uri": "https://localhost:8080/",
          "height": 487
        },
        "id": "jgMS6Y4kzR_e",
        "outputId": "d729ebd1-e0da-4805-a5d4-fc76d1b89ce8"
      },
      "execution_count": 15,
      "outputs": [
        {
          "output_type": "display_data",
          "data": {
            "text/plain": [
              "<Figure size 1000x500 with 1 Axes>"
            ],
            "image/png": "[encoded data removed]"
          },
          "metadata": {}
        }
      ]
    },
    {
      "cell_type": "markdown",
      "source": [
        "The use of optimal hyperparameters will improve the resoults of the model, other than accuracy, we can notice that the improvement is also shown for precision, recall and f1_score."
      ],
      "metadata": {
        "id": "uav5vFaC0Rep"
      }
    },
    {
      "cell_type": "code",
      "source": [],
      "metadata": {
        "id": "zJ5db5DI0fSB"
      },
      "execution_count": null,
      "outputs": []
    }
  ]
}