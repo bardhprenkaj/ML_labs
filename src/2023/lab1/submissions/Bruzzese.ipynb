{
  "cells": [
    {
      "cell_type": "markdown",
      "metadata": {
        "id": "xPYdYTOOLXFO"
      },
      "source": [
        "**Objective**: Build an XGBoost model for predicting heart disease and experiment with hyperparameter tuning to improve its performance.\n",
        "\n",
        "Dataset: [Heart Disease UCI](https://archive.ics.uci.edu/dataset/45/heart+disease)"
      ]
    },
    {
      "cell_type": "markdown",
      "metadata": {
        "id": "pob-gDK2Ll8V"
      },
      "source": [
        "# Task 1: Data Loading and Exploration\n",
        "1. Load the Heart Disease UCI dataset.\n",
        "2. Explore the dataset to understand its structure and features.\n",
        "3. Split the data into training and testing sets."
      ]
    },
    {
      "cell_type": "code",
      "execution_count": 3,
      "metadata": {
        "colab": {
          "base_uri": "https://localhost:8080/"
        },
        "id": "3_HtpocjLpun",
        "outputId": "f70c366b-b46c-4df8-95bc-9638a3cf5be4"
      },
      "outputs": [
        {
          "name": "stdout",
          "output_type": "stream",
          "text": [
            "Collecting ucimlrepo\n",
            "  Downloading ucimlrepo-0.0.3-py3-none-any.whl (7.0 kB)\n",
            "Installing collected packages: ucimlrepo\n",
            "Successfully installed ucimlrepo-0.0.3\n"
          ]
        }
      ],
      "source": [
        "# insert code here\n",
        "!pip install ucimlrepo"
      ]
    },
    {
      "cell_type": "code",
      "execution_count": 4,
      "metadata": {
        "colab": {
          "base_uri": "https://localhost:8080/"
        },
        "id": "OueNyouCRYgI",
        "outputId": "6ad20659-d2d3-4477-89f9-baf11583f761"
      },
      "outputs": [
        {
          "name": "stdout",
          "output_type": "stream",
          "text": [
            "{'uci_id': 45, 'name': 'Heart Disease', 'repository_url': 'https://archive.ics.uci.edu/dataset/45/heart+disease', 'data_url': 'https://archive.ics.uci.edu/static/public/45/data.csv', 'abstract': '4 databases: Cleveland, Hungary, Switzerland, and the VA Long Beach', 'area': 'Health and Medicine', 'tasks': ['Classification'], 'characteristics': ['Multivariate'], 'num_instances': 303, 'num_features': 13, 'feature_types': ['Categorical', 'Integer', 'Real'], 'demographics': ['Age', 'Sex'], 'target_col': ['num'], 'index_col': None, 'has_missing_values': 'yes', 'missing_values_symbol': 'NaN', 'year_of_dataset_creation': 1989, 'last_updated': 'Fri Nov 03 2023', 'dataset_doi': '10.24432/C52P4X', 'creators': ['Andras Janosi', 'William Steinbrunn', 'Matthias Pfisterer', 'Robert Detrano'], 'intro_paper': {'title': 'International application of a new probability algorithm for the diagnosis of coronary artery disease.', 'authors': 'R. Detrano, A. Jánosi, W. Steinbrunn, M. Pfisterer, J. Schmid, S. Sandhu, K. Guppy, S. Lee, V. Froelicher', 'published_in': 'American Journal of Cardiology', 'year': 1989, 'url': 'https://www.semanticscholar.org/paper/a7d714f8f87bfc41351eb5ae1e5472f0ebbe0574', 'doi': None}, 'additional_info': {'summary': 'This database contains 76 attributes, but all published experiments refer to using a subset of 14 of them.  In particular, the Cleveland database is the only one that has been used by ML researchers to date.  The \"goal\" field refers to the presence of heart disease in the patient.  It is integer valued from 0 (no presence) to 4. Experiments with the Cleveland database have concentrated on simply attempting to distinguish presence (values 1,2,3,4) from absence (value 0).  \\n   \\nThe names and social security numbers of the patients were recently removed from the database, replaced with dummy values.\\n\\nOne file has been \"processed\", that one containing the Cleveland database.  All four unprocessed files also exist in this directory.\\n\\nTo see Test Costs (donated by Peter Turney), please see the folder \"Costs\" ', 'purpose': None, 'funded_by': None, 'instances_represent': None, 'recommended_data_splits': None, 'sensitive_data': None, 'preprocessing_description': None, 'variable_info': 'Only 14 attributes used:\\r\\n      1. #3  (age)       \\r\\n      2. #4  (sex)       \\r\\n      3. #9  (cp)        \\r\\n      4. #10 (trestbps)  \\r\\n      5. #12 (chol)      \\r\\n      6. #16 (fbs)       \\r\\n      7. #19 (restecg)   \\r\\n      8. #32 (thalach)   \\r\\n      9. #38 (exang)     \\r\\n      10. #40 (oldpeak)   \\r\\n      11. #41 (slope)     \\r\\n      12. #44 (ca)        \\r\\n      13. #51 (thal)      \\r\\n      14. #58 (num)       (the predicted attribute)\\r\\n\\r\\nComplete attribute documentation:\\r\\n      1 id: patient identification number\\r\\n      2 ccf: social security number (I replaced this with a dummy value of 0)\\r\\n      3 age: age in years\\r\\n      4 sex: sex (1 = male; 0 = female)\\r\\n      5 painloc: chest pain location (1 = substernal; 0 = otherwise)\\r\\n      6 painexer (1 = provoked by exertion; 0 = otherwise)\\r\\n      7 relrest (1 = relieved after rest; 0 = otherwise)\\r\\n      8 pncaden (sum of 5, 6, and 7)\\r\\n      9 cp: chest pain type\\r\\n        -- Value 1: typical angina\\r\\n        -- Value 2: atypical angina\\r\\n        -- Value 3: non-anginal pain\\r\\n        -- Value 4: asymptomatic\\r\\n     10 trestbps: resting blood pressure (in mm Hg on admission to the hospital)\\r\\n     11 htn\\r\\n     12 chol: serum cholestoral in mg/dl\\r\\n     13 smoke: I believe this is 1 = yes; 0 = no (is or is not a smoker)\\r\\n     14 cigs (cigarettes per day)\\r\\n     15 years (number of years as a smoker)\\r\\n     16 fbs: (fasting blood sugar > 120 mg/dl)  (1 = true; 0 = false)\\r\\n     17 dm (1 = history of diabetes; 0 = no such history)\\r\\n     18 famhist: family history of coronary artery disease (1 = yes; 0 = no)\\r\\n     19 restecg: resting electrocardiographic results\\r\\n        -- Value 0: normal\\r\\n        -- Value 1: having ST-T wave abnormality (T wave inversions and/or ST elevation or depression of > 0.05 mV)\\r\\n        -- Value 2: showing probable or definite left ventricular hypertrophy by Estes\\' criteria\\r\\n     20 ekgmo (month of exercise ECG reading)\\r\\n     21 ekgday(day of exercise ECG reading)\\r\\n     22 ekgyr (year of exercise ECG reading)\\r\\n     23 dig (digitalis used furing exercise ECG: 1 = yes; 0 = no)\\r\\n     24 prop (Beta blocker used during exercise ECG: 1 = yes; 0 = no)\\r\\n     25 nitr (nitrates used during exercise ECG: 1 = yes; 0 = no)\\r\\n     26 pro (calcium channel blocker used during exercise ECG: 1 = yes; 0 = no)\\r\\n     27 diuretic (diuretic used used during exercise ECG: 1 = yes; 0 = no)\\r\\n     28 proto: exercise protocol\\r\\n          1 = Bruce     \\r\\n          2 = Kottus\\r\\n          3 = McHenry\\r\\n          4 = fast Balke\\r\\n          5 = Balke\\r\\n          6 = Noughton \\r\\n          7 = bike 150 kpa min/min  (Not sure if \"kpa min/min\" is what was written!)\\r\\n          8 = bike 125 kpa min/min  \\r\\n          9 = bike 100 kpa min/min\\r\\n         10 = bike 75 kpa min/min\\r\\n         11 = bike 50 kpa min/min\\r\\n         12 = arm ergometer\\r\\n     29 thaldur: duration of exercise test in minutes\\r\\n     30 thaltime: time when ST measure depression was noted\\r\\n     31 met: mets achieved\\r\\n     32 thalach: maximum heart rate achieved\\r\\n     33 thalrest: resting heart rate\\r\\n     34 tpeakbps: peak exercise blood pressure (first of 2 parts)\\r\\n     35 tpeakbpd: peak exercise blood pressure (second of 2 parts)\\r\\n     36 dummy\\r\\n     37 trestbpd: resting blood pressure\\r\\n     38 exang: exercise induced angina (1 = yes; 0 = no)\\r\\n     39 xhypo: (1 = yes; 0 = no)\\r\\n     40 oldpeak = ST depression induced by exercise relative to rest\\r\\n     41 slope: the slope of the peak exercise ST segment\\r\\n        -- Value 1: upsloping\\r\\n        -- Value 2: flat\\r\\n        -- Value 3: downsloping\\r\\n     42 rldv5: height at rest\\r\\n     43 rldv5e: height at peak exercise\\r\\n     44 ca: number of major vessels (0-3) colored by flourosopy\\r\\n     45 restckm: irrelevant\\r\\n     46 exerckm: irrelevant\\r\\n     47 restef: rest raidonuclid (sp?) ejection fraction\\r\\n     48 restwm: rest wall (sp?) motion abnormality\\r\\n        0 = none\\r\\n        1 = mild or moderate\\r\\n        2 = moderate or severe\\r\\n        3 = akinesis or dyskmem (sp?)\\r\\n     49 exeref: exercise radinalid (sp?) ejection fraction\\r\\n     50 exerwm: exercise wall (sp?) motion \\r\\n     51 thal: 3 = normal; 6 = fixed defect; 7 = reversable defect\\r\\n     52 thalsev: not used\\r\\n     53 thalpul: not used\\r\\n     54 earlobe: not used\\r\\n     55 cmo: month of cardiac cath (sp?)  (perhaps \"call\")\\r\\n     56 cday: day of cardiac cath (sp?)\\r\\n     57 cyr: year of cardiac cath (sp?)\\r\\n     58 num: diagnosis of heart disease (angiographic disease status)\\r\\n        -- Value 0: < 50% diameter narrowing\\r\\n        -- Value 1: > 50% diameter narrowing\\r\\n        (in any major vessel: attributes 59 through 68 are vessels)\\r\\n     59 lmt\\r\\n     60 ladprox\\r\\n     61 laddist\\r\\n     62 diag\\r\\n     63 cxmain\\r\\n     64 ramus\\r\\n     65 om1\\r\\n     66 om2\\r\\n     67 rcaprox\\r\\n     68 rcadist\\r\\n     69 lvx1: not used\\r\\n     70 lvx2: not used\\r\\n     71 lvx3: not used\\r\\n     72 lvx4: not used\\r\\n     73 lvf: not used\\r\\n     74 cathef: not used\\r\\n     75 junk: not used\\r\\n     76 name: last name of patient  (I replaced this with the dummy string \"name\")', 'citation': None}}\n",
            "        name     role         type demographic  \\\n",
            "0        age  Feature      Integer         Age   \n",
            "1        sex  Feature  Categorical         Sex   \n",
            "2         cp  Feature  Categorical        None   \n",
            "3   trestbps  Feature      Integer        None   \n",
            "4       chol  Feature      Integer        None   \n",
            "5        fbs  Feature  Categorical        None   \n",
            "6    restecg  Feature  Categorical        None   \n",
            "7    thalach  Feature      Integer        None   \n",
            "8      exang  Feature  Categorical        None   \n",
            "9    oldpeak  Feature      Integer        None   \n",
            "10     slope  Feature  Categorical        None   \n",
            "11        ca  Feature      Integer        None   \n",
            "12      thal  Feature  Categorical        None   \n",
            "13       num   Target      Integer        None   \n",
            "\n",
            "                                          description  units missing_values  \n",
            "0                                                None  years             no  \n",
            "1                                                None   None             no  \n",
            "2                                                None   None             no  \n",
            "3   resting blood pressure (on admission to the ho...  mm Hg             no  \n",
            "4                                   serum cholestoral  mg/dl             no  \n",
            "5                     fasting blood sugar > 120 mg/dl   None             no  \n",
            "6                                                None   None             no  \n",
            "7                         maximum heart rate achieved   None             no  \n",
            "8                             exercise induced angina   None             no  \n",
            "9   ST depression induced by exercise relative to ...   None             no  \n",
            "10                                               None   None             no  \n",
            "11  number of major vessels (0-3) colored by flour...   None            yes  \n",
            "12                                               None   None            yes  \n",
            "13                         diagnosis of heart disease   None             no  \n"
          ]
        }
      ],
      "source": [
        "from ucimlrepo import fetch_ucirepo\n",
        "\n",
        "# fetch dataset\n",
        "heart_disease = fetch_ucirepo(id=45)\n",
        "\n",
        "# data (as pandas dataframes)\n",
        "X = heart_disease.data.features\n",
        "y = heart_disease.data.targets\n",
        "\n",
        "# metadata\n",
        "print(heart_disease.metadata)\n",
        "\n",
        "# variable information\n",
        "print(heart_disease.variables)\n"
      ]
    },
    {
      "cell_type": "code",
      "execution_count": 5,
      "metadata": {
        "colab": {
          "base_uri": "https://localhost:8080/"
        },
        "id": "KNosxXi6R4un",
        "outputId": "907131ee-488b-4bc9-c77a-8e2af5841f1a"
      },
      "outputs": [
        {
          "name": "stdout",
          "output_type": "stream",
          "text": [
            "   age  sex  cp  trestbps  chol  fbs  restecg  thalach  exang  oldpeak  slope  \\\n",
            "0   63    1   1       145   233    1        2      150      0      2.3      3   \n",
            "1   67    1   4       160   286    0        2      108      1      1.5      2   \n",
            "2   67    1   4       120   229    0        2      129      1      2.6      2   \n",
            "3   37    1   3       130   250    0        0      187      0      3.5      3   \n",
            "4   41    0   2       130   204    0        2      172      0      1.4      1   \n",
            "\n",
            "    ca  thal  num  \n",
            "0  0.0   6.0    0  \n",
            "1  3.0   3.0    2  \n",
            "2  2.0   7.0    1  \n",
            "3  0.0   3.0    0  \n",
            "4  0.0   3.0    0  \n"
          ]
        }
      ],
      "source": [
        "import pandas as pd\n",
        "\n",
        "# Supponendo che 'data_url' sia la variabile che contiene l'URL del file CSV\n",
        "url = 'https://archive.ics.uci.edu/static/public/45/data.csv'\n",
        "df = pd.read_csv(url)\n",
        "\n",
        "# Visualizza le prime righe per confermare il caricamento\n",
        "print(df.head())\n"
      ]
    },
    {
      "cell_type": "code",
      "execution_count": 6,
      "metadata": {
        "colab": {
          "base_uri": "https://localhost:8080/"
        },
        "id": "3mNQpmT9Sgtd",
        "outputId": "a17d360d-ea4f-41ec-f64a-d776dd7419be"
      },
      "outputs": [
        {
          "name": "stdout",
          "output_type": "stream",
          "text": [
            "Training set size: (242, 13)\n",
            "Test set size: (61, 13)\n"
          ]
        }
      ],
      "source": [
        "from sklearn.model_selection import train_test_split\n",
        "# Supponendo che 'num' sia il nome della colonna target\n",
        "X = df.drop('num', axis=1)  # Features\n",
        "y = df['num']               # Target\n",
        "# Suddividi in set di training e test\n",
        "X_train, X_test, y_train, y_test = train_test_split(X, y, test_size=0.2, random_state=42)\n",
        "# Verifica le dimensioni dei set risultanti\n",
        "print(\"Training set size:\", X_train.shape)\n",
        "print(\"Test set size:\", X_test.shape)"
      ]
    },
    {
      "cell_type": "markdown",
      "metadata": {
        "id": "R6mFhVc8LpGW"
      },
      "source": [
        "# Task 2: Data Preprocessing\n",
        "1. Handle missing values if any.\n",
        "2. Encode categorical variables using appropriate methods.\n",
        "3. Standardize or normalize numerical features if necessary."
      ]
    },
    {
      "cell_type": "code",
      "execution_count": 7,
      "metadata": {
        "colab": {
          "base_uri": "https://localhost:8080/"
        },
        "id": "8gqyaMz3LTaZ",
        "outputId": "ad85d2f7-0b1e-4073-f014-7679e0614f39"
      },
      "outputs": [
        {
          "name": "stdout",
          "output_type": "stream",
          "text": [
            "age         0\n",
            "sex         0\n",
            "cp          0\n",
            "trestbps    0\n",
            "chol        0\n",
            "fbs         0\n",
            "restecg     0\n",
            "thalach     0\n",
            "exang       0\n",
            "oldpeak     0\n",
            "slope       0\n",
            "ca          4\n",
            "thal        2\n",
            "num         0\n",
            "dtype: int64\n"
          ]
        }
      ],
      "source": [
        "# insert code here\n",
        "print(df.isnull().sum())"
      ]
    },
    {
      "cell_type": "code",
      "execution_count": 8,
      "metadata": {
        "id": "L1YDXRj0T4s9"
      },
      "outputs": [],
      "source": [
        "# Per riempire con la media\n",
        "df.fillna(df.mean(), inplace=True)"
      ]
    },
    {
      "cell_type": "code",
      "execution_count": 9,
      "metadata": {
        "colab": {
          "base_uri": "https://localhost:8080/"
        },
        "id": "tCGki8sHT8g7",
        "outputId": "943bb2ff-6e9d-4f4c-8293-910192046507"
      },
      "outputs": [
        {
          "name": "stdout",
          "output_type": "stream",
          "text": [
            "age         0\n",
            "sex         0\n",
            "cp          0\n",
            "trestbps    0\n",
            "chol        0\n",
            "fbs         0\n",
            "restecg     0\n",
            "thalach     0\n",
            "exang       0\n",
            "oldpeak     0\n",
            "slope       0\n",
            "ca          0\n",
            "thal        0\n",
            "num         0\n",
            "dtype: int64\n"
          ]
        }
      ],
      "source": [
        "print(df.isnull().sum())"
      ]
    },
    {
      "cell_type": "code",
      "execution_count": 10,
      "metadata": {
        "id": "LlibXUH-UU7W"
      },
      "outputs": [],
      "source": [
        "from sklearn.preprocessing import StandardScaler\n",
        "# Separa le features e il target\n",
        "X = df.drop('num', axis=1)  # Features\n",
        "y = df['num']               # Target\n",
        "\n",
        "# Seleziona solo le colonne numeriche per la standardizzazione\n",
        "numerical_cols = X.select_dtypes(include=['int64', 'float64']).columns\n",
        "\n",
        "#########################################################\n",
        "# BARDH'S Comments\n",
        "# Here you're treating all the features as continous ones.\n",
        "# In the UCI webpage corresponding to this dataset you have\n",
        "# information about which features are categorical as well.\n",
        "# By treating all features as continuous, you've introduces a\n",
        "# mathematical lattice on the categorial features. This isn't\n",
        "# a desirable characteristic in this scenario.\n",
        "#########################################################\n",
        "\n",
        "# Inizializza lo StandardScaler\n",
        "scaler = StandardScaler()\n",
        "\n",
        "# Standardizza solo le colonne numeriche\n",
        "X[numerical_cols] = scaler.fit_transform(X[numerical_cols])\n",
        "\n",
        "# Ricombina X e y in un nuovo DataFrame, se necessario\n",
        "df_scaled = pd.concat([X, y], axis=1)"
      ]
    },
    {
      "cell_type": "code",
      "execution_count": 11,
      "metadata": {
        "colab": {
          "base_uri": "https://localhost:8080/"
        },
        "id": "6GtwluhVUkps",
        "outputId": "04a24272-16c2-4297-a27b-afa0cdab3cff"
      },
      "outputs": [
        {
          "name": "stdout",
          "output_type": "stream",
          "text": [
            "        age       sex        cp  trestbps      chol       fbs   restecg  \\\n",
            "0  0.948726  0.686202 -2.251775  0.757525 -0.264900  2.394438  1.016684   \n",
            "1  1.392002  0.686202  0.877985  1.611220  0.760415 -0.417635  1.016684   \n",
            "2  1.392002  0.686202  0.877985 -0.665300 -0.342283 -0.417635  1.016684   \n",
            "3 -1.932564  0.686202 -0.165268 -0.096170  0.063974 -0.417635 -0.996749   \n",
            "4 -1.489288 -1.457296 -1.208521 -0.096170 -0.825922 -0.417635  1.016684   \n",
            "\n",
            "    thalach     exang   oldpeak     slope        ca      thal  num  \n",
            "0  0.017197 -0.696631  1.087338  2.274579 -0.723095  0.655818    0  \n",
            "1 -1.821905  1.435481  0.397182  0.649113  2.503851 -0.898522    2  \n",
            "2 -0.902354  1.435481  1.346147  0.649113  1.428203  1.173931    1  \n",
            "3  1.637359 -0.696631  2.122573  2.274579 -0.723095 -0.898522    0  \n",
            "4  0.980537 -0.696631  0.310912 -0.976352 -0.723095 -0.898522    0  \n"
          ]
        }
      ],
      "source": [
        "print(df_scaled.head())"
      ]
    },
    {
      "cell_type": "markdown",
      "metadata": {
        "id": "YZXT_IjuLzAt"
      },
      "source": [
        "# Task 3: Initial XGBoost Model\n",
        "1. Build an initial XGBoost model using default hyperparameters.\n",
        "2. Train the model on the training set and evaluate its performance on the testing set.\n",
        "3. Note down the accuracy and any other relevant metrics."
      ]
    },
    {
      "cell_type": "code",
      "execution_count": 12,
      "metadata": {
        "colab": {
          "base_uri": "https://localhost:8080/"
        },
        "id": "6H-Za_CvL2JK",
        "outputId": "e7883d33-4318-4723-b5ac-1a962f45c230"
      },
      "outputs": [
        {
          "name": "stdout",
          "output_type": "stream",
          "text": [
            "Requirement already satisfied: xgboost in /usr/local/lib/python3.10/dist-packages (2.0.2)\n",
            "Requirement already satisfied: numpy in /usr/local/lib/python3.10/dist-packages (from xgboost) (1.23.5)\n",
            "Requirement already satisfied: scipy in /usr/local/lib/python3.10/dist-packages (from xgboost) (1.11.4)\n"
          ]
        }
      ],
      "source": [
        "# insert code here\n",
        "!pip install xgboost\n",
        "from xgboost import XGBClassifier\n",
        "model = XGBClassifier()"
      ]
    },
    {
      "cell_type": "code",
      "execution_count": 13,
      "metadata": {
        "id": "4xqPxk_1WC8i"
      },
      "outputs": [],
      "source": [
        "from sklearn.model_selection import train_test_split\n",
        "\n",
        "# Assicurati che 'target' sia il nome della tua colonna obiettivo\n",
        "X = df_scaled.drop('num', axis=1)\n",
        "y = df_scaled['num']\n",
        "\n",
        "X_train, X_test, y_train, y_test = train_test_split(X, y, test_size=0.2, random_state=42)\n"
      ]
    },
    {
      "cell_type": "code",
      "execution_count": 14,
      "metadata": {
        "colab": {
          "base_uri": "https://localhost:8080/",
          "height": 237
        },
        "id": "ZcgKrM4DZK7Y",
        "outputId": "abb54ae9-4d52-4c0d-8b73-eb4551c1ff83"
      },
      "outputs": [
        {
          "data": {
            "text/html": [
              "<style>#sk-container-id-1 {color: black;background-color: white;}#sk-container-id-1 pre{padding: 0;}#sk-container-id-1 div.sk-toggleable {background-color: white;}#sk-container-id-1 label.sk-toggleable__label {cursor: pointer;display: block;width: 100%;margin-bottom: 0;padding: 0.3em;box-sizing: border-box;text-align: center;}#sk-container-id-1 label.sk-toggleable__label-arrow:before {content: \"▸\";float: left;margin-right: 0.25em;color: #696969;}#sk-container-id-1 label.sk-toggleable__label-arrow:hover:before {color: black;}#sk-container-id-1 div.sk-estimator:hover label.sk-toggleable__label-arrow:before {color: black;}#sk-container-id-1 div.sk-toggleable__content {max-height: 0;max-width: 0;overflow: hidden;text-align: left;background-color: #f0f8ff;}#sk-container-id-1 div.sk-toggleable__content pre {margin: 0.2em;color: black;border-radius: 0.25em;background-color: #f0f8ff;}#sk-container-id-1 input.sk-toggleable__control:checked~div.sk-toggleable__content {max-height: 200px;max-width: 100%;overflow: auto;}#sk-container-id-1 input.sk-toggleable__control:checked~label.sk-toggleable__label-arrow:before {content: \"▾\";}#sk-container-id-1 div.sk-estimator input.sk-toggleable__control:checked~label.sk-toggleable__label {background-color: #d4ebff;}#sk-container-id-1 div.sk-label input.sk-toggleable__control:checked~label.sk-toggleable__label {background-color: #d4ebff;}#sk-container-id-1 input.sk-hidden--visually {border: 0;clip: rect(1px 1px 1px 1px);clip: rect(1px, 1px, 1px, 1px);height: 1px;margin: -1px;overflow: hidden;padding: 0;position: absolute;width: 1px;}#sk-container-id-1 div.sk-estimator {font-family: monospace;background-color: #f0f8ff;border: 1px dotted black;border-radius: 0.25em;box-sizing: border-box;margin-bottom: 0.5em;}#sk-container-id-1 div.sk-estimator:hover {background-color: #d4ebff;}#sk-container-id-1 div.sk-parallel-item::after {content: \"\";width: 100%;border-bottom: 1px solid gray;flex-grow: 1;}#sk-container-id-1 div.sk-label:hover label.sk-toggleable__label {background-color: #d4ebff;}#sk-container-id-1 div.sk-serial::before {content: \"\";position: absolute;border-left: 1px solid gray;box-sizing: border-box;top: 0;bottom: 0;left: 50%;z-index: 0;}#sk-container-id-1 div.sk-serial {display: flex;flex-direction: column;align-items: center;background-color: white;padding-right: 0.2em;padding-left: 0.2em;position: relative;}#sk-container-id-1 div.sk-item {position: relative;z-index: 1;}#sk-container-id-1 div.sk-parallel {display: flex;align-items: stretch;justify-content: center;background-color: white;position: relative;}#sk-container-id-1 div.sk-item::before, #sk-container-id-1 div.sk-parallel-item::before {content: \"\";position: absolute;border-left: 1px solid gray;box-sizing: border-box;top: 0;bottom: 0;left: 50%;z-index: -1;}#sk-container-id-1 div.sk-parallel-item {display: flex;flex-direction: column;z-index: 1;position: relative;background-color: white;}#sk-container-id-1 div.sk-parallel-item:first-child::after {align-self: flex-end;width: 50%;}#sk-container-id-1 div.sk-parallel-item:last-child::after {align-self: flex-start;width: 50%;}#sk-container-id-1 div.sk-parallel-item:only-child::after {width: 0;}#sk-container-id-1 div.sk-dashed-wrapped {border: 1px dashed gray;margin: 0 0.4em 0.5em 0.4em;box-sizing: border-box;padding-bottom: 0.4em;background-color: white;}#sk-container-id-1 div.sk-label label {font-family: monospace;font-weight: bold;display: inline-block;line-height: 1.2em;}#sk-container-id-1 div.sk-label-container {text-align: center;}#sk-container-id-1 div.sk-container {/* jupyter's `normalize.less` sets `[hidden] { display: none; }` but bootstrap.min.css set `[hidden] { display: none !important; }` so we also need the `!important` here to be able to override the default hidden behavior on the sphinx rendered scikit-learn.org. See: https://github.com/scikit-learn/scikit-learn/issues/21755 */display: inline-block !important;position: relative;}#sk-container-id-1 div.sk-text-repr-fallback {display: none;}</style><div id=\"sk-container-id-1\" class=\"sk-top-container\"><div class=\"sk-text-repr-fallback\"><pre>XGBClassifier(base_score=None, booster=None, callbacks=None,\n",
              "              colsample_bylevel=None, colsample_bynode=None,\n",
              "              colsample_bytree=None, device=None, early_stopping_rounds=None,\n",
              "              enable_categorical=False, eval_metric=None, feature_types=None,\n",
              "              gamma=None, grow_policy=None, importance_type=None,\n",
              "              interaction_constraints=None, learning_rate=None, max_bin=None,\n",
              "              max_cat_threshold=None, max_cat_to_onehot=None,\n",
              "              max_delta_step=None, max_depth=None, max_leaves=None,\n",
              "              min_child_weight=None, missing=nan, monotone_constraints=None,\n",
              "              multi_strategy=None, n_estimators=None, n_jobs=None,\n",
              "              num_parallel_tree=None, objective=&#x27;multi:softprob&#x27;, ...)</pre><b>In a Jupyter environment, please rerun this cell to show the HTML representation or trust the notebook. <br />On GitHub, the HTML representation is unable to render, please try loading this page with nbviewer.org.</b></div><div class=\"sk-container\" hidden><div class=\"sk-item\"><div class=\"sk-estimator sk-toggleable\"><input class=\"sk-toggleable__control sk-hidden--visually\" id=\"sk-estimator-id-1\" type=\"checkbox\" checked><label for=\"sk-estimator-id-1\" class=\"sk-toggleable__label sk-toggleable__label-arrow\">XGBClassifier</label><div class=\"sk-toggleable__content\"><pre>XGBClassifier(base_score=None, booster=None, callbacks=None,\n",
              "              colsample_bylevel=None, colsample_bynode=None,\n",
              "              colsample_bytree=None, device=None, early_stopping_rounds=None,\n",
              "              enable_categorical=False, eval_metric=None, feature_types=None,\n",
              "              gamma=None, grow_policy=None, importance_type=None,\n",
              "              interaction_constraints=None, learning_rate=None, max_bin=None,\n",
              "              max_cat_threshold=None, max_cat_to_onehot=None,\n",
              "              max_delta_step=None, max_depth=None, max_leaves=None,\n",
              "              min_child_weight=None, missing=nan, monotone_constraints=None,\n",
              "              multi_strategy=None, n_estimators=None, n_jobs=None,\n",
              "              num_parallel_tree=None, objective=&#x27;multi:softprob&#x27;, ...)</pre></div></div></div></div></div>"
            ],
            "text/plain": [
              "XGBClassifier(base_score=None, booster=None, callbacks=None,\n",
              "              colsample_bylevel=None, colsample_bynode=None,\n",
              "              colsample_bytree=None, device=None, early_stopping_rounds=None,\n",
              "              enable_categorical=False, eval_metric=None, feature_types=None,\n",
              "              gamma=None, grow_policy=None, importance_type=None,\n",
              "              interaction_constraints=None, learning_rate=None, max_bin=None,\n",
              "              max_cat_threshold=None, max_cat_to_onehot=None,\n",
              "              max_delta_step=None, max_depth=None, max_leaves=None,\n",
              "              min_child_weight=None, missing=nan, monotone_constraints=None,\n",
              "              multi_strategy=None, n_estimators=None, n_jobs=None,\n",
              "              num_parallel_tree=None, objective='multi:softprob', ...)"
            ]
          },
          "execution_count": 14,
          "metadata": {},
          "output_type": "execute_result"
        }
      ],
      "source": [
        "from xgboost import XGBClassifier\n",
        "\n",
        "model = XGBClassifier()\n",
        "model.fit(X_train, y_train)"
      ]
    },
    {
      "cell_type": "code",
      "execution_count": 15,
      "metadata": {
        "colab": {
          "base_uri": "https://localhost:8080/"
        },
        "id": "VsoSPaK4ZTmM",
        "outputId": "adbe7383-235d-4f5d-b442-9c9e988a4966"
      },
      "outputs": [
        {
          "name": "stdout",
          "output_type": "stream",
          "text": [
            "Accuracy: 0.47540983606557374\n"
          ]
        }
      ],
      "source": [
        "from sklearn.metrics import accuracy_score\n",
        "\n",
        "y_pred = model.predict(X_test)\n",
        "accuracy = accuracy_score(y_test, y_pred)\n",
        "print(\"Accuracy:\", accuracy)\n"
      ]
    },
    {
      "cell_type": "markdown",
      "metadata": {
        "id": "WFnt6TGPL3lI"
      },
      "source": [
        "# Task 4: Hyperparameter Tuning\n",
        "1. Experiment with hyperparameter tuning to improve model performance.\n",
        "2. Adjust hyperparameters such as learning_rate, n_estimators, max_depth, etc.\n",
        "3. Use techniques like cross-validation to find optimal hyperparameters.\n",
        "4. Train and evaluate the model with the tuned hyperparameters."
      ]
    },
    {
      "cell_type": "code",
      "execution_count": 16,
      "metadata": {
        "colab": {
          "base_uri": "https://localhost:8080/"
        },
        "id": "nTKRJpnzL9n6",
        "outputId": "cc70f33e-6398-41a3-fa25-4f2be2745171"
      },
      "outputs": [
        {
          "name": "stdout",
          "output_type": "stream",
          "text": [
            "Fitting 3 folds for each of 27 candidates, totalling 81 fits\n",
            "Migliori parametri: {'learning_rate': 0.1, 'max_depth': 3, 'n_estimators': 100}\n"
          ]
        }
      ],
      "source": [
        "# insert code here\n",
        "from sklearn.model_selection import GridSearchCV\n",
        "\n",
        "# Definisci un dizionario degli iperparametri da testare\n",
        "param_grid = {\n",
        "    'n_estimators': [100, 200, 300],\n",
        "    'learning_rate': [0.01, 0.1, 0.2],\n",
        "    'max_depth': [3, 4, 5]\n",
        "}\n",
        "\n",
        "# Crea il modello XGBoost\n",
        "xgb_model = XGBClassifier()\n",
        "\n",
        "# Crea l'oggetto GridSearchCV\n",
        "grid_search = GridSearchCV(estimator=xgb_model, param_grid=param_grid, cv=3, n_jobs=-1, verbose=2)\n",
        "\n",
        "# Addestra il modello\n",
        "grid_search.fit(X_train, y_train)\n",
        "\n",
        "# Stampa i migliori parametri\n",
        "print(\"Migliori parametri:\", grid_search.best_params_)\n"
      ]
    },
    {
      "cell_type": "code",
      "execution_count": 17,
      "metadata": {
        "colab": {
          "base_uri": "https://localhost:8080/"
        },
        "id": "yv6OB8rY-f6W",
        "outputId": "554a4e2a-2ba6-4a6d-faca-0f64baa112ca"
      },
      "outputs": [
        {
          "data": {
            "text/plain": [
              "0.5081967213114754"
            ]
          },
          "execution_count": 17,
          "metadata": {},
          "output_type": "execute_result"
        }
      ],
      "source": [
        "from xgboost import XGBClassifier\n",
        "from sklearn.metrics import accuracy_score\n",
        "\n",
        "# Crea un nuovo modello XGBoost con i migliori parametri\n",
        "best_xgb_model = XGBClassifier(learning_rate=0.1, max_depth=3, n_estimators=100)\n",
        "\n",
        "# Addestra il modello sul set di addestramento\n",
        "best_xgb_model.fit(X_train, y_train)\n",
        "\n",
        "# Effettua previsioni sul set di test\n",
        "y_pred = best_xgb_model.predict(X_test)\n",
        "\n",
        "# Calcola l'accuratezza del modello\n",
        "accuracy = accuracy_score(y_test, y_pred)\n",
        "accuracy\n"
      ]
    },
    {
      "cell_type": "code",
      "execution_count": 18,
      "metadata": {
        "colab": {
          "base_uri": "https://localhost:8080/"
        },
        "id": "6ZH_GQrhCPhR",
        "outputId": "cad52fc3-d842-448a-c7cc-aea5b27b58bb"
      },
      "outputs": [
        {
          "name": "stdout",
          "output_type": "stream",
          "text": [
            "Fitting 10 folds for each of 27 candidates, totalling 270 fits\n",
            "[CV] END ..learning_rate=0.01, max_depth=3, n_estimators=100; total time=   0.1s\n"
          ]
        },
        {
          "name": "stderr",
          "output_type": "stream",
          "text": [
            "/usr/local/lib/python3.10/dist-packages/sklearn/model_selection/_split.py:700: UserWarning: The least populated class in y has only 9 members, which is less than n_splits=10.\n",
            "  warnings.warn(\n"
          ]
        },
        {
          "name": "stdout",
          "output_type": "stream",
          "text": [
            "[CV] END ..learning_rate=0.01, max_depth=3, n_estimators=100; total time=   0.1s\n",
            "[CV] END ..learning_rate=0.01, max_depth=3, n_estimators=100; total time=   0.1s\n",
            "[CV] END ..learning_rate=0.01, max_depth=3, n_estimators=100; total time=   0.1s\n",
            "[CV] END ..learning_rate=0.01, max_depth=3, n_estimators=100; total time=   0.1s\n",
            "[CV] END ..learning_rate=0.01, max_depth=3, n_estimators=100; total time=   0.1s\n",
            "[CV] END ..learning_rate=0.01, max_depth=3, n_estimators=100; total time=   0.1s\n",
            "[CV] END ..learning_rate=0.01, max_depth=3, n_estimators=100; total time=   0.1s\n",
            "[CV] END ..learning_rate=0.01, max_depth=3, n_estimators=100; total time=   0.1s\n",
            "[CV] END ..learning_rate=0.01, max_depth=3, n_estimators=100; total time=   0.1s\n",
            "[CV] END ..learning_rate=0.01, max_depth=3, n_estimators=200; total time=   0.2s\n",
            "[CV] END ..learning_rate=0.01, max_depth=3, n_estimators=200; total time=   0.2s\n",
            "[CV] END ..learning_rate=0.01, max_depth=3, n_estimators=200; total time=   0.2s\n",
            "[CV] END ..learning_rate=0.01, max_depth=3, n_estimators=200; total time=   0.2s\n",
            "[CV] END ..learning_rate=0.01, max_depth=3, n_estimators=200; total time=   0.2s\n",
            "[CV] END ..learning_rate=0.01, max_depth=3, n_estimators=200; total time=   0.7s\n",
            "[CV] END ..learning_rate=0.01, max_depth=3, n_estimators=200; total time=   1.3s\n",
            "[CV] END ..learning_rate=0.01, max_depth=3, n_estimators=200; total time=   1.0s\n",
            "[CV] END ..learning_rate=0.01, max_depth=3, n_estimators=200; total time=   0.7s\n",
            "[CV] END ..learning_rate=0.01, max_depth=3, n_estimators=200; total time=   0.6s\n",
            "[CV] END ..learning_rate=0.01, max_depth=3, n_estimators=300; total time=   0.3s\n",
            "[CV] END ..learning_rate=0.01, max_depth=3, n_estimators=300; total time=   0.3s\n",
            "[CV] END ..learning_rate=0.01, max_depth=3, n_estimators=300; total time=   0.3s\n",
            "[CV] END ..learning_rate=0.01, max_depth=3, n_estimators=300; total time=   0.3s\n",
            "[CV] END ..learning_rate=0.01, max_depth=3, n_estimators=300; total time=   0.3s\n",
            "[CV] END ..learning_rate=0.01, max_depth=3, n_estimators=300; total time=   0.3s\n",
            "[CV] END ..learning_rate=0.01, max_depth=3, n_estimators=300; total time=   0.3s\n",
            "[CV] END ..learning_rate=0.01, max_depth=3, n_estimators=300; total time=   0.3s\n",
            "[CV] END ..learning_rate=0.01, max_depth=3, n_estimators=300; total time=   0.3s\n",
            "[CV] END ..learning_rate=0.01, max_depth=3, n_estimators=300; total time=   0.3s\n",
            "[CV] END ..learning_rate=0.01, max_depth=4, n_estimators=100; total time=   0.2s\n",
            "[CV] END ..learning_rate=0.01, max_depth=4, n_estimators=100; total time=   0.2s\n",
            "[CV] END ..learning_rate=0.01, max_depth=4, n_estimators=100; total time=   0.1s\n",
            "[CV] END ..learning_rate=0.01, max_depth=4, n_estimators=100; total time=   0.1s\n",
            "[CV] END ..learning_rate=0.01, max_depth=4, n_estimators=100; total time=   0.1s\n",
            "[CV] END ..learning_rate=0.01, max_depth=4, n_estimators=100; total time=   0.1s\n",
            "[CV] END ..learning_rate=0.01, max_depth=4, n_estimators=100; total time=   0.2s\n",
            "[CV] END ..learning_rate=0.01, max_depth=4, n_estimators=100; total time=   0.1s\n",
            "[CV] END ..learning_rate=0.01, max_depth=4, n_estimators=100; total time=   0.2s\n",
            "[CV] END ..learning_rate=0.01, max_depth=4, n_estimators=100; total time=   0.2s\n",
            "[CV] END ..learning_rate=0.01, max_depth=4, n_estimators=200; total time=   0.3s\n",
            "[CV] END ..learning_rate=0.01, max_depth=4, n_estimators=200; total time=   0.3s\n",
            "[CV] END ..learning_rate=0.01, max_depth=4, n_estimators=200; total time=   0.3s\n",
            "[CV] END ..learning_rate=0.01, max_depth=4, n_estimators=200; total time=   0.3s\n",
            "[CV] END ..learning_rate=0.01, max_depth=4, n_estimators=200; total time=   0.3s\n",
            "[CV] END ..learning_rate=0.01, max_depth=4, n_estimators=200; total time=   0.3s\n",
            "[CV] END ..learning_rate=0.01, max_depth=4, n_estimators=200; total time=   0.3s\n",
            "[CV] END ..learning_rate=0.01, max_depth=4, n_estimators=200; total time=   0.3s\n",
            "[CV] END ..learning_rate=0.01, max_depth=4, n_estimators=200; total time=   0.6s\n",
            "[CV] END ..learning_rate=0.01, max_depth=4, n_estimators=200; total time=   1.2s\n",
            "[CV] END ..learning_rate=0.01, max_depth=4, n_estimators=300; total time=   1.8s\n",
            "[CV] END ..learning_rate=0.01, max_depth=4, n_estimators=300; total time=   1.6s\n",
            "[CV] END ..learning_rate=0.01, max_depth=4, n_estimators=300; total time=   1.2s\n",
            "[CV] END ..learning_rate=0.01, max_depth=4, n_estimators=300; total time=   1.7s\n",
            "[CV] END ..learning_rate=0.01, max_depth=4, n_estimators=300; total time=   0.8s\n",
            "[CV] END ..learning_rate=0.01, max_depth=4, n_estimators=300; total time=   0.4s\n",
            "[CV] END ..learning_rate=0.01, max_depth=4, n_estimators=300; total time=   0.4s\n",
            "[CV] END ..learning_rate=0.01, max_depth=4, n_estimators=300; total time=   0.4s\n",
            "[CV] END ..learning_rate=0.01, max_depth=4, n_estimators=300; total time=   0.4s\n",
            "[CV] END ..learning_rate=0.01, max_depth=4, n_estimators=300; total time=   0.4s\n",
            "[CV] END ..learning_rate=0.01, max_depth=5, n_estimators=100; total time=   0.2s\n",
            "[CV] END ..learning_rate=0.01, max_depth=5, n_estimators=100; total time=   0.2s\n",
            "[CV] END ..learning_rate=0.01, max_depth=5, n_estimators=100; total time=   0.2s\n",
            "[CV] END ..learning_rate=0.01, max_depth=5, n_estimators=100; total time=   0.2s\n",
            "[CV] END ..learning_rate=0.01, max_depth=5, n_estimators=100; total time=   0.2s\n",
            "[CV] END ..learning_rate=0.01, max_depth=5, n_estimators=100; total time=   0.2s\n",
            "[CV] END ..learning_rate=0.01, max_depth=5, n_estimators=100; total time=   0.2s\n",
            "[CV] END ..learning_rate=0.01, max_depth=5, n_estimators=100; total time=   0.2s\n",
            "[CV] END ..learning_rate=0.01, max_depth=5, n_estimators=100; total time=   0.2s\n",
            "[CV] END ..learning_rate=0.01, max_depth=5, n_estimators=100; total time=   0.2s\n",
            "[CV] END ..learning_rate=0.01, max_depth=5, n_estimators=200; total time=   0.3s\n",
            "[CV] END ..learning_rate=0.01, max_depth=5, n_estimators=200; total time=   0.3s\n",
            "[CV] END ..learning_rate=0.01, max_depth=5, n_estimators=200; total time=   0.3s\n",
            "[CV] END ..learning_rate=0.01, max_depth=5, n_estimators=200; total time=   0.3s\n",
            "[CV] END ..learning_rate=0.01, max_depth=5, n_estimators=200; total time=   0.3s\n",
            "[CV] END ..learning_rate=0.01, max_depth=5, n_estimators=200; total time=   0.3s\n",
            "[CV] END ..learning_rate=0.01, max_depth=5, n_estimators=200; total time=   0.3s\n",
            "[CV] END ..learning_rate=0.01, max_depth=5, n_estimators=200; total time=   0.3s\n",
            "[CV] END ..learning_rate=0.01, max_depth=5, n_estimators=200; total time=   0.3s\n",
            "[CV] END ..learning_rate=0.01, max_depth=5, n_estimators=200; total time=   0.3s\n",
            "[CV] END ..learning_rate=0.01, max_depth=5, n_estimators=300; total time=   0.5s\n",
            "[CV] END ..learning_rate=0.01, max_depth=5, n_estimators=300; total time=   0.5s\n",
            "[CV] END ..learning_rate=0.01, max_depth=5, n_estimators=300; total time=   0.5s\n",
            "[CV] END ..learning_rate=0.01, max_depth=5, n_estimators=300; total time=   0.5s\n",
            "[CV] END ..learning_rate=0.01, max_depth=5, n_estimators=300; total time=   0.5s\n",
            "[CV] END ..learning_rate=0.01, max_depth=5, n_estimators=300; total time=   0.5s\n",
            "[CV] END ..learning_rate=0.01, max_depth=5, n_estimators=300; total time=   2.1s\n",
            "[CV] END ..learning_rate=0.01, max_depth=5, n_estimators=300; total time=   2.1s\n",
            "[CV] END ..learning_rate=0.01, max_depth=5, n_estimators=300; total time=   0.5s\n",
            "[CV] END ..learning_rate=0.01, max_depth=5, n_estimators=300; total time=   0.5s\n",
            "[CV] END ...learning_rate=0.1, max_depth=3, n_estimators=100; total time=   0.1s\n",
            "[CV] END ...learning_rate=0.1, max_depth=3, n_estimators=100; total time=   0.1s\n",
            "[CV] END ...learning_rate=0.1, max_depth=3, n_estimators=100; total time=   0.1s\n",
            "[CV] END ...learning_rate=0.1, max_depth=3, n_estimators=100; total time=   0.1s\n",
            "[CV] END ...learning_rate=0.1, max_depth=3, n_estimators=100; total time=   0.1s\n",
            "[CV] END ...learning_rate=0.1, max_depth=3, n_estimators=100; total time=   0.1s\n",
            "[CV] END ...learning_rate=0.1, max_depth=3, n_estimators=100; total time=   0.1s\n",
            "[CV] END ...learning_rate=0.1, max_depth=3, n_estimators=100; total time=   0.1s\n",
            "[CV] END ...learning_rate=0.1, max_depth=3, n_estimators=100; total time=   0.1s\n",
            "[CV] END ...learning_rate=0.1, max_depth=3, n_estimators=100; total time=   0.1s\n",
            "[CV] END ...learning_rate=0.1, max_depth=3, n_estimators=200; total time=   0.2s\n",
            "[CV] END ...learning_rate=0.1, max_depth=3, n_estimators=200; total time=   0.2s\n",
            "[CV] END ...learning_rate=0.1, max_depth=3, n_estimators=200; total time=   0.2s\n",
            "[CV] END ...learning_rate=0.1, max_depth=3, n_estimators=200; total time=   0.2s\n",
            "[CV] END ...learning_rate=0.1, max_depth=3, n_estimators=200; total time=   0.2s\n",
            "[CV] END ...learning_rate=0.1, max_depth=3, n_estimators=200; total time=   0.2s\n",
            "[CV] END ...learning_rate=0.1, max_depth=3, n_estimators=200; total time=   0.2s\n",
            "[CV] END ...learning_rate=0.1, max_depth=3, n_estimators=200; total time=   0.2s\n",
            "[CV] END ...learning_rate=0.1, max_depth=3, n_estimators=200; total time=   0.2s\n",
            "[CV] END ...learning_rate=0.1, max_depth=3, n_estimators=200; total time=   0.2s\n",
            "[CV] END ...learning_rate=0.1, max_depth=3, n_estimators=300; total time=   0.3s\n",
            "[CV] END ...learning_rate=0.1, max_depth=3, n_estimators=300; total time=   0.3s\n",
            "[CV] END ...learning_rate=0.1, max_depth=3, n_estimators=300; total time=   0.3s\n",
            "[CV] END ...learning_rate=0.1, max_depth=3, n_estimators=300; total time=   0.3s\n",
            "[CV] END ...learning_rate=0.1, max_depth=3, n_estimators=300; total time=   0.3s\n",
            "[CV] END ...learning_rate=0.1, max_depth=3, n_estimators=300; total time=   0.3s\n",
            "[CV] END ...learning_rate=0.1, max_depth=3, n_estimators=300; total time=   0.3s\n",
            "[CV] END ...learning_rate=0.1, max_depth=3, n_estimators=300; total time=   0.3s\n",
            "[CV] END ...learning_rate=0.1, max_depth=3, n_estimators=300; total time=   0.3s\n",
            "[CV] END ...learning_rate=0.1, max_depth=3, n_estimators=300; total time=   0.3s\n",
            "[CV] END ...learning_rate=0.1, max_depth=4, n_estimators=100; total time=   0.1s\n",
            "[CV] END ...learning_rate=0.1, max_depth=4, n_estimators=100; total time=   0.1s\n",
            "[CV] END ...learning_rate=0.1, max_depth=4, n_estimators=100; total time=   0.1s\n",
            "[CV] END ...learning_rate=0.1, max_depth=4, n_estimators=100; total time=   0.2s\n",
            "[CV] END ...learning_rate=0.1, max_depth=4, n_estimators=100; total time=   0.1s\n",
            "[CV] END ...learning_rate=0.1, max_depth=4, n_estimators=100; total time=   0.1s\n",
            "[CV] END ...learning_rate=0.1, max_depth=4, n_estimators=100; total time=   0.1s\n",
            "[CV] END ...learning_rate=0.1, max_depth=4, n_estimators=100; total time=   0.1s\n",
            "[CV] END ...learning_rate=0.1, max_depth=4, n_estimators=100; total time=   0.1s\n",
            "[CV] END ...learning_rate=0.1, max_depth=4, n_estimators=100; total time=   0.1s\n",
            "[CV] END ...learning_rate=0.1, max_depth=4, n_estimators=200; total time=   0.2s\n",
            "[CV] END ...learning_rate=0.1, max_depth=4, n_estimators=200; total time=   0.2s\n",
            "[CV] END ...learning_rate=0.1, max_depth=4, n_estimators=200; total time=   0.2s\n",
            "[CV] END ...learning_rate=0.1, max_depth=4, n_estimators=200; total time=   0.2s\n",
            "[CV] END ...learning_rate=0.1, max_depth=4, n_estimators=200; total time=   0.2s\n",
            "[CV] END ...learning_rate=0.1, max_depth=4, n_estimators=200; total time=   0.2s\n",
            "[CV] END ...learning_rate=0.1, max_depth=4, n_estimators=200; total time=   0.2s\n",
            "[CV] END ...learning_rate=0.1, max_depth=4, n_estimators=200; total time=   0.3s\n",
            "[CV] END ...learning_rate=0.1, max_depth=4, n_estimators=200; total time=   1.2s\n",
            "[CV] END ...learning_rate=0.1, max_depth=4, n_estimators=200; total time=   0.9s\n",
            "[CV] END ...learning_rate=0.1, max_depth=4, n_estimators=300; total time=   1.7s\n",
            "[CV] END ...learning_rate=0.1, max_depth=4, n_estimators=300; total time=   0.4s\n",
            "[CV] END ...learning_rate=0.1, max_depth=4, n_estimators=300; total time=   0.3s\n",
            "[CV] END ...learning_rate=0.1, max_depth=4, n_estimators=300; total time=   0.3s\n",
            "[CV] END ...learning_rate=0.1, max_depth=4, n_estimators=300; total time=   0.3s\n",
            "[CV] END ...learning_rate=0.1, max_depth=4, n_estimators=300; total time=   0.3s\n",
            "[CV] END ...learning_rate=0.1, max_depth=4, n_estimators=300; total time=   0.3s\n",
            "[CV] END ...learning_rate=0.1, max_depth=4, n_estimators=300; total time=   0.3s\n",
            "[CV] END ...learning_rate=0.1, max_depth=4, n_estimators=300; total time=   0.3s\n",
            "[CV] END ...learning_rate=0.1, max_depth=4, n_estimators=300; total time=   0.3s\n",
            "[CV] END ...learning_rate=0.1, max_depth=5, n_estimators=100; total time=   0.1s\n",
            "[CV] END ...learning_rate=0.1, max_depth=5, n_estimators=100; total time=   0.1s\n",
            "[CV] END ...learning_rate=0.1, max_depth=5, n_estimators=100; total time=   0.1s\n",
            "[CV] END ...learning_rate=0.1, max_depth=5, n_estimators=100; total time=   0.1s\n",
            "[CV] END ...learning_rate=0.1, max_depth=5, n_estimators=100; total time=   0.1s\n",
            "[CV] END ...learning_rate=0.1, max_depth=5, n_estimators=100; total time=   0.2s\n",
            "[CV] END ...learning_rate=0.1, max_depth=5, n_estimators=100; total time=   0.2s\n",
            "[CV] END ...learning_rate=0.1, max_depth=5, n_estimators=100; total time=   0.1s\n",
            "[CV] END ...learning_rate=0.1, max_depth=5, n_estimators=100; total time=   0.1s\n",
            "[CV] END ...learning_rate=0.1, max_depth=5, n_estimators=100; total time=   0.1s\n",
            "[CV] END ...learning_rate=0.1, max_depth=5, n_estimators=200; total time=   0.2s\n",
            "[CV] END ...learning_rate=0.1, max_depth=5, n_estimators=200; total time=   0.2s\n",
            "[CV] END ...learning_rate=0.1, max_depth=5, n_estimators=200; total time=   0.3s\n",
            "[CV] END ...learning_rate=0.1, max_depth=5, n_estimators=200; total time=   0.2s\n",
            "[CV] END ...learning_rate=0.1, max_depth=5, n_estimators=200; total time=   0.2s\n",
            "[CV] END ...learning_rate=0.1, max_depth=5, n_estimators=200; total time=   0.2s\n",
            "[CV] END ...learning_rate=0.1, max_depth=5, n_estimators=200; total time=   0.3s\n",
            "[CV] END ...learning_rate=0.1, max_depth=5, n_estimators=200; total time=   0.2s\n",
            "[CV] END ...learning_rate=0.1, max_depth=5, n_estimators=200; total time=   0.2s\n",
            "[CV] END ...learning_rate=0.1, max_depth=5, n_estimators=200; total time=   0.2s\n",
            "[CV] END ...learning_rate=0.1, max_depth=5, n_estimators=300; total time=   0.3s\n",
            "[CV] END ...learning_rate=0.1, max_depth=5, n_estimators=300; total time=   0.3s\n",
            "[CV] END ...learning_rate=0.1, max_depth=5, n_estimators=300; total time=   0.3s\n",
            "[CV] END ...learning_rate=0.1, max_depth=5, n_estimators=300; total time=   0.3s\n",
            "[CV] END ...learning_rate=0.1, max_depth=5, n_estimators=300; total time=   0.3s\n",
            "[CV] END ...learning_rate=0.1, max_depth=5, n_estimators=300; total time=   0.3s\n",
            "[CV] END ...learning_rate=0.1, max_depth=5, n_estimators=300; total time=   0.3s\n",
            "[CV] END ...learning_rate=0.1, max_depth=5, n_estimators=300; total time=   0.3s\n",
            "[CV] END ...learning_rate=0.1, max_depth=5, n_estimators=300; total time=   0.3s\n",
            "[CV] END ...learning_rate=0.1, max_depth=5, n_estimators=300; total time=   0.3s\n",
            "[CV] END ...learning_rate=0.2, max_depth=3, n_estimators=100; total time=   0.1s\n",
            "[CV] END ...learning_rate=0.2, max_depth=3, n_estimators=100; total time=   0.3s\n",
            "[CV] END ...learning_rate=0.2, max_depth=3, n_estimators=100; total time=   0.2s\n",
            "[CV] END ...learning_rate=0.2, max_depth=3, n_estimators=100; total time=   1.4s\n",
            "[CV] END ...learning_rate=0.2, max_depth=3, n_estimators=100; total time=   0.3s\n",
            "[CV] END ...learning_rate=0.2, max_depth=3, n_estimators=100; total time=   1.1s\n",
            "[CV] END ...learning_rate=0.2, max_depth=3, n_estimators=100; total time=   1.0s\n",
            "[CV] END ...learning_rate=0.2, max_depth=3, n_estimators=100; total time=   0.1s\n",
            "[CV] END ...learning_rate=0.2, max_depth=3, n_estimators=100; total time=   0.1s\n",
            "[CV] END ...learning_rate=0.2, max_depth=3, n_estimators=100; total time=   0.1s\n",
            "[CV] END ...learning_rate=0.2, max_depth=3, n_estimators=200; total time=   0.2s\n",
            "[CV] END ...learning_rate=0.2, max_depth=3, n_estimators=200; total time=   0.2s\n",
            "[CV] END ...learning_rate=0.2, max_depth=3, n_estimators=200; total time=   0.2s\n",
            "[CV] END ...learning_rate=0.2, max_depth=3, n_estimators=200; total time=   0.2s\n",
            "[CV] END ...learning_rate=0.2, max_depth=3, n_estimators=200; total time=   0.2s\n",
            "[CV] END ...learning_rate=0.2, max_depth=3, n_estimators=200; total time=   0.2s\n",
            "[CV] END ...learning_rate=0.2, max_depth=3, n_estimators=200; total time=   0.2s\n",
            "[CV] END ...learning_rate=0.2, max_depth=3, n_estimators=200; total time=   0.2s\n",
            "[CV] END ...learning_rate=0.2, max_depth=3, n_estimators=200; total time=   0.2s\n",
            "[CV] END ...learning_rate=0.2, max_depth=3, n_estimators=200; total time=   0.2s\n",
            "[CV] END ...learning_rate=0.2, max_depth=3, n_estimators=300; total time=   0.3s\n",
            "[CV] END ...learning_rate=0.2, max_depth=3, n_estimators=300; total time=   0.3s\n",
            "[CV] END ...learning_rate=0.2, max_depth=3, n_estimators=300; total time=   0.3s\n",
            "[CV] END ...learning_rate=0.2, max_depth=3, n_estimators=300; total time=   0.2s\n",
            "[CV] END ...learning_rate=0.2, max_depth=3, n_estimators=300; total time=   0.2s\n",
            "[CV] END ...learning_rate=0.2, max_depth=3, n_estimators=300; total time=   0.2s\n",
            "[CV] END ...learning_rate=0.2, max_depth=3, n_estimators=300; total time=   0.3s\n",
            "[CV] END ...learning_rate=0.2, max_depth=3, n_estimators=300; total time=   0.2s\n",
            "[CV] END ...learning_rate=0.2, max_depth=3, n_estimators=300; total time=   0.2s\n",
            "[CV] END ...learning_rate=0.2, max_depth=3, n_estimators=300; total time=   0.3s\n",
            "[CV] END ...learning_rate=0.2, max_depth=4, n_estimators=100; total time=   0.1s\n",
            "[CV] END ...learning_rate=0.2, max_depth=4, n_estimators=100; total time=   0.1s\n",
            "[CV] END ...learning_rate=0.2, max_depth=4, n_estimators=100; total time=   0.1s\n",
            "[CV] END ...learning_rate=0.2, max_depth=4, n_estimators=100; total time=   0.1s\n",
            "[CV] END ...learning_rate=0.2, max_depth=4, n_estimators=100; total time=   0.1s\n",
            "[CV] END ...learning_rate=0.2, max_depth=4, n_estimators=100; total time=   0.1s\n",
            "[CV] END ...learning_rate=0.2, max_depth=4, n_estimators=100; total time=   0.1s\n",
            "[CV] END ...learning_rate=0.2, max_depth=4, n_estimators=100; total time=   0.1s\n",
            "[CV] END ...learning_rate=0.2, max_depth=4, n_estimators=100; total time=   0.1s\n",
            "[CV] END ...learning_rate=0.2, max_depth=4, n_estimators=100; total time=   0.1s\n",
            "[CV] END ...learning_rate=0.2, max_depth=4, n_estimators=200; total time=   0.2s\n",
            "[CV] END ...learning_rate=0.2, max_depth=4, n_estimators=200; total time=   0.2s\n",
            "[CV] END ...learning_rate=0.2, max_depth=4, n_estimators=200; total time=   0.2s\n",
            "[CV] END ...learning_rate=0.2, max_depth=4, n_estimators=200; total time=   0.2s\n",
            "[CV] END ...learning_rate=0.2, max_depth=4, n_estimators=200; total time=   0.2s\n",
            "[CV] END ...learning_rate=0.2, max_depth=4, n_estimators=200; total time=   0.2s\n",
            "[CV] END ...learning_rate=0.2, max_depth=4, n_estimators=200; total time=   0.2s\n",
            "[CV] END ...learning_rate=0.2, max_depth=4, n_estimators=200; total time=   0.2s\n",
            "[CV] END ...learning_rate=0.2, max_depth=4, n_estimators=200; total time=   0.2s\n",
            "[CV] END ...learning_rate=0.2, max_depth=4, n_estimators=200; total time=   0.2s\n",
            "[CV] END ...learning_rate=0.2, max_depth=4, n_estimators=300; total time=   0.3s\n",
            "[CV] END ...learning_rate=0.2, max_depth=4, n_estimators=300; total time=   0.2s\n",
            "[CV] END ...learning_rate=0.2, max_depth=4, n_estimators=300; total time=   0.3s\n",
            "[CV] END ...learning_rate=0.2, max_depth=4, n_estimators=300; total time=   0.3s\n",
            "[CV] END ...learning_rate=0.2, max_depth=4, n_estimators=300; total time=   0.3s\n",
            "[CV] END ...learning_rate=0.2, max_depth=4, n_estimators=300; total time=   0.3s\n",
            "[CV] END ...learning_rate=0.2, max_depth=4, n_estimators=300; total time=   0.4s\n",
            "[CV] END ...learning_rate=0.2, max_depth=4, n_estimators=300; total time=   1.7s\n",
            "[CV] END ...learning_rate=0.2, max_depth=4, n_estimators=300; total time=   1.1s\n",
            "[CV] END ...learning_rate=0.2, max_depth=4, n_estimators=300; total time=   0.8s\n",
            "[CV] END ...learning_rate=0.2, max_depth=5, n_estimators=100; total time=   0.3s\n",
            "[CV] END ...learning_rate=0.2, max_depth=5, n_estimators=100; total time=   0.1s\n",
            "[CV] END ...learning_rate=0.2, max_depth=5, n_estimators=100; total time=   0.1s\n",
            "[CV] END ...learning_rate=0.2, max_depth=5, n_estimators=100; total time=   0.1s\n",
            "[CV] END ...learning_rate=0.2, max_depth=5, n_estimators=100; total time=   0.1s\n",
            "[CV] END ...learning_rate=0.2, max_depth=5, n_estimators=100; total time=   0.1s\n",
            "[CV] END ...learning_rate=0.2, max_depth=5, n_estimators=100; total time=   0.1s\n",
            "[CV] END ...learning_rate=0.2, max_depth=5, n_estimators=100; total time=   0.1s\n",
            "[CV] END ...learning_rate=0.2, max_depth=5, n_estimators=100; total time=   0.1s\n",
            "[CV] END ...learning_rate=0.2, max_depth=5, n_estimators=100; total time=   0.1s\n",
            "[CV] END ...learning_rate=0.2, max_depth=5, n_estimators=200; total time=   0.2s\n",
            "[CV] END ...learning_rate=0.2, max_depth=5, n_estimators=200; total time=   0.2s\n",
            "[CV] END ...learning_rate=0.2, max_depth=5, n_estimators=200; total time=   0.2s\n",
            "[CV] END ...learning_rate=0.2, max_depth=5, n_estimators=200; total time=   0.2s\n",
            "[CV] END ...learning_rate=0.2, max_depth=5, n_estimators=200; total time=   0.2s\n",
            "[CV] END ...learning_rate=0.2, max_depth=5, n_estimators=200; total time=   0.2s\n",
            "[CV] END ...learning_rate=0.2, max_depth=5, n_estimators=200; total time=   0.2s\n",
            "[CV] END ...learning_rate=0.2, max_depth=5, n_estimators=200; total time=   0.2s\n",
            "[CV] END ...learning_rate=0.2, max_depth=5, n_estimators=200; total time=   0.2s\n",
            "[CV] END ...learning_rate=0.2, max_depth=5, n_estimators=200; total time=   0.2s\n",
            "[CV] END ...learning_rate=0.2, max_depth=5, n_estimators=300; total time=   0.3s\n",
            "[CV] END ...learning_rate=0.2, max_depth=5, n_estimators=300; total time=   0.3s\n",
            "[CV] END ...learning_rate=0.2, max_depth=5, n_estimators=300; total time=   0.3s\n",
            "[CV] END ...learning_rate=0.2, max_depth=5, n_estimators=300; total time=   0.3s\n",
            "[CV] END ...learning_rate=0.2, max_depth=5, n_estimators=300; total time=   0.3s\n",
            "[CV] END ...learning_rate=0.2, max_depth=5, n_estimators=300; total time=   0.3s\n",
            "[CV] END ...learning_rate=0.2, max_depth=5, n_estimators=300; total time=   0.3s\n",
            "[CV] END ...learning_rate=0.2, max_depth=5, n_estimators=300; total time=   0.3s\n",
            "[CV] END ...learning_rate=0.2, max_depth=5, n_estimators=300; total time=   0.3s\n",
            "[CV] END ...learning_rate=0.2, max_depth=5, n_estimators=300; total time=   0.3s\n"
          ]
        },
        {
          "data": {
            "text/plain": [
              "({'learning_rate': 0.01, 'max_depth': 3, 'n_estimators': 200},\n",
              " 0.5245901639344263)"
            ]
          },
          "execution_count": 18,
          "metadata": {},
          "output_type": "execute_result"
        }
      ],
      "source": [
        "from xgboost import XGBClassifier\n",
        "from sklearn.model_selection import GridSearchCV, StratifiedKFold\n",
        "from sklearn.metrics import make_scorer, accuracy_score\n",
        "\n",
        "# Define the hyperparameters grid to search\n",
        "param_grid = {\n",
        "    'learning_rate': [0.01, 0.1, 0.2],\n",
        "    'max_depth': [3, 4, 5],\n",
        "    'n_estimators': [100, 200, 300]\n",
        "}\n",
        "\n",
        "# Create a cross-validation strategy (Stratified K-Fold)\n",
        "cv = StratifiedKFold(n_splits=10, shuffle=True, random_state=42)\n",
        "\n",
        "# Create a custom scoring function (accuracy)\n",
        "scoring = make_scorer(accuracy_score)\n",
        "\n",
        "# Create the XGBoost model\n",
        "xgb_model = XGBClassifier()\n",
        "\n",
        "# Create the GridSearchCV object\n",
        "grid_search = GridSearchCV(estimator=xgb_model, param_grid=param_grid, scoring=scoring, cv=cv, verbose=2)\n",
        "\n",
        "# Perform the grid search\n",
        "grid_search.fit(X_train, y_train)\n",
        "\n",
        "# Get the best hyperparameters\n",
        "best_params = grid_search.best_params_\n",
        "\n",
        "# Train the model with the best hyperparameters\n",
        "best_xgb_model = XGBClassifier(**best_params)\n",
        "best_xgb_model.fit(X_train, y_train)\n",
        "\n",
        "# Evaluate the model on the test set\n",
        "y_pred = best_xgb_model.predict(X_test)\n",
        "accuracy = accuracy_score(y_test, y_pred)\n",
        "\n",
        "best_params, accuracy\n"
      ]
    },
    {
      "cell_type": "code",
      "execution_count": 19,
      "metadata": {
        "colab": {
          "base_uri": "https://localhost:8080/"
        },
        "id": "Ee91dwH_HkDM",
        "outputId": "9b96f473-a95b-454c-bd69-0e7fd1dd71c4"
      },
      "outputs": [
        {
          "data": {
            "text/plain": [
              "0.5245901639344263"
            ]
          },
          "execution_count": 19,
          "metadata": {},
          "output_type": "execute_result"
        }
      ],
      "source": [
        "from xgboost import XGBClassifier\n",
        "from sklearn.metrics import accuracy_score\n",
        "\n",
        "# Crea un nuovo modello XGBoost con gli iperparametri ottimizzati\n",
        "tuned_xgb_model = XGBClassifier(learning_rate=0.01, max_depth=3, n_estimators=200)\n",
        "\n",
        "# Addestra il modello sul set di addestramento\n",
        "tuned_xgb_model.fit(X_train, y_train)\n",
        "\n",
        "# Effettua previsioni sul set di test\n",
        "y_pred = tuned_xgb_model.predict(X_test)\n",
        "\n",
        "# Calcola l'accuratezza del modello con gli iperparametri ottimizzati\n",
        "accuracy = accuracy_score(y_test, y_pred)\n",
        "accuracy\n"
      ]
    },
    {
      "cell_type": "markdown",
      "metadata": {
        "id": "8Lumo2DCL_L9"
      },
      "source": [
        "# Task 5: Feature Importance\n",
        "1. Explore feature importance using the **feature_importances_** attribute of the trained XGBoost model.\n",
        "2. Identify the most important features for heart disease prediction."
      ]
    },
    {
      "cell_type": "code",
      "execution_count": 20,
      "metadata": {
        "colab": {
          "base_uri": "https://localhost:8080/",
          "height": 607
        },
        "id": "GbH5D_YHMGav",
        "outputId": "69bc3991-3e2a-45ed-8173-7fe1957ba373"
      },
      "outputs": [
        {
          "data": {
            "image/png": "[encoded data removed]",
            "text/plain": [
              "<Figure size 1000x600 with 1 Axes>"
            ]
          },
          "metadata": {},
          "output_type": "display_data"
        }
      ],
      "source": [
        "# insert code here\n",
        "import matplotlib.pyplot as plt\n",
        "\n",
        "# Get feature importances from the trained model\n",
        "feature_importance = tuned_xgb_model.feature_importances_\n",
        "\n",
        "# Get the names of the features\n",
        "feature_names = X_train.columns\n",
        "\n",
        "# Sort features by importance in descending order\n",
        "sorted_idx = feature_importance.argsort()[::-1]\n",
        "\n",
        "# Plot the top N feature importances\n",
        "top_n = 10  # You can adjust this to show the top N features\n",
        "plt.figure(figsize=(10, 6))\n",
        "plt.bar(range(top_n), feature_importance[sorted_idx][:top_n], align=\"center\")\n",
        "plt.xticks(range(top_n), feature_names[sorted_idx][:top_n], rotation=45, ha=\"right\")\n",
        "plt.xlabel(\"Feature\")\n",
        "plt.ylabel(\"Feature Importance\")\n",
        "plt.title(\"Top {} Feature Importances\".format(top_n))\n",
        "plt.tight_layout()\n",
        "plt.show()\n"
      ]
    },
    {
      "cell_type": "code",
      "execution_count": 21,
      "metadata": {
        "colab": {
          "base_uri": "https://localhost:8080/"
        },
        "id": "G1bDuQQdD54w",
        "outputId": "e2db6717-ad07-484f-f0b5-618700c25b5f"
      },
      "outputs": [
        {
          "name": "stdout",
          "output_type": "stream",
          "text": [
            "    Feature  Importance\n",
            "2        cp    0.213409\n",
            "12     thal    0.128003\n",
            "11       ca    0.126202\n",
            "10    slope    0.073833\n",
            "1       sex    0.069405\n",
            "8     exang    0.065163\n",
            "9   oldpeak    0.060877\n",
            "7   thalach    0.056837\n",
            "4      chol    0.053277\n",
            "5       fbs    0.052227\n"
          ]
        }
      ],
      "source": [
        "# Get feature importances from the trained model\n",
        "feature_importance = tuned_xgb_model.feature_importances_\n",
        "\n",
        "# Get the names of the features\n",
        "feature_names = X_train.columns\n",
        "\n",
        "# Create a DataFrame to store feature importances with corresponding feature names\n",
        "feature_importance_df = pd.DataFrame({'Feature': feature_names, 'Importance': feature_importance})\n",
        "\n",
        "# Sort the DataFrame by importance in descending order\n",
        "feature_importance_df = feature_importance_df.sort_values(by='Importance', ascending=False)\n",
        "\n",
        "# Display the top N most important features\n",
        "top_n = 10  # You can adjust this to show the top N features\n",
        "top_features = feature_importance_df.head(top_n)\n",
        "print(top_features)\n"
      ]
    },
    {
      "cell_type": "markdown",
      "metadata": {
        "id": "JiAL2L9LMFpL"
      },
      "source": [
        "# Task 6: Model Evaluation\n",
        "1. Compare the performance metrics of the initial model and the tuned model.\n",
        "2. Visualize the improvement achieved in a clear and concise manner.\n",
        "3. Discuss the impact of hyperparameter tuning and feature importance on model performance."
      ]
    },
    {
      "cell_type": "code",
      "execution_count": 34,
      "metadata": {
        "colab": {
          "base_uri": "https://localhost:8080/"
        },
        "id": "PpqMJ4bBMNRa",
        "outputId": "b1afaf54-a9fa-4827-87af-2e71ac150377"
      },
      "outputs": [
        {
          "name": "stdout",
          "output_type": "stream",
          "text": [
            "Initial Model:\n",
            "Accuracy: 0.47540983606557374\n",
            "Precision: 0.4074011571841851\n",
            "Recall: 0.47540983606557374\n",
            "F1 Score: 0.4387635756056809\n",
            "\n",
            "Tuned Model:\n",
            "Accuracy: 0.5245901639344263\n",
            "Precision: 0.42877480586712685\n",
            "Recall: 0.5245901639344263\n",
            "F1 Score: 0.462339479724513\n"
          ]
        },
        {
          "name": "stderr",
          "output_type": "stream",
          "text": [
            "/usr/local/lib/python3.10/dist-packages/sklearn/metrics/_classification.py:1344: UndefinedMetricWarning: Precision is ill-defined and being set to 0.0 in labels with no predicted samples. Use `zero_division` parameter to control this behavior.\n",
            "  _warn_prf(average, modifier, msg_start, len(result))\n"
          ]
        }
      ],
      "source": [
        "# insert code here\n",
        "from sklearn.metrics import accuracy_score, precision_score, recall_score, f1_score\n",
        "\n",
        "# Initial XGBoost model\n",
        "initial_xgb_model = XGBClassifier()  # Using default hyperparameters\n",
        "initial_xgb_model.fit(X_train, y_train)\n",
        "y_pred_initial = initial_xgb_model.predict(X_test)\n",
        "\n",
        "# Calculate performance metrics for the initial model\n",
        "accuracy_initial = accuracy_score(y_test, y_pred_initial)\n",
        "precision_initial = precision_score(y_test, y_pred_initial,average='weighted')\n",
        "recall_initial = recall_score(y_test, y_pred_initial,average='weighted')\n",
        "f1_score_initial = f1_score(y_test, y_pred_initial,average='weighted')\n",
        "\n",
        "# Calculate performance metrics for the tuned model\n",
        "y_pred_tuned = tuned_xgb_model.predict(X_test)\n",
        "accuracy_tuned = accuracy_score(y_test, y_pred_tuned)\n",
        "precision_tuned = precision_score(y_test, y_pred_tuned,average='weighted')\n",
        "recall_tuned = recall_score(y_test, y_pred_tuned,average='weighted')\n",
        "f1_score_tuned = f1_score(y_test, y_pred_tuned,average='weighted')\n",
        "\n",
        "# Print and compare the metrics\n",
        "print(\"Initial Model:\")\n",
        "print(\"Accuracy:\", accuracy_initial)\n",
        "print(\"Precision:\", precision_initial)\n",
        "print(\"Recall:\", recall_initial)\n",
        "print(\"F1 Score:\", f1_score_initial)\n",
        "print(\"\\nTuned Model:\")\n",
        "print(\"Accuracy:\", accuracy_tuned)\n",
        "print(\"Precision:\", precision_tuned)\n",
        "print(\"Recall:\", recall_tuned)\n",
        "print(\"F1 Score:\", f1_score_tuned)\n"
      ]
    },
    {
      "cell_type": "code",
      "execution_count": 35,
      "metadata": {
        "colab": {
          "base_uri": "https://localhost:8080/",
          "height": 563
        },
        "id": "SyCoXdn9GrlB",
        "outputId": "6bac3796-af69-4cc5-c664-495d0ad6cee5"
      },
      "outputs": [
        {
          "data": {
            "image/png": "[encoded data removed]",
            "text/plain": [
              "<Figure size 800x600 with 1 Axes>"
            ]
          },
          "metadata": {},
          "output_type": "display_data"
        }
      ],
      "source": [
        "import matplotlib.pyplot as plt\n",
        "\n",
        "# Define model names and their corresponding accuracy scores\n",
        "model_names = [\"Initial Model\", \"Tuned Model\"]\n",
        "accuracy_scores = [accuracy_initial, accuracy_tuned]\n",
        "\n",
        "# Create a bar chart to visualize the accuracy improvement\n",
        "plt.figure(figsize=(8, 6))\n",
        "plt.bar(model_names, accuracy_scores, color=['blue', 'green'])\n",
        "plt.ylim(0.0, 1.0)  # Set the y-axis limits between 0 and 1\n",
        "plt.xlabel(\"Models\")\n",
        "plt.ylabel(\"Accuracy\")\n",
        "plt.title(\"Accuracy Comparison Between Initial and Tuned Models\")\n",
        "plt.show()\n"
      ]
    }
  ],
  "metadata": {
    "colab": {
      "provenance": []
    },
    "kernelspec": {
      "display_name": "Python 3",
      "name": "python3"
    },
    "language_info": {
      "name": "python"
    }
  },
  "nbformat": 4,
  "nbformat_minor": 0
}
