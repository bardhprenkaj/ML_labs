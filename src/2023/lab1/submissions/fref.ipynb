{
  "cells": [
    {
      "cell_type": "markdown",
      "metadata": {
        "id": "xPYdYTOOLXFO"
      },
      "source": [
        "**Objective**: Build an XGBoost model for predicting heart disease and experiment with hyperparameter tuning to improve its performance.\n",
        "\n",
        "Dataset: [Heart Disease UCI](https://archive.ics.uci.edu/dataset/45/heart+disease)"
      ]
    },
    {
      "cell_type": "markdown",
      "metadata": {
        "id": "pob-gDK2Ll8V"
      },
      "source": [
        "# Task 1: Data Loading and Exploration\n",
        "1. Load the Heart Disease UCI dataset.\n",
        "2. Explore the dataset to understand its structure and features.\n",
        "3. Split the data into training and testing sets."
      ]
    },
    {
      "cell_type": "code",
      "execution_count": 2,
      "metadata": {
        "id": "3_HtpocjLpun"
      },
      "outputs": [
        {
          "name": "stdout",
          "output_type": "stream",
          "text": [
            "<class 'pandas.core.frame.DataFrame'>\n",
            "RangeIndex: 303 entries, 0 to 302\n",
            "Data columns (total 14 columns):\n",
            " #   Column    Non-Null Count  Dtype  \n",
            "---  ------    --------------  -----  \n",
            " 0   age       303 non-null    float64\n",
            " 1   sex       303 non-null    float64\n",
            " 2   cp        303 non-null    float64\n",
            " 3   trestbps  303 non-null    float64\n",
            " 4   chol      303 non-null    float64\n",
            " 5   fbs       303 non-null    float64\n",
            " 6   restecg   303 non-null    float64\n",
            " 7   thalach   303 non-null    float64\n",
            " 8   exang     303 non-null    float64\n",
            " 9   oldpeak   303 non-null    float64\n",
            " 10  slope     303 non-null    float64\n",
            " 11  ca        299 non-null    float64\n",
            " 12  thal      301 non-null    float64\n",
            " 13  target    303 non-null    int64  \n",
            "dtypes: float64(13), int64(1)\n",
            "memory usage: 33.3 KB\n",
            "0    164\n",
            "1     55\n",
            "2     36\n",
            "3     35\n",
            "4     13\n",
            "Name: target, dtype: int64\n"
          ]
        }
      ],
      "source": [
        "# insert code here\n",
        "#%pip install ucimlrepo\n",
        "from sklearn.model_selection import train_test_split \n",
        "import pandas as pd\n",
        "\n",
        "column_names = ['age', 'sex', 'cp', 'trestbps', 'chol', 'fbs', 'restecg', 'thalach', 'exang', 'oldpeak', 'slope', 'ca', 'thal', 'target']\n",
        "url = \"https://archive.ics.uci.edu/ml/machine-learning-databases/heart-disease/processed.cleveland.data\"\n",
        "heart_data = pd.read_csv(url, names=column_names, na_values='?')\n",
        "\n",
        "heart_data.info()\n",
        "heart_data.describe()\n",
        "print(heart_data['target'].value_counts()) # occurrences of each label\n",
        "\n",
        "X = heart_data.iloc[:,:13]\n",
        "y = heart_data.iloc[:,13:]\n",
        "\n",
        "# train test split\n",
        "X_train, X_test, y_train, y_test = train_test_split(X, y, test_size=0.2, stratify=y, random_state=42) #stratify because of imbalanced dataset\n",
        "\n"
      ]
    },
    {
      "cell_type": "markdown",
      "metadata": {
        "id": "R6mFhVc8LpGW"
      },
      "source": [
        "# Task 2: Data Preprocessing\n",
        "1. Handle missing values if any.\n",
        "2. Encode categorical variables using appropriate methods.\n",
        "3. Standardize or normalize numerical features if necessary."
      ]
    },
    {
      "cell_type": "code",
      "execution_count": 3,
      "metadata": {
        "id": "8gqyaMz3LTaZ"
      },
      "outputs": [
        {
          "name": "stdout",
          "output_type": "stream",
          "text": [
            "(242, 38)\n",
            "(61, 38)\n"
          ]
        }
      ],
      "source": [
        "# insert code here\n",
        "from sklearn.impute import SimpleImputer\n",
        "from sklearn.compose import ColumnTransformer\n",
        "from sklearn.preprocessing import StandardScaler\n",
        "from sklearn.preprocessing import OneHotEncoder\n",
        "import numpy as np\n",
        "\n",
        "#1. missing values\n",
        "#print(heart_data.isnull().sum())\n",
        "numerical_features = heart_data.select_dtypes(include=['float64']).columns\n",
        "\n",
        "imputer = SimpleImputer(strategy='mean')\n",
        "X_train[numerical_features] = imputer.fit_transform(X_train[numerical_features])\n",
        "X_test[numerical_features] = imputer.transform(X_test[numerical_features])\n",
        "\"\"\"\n",
        "X_train = X_train.dropna()\n",
        "X_test = X_test.dropna()\n",
        "y_train = y.iloc[X_train.index]\n",
        "y_test = y.iloc[X_test.index]\n",
        "\"\"\"\n",
        "#2. & 3.\n",
        "\n",
        "categorical_features = ['sex', 'cp', 'fbs', 'restecg', 'exang', 'slope', 'ca', 'thal']\n",
        "\n",
        "#check type of feature for different preprocessing steps\n",
        "preprocessor = ColumnTransformer(\n",
        "    transformers=[('num', StandardScaler(), numerical_features),\n",
        "                  ('cat', OneHotEncoder(), categorical_features) \n",
        "                  ]\n",
        ")\n",
        "\n",
        "X_train_prep = preprocessor.fit_transform(X_train)\n",
        "X_test_prep = preprocessor.fit_transform(X_test)\n",
        "\n",
        "print(X_train_prep.shape)\n",
        "print(X_test_prep.shape)"
      ]
    },
    {
      "cell_type": "markdown",
      "metadata": {
        "id": "YZXT_IjuLzAt"
      },
      "source": [
        "# Task 3: Initial XGBoost Model\n",
        "1. Build an initial XGBoost model using default hyperparameters.\n",
        "2. Train the model on the training set and evaluate its performance on the testing set.\n",
        "3. Note down the accuracy and any other relevant metrics."
      ]
    },
    {
      "cell_type": "code",
      "execution_count": 4,
      "metadata": {
        "id": "6H-Za_CvL2JK"
      },
      "outputs": [
        {
          "name": "stdout",
          "output_type": "stream",
          "text": [
            "Test accuracy 0.5573770491803278\n"
          ]
        }
      ],
      "source": [
        "# insert code here\n",
        "\n",
        "import xgboost as xgb\n",
        "from xgboost import XGBClassifier\n",
        "from sklearn.preprocessing import LabelEncoder\n",
        "from sklearn.metrics import accuracy_score\n",
        "\n",
        "# Create an XGBoost model\n",
        "xgb_model = XGBClassifier(random_state=42)\n",
        "\n",
        "# Train the model\n",
        "xgb_model.fit(X_train_prep, y_train)\n",
        "\n",
        "# Make predictions on the test set\n",
        "xgb_predictions = xgb_model.predict(X_test_prep)\n",
        "\n",
        "# Evaluate the accuracy of the model\n",
        "xgb_accuracy = accuracy_score(y_test, xgb_predictions)\n",
        "print(f'Test accuracy {xgb_accuracy}')"
      ]
    },
    {
      "cell_type": "markdown",
      "metadata": {
        "id": "WFnt6TGPL3lI"
      },
      "source": [
        "# Task 4: Hyperparameter Tuning\n",
        "1. Experiment with hyperparameter tuning to improve model performance.\n",
        "2. Adjust hyperparameters such as learning_rate, n_estimators, max_depth, etc.\n",
        "3. Use techniques like cross-validation to find optimal hyperparameters.\n",
        "4. Train and evaluate the model with the tuned hyperparameters."
      ]
    },
    {
      "cell_type": "code",
      "execution_count": 5,
      "metadata": {
        "id": "nTKRJpnzL9n6"
      },
      "outputs": [
        {
          "name": "stdout",
          "output_type": "stream",
          "text": [
            "Best Grid Hyperparameters: {'learning_rate': 0.01, 'max_depth': 6, 'n_estimators': 30}\n",
            "Best Grid Accuracy: 0.61\n",
            "Best Model Test Accuracy: 0.5901639344262295\n"
          ]
        }
      ],
      "source": [
        "# insert code here\n",
        "\n",
        "from sklearn.model_selection import GridSearchCV\n",
        "from sklearn.model_selection import StratifiedKFold\n",
        "\n",
        "#grid search with cross validation\n",
        "param_grid = {\n",
        "    'learning_rate': [0.001, 0.01, 0.05, 0.1],\n",
        "    'n_estimators': [10, 30, 70, 100],\n",
        "    'max_depth': [3, 4, 5, 6, 10],\n",
        "    #\"max_leaves\":[0, 2, 4, 5, 10],\n",
        "    #'subsample': [0.8, 0.9, 1.0],\n",
        "    #'colsample_bytree': [0.8, 0.9, 1.0]\n",
        "}\n",
        "\n",
        "\n",
        "cv_strategy = StratifiedKFold(n_splits=5, shuffle=True, random_state=42)\n",
        "\n",
        "grid_search = GridSearchCV(xgb_model, param_grid, cv=cv_strategy, scoring='accuracy', n_jobs=-1)\n",
        "\n",
        "#train models\n",
        "\n",
        "res = grid_search.fit(X_train_prep, y_train)\n",
        "print(\"Best Grid Hyperparameters:\", res.best_params_)\n",
        "print(\"Best Grid Accuracy: {:.2f}\".format(res.best_score_))\n",
        "\n",
        "#test best model\n",
        "\n",
        "xgb_best = res.best_estimator_\n",
        "\n",
        "y_pred_best = xgb_best.predict(X_test_prep)\n",
        "\n",
        "accuracy_best = accuracy_score(y_test, y_pred_best)\n",
        "print(\"Best Model Test Accuracy:\", accuracy_best)\n"
      ]
    },
    {
      "cell_type": "markdown",
      "metadata": {
        "id": "8Lumo2DCL_L9"
      },
      "source": [
        "# Task 5: Feature Importance\n",
        "1. Explore feature importance using the **feature_importances_** attribute of the trained XGBoost model.\n",
        "2. Identify the most important features for heart disease prediction."
      ]
    },
    {
      "cell_type": "code",
      "execution_count": 6,
      "metadata": {
        "id": "GbH5D_YHMGav"
      },
      "outputs": [
        {
          "data": {
            "image/png": "[encoded data removed]",
            "text/plain": [
              "<Figure size 1000x600 with 1 Axes>"
            ]
          },
          "metadata": {},
          "output_type": "display_data"
        },
        {
          "name": "stdout",
          "output_type": "stream",
          "text": [
            "Top Features:\n",
            "   Feature  Importance\n",
            "12    thal    0.504295\n",
            "11      ca    0.228940\n",
            "2       cp    0.083819\n"
          ]
        }
      ],
      "source": [
        "# insert code here\n",
        "import matplotlib.pyplot as plt\n",
        "import seaborn as sns\n",
        "\n",
        "# 1. Explore and plot feature importance\n",
        "feature_importance = xgb_best.feature_importances_\n",
        "feature_names_encoded = preprocessor.get_feature_names_out() #get names of encoded features\n",
        "\n",
        "original_feature_names = X.columns\n",
        "original_feature_importance = []\n",
        "\n",
        "for original_feature in original_feature_names:\n",
        "    # Find all one-hot encoded features related to the original feature\n",
        "    relevant_encoded_features = [feature for feature in feature_names_encoded if original_feature in feature]\n",
        "    \n",
        "    # Sum the importance scores of all related one-hot encoded features\n",
        "    importance_sum = sum(feature_importance[preprocessor.get_feature_names_out().tolist().index(encoded_feature)] for encoded_feature in relevant_encoded_features)\n",
        "    \n",
        "    original_feature_importance.append(importance_sum)\n",
        "\n",
        "\n",
        "feature_importance_df = pd.DataFrame({'Feature': X.columns, 'Importance': original_feature_importance})\n",
        "\n",
        "feature_importance_df = feature_importance_df.sort_values(by='Importance', ascending=False)\n",
        "\n",
        "plt.figure(figsize=(10, 6))\n",
        "sns.barplot(x='Importance', y='Feature', data=feature_importance_df, palette='viridis')\n",
        "plt.title('XGBoost Feature Importance for Heart Disease Prediction')\n",
        "plt.show()\n",
        "\n",
        "# 2. 3 most important features\n",
        "top_features = feature_importance_df.head(3) \n",
        "print(\"Top Features:\")\n",
        "print(top_features)\n"
      ]
    },
    {
      "cell_type": "markdown",
      "metadata": {
        "id": "JiAL2L9LMFpL"
      },
      "source": [
        "# Task 6: Model Evaluation\n",
        "1. Compare the performance metrics of the initial model and the tuned model.\n",
        "2. Visualize the improvement achieved in a clear and concise manner.\n",
        "3. Discuss the impact of hyperparameter tuning and feature importance on model performance."
      ]
    },
    {
      "cell_type": "code",
      "execution_count": 8,
      "metadata": {
        "id": "PpqMJ4bBMNRa"
      },
      "outputs": [
        {
          "name": "stdout",
          "output_type": "stream",
          "text": [
            "Initial Model Classification Report:\n",
            "              precision    recall  f1-score   support\n",
            "\n",
            "           0       0.81      0.91      0.86        33\n",
            "           1       0.17      0.18      0.17        11\n",
            "           2       0.20      0.29      0.24         7\n",
            "           3       0.00      0.00      0.00         7\n",
            "           4       0.00      0.00      0.00         3\n",
            "\n",
            "    accuracy                           0.56        61\n",
            "   macro avg       0.24      0.28      0.25        61\n",
            "weighted avg       0.49      0.56      0.52        61\n",
            "\n",
            "\n",
            "Tuned Model Classification Report:\n",
            "              precision    recall  f1-score   support\n",
            "\n",
            "           0       0.74      0.88      0.81        33\n",
            "           1       0.12      0.09      0.11        11\n",
            "           2       0.38      0.43      0.40         7\n",
            "           3       0.60      0.43      0.50         7\n",
            "           4       0.00      0.00      0.00         3\n",
            "\n",
            "    accuracy                           0.59        61\n",
            "   macro avg       0.37      0.37      0.36        61\n",
            "weighted avg       0.54      0.59      0.56        61\n",
            "\n"
          ]
        },
        {
          "data": {
            "image/png": "[encoded data removed]",
            "text/plain": [
              "<Figure size 1000x600 with 1 Axes>"
            ]
          },
          "metadata": {},
          "output_type": "display_data"
        },
        {
          "name": "stdout",
          "output_type": "stream",
          "text": [
            "3. Discussion\n",
            "\n",
            "Even though the overall performance of the classifier still doesn't look great, hyperparameter tuning has led to improvements in overall precision, recall, f1-score and accuracy.\n",
            "When considering the context of the data, it is of biggest importance to predict the classes for higher heart disease risk correctly.\n",
            "We didn't predict a single instance of class=4 correctly, which is bad, but we did significantly increase the performance on the labels 2 and 3.\n",
            "The feature importance values give us info about how influential features are for the classification.\n",
            "We might consider dropping some features that are not relevant to prevent overfitting, which should result in better performance on test data, and increase computational efficency.\n"
          ]
        }
      ],
      "source": [
        "# insert code here\n",
        "from sklearn.metrics import classification_report\n",
        "from sklearn.metrics import precision_recall_fscore_support\n",
        "\n",
        "\n",
        "# 1. Compare performance metrics of initial and improved model\n",
        "print(\"Initial Model Classification Report:\")\n",
        "report_initial=classification_report(y_test, xgb_predictions, zero_division=0)\n",
        "print(report_initial)\n",
        "\n",
        "print(\"\\nTuned Model Classification Report:\")\n",
        "report_tuned=classification_report(y_test, y_pred_best, zero_division=0)\n",
        "print(report_tuned)\n",
        "\n",
        "# 2. Calculate and plot accuracy, precision, recall, F1-score averaged over all 5 classes \n",
        "# (not weighted, because i want all classes to have the same relevance for the measures)\n",
        "precision_initial, recall_initial, f1_initial, _ = precision_recall_fscore_support(y_test, xgb_predictions, average='macro', zero_division=0)\n",
        "precision_tuned, recall_tuned, f1_tuned, _ = precision_recall_fscore_support(y_test, y_pred_best, average='macro', zero_division=0)\n",
        "\n",
        "metric_names = ['Precision', 'Recall', 'F1-Score', 'Accuracy']\n",
        "metric_values_initial = [precision_initial, recall_initial, f1_initial, xgb_accuracy]\n",
        "metric_values_tuned = [precision_tuned, recall_tuned, f1_tuned, accuracy_best]\n",
        "\n",
        "width = 0.35 \n",
        "ind = range(len(metric_names))\n",
        "\n",
        "fig, ax = plt.subplots(figsize=(10, 6))\n",
        "bar1 = ax.bar(ind, metric_values_initial, width, label='Initial Model', color='b')\n",
        "bar2 = ax.bar([i + width for i in ind], metric_values_tuned, width, label='Tuned Model', color='r')\n",
        "\n",
        "ax.set_title('Overall Model Performance Comparison (aggregated over all classes)')\n",
        "ax.set_xlabel('Metric')\n",
        "ax.set_ylabel('Score')\n",
        "ax.set_xticks([i + width/2 for i in ind])\n",
        "ax.set_xticklabels(metric_names)\n",
        "ax.legend()\n",
        "\n",
        "plt.show()\n",
        "\n",
        "#3\n",
        "print(\"3. Discussion\")\n",
        "print(\"\\nEven though the overall performance of the classifier still doesn't look great, hyperparameter tuning has led to improvements in overall precision, recall, f1-score and accuracy.\" )\n",
        "print(\"When considering the context of the data, it is of biggest importance to predict the classes for higher heart disease risk correctly.\")\n",
        "print(\"We didn't predict a single instance of class=4 correctly, which is bad, but we did significantly increase the performance on the labels 2 and 3.\")\n",
        "print(\"The feature importance values give us info about how influential features are for the classification.\")\n",
        "print(\"We might consider dropping some features that are not relevant to prevent overfitting, which should result in better performance on test data, and increase computational efficency.\")"
      ]
    },
    {
      "cell_type": "code",
      "execution_count": null,
      "metadata": {},
      "outputs": [],
      "source": []
    }
  ],
  "metadata": {
    "colab": {
      "provenance": []
    },
    "kernelspec": {
      "display_name": "Python 3",
      "name": "python3"
    },
    "language_info": {
      "codemirror_mode": {
        "name": "ipython",
        "version": 3
      },
      "file_extension": ".py",
      "mimetype": "text/x-python",
      "name": "python",
      "nbconvert_exporter": "python",
      "pygments_lexer": "ipython3",
      "version": "3.11.4"
    }
  },
  "nbformat": 4,
  "nbformat_minor": 0
}
