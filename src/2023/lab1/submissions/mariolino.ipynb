{
  "nbformat": 4,
  "nbformat_minor": 0,
  "metadata": {
    "colab": {
      "provenance": []
    },
    "kernelspec": {
      "name": "python3",
      "display_name": "Python 3"
    },
    "language_info": {
      "name": "python"
    }
  },
  "cells": [
    {
      "cell_type": "markdown",
      "source": [
        "**Objective**: Build an XGBoost model for predicting heart disease and experiment with hyperparameter tuning to improve its performance.\n",
        "\n",
        "Dataset: [Heart Disease UCI](https://archive.ics.uci.edu/dataset/45/heart+disease)"
      ],
      "metadata": {
        "id": "xPYdYTOOLXFO"
      }
    },
    {
      "cell_type": "markdown",
      "source": [
        "# Task 1: Data Loading and Exploration\n",
        "1. Load the Heart Disease UCI dataset.\n",
        "2. Explore the dataset to understand its structure and features.\n",
        "3. Split the data into training and testing sets."
      ],
      "metadata": {
        "id": "pob-gDK2Ll8V"
      }
    },
    {
      "cell_type": "code",
      "source": [
        "!pip install xgboost\n",
        "!pip install ucimlrepo"
      ],
      "metadata": {
        "id": "3_HtpocjLpun",
        "colab": {
          "base_uri": "https://localhost:8080/"
        },
        "outputId": "73978945-ce04-4a55-f1da-1cb1fe87cc20"
      },
      "execution_count": 1,
      "outputs": [
        {
          "output_type": "stream",
          "name": "stdout",
          "text": [
            "Requirement already satisfied: xgboost in /usr/local/lib/python3.10/dist-packages (2.0.2)\n",
            "Requirement already satisfied: numpy in /usr/local/lib/python3.10/dist-packages (from xgboost) (1.23.5)\n",
            "Requirement already satisfied: scipy in /usr/local/lib/python3.10/dist-packages (from xgboost) (1.11.4)\n",
            "Collecting ucimlrepo\n",
            "  Downloading ucimlrepo-0.0.3-py3-none-any.whl (7.0 kB)\n",
            "Installing collected packages: ucimlrepo\n",
            "Successfully installed ucimlrepo-0.0.3\n"
          ]
        }
      ]
    },
    {
      "cell_type": "code",
      "source": [
        "import pandas as pd\n",
        "from ucimlrepo import fetch_ucirepo\n",
        "from sklearn.model_selection import train_test_split"
      ],
      "metadata": {
        "id": "icJFYDuwwHOc"
      },
      "execution_count": 5,
      "outputs": []
    },
    {
      "cell_type": "code",
      "source": [
        "# fetch dataset\n",
        "heart_disease = fetch_ucirepo(id=45)\n",
        "\n",
        "# data (as pandas dataframes)\n",
        "X = heart_disease.data.features\n",
        "y = heart_disease.data.targets"
      ],
      "metadata": {
        "id": "4UL1jtKuwJin"
      },
      "execution_count": 9,
      "outputs": []
    },
    {
      "cell_type": "code",
      "source": [
        "#create a dataset from a link\n",
        "url = 'https://archive.ics.uci.edu/static/public/45/data.csv'\n",
        "df = pd.read_csv(url)\n",
        "\n",
        "# show a summary of dataset\n",
        "print(df.head())\n"
      ],
      "metadata": {
        "colab": {
          "base_uri": "https://localhost:8080/"
        },
        "id": "AiojwcuizOht",
        "outputId": "4fa234db-f00a-4ee3-e974-9fe4f2084e02"
      },
      "execution_count": 10,
      "outputs": [
        {
          "output_type": "stream",
          "name": "stdout",
          "text": [
            "   age  sex  cp  trestbps  chol  fbs  restecg  thalach  exang  oldpeak  slope  \\\n",
            "0   63    1   1       145   233    1        2      150      0      2.3      3   \n",
            "1   67    1   4       160   286    0        2      108      1      1.5      2   \n",
            "2   67    1   4       120   229    0        2      129      1      2.6      2   \n",
            "3   37    1   3       130   250    0        0      187      0      3.5      3   \n",
            "4   41    0   2       130   204    0        2      172      0      1.4      1   \n",
            "\n",
            "    ca  thal  num  \n",
            "0  0.0   6.0    0  \n",
            "1  3.0   3.0    2  \n",
            "2  2.0   7.0    1  \n",
            "3  0.0   3.0    0  \n",
            "4  0.0   3.0    0  \n"
          ]
        }
      ]
    },
    {
      "cell_type": "code",
      "source": [
        "#split and show the data into training and testing sets.\n",
        "X_train, X_test, y_train, y_test = train_test_split(X, y, test_size=0.2, random_state=42)\n",
        "\n",
        "print(\"Training set size:\", X_train.shape)\n",
        "print(\"Test set size:\", X_test.shape)"
      ],
      "metadata": {
        "colab": {
          "base_uri": "https://localhost:8080/"
        },
        "id": "_Dr3wcyBw7yt",
        "outputId": "1fdccef7-aa90-430e-c4df-923f2fdd9925"
      },
      "execution_count": 11,
      "outputs": [
        {
          "output_type": "stream",
          "name": "stdout",
          "text": [
            "Training set size: (242, 13)\n",
            "Test set size: (61, 13)\n"
          ]
        }
      ]
    },
    {
      "cell_type": "markdown",
      "source": [
        "# Task 2: Data Preprocessing\n",
        "1. Handle missing values if any.\n",
        "2. Encode categorical variables using appropriate methods.\n",
        "3. Standardize or normalize numerical features if necessary."
      ],
      "metadata": {
        "id": "R6mFhVc8LpGW"
      }
    },
    {
      "cell_type": "code",
      "execution_count": 12,
      "metadata": {
        "id": "8gqyaMz3LTaZ"
      },
      "outputs": [],
      "source": [
        "#import libraries\n",
        "from sklearn.impute import SimpleImputer\n",
        "#we standardize data to compute one-hot encoding\n",
        "from sklearn.preprocessing import StandardScaler, OneHotEncoder\n",
        "#to work in vectorize way\n",
        "from sklearn.compose import ColumnTransformer\n",
        "from sklearn.pipeline import Pipeline"
      ]
    },
    {
      "cell_type": "code",
      "source": [
        "#show null values\n",
        "print(df.isnull().sum())"
      ],
      "metadata": {
        "colab": {
          "base_uri": "https://localhost:8080/"
        },
        "id": "dH5visoUzFzr",
        "outputId": "1eaab792-09aa-4929-dc9d-aab04fec9ce7"
      },
      "execution_count": 13,
      "outputs": [
        {
          "output_type": "stream",
          "name": "stdout",
          "text": [
            "age         0\n",
            "sex         0\n",
            "cp          0\n",
            "trestbps    0\n",
            "chol        0\n",
            "fbs         0\n",
            "restecg     0\n",
            "thalach     0\n",
            "exang       0\n",
            "oldpeak     0\n",
            "slope       0\n",
            "ca          4\n",
            "thal        2\n",
            "num         0\n",
            "dtype: int64\n"
          ]
        }
      ]
    },
    {
      "cell_type": "code",
      "source": [
        "#a way to resolve null value is to insert mean\n",
        "df.fillna(df.mean(), inplace=True)\n",
        "print(df.isnull().sum())"
      ],
      "metadata": {
        "colab": {
          "base_uri": "https://localhost:8080/"
        },
        "id": "MLrScxW8zc0g",
        "outputId": "ce1b7e66-4b5f-4874-f0b8-ef1ca2d2f220"
      },
      "execution_count": 14,
      "outputs": [
        {
          "output_type": "stream",
          "name": "stdout",
          "text": [
            "age         0\n",
            "sex         0\n",
            "cp          0\n",
            "trestbps    0\n",
            "chol        0\n",
            "fbs         0\n",
            "restecg     0\n",
            "thalach     0\n",
            "exang       0\n",
            "oldpeak     0\n",
            "slope       0\n",
            "ca          0\n",
            "thal        0\n",
            "num         0\n",
            "dtype: int64\n"
          ]
        }
      ]
    },
    {
      "cell_type": "code",
      "source": [
        "# first thing, we have to separate features and targets\n",
        "X = df.drop('num', axis=1)  # Features\n",
        "y = df['num']               # Target\n",
        "\n",
        "#and we have to standardize numerical values\n",
        "numerical_cols = X.select_dtypes(include=['int64', 'float64']).columns\n",
        "scaler = StandardScaler()\n",
        "\n",
        "X[numerical_cols] = scaler.fit_transform(X[numerical_cols])\n",
        "\n",
        "#and create a new dataframe\n",
        "df_scaled = pd.concat([X, y], axis=1)\n",
        "\n",
        "#show a summary\n",
        "print(df_scaled.head())"
      ],
      "metadata": {
        "id": "QW2LEDP4z-dc"
      },
      "execution_count": null,
      "outputs": []
    },
    {
      "cell_type": "markdown",
      "source": [
        "# Task 3: Initial XGBoost Model\n",
        "1. Build an initial XGBoost model using default hyperparameters.\n",
        "2. Train the model on the training set and evaluate its performance on the testing set.\n",
        "3. Note down the accuracy and any other relevant metrics."
      ],
      "metadata": {
        "id": "YZXT_IjuLzAt"
      }
    },
    {
      "cell_type": "code",
      "source": [
        "#starter and create new dataset\n",
        "!pip install xgboost\n",
        "from xgboost import XGBClassifier\n",
        "import xgboost as xgb\n",
        "from sklearn.metrics import accuracy_score\n",
        "from sklearn.model_selection import GridSearchCV\n",
        "xgb_model = XGBClassifier(random_state=42)\n"
      ],
      "metadata": {
        "id": "6H-Za_CvL2JK",
        "colab": {
          "base_uri": "https://localhost:8080/"
        },
        "outputId": "f763e57f-adf4-452c-f13e-46095f84f669"
      },
      "execution_count": 35,
      "outputs": [
        {
          "output_type": "stream",
          "name": "stdout",
          "text": [
            "Requirement already satisfied: xgboost in /usr/local/lib/python3.10/dist-packages (2.0.2)\n",
            "Requirement already satisfied: numpy in /usr/local/lib/python3.10/dist-packages (from xgboost) (1.23.5)\n",
            "Requirement already satisfied: scipy in /usr/local/lib/python3.10/dist-packages (from xgboost) (1.11.4)\n"
          ]
        }
      ]
    },
    {
      "cell_type": "code",
      "source": [
        "xgb_model.fit(X_train, y_train)"
      ],
      "metadata": {
        "colab": {
          "base_uri": "https://localhost:8080/",
          "height": 248
        },
        "id": "kK6BlEW02ynt",
        "outputId": "ba5d1ced-737e-4338-9780-9ca75f267843"
      },
      "execution_count": 36,
      "outputs": [
        {
          "output_type": "execute_result",
          "data": {
            "text/plain": [
              "XGBClassifier(base_score=None, booster=None, callbacks=None,\n",
              "              colsample_bylevel=None, colsample_bynode=None,\n",
              "              colsample_bytree=None, device=None, early_stopping_rounds=None,\n",
              "              enable_categorical=False, eval_metric=None, feature_types=None,\n",
              "              gamma=None, grow_policy=None, importance_type=None,\n",
              "              interaction_constraints=None, learning_rate=None, max_bin=None,\n",
              "              max_cat_threshold=None, max_cat_to_onehot=None,\n",
              "              max_delta_step=None, max_depth=None, max_leaves=None,\n",
              "              min_child_weight=None, missing=nan, monotone_constraints=None,\n",
              "              multi_strategy=None, n_estimators=None, n_jobs=None,\n",
              "              num_parallel_tree=None, objective='multi:softprob', ...)"
            ],
            "text/html": [
              "<style>#sk-container-id-2 {color: black;background-color: white;}#sk-container-id-2 pre{padding: 0;}#sk-container-id-2 div.sk-toggleable {background-color: white;}#sk-container-id-2 label.sk-toggleable__label {cursor: pointer;display: block;width: 100%;margin-bottom: 0;padding: 0.3em;box-sizing: border-box;text-align: center;}#sk-container-id-2 label.sk-toggleable__label-arrow:before {content: \"▸\";float: left;margin-right: 0.25em;color: #696969;}#sk-container-id-2 label.sk-toggleable__label-arrow:hover:before {color: black;}#sk-container-id-2 div.sk-estimator:hover label.sk-toggleable__label-arrow:before {color: black;}#sk-container-id-2 div.sk-toggleable__content {max-height: 0;max-width: 0;overflow: hidden;text-align: left;background-color: #f0f8ff;}#sk-container-id-2 div.sk-toggleable__content pre {margin: 0.2em;color: black;border-radius: 0.25em;background-color: #f0f8ff;}#sk-container-id-2 input.sk-toggleable__control:checked~div.sk-toggleable__content {max-height: 200px;max-width: 100%;overflow: auto;}#sk-container-id-2 input.sk-toggleable__control:checked~label.sk-toggleable__label-arrow:before {content: \"▾\";}#sk-container-id-2 div.sk-estimator input.sk-toggleable__control:checked~label.sk-toggleable__label {background-color: #d4ebff;}#sk-container-id-2 div.sk-label input.sk-toggleable__control:checked~label.sk-toggleable__label {background-color: #d4ebff;}#sk-container-id-2 input.sk-hidden--visually {border: 0;clip: rect(1px 1px 1px 1px);clip: rect(1px, 1px, 1px, 1px);height: 1px;margin: -1px;overflow: hidden;padding: 0;position: absolute;width: 1px;}#sk-container-id-2 div.sk-estimator {font-family: monospace;background-color: #f0f8ff;border: 1px dotted black;border-radius: 0.25em;box-sizing: border-box;margin-bottom: 0.5em;}#sk-container-id-2 div.sk-estimator:hover {background-color: #d4ebff;}#sk-container-id-2 div.sk-parallel-item::after {content: \"\";width: 100%;border-bottom: 1px solid gray;flex-grow: 1;}#sk-container-id-2 div.sk-label:hover label.sk-toggleable__label {background-color: #d4ebff;}#sk-container-id-2 div.sk-serial::before {content: \"\";position: absolute;border-left: 1px solid gray;box-sizing: border-box;top: 0;bottom: 0;left: 50%;z-index: 0;}#sk-container-id-2 div.sk-serial {display: flex;flex-direction: column;align-items: center;background-color: white;padding-right: 0.2em;padding-left: 0.2em;position: relative;}#sk-container-id-2 div.sk-item {position: relative;z-index: 1;}#sk-container-id-2 div.sk-parallel {display: flex;align-items: stretch;justify-content: center;background-color: white;position: relative;}#sk-container-id-2 div.sk-item::before, #sk-container-id-2 div.sk-parallel-item::before {content: \"\";position: absolute;border-left: 1px solid gray;box-sizing: border-box;top: 0;bottom: 0;left: 50%;z-index: -1;}#sk-container-id-2 div.sk-parallel-item {display: flex;flex-direction: column;z-index: 1;position: relative;background-color: white;}#sk-container-id-2 div.sk-parallel-item:first-child::after {align-self: flex-end;width: 50%;}#sk-container-id-2 div.sk-parallel-item:last-child::after {align-self: flex-start;width: 50%;}#sk-container-id-2 div.sk-parallel-item:only-child::after {width: 0;}#sk-container-id-2 div.sk-dashed-wrapped {border: 1px dashed gray;margin: 0 0.4em 0.5em 0.4em;box-sizing: border-box;padding-bottom: 0.4em;background-color: white;}#sk-container-id-2 div.sk-label label {font-family: monospace;font-weight: bold;display: inline-block;line-height: 1.2em;}#sk-container-id-2 div.sk-label-container {text-align: center;}#sk-container-id-2 div.sk-container {/* jupyter's `normalize.less` sets `[hidden] { display: none; }` but bootstrap.min.css set `[hidden] { display: none !important; }` so we also need the `!important` here to be able to override the default hidden behavior on the sphinx rendered scikit-learn.org. See: https://github.com/scikit-learn/scikit-learn/issues/21755 */display: inline-block !important;position: relative;}#sk-container-id-2 div.sk-text-repr-fallback {display: none;}</style><div id=\"sk-container-id-2\" class=\"sk-top-container\"><div class=\"sk-text-repr-fallback\"><pre>XGBClassifier(base_score=None, booster=None, callbacks=None,\n",
              "              colsample_bylevel=None, colsample_bynode=None,\n",
              "              colsample_bytree=None, device=None, early_stopping_rounds=None,\n",
              "              enable_categorical=False, eval_metric=None, feature_types=None,\n",
              "              gamma=None, grow_policy=None, importance_type=None,\n",
              "              interaction_constraints=None, learning_rate=None, max_bin=None,\n",
              "              max_cat_threshold=None, max_cat_to_onehot=None,\n",
              "              max_delta_step=None, max_depth=None, max_leaves=None,\n",
              "              min_child_weight=None, missing=nan, monotone_constraints=None,\n",
              "              multi_strategy=None, n_estimators=None, n_jobs=None,\n",
              "              num_parallel_tree=None, objective=&#x27;multi:softprob&#x27;, ...)</pre><b>In a Jupyter environment, please rerun this cell to show the HTML representation or trust the notebook. <br />On GitHub, the HTML representation is unable to render, please try loading this page with nbviewer.org.</b></div><div class=\"sk-container\" hidden><div class=\"sk-item\"><div class=\"sk-estimator sk-toggleable\"><input class=\"sk-toggleable__control sk-hidden--visually\" id=\"sk-estimator-id-2\" type=\"checkbox\" checked><label for=\"sk-estimator-id-2\" class=\"sk-toggleable__label sk-toggleable__label-arrow\">XGBClassifier</label><div class=\"sk-toggleable__content\"><pre>XGBClassifier(base_score=None, booster=None, callbacks=None,\n",
              "              colsample_bylevel=None, colsample_bynode=None,\n",
              "              colsample_bytree=None, device=None, early_stopping_rounds=None,\n",
              "              enable_categorical=False, eval_metric=None, feature_types=None,\n",
              "              gamma=None, grow_policy=None, importance_type=None,\n",
              "              interaction_constraints=None, learning_rate=None, max_bin=None,\n",
              "              max_cat_threshold=None, max_cat_to_onehot=None,\n",
              "              max_delta_step=None, max_depth=None, max_leaves=None,\n",
              "              min_child_weight=None, missing=nan, monotone_constraints=None,\n",
              "              multi_strategy=None, n_estimators=None, n_jobs=None,\n",
              "              num_parallel_tree=None, objective=&#x27;multi:softprob&#x27;, ...)</pre></div></div></div></div></div>"
            ]
          },
          "metadata": {},
          "execution_count": 36
        }
      ]
    },
    {
      "cell_type": "code",
      "source": [
        "xgb_predictions = xgb_model.predict(X_test)"
      ],
      "metadata": {
        "id": "BXLEScai3PtK"
      },
      "execution_count": 37,
      "outputs": []
    },
    {
      "cell_type": "code",
      "source": [
        "#evalutate model\n",
        "xgb_accuracy = accuracy_score(y_test, xgb_predictions)\n",
        "print(f'accuracy: {xgb_accuracy}')"
      ],
      "metadata": {
        "colab": {
          "base_uri": "https://localhost:8080/"
        },
        "id": "hh5_26GH3YU0",
        "outputId": "c52458fd-a3cc-433a-c403-668f95bbf8e9"
      },
      "execution_count": 38,
      "outputs": [
        {
          "output_type": "stream",
          "name": "stdout",
          "text": [
            "accuracy: 0.47540983606557374\n"
          ]
        }
      ]
    },
    {
      "cell_type": "markdown",
      "source": [
        "# Task 4: Hyperparameter Tuning\n",
        "1. Experiment with hyperparameter tuning to improve model performance.\n",
        "2. Adjust hyperparameters such as learning_rate, n_estimators, max_depth, etc.\n",
        "3. Use techniques like cross-validation to find optimal hyperparameters.\n",
        "4. Train and evaluate the model with the tuned hyperparameters."
      ],
      "metadata": {
        "id": "WFnt6TGPL3lI"
      }
    },
    {
      "cell_type": "code",
      "source": [
        "#hyperparameters tester and create model\n",
        "hyparam_grid = {\n",
        "    'n_estimators': [100, 200, 300],\n",
        "    'learning_rate': [0.01, 0.1, 0.2],\n",
        "    'max_depth': [3, 4, 5]\n",
        "}\n",
        "\n",
        "xgb_classifier = XGBClassifier(random_state=42)"
      ],
      "metadata": {
        "id": "nTKRJpnzL9n6"
      },
      "execution_count": 39,
      "outputs": []
    },
    {
      "cell_type": "code",
      "source": [
        "#Create GridSearchCV object\n",
        "grid_search = GridSearchCV(xgb_model, hyparam_grid, cv=5, scoring='accuracy', n_jobs=-1)"
      ],
      "metadata": {
        "id": "4k04ggqf5sRC"
      },
      "execution_count": 40,
      "outputs": []
    },
    {
      "cell_type": "code",
      "source": [
        "#fit the model and finf out the best hp\n",
        "grid_search.fit(X_train, y_train)\n",
        "\n",
        "print(\"Best Hyperparameters:\", grid_search.best_params_)"
      ],
      "metadata": {
        "colab": {
          "base_uri": "https://localhost:8080/"
        },
        "id": "jtE7Xobo56mY",
        "outputId": "cda4b8f3-2a24-43a4-ba02-249c26586f03"
      },
      "execution_count": 41,
      "outputs": [
        {
          "output_type": "stream",
          "name": "stdout",
          "text": [
            "Best Hyperparameters: {'learning_rate': 0.1, 'max_depth': 4, 'n_estimators': 100}\n"
          ]
        }
      ]
    },
    {
      "cell_type": "code",
      "source": [
        "#now we obtain the best model and discover the performance\n",
        "best_xgb_model = grid_search.best_estimator_\n",
        "\n",
        "y_pred_best = best_xgb_model.predict(X_test)\n",
        "\n",
        "accuracy_best = accuracy_score(y_test, y_pred_best)\n",
        "print(\"Best Model Accuracy:\", accuracy_best)"
      ],
      "metadata": {
        "colab": {
          "base_uri": "https://localhost:8080/"
        },
        "id": "eWwGErxU6K-l",
        "outputId": "6cda18b5-3811-4e1a-ae42-ceaa762325ce"
      },
      "execution_count": 42,
      "outputs": [
        {
          "output_type": "stream",
          "name": "stdout",
          "text": [
            "Best Model Accuracy: 0.5245901639344263\n"
          ]
        }
      ]
    },
    {
      "cell_type": "markdown",
      "source": [
        "# Task 5: Feature Importance\n",
        "1. Explore feature importance using the **feature_importances_** attribute of the trained XGBoost model.\n",
        "2. Identify the most important features for heart disease prediction."
      ],
      "metadata": {
        "id": "8Lumo2DCL_L9"
      }
    },
    {
      "cell_type": "code",
      "source": [
        "#first the plot\n",
        "xgb.plot_importance(xgb_model)"
      ],
      "metadata": {
        "id": "GbH5D_YHMGav",
        "colab": {
          "base_uri": "https://localhost:8080/",
          "height": 490
        },
        "outputId": "c5122162-c3df-4675-fb97-2c510954815f"
      },
      "execution_count": 43,
      "outputs": [
        {
          "output_type": "execute_result",
          "data": {
            "text/plain": [
              "<Axes: title={'center': 'Feature importance'}, xlabel='F score', ylabel='Features'>"
            ]
          },
          "metadata": {},
          "execution_count": 43
        },
        {
          "output_type": "display_data",
          "data": {
            "text/plain": [
              "<Figure size 640x480 with 1 Axes>"
            ],
            "image/png": "[encoded data removed]"
          },
          "metadata": {}
        }
      ]
    },
    {
      "cell_type": "code",
      "source": [
        "# Get feature importances from the trained model\n",
        "feature_importance = best_xgb_model.feature_importances_\n",
        "feature_importance\n"
      ],
      "metadata": {
        "colab": {
          "base_uri": "https://localhost:8080/"
        },
        "id": "arN-A6g95Lgz",
        "outputId": "385c1075-3614-4ab7-b14c-2dec69f55879"
      },
      "execution_count": 51,
      "outputs": [
        {
          "output_type": "execute_result",
          "data": {
            "text/plain": [
              "array([0.05339538, 0.07292731, 0.14374614, 0.04066928, 0.04958028,\n",
              "       0.05568036, 0.03595009, 0.05867104, 0.09173941, 0.07501023,\n",
              "       0.07709044, 0.12793964, 0.11760049], dtype=float32)"
            ]
          },
          "metadata": {},
          "execution_count": 51
        }
      ]
    },
    {
      "cell_type": "markdown",
      "source": [
        "# Task 6: Model Evaluation\n",
        "1. Compare the performance metrics of the initial model and the tuned model.\n",
        "2. Visualize the improvement achieved in a clear and concise manner.\n",
        "3. Discuss the impact of hyperparameter tuning and feature importance on model performance."
      ],
      "metadata": {
        "id": "JiAL2L9LMFpL"
      }
    },
    {
      "cell_type": "code",
      "source": [
        "# obviously the tuned model performs a lot better than the \"naive\" (not that naive lol) model.\n",
        "print(\"Best Model Accuracy:\", accuracy_best)\n",
        "print(f'initial Model Accuracy: {xgb_accuracy}')"
      ],
      "metadata": {
        "id": "PpqMJ4bBMNRa",
        "colab": {
          "base_uri": "https://localhost:8080/"
        },
        "outputId": "d137ddb5-4a40-4daf-8e3c-b7dbb7ea5032"
      },
      "execution_count": 53,
      "outputs": [
        {
          "output_type": "stream",
          "name": "stdout",
          "text": [
            "Best Model Accuracy: 0.5245901639344263\n",
            "initial Model Accuracy: 0.47540983606557374\n"
          ]
        }
      ]
    },
    {
      "cell_type": "code",
      "source": [
        "from sklearn.metrics import precision_score\n",
        "import matplotlib.pyplot as plt"
      ],
      "metadata": {
        "id": "0TsU7mmfAIlK"
      },
      "execution_count": 58,
      "outputs": []
    },
    {
      "cell_type": "code",
      "source": [
        "#best model\n",
        "precision_best = precision_score(y_test, y_pred_best, average='macro')\n",
        "print(\"Best Model Precision:\", precision_best)"
      ],
      "metadata": {
        "colab": {
          "base_uri": "https://localhost:8080/"
        },
        "id": "I59ZaKLLAXHp",
        "outputId": "4f28fc9d-8317-4063-a6fa-e48821b658ae"
      },
      "execution_count": 59,
      "outputs": [
        {
          "output_type": "stream",
          "name": "stdout",
          "text": [
            "Best Model Precision: 0.2692857142857143\n"
          ]
        },
        {
          "output_type": "stream",
          "name": "stderr",
          "text": [
            "/usr/local/lib/python3.10/dist-packages/sklearn/metrics/_classification.py:1344: UndefinedMetricWarning: Precision is ill-defined and being set to 0.0 in labels with no predicted samples. Use `zero_division` parameter to control this behavior.\n",
            "  _warn_prf(average, modifier, msg_start, len(result))\n"
          ]
        }
      ]
    },
    {
      "cell_type": "code",
      "source": [
        "#initial model\n",
        "xgb_precision = precision_score(y_test, xgb_predictions, average='macro')\n",
        "print(f'initial Model Precision: {xgb_precision}')"
      ],
      "metadata": {
        "colab": {
          "base_uri": "https://localhost:8080/"
        },
        "id": "1Hf9u3UTA1Ls",
        "outputId": "f636f21b-9d74-4f77-b9fb-00c43f937c54"
      },
      "execution_count": 60,
      "outputs": [
        {
          "output_type": "stream",
          "name": "stdout",
          "text": [
            "initial Model Precision: 0.21794117647058822\n"
          ]
        }
      ]
    },
    {
      "cell_type": "code",
      "source": [
        "# accuracy and precision plots\n",
        "labels = ['Default XGBoost', 'Best XGBoost']\n",
        "acc_scores = [xgb_accuracy, accuracy_best]\n",
        "prec_scores = [xgb_precision, precision_best]\n",
        "\n",
        "#lenght of labels\n",
        "x = range(len(labels))\n",
        "\n",
        "# Plotting accuracy\n",
        "plt.bar(x, acc_scores, width=0.4, label='Accuracy', color='b', align='center')\n",
        "\n",
        "# Plotting precision\n",
        "plt.bar(x, prec_scores, width=0.4, label='Precision', color='g', align='edge')\n",
        "\n",
        "# Show the plot\n",
        "plt.show()"
      ],
      "metadata": {
        "colab": {
          "base_uri": "https://localhost:8080/",
          "height": 430
        },
        "id": "kvJ645OjBdfB",
        "outputId": "b58e125c-bc4f-4132-8994-e6679df7c714"
      },
      "execution_count": 63,
      "outputs": [
        {
          "output_type": "display_data",
          "data": {
            "text/plain": [
              "<Figure size 640x480 with 1 Axes>"
            ],
            "image/png": "[encoded data removed]"
          },
          "metadata": {}
        }
      ]
    }
  ]
}