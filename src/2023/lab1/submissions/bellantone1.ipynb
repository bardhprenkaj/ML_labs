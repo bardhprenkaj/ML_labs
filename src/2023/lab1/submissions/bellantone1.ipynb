{
  "nbformat": 4,
  "nbformat_minor": 0,
  "metadata": {
    "colab": {
      "provenance": []
    },
    "kernelspec": {
      "name": "python3",
      "display_name": "Python 3"
    },
    "language_info": {
      "name": "python"
    }
  },
  "cells": [
    {
      "cell_type": "markdown",
      "source": [
        "**Objective**: Build an XGBoost model for predicting heart disease and experiment with hyperparameter tuning to improve its performance.\n",
        "\n",
        "Dataset: [Heart Disease UCI](https://archive.ics.uci.edu/dataset/45/heart+disease)"
      ],
      "metadata": {
        "id": "xPYdYTOOLXFO"
      }
    },
    {
      "cell_type": "markdown",
      "source": [
        "# Task 1: Data Loading and Exploration\n",
        "1. Load the Heart Disease UCI dataset.\n",
        "2. Explore the dataset to understand its structure and features.\n",
        "3. Split the data into training and testing sets."
      ],
      "metadata": {
        "id": "pob-gDK2Ll8V"
      }
    },
    {
      "cell_type": "code",
      "source": [
        "# insert code here\n",
        "!pip install ucimlrepo\n",
        "\n",
        "import pandas as pd\n",
        "from sklearn.model_selection import train_test_split\n",
        "from sklearn.metrics import accuracy_score\n",
        "\n",
        "from ucimlrepo import fetch_ucirepo\n",
        "\n",
        "# fetch dataset\n",
        "heart_disease = fetch_ucirepo(id=45)\n",
        "\n",
        "# data (as pandas dataframes)\n",
        "X = heart_disease.data.features\n",
        "y = heart_disease.data.targets\n",
        "\n",
        "# metadata\n",
        "print(heart_disease.metadata)\n",
        "\n",
        "print(\"_____________________________________________________________________________________________________________________________________________________________________\")\n",
        "# variable information\n",
        "print(heart_disease.variables)\n",
        "\n"
      ],
      "metadata": {
        "id": "3_HtpocjLpun",
        "outputId": "9e33c308-01f9-4f97-f3ae-7962f6fd7ea0",
        "colab": {
          "base_uri": "https://localhost:8080/"
        }
      },
      "execution_count": 107,
      "outputs": [
        {
          "output_type": "stream",
          "name": "stdout",
          "text": [
            "Requirement already satisfied: ucimlrepo in /usr/local/lib/python3.10/dist-packages (0.0.3)\n",
            "{'uci_id': 45, 'name': 'Heart Disease', 'repository_url': 'https://archive.ics.uci.edu/dataset/45/heart+disease', 'data_url': 'https://archive.ics.uci.edu/static/public/45/data.csv', 'abstract': '4 databases: Cleveland, Hungary, Switzerland, and the VA Long Beach', 'area': 'Health and Medicine', 'tasks': ['Classification'], 'characteristics': ['Multivariate'], 'num_instances': 303, 'num_features': 13, 'feature_types': ['Categorical', 'Integer', 'Real'], 'demographics': ['Age', 'Sex'], 'target_col': ['num'], 'index_col': None, 'has_missing_values': 'yes', 'missing_values_symbol': 'NaN', 'year_of_dataset_creation': 1989, 'last_updated': 'Fri Nov 03 2023', 'dataset_doi': '10.24432/C52P4X', 'creators': ['Andras Janosi', 'William Steinbrunn', 'Matthias Pfisterer', 'Robert Detrano'], 'intro_paper': {'title': 'International application of a new probability algorithm for the diagnosis of coronary artery disease.', 'authors': 'R. Detrano, A. Jánosi, W. Steinbrunn, M. Pfisterer, J. Schmid, S. Sandhu, K. Guppy, S. Lee, V. Froelicher', 'published_in': 'American Journal of Cardiology', 'year': 1989, 'url': 'https://www.semanticscholar.org/paper/a7d714f8f87bfc41351eb5ae1e5472f0ebbe0574', 'doi': None}, 'additional_info': {'summary': 'This database contains 76 attributes, but all published experiments refer to using a subset of 14 of them.  In particular, the Cleveland database is the only one that has been used by ML researchers to date.  The \"goal\" field refers to the presence of heart disease in the patient.  It is integer valued from 0 (no presence) to 4. Experiments with the Cleveland database have concentrated on simply attempting to distinguish presence (values 1,2,3,4) from absence (value 0).  \\n   \\nThe names and social security numbers of the patients were recently removed from the database, replaced with dummy values.\\n\\nOne file has been \"processed\", that one containing the Cleveland database.  All four unprocessed files also exist in this directory.\\n\\nTo see Test Costs (donated by Peter Turney), please see the folder \"Costs\" ', 'purpose': None, 'funded_by': None, 'instances_represent': None, 'recommended_data_splits': None, 'sensitive_data': None, 'preprocessing_description': None, 'variable_info': 'Only 14 attributes used:\\r\\n      1. #3  (age)       \\r\\n      2. #4  (sex)       \\r\\n      3. #9  (cp)        \\r\\n      4. #10 (trestbps)  \\r\\n      5. #12 (chol)      \\r\\n      6. #16 (fbs)       \\r\\n      7. #19 (restecg)   \\r\\n      8. #32 (thalach)   \\r\\n      9. #38 (exang)     \\r\\n      10. #40 (oldpeak)   \\r\\n      11. #41 (slope)     \\r\\n      12. #44 (ca)        \\r\\n      13. #51 (thal)      \\r\\n      14. #58 (num)       (the predicted attribute)\\r\\n\\r\\nComplete attribute documentation:\\r\\n      1 id: patient identification number\\r\\n      2 ccf: social security number (I replaced this with a dummy value of 0)\\r\\n      3 age: age in years\\r\\n      4 sex: sex (1 = male; 0 = female)\\r\\n      5 painloc: chest pain location (1 = substernal; 0 = otherwise)\\r\\n      6 painexer (1 = provoked by exertion; 0 = otherwise)\\r\\n      7 relrest (1 = relieved after rest; 0 = otherwise)\\r\\n      8 pncaden (sum of 5, 6, and 7)\\r\\n      9 cp: chest pain type\\r\\n        -- Value 1: typical angina\\r\\n        -- Value 2: atypical angina\\r\\n        -- Value 3: non-anginal pain\\r\\n        -- Value 4: asymptomatic\\r\\n     10 trestbps: resting blood pressure (in mm Hg on admission to the hospital)\\r\\n     11 htn\\r\\n     12 chol: serum cholestoral in mg/dl\\r\\n     13 smoke: I believe this is 1 = yes; 0 = no (is or is not a smoker)\\r\\n     14 cigs (cigarettes per day)\\r\\n     15 years (number of years as a smoker)\\r\\n     16 fbs: (fasting blood sugar > 120 mg/dl)  (1 = true; 0 = false)\\r\\n     17 dm (1 = history of diabetes; 0 = no such history)\\r\\n     18 famhist: family history of coronary artery disease (1 = yes; 0 = no)\\r\\n     19 restecg: resting electrocardiographic results\\r\\n        -- Value 0: normal\\r\\n        -- Value 1: having ST-T wave abnormality (T wave inversions and/or ST elevation or depression of > 0.05 mV)\\r\\n        -- Value 2: showing probable or definite left ventricular hypertrophy by Estes\\' criteria\\r\\n     20 ekgmo (month of exercise ECG reading)\\r\\n     21 ekgday(day of exercise ECG reading)\\r\\n     22 ekgyr (year of exercise ECG reading)\\r\\n     23 dig (digitalis used furing exercise ECG: 1 = yes; 0 = no)\\r\\n     24 prop (Beta blocker used during exercise ECG: 1 = yes; 0 = no)\\r\\n     25 nitr (nitrates used during exercise ECG: 1 = yes; 0 = no)\\r\\n     26 pro (calcium channel blocker used during exercise ECG: 1 = yes; 0 = no)\\r\\n     27 diuretic (diuretic used used during exercise ECG: 1 = yes; 0 = no)\\r\\n     28 proto: exercise protocol\\r\\n          1 = Bruce     \\r\\n          2 = Kottus\\r\\n          3 = McHenry\\r\\n          4 = fast Balke\\r\\n          5 = Balke\\r\\n          6 = Noughton \\r\\n          7 = bike 150 kpa min/min  (Not sure if \"kpa min/min\" is what was written!)\\r\\n          8 = bike 125 kpa min/min  \\r\\n          9 = bike 100 kpa min/min\\r\\n         10 = bike 75 kpa min/min\\r\\n         11 = bike 50 kpa min/min\\r\\n         12 = arm ergometer\\r\\n     29 thaldur: duration of exercise test in minutes\\r\\n     30 thaltime: time when ST measure depression was noted\\r\\n     31 met: mets achieved\\r\\n     32 thalach: maximum heart rate achieved\\r\\n     33 thalrest: resting heart rate\\r\\n     34 tpeakbps: peak exercise blood pressure (first of 2 parts)\\r\\n     35 tpeakbpd: peak exercise blood pressure (second of 2 parts)\\r\\n     36 dummy\\r\\n     37 trestbpd: resting blood pressure\\r\\n     38 exang: exercise induced angina (1 = yes; 0 = no)\\r\\n     39 xhypo: (1 = yes; 0 = no)\\r\\n     40 oldpeak = ST depression induced by exercise relative to rest\\r\\n     41 slope: the slope of the peak exercise ST segment\\r\\n        -- Value 1: upsloping\\r\\n        -- Value 2: flat\\r\\n        -- Value 3: downsloping\\r\\n     42 rldv5: height at rest\\r\\n     43 rldv5e: height at peak exercise\\r\\n     44 ca: number of major vessels (0-3) colored by flourosopy\\r\\n     45 restckm: irrelevant\\r\\n     46 exerckm: irrelevant\\r\\n     47 restef: rest raidonuclid (sp?) ejection fraction\\r\\n     48 restwm: rest wall (sp?) motion abnormality\\r\\n        0 = none\\r\\n        1 = mild or moderate\\r\\n        2 = moderate or severe\\r\\n        3 = akinesis or dyskmem (sp?)\\r\\n     49 exeref: exercise radinalid (sp?) ejection fraction\\r\\n     50 exerwm: exercise wall (sp?) motion \\r\\n     51 thal: 3 = normal; 6 = fixed defect; 7 = reversable defect\\r\\n     52 thalsev: not used\\r\\n     53 thalpul: not used\\r\\n     54 earlobe: not used\\r\\n     55 cmo: month of cardiac cath (sp?)  (perhaps \"call\")\\r\\n     56 cday: day of cardiac cath (sp?)\\r\\n     57 cyr: year of cardiac cath (sp?)\\r\\n     58 num: diagnosis of heart disease (angiographic disease status)\\r\\n        -- Value 0: < 50% diameter narrowing\\r\\n        -- Value 1: > 50% diameter narrowing\\r\\n        (in any major vessel: attributes 59 through 68 are vessels)\\r\\n     59 lmt\\r\\n     60 ladprox\\r\\n     61 laddist\\r\\n     62 diag\\r\\n     63 cxmain\\r\\n     64 ramus\\r\\n     65 om1\\r\\n     66 om2\\r\\n     67 rcaprox\\r\\n     68 rcadist\\r\\n     69 lvx1: not used\\r\\n     70 lvx2: not used\\r\\n     71 lvx3: not used\\r\\n     72 lvx4: not used\\r\\n     73 lvf: not used\\r\\n     74 cathef: not used\\r\\n     75 junk: not used\\r\\n     76 name: last name of patient  (I replaced this with the dummy string \"name\")', 'citation': None}}\n",
            "_____________________________________________________________________________________________________________________________________________________________________\n",
            "        name     role         type demographic  \\\n",
            "0        age  Feature      Integer         Age   \n",
            "1        sex  Feature  Categorical         Sex   \n",
            "2         cp  Feature  Categorical        None   \n",
            "3   trestbps  Feature      Integer        None   \n",
            "4       chol  Feature      Integer        None   \n",
            "5        fbs  Feature  Categorical        None   \n",
            "6    restecg  Feature  Categorical        None   \n",
            "7    thalach  Feature      Integer        None   \n",
            "8      exang  Feature  Categorical        None   \n",
            "9    oldpeak  Feature      Integer        None   \n",
            "10     slope  Feature  Categorical        None   \n",
            "11        ca  Feature      Integer        None   \n",
            "12      thal  Feature  Categorical        None   \n",
            "13       num   Target      Integer        None   \n",
            "\n",
            "                                          description  units missing_values  \n",
            "0                                                None  years             no  \n",
            "1                                                None   None             no  \n",
            "2                                                None   None             no  \n",
            "3   resting blood pressure (on admission to the ho...  mm Hg             no  \n",
            "4                                   serum cholestoral  mg/dl             no  \n",
            "5                     fasting blood sugar > 120 mg/dl   None             no  \n",
            "6                                                None   None             no  \n",
            "7                         maximum heart rate achieved   None             no  \n",
            "8                             exercise induced angina   None             no  \n",
            "9   ST depression induced by exercise relative to ...   None             no  \n",
            "10                                               None   None             no  \n",
            "11  number of major vessels (0-3) colored by flour...   None            yes  \n",
            "12                                               None   None            yes  \n",
            "13                         diagnosis of heart disease   None             no  \n"
          ]
        }
      ]
    },
    {
      "cell_type": "code",
      "source": [
        "url = 'https://archive.ics.uci.edu/static/public/45/data.csv'\n",
        "df = pd.read_csv(url)\n",
        "print(df)"
      ],
      "metadata": {
        "id": "OQAbUuGeGMGq",
        "outputId": "15d0fd20-71d1-48e6-dd7b-4f87a8db2a81",
        "colab": {
          "base_uri": "https://localhost:8080/"
        }
      },
      "execution_count": 108,
      "outputs": [
        {
          "output_type": "stream",
          "name": "stdout",
          "text": [
            "     age  sex  cp  trestbps  chol  fbs  restecg  thalach  exang  oldpeak  \\\n",
            "0     63    1   1       145   233    1        2      150      0      2.3   \n",
            "1     67    1   4       160   286    0        2      108      1      1.5   \n",
            "2     67    1   4       120   229    0        2      129      1      2.6   \n",
            "3     37    1   3       130   250    0        0      187      0      3.5   \n",
            "4     41    0   2       130   204    0        2      172      0      1.4   \n",
            "..   ...  ...  ..       ...   ...  ...      ...      ...    ...      ...   \n",
            "298   45    1   1       110   264    0        0      132      0      1.2   \n",
            "299   68    1   4       144   193    1        0      141      0      3.4   \n",
            "300   57    1   4       130   131    0        0      115      1      1.2   \n",
            "301   57    0   2       130   236    0        2      174      0      0.0   \n",
            "302   38    1   3       138   175    0        0      173      0      0.0   \n",
            "\n",
            "     slope   ca  thal  num  \n",
            "0        3  0.0   6.0    0  \n",
            "1        2  3.0   3.0    2  \n",
            "2        2  2.0   7.0    1  \n",
            "3        3  0.0   3.0    0  \n",
            "4        1  0.0   3.0    0  \n",
            "..     ...  ...   ...  ...  \n",
            "298      2  0.0   7.0    1  \n",
            "299      2  2.0   7.0    2  \n",
            "300      2  1.0   7.0    3  \n",
            "301      2  1.0   3.0    1  \n",
            "302      1  NaN   3.0    0  \n",
            "\n",
            "[303 rows x 14 columns]\n"
          ]
        }
      ]
    },
    {
      "cell_type": "code",
      "source": [
        "#Separate features and target variable\n",
        "X_train, X_test, y_train, y_test = train_test_split(X, y, test_size=0.2, random_state=42)"
      ],
      "metadata": {
        "id": "C6rBFrhX_c5o"
      },
      "execution_count": 109,
      "outputs": []
    },
    {
      "cell_type": "markdown",
      "source": [
        "# Task 2: Data Preprocessing\n",
        "1. Handle missing values if any.\n",
        "2. Encode categorical variables using appropriate methods.\n",
        "3. Standardize or normalize numerical features if necessary."
      ],
      "metadata": {
        "id": "R6mFhVc8LpGW"
      }
    },
    {
      "cell_type": "code",
      "execution_count": 110,
      "metadata": {
        "id": "8gqyaMz3LTaZ",
        "colab": {
          "base_uri": "https://localhost:8080/"
        },
        "outputId": "6cb7a0dd-06d4-444b-88c9-ecc004e80fd7"
      },
      "outputs": [
        {
          "output_type": "stream",
          "name": "stdout",
          "text": [
            "age           int64\n",
            "sex           int64\n",
            "cp            int64\n",
            "trestbps      int64\n",
            "chol          int64\n",
            "fbs           int64\n",
            "restecg       int64\n",
            "thalach       int64\n",
            "exang         int64\n",
            "oldpeak     float64\n",
            "slope         int64\n",
            "ca          float64\n",
            "thal        float64\n",
            "num           int64\n",
            "dtype: object\n",
            "\n",
            "\n",
            "age         0\n",
            "sex         0\n",
            "cp          0\n",
            "trestbps    0\n",
            "chol        0\n",
            "fbs         0\n",
            "restecg     0\n",
            "thalach     0\n",
            "exang       0\n",
            "oldpeak     0\n",
            "slope       0\n",
            "ca          4\n",
            "thal        2\n",
            "num         0\n",
            "dtype: int64\n"
          ]
        }
      ],
      "source": [
        "# insert code here\n",
        "print(df.dtypes)\n",
        "print(\"\\n\")\n",
        "print(df.isnull().sum())"
      ]
    },
    {
      "cell_type": "code",
      "source": [
        "#Filling the missing data with the mean value\n",
        "df = df.fillna(df.mean())\n",
        "\n",
        "\n",
        "print(df.isnull().sum())"
      ],
      "metadata": {
        "id": "95Z5tMDdKsIr",
        "outputId": "5824a791-13ef-413e-cbb0-1f0ba1dd9815",
        "colab": {
          "base_uri": "https://localhost:8080/"
        }
      },
      "execution_count": 111,
      "outputs": [
        {
          "output_type": "stream",
          "name": "stdout",
          "text": [
            "age         0\n",
            "sex         0\n",
            "cp          0\n",
            "trestbps    0\n",
            "chol        0\n",
            "fbs         0\n",
            "restecg     0\n",
            "thalach     0\n",
            "exang       0\n",
            "oldpeak     0\n",
            "slope       0\n",
            "ca          0\n",
            "thal        0\n",
            "num         0\n",
            "dtype: int64\n"
          ]
        }
      ]
    },
    {
      "cell_type": "code",
      "source": [
        "from sklearn.preprocessing import StandardScaler\n",
        "\n",
        "# define standard scaler\n",
        "scaler = StandardScaler()\n",
        "\n",
        "# transform data\n",
        "df = scaler.fit_transform(df)\n",
        "\n",
        "print(df)\n"
      ],
      "metadata": {
        "id": "2bndOOvHTGNi",
        "outputId": "162f5ab7-5a32-4ff5-e794-91b5efb7bd3b",
        "colab": {
          "base_uri": "https://localhost:8080/"
        }
      },
      "execution_count": 112,
      "outputs": [
        {
          "output_type": "stream",
          "name": "stdout",
          "text": [
            "[[ 0.94872647  0.68620244 -2.25177456 ... -0.72309499  0.65581797\n",
            "  -0.76419779]\n",
            " [ 1.39200191  0.68620244  0.87798549 ...  2.50385129 -0.89852225\n",
            "   0.86644961]\n",
            " [ 1.39200191  0.68620244  0.87798549 ...  1.42820253  1.17393137\n",
            "   0.05112591]\n",
            " ...\n",
            " [ 0.28381332  0.68620244  0.87798549 ...  0.35255377  1.17393137\n",
            "   1.68177331]\n",
            " [ 0.28381332 -1.4572959  -1.20852121 ...  0.35255377 -0.89852225\n",
            "   0.05112591]\n",
            " [-1.82174501  0.68620244 -0.16526786 ...  0.         -0.89852225\n",
            "  -0.76419779]]\n"
          ]
        }
      ]
    },
    {
      "cell_type": "markdown",
      "source": [
        "# Task 3: Initial XGBoost Model\n",
        "1. Build an initial XGBoost model using default hyperparameters.\n",
        "2. Train the model on the training set and evaluate its performance on the testing set.\n",
        "3. Note down the accuracy and any other relevant metrics."
      ],
      "metadata": {
        "id": "YZXT_IjuLzAt"
      }
    },
    {
      "cell_type": "code",
      "source": [
        "# insert code here\n",
        "!pip install xgboost\n",
        "from xgboost import XGBClassifier\n",
        "from sklearn.metrics import accuracy_score, precision_score, recall_score\n",
        "\n",
        "model = XGBClassifier()\n",
        "\n",
        "model.fit(X_train, y_train)\n",
        "\n",
        "predictions = model.predict(X_test)\n",
        "accuracy = accuracy_score(y_test, predictions)\n",
        "print()\n",
        "print(\"Accuracy:\", accuracy)"
      ],
      "metadata": {
        "id": "6H-Za_CvL2JK",
        "colab": {
          "base_uri": "https://localhost:8080/"
        },
        "outputId": "fa485624-b9f9-478e-f85c-c56ed1859cfd"
      },
      "execution_count": 124,
      "outputs": [
        {
          "output_type": "stream",
          "name": "stdout",
          "text": [
            "Requirement already satisfied: xgboost in /usr/local/lib/python3.10/dist-packages (2.0.2)\n",
            "Requirement already satisfied: numpy in /usr/local/lib/python3.10/dist-packages (from xgboost) (1.23.5)\n",
            "Requirement already satisfied: scipy in /usr/local/lib/python3.10/dist-packages (from xgboost) (1.11.4)\n",
            "\n",
            "Accuracy: 0.47540983606557374\n"
          ]
        }
      ]
    },
    {
      "cell_type": "markdown",
      "source": [
        "# Task 4: Hyperparameter Tuning\n",
        "1. Experiment with hyperparameter tuning to improve model performance.\n",
        "2. Adjust hyperparameters such as learning_rate, n_estimators, max_depth, etc.\n",
        "3. Use techniques like cross-validation to find optimal hyperparameters.\n",
        "4. Train and evaluate the model with the tuned hyperparameters."
      ],
      "metadata": {
        "id": "WFnt6TGPL3lI"
      }
    },
    {
      "cell_type": "code",
      "source": [
        "# insert code here\n",
        "from sklearn.model_selection import GridSearchCV, StratifiedKFold\n",
        "\n",
        "#testing hyperparameters\n",
        "param_grid = {\n",
        "    'learning_rate': [0.01, 0.1, 0.2],\n",
        "    'n_estimators': [100, 200, 300],\n",
        "    'max_depth': [3, 4, 5]\n",
        "}\n",
        "\n",
        "grid_search = GridSearchCV(estimator=model, param_grid=param_grid, scoring='accuracy',n_jobs=-1,cv=5)\n",
        "\n",
        "grid_search.fit(X_train, y_train)\n",
        "\n",
        "#best parameters\n",
        "print( grid_search.best_params_)"
      ],
      "metadata": {
        "id": "nTKRJpnzL9n6",
        "colab": {
          "base_uri": "https://localhost:8080/"
        },
        "outputId": "4ec56b16-918f-4807-f97e-bea607e47d4a"
      },
      "execution_count": 114,
      "outputs": [
        {
          "output_type": "stream",
          "name": "stdout",
          "text": [
            "{'learning_rate': 0.1, 'max_depth': 4, 'n_estimators': 100}\n"
          ]
        }
      ]
    },
    {
      "cell_type": "code",
      "source": [
        "bettermodel = XGBClassifier(learning_rate=0.1, max_depth=4, n_estimators=100)\n",
        "\n",
        "bettermodel.fit(X_train, y_train)\n",
        "\n",
        "betterpredictions = bettermodel.predict(X_test)\n",
        "accuracy2 = accuracy_score(y_test, betterpredictions)\n",
        "print(\"Accuracy:\", accuracy2)\n"
      ],
      "metadata": {
        "colab": {
          "base_uri": "https://localhost:8080/"
        },
        "id": "U0M9M5YL1kBC",
        "outputId": "9d3bf469-f18b-4a4e-f462-d6eff935bbdf"
      },
      "execution_count": 116,
      "outputs": [
        {
          "output_type": "stream",
          "name": "stdout",
          "text": [
            "Accuracy: 0.5245901639344263\n"
          ]
        }
      ]
    },
    {
      "cell_type": "markdown",
      "source": [
        "# Task 5: Feature Importance\n",
        "1. Explore feature importance using the **feature_importances_** attribute of the trained XGBoost model.\n",
        "2. Identify the most important features for heart disease prediction."
      ],
      "metadata": {
        "id": "8Lumo2DCL_L9"
      }
    },
    {
      "cell_type": "code",
      "source": [
        "# insert code here\n",
        "import numpy as np\n",
        "import matplotlib.pyplot as plt\n",
        "\n",
        "feature_importance = bettermodel.feature_importances_\n",
        "\n",
        "sorted_indices = np.argsort(feature_importance)\n",
        "\n",
        "fig = plt.figure(figsize=(10,10))\n",
        "plt.barh(range(len(sorted_indices)), feature_importance[sorted_indices], align='center')\n",
        "plt.yticks(range(len(sorted_indices)), np.array(X_test.columns)[sorted_indices])\n"
      ],
      "metadata": {
        "id": "GbH5D_YHMGav",
        "colab": {
          "base_uri": "https://localhost:8080/",
          "height": 1000
        },
        "outputId": "44dd3d48-3485-4b52-d535-bd90a8bab7eb"
      },
      "execution_count": 121,
      "outputs": [
        {
          "output_type": "execute_result",
          "data": {
            "text/plain": [
              "([<matplotlib.axis.YTick at 0x7852102db610>,\n",
              "  <matplotlib.axis.YTick at 0x7852102db0d0>,\n",
              "  <matplotlib.axis.YTick at 0x785210336650>,\n",
              "  <matplotlib.axis.YTick at 0x785210479a20>,\n",
              "  <matplotlib.axis.YTick at 0x785210374970>,\n",
              "  <matplotlib.axis.YTick at 0x785210375420>,\n",
              "  <matplotlib.axis.YTick at 0x785210375ed0>,\n",
              "  <matplotlib.axis.YTick at 0x785210375660>,\n",
              "  <matplotlib.axis.YTick at 0x7852103768f0>,\n",
              "  <matplotlib.axis.YTick at 0x7852103773a0>,\n",
              "  <matplotlib.axis.YTick at 0x785210377e80>,\n",
              "  <matplotlib.axis.YTick at 0x785210390970>,\n",
              "  <matplotlib.axis.YTick at 0x7852103744c0>],\n",
              " [Text(0, 0, 'restecg'),\n",
              "  Text(0, 1, 'trestbps'),\n",
              "  Text(0, 2, 'chol'),\n",
              "  Text(0, 3, 'age'),\n",
              "  Text(0, 4, 'fbs'),\n",
              "  Text(0, 5, 'thalach'),\n",
              "  Text(0, 6, 'sex'),\n",
              "  Text(0, 7, 'oldpeak'),\n",
              "  Text(0, 8, 'slope'),\n",
              "  Text(0, 9, 'exang'),\n",
              "  Text(0, 10, 'thal'),\n",
              "  Text(0, 11, 'ca'),\n",
              "  Text(0, 12, 'cp')])"
            ]
          },
          "metadata": {},
          "execution_count": 121
        },
        {
          "output_type": "display_data",
          "data": {
            "text/plain": [
              "<Figure size 1000x1000 with 1 Axes>"
            ],
            "image/png": "[encoded data removed]"
          },
          "metadata": {}
        }
      ]
    },
    {
      "cell_type": "code",
      "source": [
        "#features are sorted from the most to the less important"
      ],
      "metadata": {
        "id": "ZWWqD75LA0PL"
      },
      "execution_count": null,
      "outputs": []
    },
    {
      "cell_type": "markdown",
      "source": [
        "# Task 6: Model Evaluation\n",
        "1. Compare the performance metrics of the initial model and the tuned model.\n",
        "2. Visualize the improvement achieved in a clear and concise manner.\n",
        "3. Discuss the impact of hyperparameter tuning and feature importance on model performance."
      ],
      "metadata": {
        "id": "JiAL2L9LMFpL"
      }
    },
    {
      "cell_type": "code",
      "source": [
        "# insert code here\n",
        "\n",
        "precision = precision_score(y_test, predictions,average='weighted')\n",
        "precision2 = precision_score(y_test, betterpredictions,average='weighted')\n",
        "\n",
        "recall = recall_score(y_test, predictions,average='weighted')\n",
        "recall2 = recall_score(y_test, betterpredictions,average='weighted')\n",
        "\n",
        "#we already calculated accuracy of both models\n",
        "\n",
        "print(\"Accuracy of not tuned model:\", accuracy)\n",
        "print(\"Accuracy of tuned model:\", accuracy2)\n",
        "print()\n",
        "print(\"precision of not tuned model:\", precision)\n",
        "print(\"precision2 of tuned model:\", precision2)\n",
        "print()\n",
        "print(\"recall of not tuned model:\", recall)\n",
        "print(\"recall2 of tuned model:\", recall2)\n",
        "print()\n",
        "print(\"THe tuned model has better performances\")\n",
        "print()"
      ],
      "metadata": {
        "id": "PpqMJ4bBMNRa",
        "colab": {
          "base_uri": "https://localhost:8080/"
        },
        "outputId": "3d2a9984-f060-44d9-f969-50d3a1606b6d"
      },
      "execution_count": 127,
      "outputs": [
        {
          "output_type": "stream",
          "name": "stdout",
          "text": [
            "Accuracy of not tuned model: 0.47540983606557374\n",
            "Accuracy of tuned model: 0.5245901639344263\n",
            "\n",
            "precision of not tuned model: 0.4074011571841851\n",
            "precision2 of tuned model: 0.4495316159250586\n",
            "\n",
            "recall of not tuned model: 0.47540983606557374\n",
            "recall2 of tuned model: 0.5245901639344263\n",
            "\n",
            "THe tuned model has better performances\n",
            "\n"
          ]
        },
        {
          "output_type": "stream",
          "name": "stderr",
          "text": [
            "/usr/local/lib/python3.10/dist-packages/sklearn/metrics/_classification.py:1344: UndefinedMetricWarning: Precision is ill-defined and being set to 0.0 in labels with no predicted samples. Use `zero_division` parameter to control this behavior.\n",
            "  _warn_prf(average, modifier, msg_start, len(result))\n"
          ]
        }
      ]
    }
  ]
}