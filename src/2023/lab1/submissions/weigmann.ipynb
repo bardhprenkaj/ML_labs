{
  "cells": [
    {
      "cell_type": "markdown",
      "metadata": {
        "id": "xPYdYTOOLXFO"
      },
      "source": [
        "**Objective**: Build an XGBoost model for predicting heart disease and experiment with hyperparameter tuning to improve its performance.\n",
        "\n",
        "Dataset: [Heart Disease UCI](https://archive.ics.uci.edu/dataset/45/heart+disease)"
      ]
    },
    {
      "cell_type": "markdown",
      "metadata": {
        "id": "pob-gDK2Ll8V"
      },
      "source": [
        "# Task 1: Data Loading and Exploration\n",
        "1. Load the Heart Disease UCI dataset.\n",
        "2. Explore the dataset to understand its structure and features.\n",
        "3. Split the data into training and testing sets."
      ]
    },
    {
      "cell_type": "code",
      "execution_count": 104,
      "metadata": {
        "id": "3_HtpocjLpun"
      },
      "outputs": [
        {
          "name": "stdout",
          "output_type": "stream",
          "text": [
            "<bound method NDFrame.head of       age  sex   cp  trestbps   chol  fbs  restecg  thalach  exang  oldpeak  \\\n",
            "0    63.0  1.0  1.0     145.0  233.0  1.0      2.0    150.0    0.0      2.3   \n",
            "1    67.0  1.0  4.0     160.0  286.0  0.0      2.0    108.0    1.0      1.5   \n",
            "2    67.0  1.0  4.0     120.0  229.0  0.0      2.0    129.0    1.0      2.6   \n",
            "3    37.0  1.0  3.0     130.0  250.0  0.0      0.0    187.0    0.0      3.5   \n",
            "4    41.0  0.0  2.0     130.0  204.0  0.0      2.0    172.0    0.0      1.4   \n",
            "..    ...  ...  ...       ...    ...  ...      ...      ...    ...      ...   \n",
            "298  45.0  1.0  1.0     110.0  264.0  0.0      0.0    132.0    0.0      1.2   \n",
            "299  68.0  1.0  4.0     144.0  193.0  1.0      0.0    141.0    0.0      3.4   \n",
            "300  57.0  1.0  4.0     130.0  131.0  0.0      0.0    115.0    1.0      1.2   \n",
            "301  57.0  0.0  2.0     130.0  236.0  0.0      2.0    174.0    0.0      0.0   \n",
            "302  38.0  1.0  3.0     138.0  175.0  0.0      0.0    173.0    0.0      0.0   \n",
            "\n",
            "     slope   ca  thal  target  \n",
            "0      3.0  0.0   6.0       0  \n",
            "1      2.0  3.0   3.0       2  \n",
            "2      2.0  2.0   7.0       1  \n",
            "3      3.0  0.0   3.0       0  \n",
            "4      1.0  0.0   3.0       0  \n",
            "..     ...  ...   ...     ...  \n",
            "298    2.0  0.0   7.0       1  \n",
            "299    2.0  2.0   7.0       2  \n",
            "300    2.0  1.0   7.0       3  \n",
            "301    2.0  1.0   3.0       1  \n",
            "302    1.0  NaN   3.0       0  \n",
            "\n",
            "[303 rows x 14 columns]>\n",
            "<bound method NDFrame.head of       age  sex   cp  trestbps   chol  fbs  restecg  thalach  exang  oldpeak  \\\n",
            "0    63.0  1.0  1.0     145.0  233.0  1.0      2.0    150.0    0.0      2.3   \n",
            "1    67.0  1.0  4.0     160.0  286.0  0.0      2.0    108.0    1.0      1.5   \n",
            "2    67.0  1.0  4.0     120.0  229.0  0.0      2.0    129.0    1.0      2.6   \n",
            "3    37.0  1.0  3.0     130.0  250.0  0.0      0.0    187.0    0.0      3.5   \n",
            "4    41.0  0.0  2.0     130.0  204.0  0.0      2.0    172.0    0.0      1.4   \n",
            "..    ...  ...  ...       ...    ...  ...      ...      ...    ...      ...   \n",
            "298  45.0  1.0  1.0     110.0  264.0  0.0      0.0    132.0    0.0      1.2   \n",
            "299  68.0  1.0  4.0     144.0  193.0  1.0      0.0    141.0    0.0      3.4   \n",
            "300  57.0  1.0  4.0     130.0  131.0  0.0      0.0    115.0    1.0      1.2   \n",
            "301  57.0  0.0  2.0     130.0  236.0  0.0      2.0    174.0    0.0      0.0   \n",
            "302  38.0  1.0  3.0     138.0  175.0  0.0      0.0    173.0    0.0      0.0   \n",
            "\n",
            "     slope   ca  thal  \n",
            "0      3.0  0.0   6.0  \n",
            "1      2.0  3.0   3.0  \n",
            "2      2.0  2.0   7.0  \n",
            "3      3.0  0.0   3.0  \n",
            "4      1.0  0.0   3.0  \n",
            "..     ...  ...   ...  \n",
            "298    2.0  0.0   7.0  \n",
            "299    2.0  2.0   7.0  \n",
            "300    2.0  1.0   7.0  \n",
            "301    2.0  1.0   3.0  \n",
            "302    1.0  NaN   3.0  \n",
            "\n",
            "[303 rows x 13 columns]>\n",
            "<bound method NDFrame.head of 0      0\n",
            "1      2\n",
            "2      1\n",
            "3      0\n",
            "4      0\n",
            "      ..\n",
            "298    1\n",
            "299    2\n",
            "300    3\n",
            "301    1\n",
            "302    0\n",
            "Name: target, Length: 303, dtype: int64>\n"
          ]
        }
      ],
      "source": [
        "from ucimlrepo import fetch_ucirepo\n",
        "from sklearn.model_selection import train_test_split\n",
        "import numpy as np\n",
        "import pandas as pd\n",
        "\n",
        "url = \"https://archive.ics.uci.edu/ml/machine-learning-databases/heart-disease/processed.cleveland.data\"\n",
        "\n",
        "column_names = ['age', 'sex', 'cp', 'trestbps', 'chol', 'fbs', 'restecg', 'thalach', 'exang', 'oldpeak', 'slope', 'ca', 'thal', 'target']\n",
        "heart_data = pd.read_csv(url, names=column_names, na_values='?')\n",
        "\n",
        "print(heart_data.head)\n",
        "\n",
        "X = heart_data.drop('target',axis=1)\n",
        "y = heart_data['target']\n",
        "\n",
        "print(X.head)\n",
        "print(y.head)"
      ]
    },
    {
      "cell_type": "code",
      "execution_count": 105,
      "metadata": {},
      "outputs": [
        {
          "name": "stdout",
          "output_type": "stream",
          "text": [
            "(242, 13) (61, 13) (242,) (61,)\n"
          ]
        }
      ],
      "source": [
        "# Split into training and test set\n",
        "X_train, X_test, y_train, y_test = train_test_split(X, y,test_size=0.2,random_state=50)\n",
        "\n",
        "print(X_train.shape,X_test.shape,y_train.shape,y_test.shape)"
      ]
    },
    {
      "cell_type": "markdown",
      "metadata": {
        "id": "R6mFhVc8LpGW"
      },
      "source": [
        "# Task 2: Data Preprocessing\n",
        "1. Handle missing values if any.\n",
        "2. Encode categorical variables using appropriate methods.\n",
        "3. Standardize or normalize numerical features if necessary."
      ]
    },
    {
      "cell_type": "code",
      "execution_count": 106,
      "metadata": {
        "id": "8gqyaMz3LTaZ"
      },
      "outputs": [
        {
          "name": "stdout",
          "output_type": "stream",
          "text": [
            "Index(['age', 'sex', 'cp', 'trestbps', 'chol', 'fbs', 'restecg', 'thalach',\n",
            "       'exang', 'oldpeak', 'slope', 'ca', 'thal'],\n",
            "      dtype='object')\n"
          ]
        }
      ],
      "source": [
        "from sklearn.impute import SimpleImputer\n",
        "from sklearn.preprocessing import StandardScaler, OneHotEncoder\n",
        "from sklearn.compose import ColumnTransformer\n",
        "from sklearn.pipeline import Pipeline\n",
        "\n",
        "heart_data.isnull().sum()\n",
        "numerical_features = heart_data.select_dtypes(include=['float64']).columns\n",
        "print(numerical_features)\n",
        "\n",
        "imputer = SimpleImputer(strategy='mean')\n",
        "X_train[numerical_features] = imputer.fit_transform(X_train[numerical_features])\n",
        "X_test[numerical_features] = imputer.transform(X_test[numerical_features])\n"
      ]
    },
    {
      "cell_type": "code",
      "execution_count": 107,
      "metadata": {},
      "outputs": [
        {
          "name": "stdout",
          "output_type": "stream",
          "text": [
            "(242, 38)\n",
            "(61, 38)\n"
          ]
        }
      ],
      "source": [
        "categorical_features=['sex','cp','fbs','restecg','exang','slope','ca','thal']\n",
        "\n",
        "preprocessor = ColumnTransformer(\n",
        "    transformers=[\n",
        "        ('num', StandardScaler(), numerical_features),\n",
        "        ('cat', OneHotEncoder(), categorical_features)\n",
        "    ]\n",
        ")\n",
        "\n",
        "X_train_preprocessed = preprocessor.fit_transform(X_train)\n",
        "print(X_train_preprocessed.shape)\n",
        "X_test_preprocessed = preprocessor.transform(X_test)\n",
        "print(X_test_preprocessed.shape)"
      ]
    },
    {
      "cell_type": "markdown",
      "metadata": {
        "id": "YZXT_IjuLzAt"
      },
      "source": [
        "# Task 3: Initial XGBoost Model\n",
        "1. Build an initial XGBoost model using default hyperparameters.\n",
        "2. Train the model on the training set and evaluate its performance on the testing set.\n",
        "3. Note down the accuracy and any other relevant metrics."
      ]
    },
    {
      "cell_type": "code",
      "execution_count": 108,
      "metadata": {
        "id": "6H-Za_CvL2JK"
      },
      "outputs": [
        {
          "name": "stdout",
          "output_type": "stream",
          "text": [
            "Test accuracy 0.5081967213114754\n"
          ]
        }
      ],
      "source": [
        "import xgboost as xgb\n",
        "from xgboost import XGBClassifier\n",
        "from sklearn.metrics import accuracy_score\n",
        "\n",
        "# Create and train XGBoost model\n",
        "xgb_model = XGBClassifier(random_state=30, learning_rate=0.001, max_depth=8, n_estimators=100)\n",
        "xgb_model.fit(X_train_preprocessed, y_train)\n",
        "\n",
        "# Make predictions on the test set\n",
        "xgb_predictions = xgb_model.predict(X_test_preprocessed)\n",
        "\n",
        "# Evaluate the accuracy of the model\n",
        "xgb_accuracy = accuracy_score(y_test, xgb_predictions)\n",
        "print(f'Test accuracy {xgb_accuracy}')"
      ]
    },
    {
      "cell_type": "markdown",
      "metadata": {
        "id": "WFnt6TGPL3lI"
      },
      "source": [
        "# Task 4: Hyperparameter Tuning\n",
        "1. Experiment with hyperparameter tuning to improve model performance.\n",
        "2. Adjust hyperparameters such as learning_rate, n_estimators, max_depth, etc.\n",
        "3. Use techniques like cross-validation to find optimal hyperparameters.\n",
        "4. Train and evaluate the model with the tuned hyperparameters."
      ]
    },
    {
      "cell_type": "code",
      "execution_count": 109,
      "metadata": {
        "id": "nTKRJpnzL9n6"
      },
      "outputs": [
        {
          "name": "stdout",
          "output_type": "stream",
          "text": [
            "Best parameters: {'learning_rate': 0.01, 'max_depth': 4, 'min_child_weight': 1, 'n_estimators': 50}\n"
          ]
        }
      ],
      "source": [
        "from sklearn.model_selection import GridSearchCV, KFold\n",
        "\n",
        "# Set values to grid search\n",
        "param_grid = {\n",
        "    'learning_rate': [0.1, 0.01, 0.001],\n",
        "    'max_depth': [2, 3, 4, 5, 6, 8, 10, 12],\n",
        "    'n_estimators': [10, 20, 30, 40, 50, 60, 70],\n",
        "    'min_child_weight': [1, 3, 5]\n",
        "}\n",
        "\n",
        "# Perform grid search and save best params (may take some seconds)\n",
        "grid_search = GridSearchCV(estimator=xgb_model, param_grid=param_grid, scoring='accuracy', cv=5, n_jobs=-1)\n",
        "grid_search.fit(X_train_preprocessed, y_train)\n",
        "best_params = grid_search.best_params_\n",
        "print(f'Best parameters: {best_params}')\n"
      ]
    },
    {
      "cell_type": "code",
      "execution_count": 110,
      "metadata": {},
      "outputs": [
        {
          "name": "stdout",
          "output_type": "stream",
          "text": [
            "Test accuracy 0.5573770491803278\n"
          ]
        }
      ],
      "source": [
        "# Evaluate performance of optimized model\n",
        "best_model = grid_search.best_estimator_\n",
        "\n",
        "optimized_pred = best_model.predict(X_test_preprocessed)\n",
        "\n",
        "optimized_accuracy = accuracy_score(y_test, optimized_pred)\n",
        "print(f'Test accuracy {optimized_accuracy}')"
      ]
    },
    {
      "cell_type": "markdown",
      "metadata": {
        "id": "8Lumo2DCL_L9"
      },
      "source": [
        "# Task 5: Feature Importance\n",
        "1. Explore feature importance using the **feature_importances_** attribute of the trained XGBoost model.\n",
        "2. Identify the most important features for heart disease prediction."
      ]
    },
    {
      "cell_type": "code",
      "execution_count": 112,
      "metadata": {
        "id": "GbH5D_YHMGav"
      },
      "outputs": [
        {
          "name": "stdout",
          "output_type": "stream",
          "text": [
            "{'age': 0.02484567, 'sex': 0.037874684, 'cp': 0.25232506, 'trestbps': 0.025446009, 'chol': 0.024759496, 'fbs': 0.03909103, 'restecg': 0.051601943, 'thalach': 0.044667408, 'exang': 0.042790025, 'oldpeak': 0.03986751, 'slope': 0.014357012, 'ca': 0.15906507, 'thal': 0.076333255, 'target': 0.0}\n",
            "Important features [('cp', 0.25232506), ('ca', 0.15906507), ('thal', 0.076333255), ('restecg', 0.051601943), ('thalach', 0.044667408)]\n"
          ]
        }
      ],
      "source": [
        "# Print feature importances\n",
        "feature_importances = xgb_model.feature_importances_\n",
        "feature_importance_dict = dict(zip(column_names, feature_importances))\n",
        "print(feature_importance_dict)\n",
        "\n",
        "# Print 5 most important features\n",
        "top_features = sorted(feature_importance_dict.items(), key=lambda x: x[1], reverse=True)[:5]\n",
        "print(\"Important features\", top_features)"
      ]
    },
    {
      "cell_type": "markdown",
      "metadata": {
        "id": "JiAL2L9LMFpL"
      },
      "source": [
        "# Task 6: Model Evaluation\n",
        "1. Compare the performance metrics of the initial model and the tuned model.\n",
        "2. Visualize the improvement achieved in a clear and concise manner.\n",
        "3. Discuss the impact of hyperparameter tuning and feature importance on model performance."
      ]
    },
    {
      "cell_type": "code",
      "execution_count": 113,
      "metadata": {
        "id": "PpqMJ4bBMNRa"
      },
      "outputs": [
        {
          "data": {
            "image/png": "[encoded data removed]",
            "text/plain": [
              "<Figure size 640x480 with 1 Axes>"
            ]
          },
          "metadata": {},
          "output_type": "display_data"
        }
      ],
      "source": [
        "import matplotlib.pyplot as plt\n",
        "\n",
        "# Create bar chart\n",
        "plt.bar([0.5], [xgb_accuracy], width=0.5, label='not optimized')\n",
        "plt.bar([1.5], [optimized_accuracy], width=0.5, label='optimized')\n",
        "\n",
        "plt.xlabel('Category')\n",
        "plt.ylabel('Accuracy')\n",
        "plt.xticks([0])\n",
        "plt.legend(loc='lower center')\n",
        "\n",
        "plt.show()"
      ]
    },
    {
      "cell_type": "markdown",
      "metadata": {},
      "source": [
        "The difference of the accuracy values is only marginal but still it could be improved. This has to be accounted to the fact that the dataset is very small and thus hyperparameter changes to really make a difference."
      ]
    }
  ],
  "metadata": {
    "colab": {
      "provenance": []
    },
    "kernelspec": {
      "display_name": "Python 3",
      "name": "python3"
    },
    "language_info": {
      "codemirror_mode": {
        "name": "ipython",
        "version": 3
      },
      "file_extension": ".py",
      "mimetype": "text/x-python",
      "name": "python",
      "nbconvert_exporter": "python",
      "pygments_lexer": "ipython3",
      "version": "3.10.13"
    }
  },
  "nbformat": 4,
  "nbformat_minor": 0
}
