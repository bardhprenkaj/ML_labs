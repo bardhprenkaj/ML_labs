{
 "nbformat": 4,
 "nbformat_minor": 0,
 "metadata": {
  "colab": {
   "provenance": []
  },
  "kernelspec": {
   "name": "python3",
   "language": "python",
   "display_name": "Python 3 (ipykernel)"
  },
  "language_info": {
   "name": "python"
  }
 },
 "cells": [
  {
   "cell_type": "markdown",
   "source": [
    "**Objective**: Build an XGBoost model for predicting heart disease and experiment with hyperparameter tuning to improve its performance.\n",
    "\n",
    "Dataset: [Heart Disease UCI](https://archive.ics.uci.edu/dataset/45/heart+disease)"
   ],
   "metadata": {
    "id": "xPYdYTOOLXFO"
   }
  },
  {
   "cell_type": "markdown",
   "source": [
    "# Task 1: Data Loading and Exploration\n",
    "1. Load the Heart Disease UCI dataset.\n",
    "2. Explore the dataset to understand its structure and features.\n",
    "3. Split the data into training and testing sets."
   ],
   "metadata": {
    "id": "pob-gDK2Ll8V"
   }
  },
  {
   "cell_type": "code",
   "source": [
    "from ucimlrepo import fetch_ucirepo \n",
    "  \n",
    "# fetch dataset \n",
    "heart_disease = fetch_ucirepo(id=45) \n",
    "  \n",
    "# data (as pandas dataframes) \n",
    "X = heart_disease.data.features \n",
    "y = heart_disease.data.targets \n",
    "\n",
    "# metadata \n",
    "print(heart_disease.metadata) \n",
    "  \n",
    "# variable information \n",
    "print(heart_disease.variables)"
   ],
   "metadata": {
    "id": "3_HtpocjLpun",
    "ExecuteTime": {
     "end_time": "2023-12-14T19:45:33.974429800Z",
     "start_time": "2023-12-14T19:45:32.637458Z"
    }
   },
   "execution_count": 2,
   "outputs": [
    {
     "name": "stdout",
     "output_type": "stream",
     "text": [
      "{'uci_id': 45, 'name': 'Heart Disease', 'repository_url': 'https://archive.ics.uci.edu/dataset/45/heart+disease', 'data_url': 'https://archive.ics.uci.edu/static/public/45/data.csv', 'abstract': '4 databases: Cleveland, Hungary, Switzerland, and the VA Long Beach', 'area': 'Health and Medicine', 'tasks': ['Classification'], 'characteristics': ['Multivariate'], 'num_instances': 303, 'num_features': 13, 'feature_types': ['Categorical', 'Integer', 'Real'], 'demographics': ['Age', 'Sex'], 'target_col': ['num'], 'index_col': None, 'has_missing_values': 'yes', 'missing_values_symbol': 'NaN', 'year_of_dataset_creation': 1989, 'last_updated': 'Fri Nov 03 2023', 'dataset_doi': '10.24432/C52P4X', 'creators': ['Andras Janosi', 'William Steinbrunn', 'Matthias Pfisterer', 'Robert Detrano'], 'intro_paper': {'title': 'International application of a new probability algorithm for the diagnosis of coronary artery disease.', 'authors': 'R. Detrano, A. Jánosi, W. Steinbrunn, M. Pfisterer, J. Schmid, S. Sandhu, K. Guppy, S. Lee, V. Froelicher', 'published_in': 'American Journal of Cardiology', 'year': 1989, 'url': 'https://www.semanticscholar.org/paper/a7d714f8f87bfc41351eb5ae1e5472f0ebbe0574', 'doi': None}, 'additional_info': {'summary': 'This database contains 76 attributes, but all published experiments refer to using a subset of 14 of them.  In particular, the Cleveland database is the only one that has been used by ML researchers to date.  The \"goal\" field refers to the presence of heart disease in the patient.  It is integer valued from 0 (no presence) to 4. Experiments with the Cleveland database have concentrated on simply attempting to distinguish presence (values 1,2,3,4) from absence (value 0).  \\n   \\nThe names and social security numbers of the patients were recently removed from the database, replaced with dummy values.\\n\\nOne file has been \"processed\", that one containing the Cleveland database.  All four unprocessed files also exist in this directory.\\n\\nTo see Test Costs (donated by Peter Turney), please see the folder \"Costs\" ', 'purpose': None, 'funded_by': None, 'instances_represent': None, 'recommended_data_splits': None, 'sensitive_data': None, 'preprocessing_description': None, 'variable_info': 'Only 14 attributes used:\\r\\n      1. #3  (age)       \\r\\n      2. #4  (sex)       \\r\\n      3. #9  (cp)        \\r\\n      4. #10 (trestbps)  \\r\\n      5. #12 (chol)      \\r\\n      6. #16 (fbs)       \\r\\n      7. #19 (restecg)   \\r\\n      8. #32 (thalach)   \\r\\n      9. #38 (exang)     \\r\\n      10. #40 (oldpeak)   \\r\\n      11. #41 (slope)     \\r\\n      12. #44 (ca)        \\r\\n      13. #51 (thal)      \\r\\n      14. #58 (num)       (the predicted attribute)\\r\\n\\r\\nComplete attribute documentation:\\r\\n      1 id: patient identification number\\r\\n      2 ccf: social security number (I replaced this with a dummy value of 0)\\r\\n      3 age: age in years\\r\\n      4 sex: sex (1 = male; 0 = female)\\r\\n      5 painloc: chest pain location (1 = substernal; 0 = otherwise)\\r\\n      6 painexer (1 = provoked by exertion; 0 = otherwise)\\r\\n      7 relrest (1 = relieved after rest; 0 = otherwise)\\r\\n      8 pncaden (sum of 5, 6, and 7)\\r\\n      9 cp: chest pain type\\r\\n        -- Value 1: typical angina\\r\\n        -- Value 2: atypical angina\\r\\n        -- Value 3: non-anginal pain\\r\\n        -- Value 4: asymptomatic\\r\\n     10 trestbps: resting blood pressure (in mm Hg on admission to the hospital)\\r\\n     11 htn\\r\\n     12 chol: serum cholestoral in mg/dl\\r\\n     13 smoke: I believe this is 1 = yes; 0 = no (is or is not a smoker)\\r\\n     14 cigs (cigarettes per day)\\r\\n     15 years (number of years as a smoker)\\r\\n     16 fbs: (fasting blood sugar > 120 mg/dl)  (1 = true; 0 = false)\\r\\n     17 dm (1 = history of diabetes; 0 = no such history)\\r\\n     18 famhist: family history of coronary artery disease (1 = yes; 0 = no)\\r\\n     19 restecg: resting electrocardiographic results\\r\\n        -- Value 0: normal\\r\\n        -- Value 1: having ST-T wave abnormality (T wave inversions and/or ST elevation or depression of > 0.05 mV)\\r\\n        -- Value 2: showing probable or definite left ventricular hypertrophy by Estes\\' criteria\\r\\n     20 ekgmo (month of exercise ECG reading)\\r\\n     21 ekgday(day of exercise ECG reading)\\r\\n     22 ekgyr (year of exercise ECG reading)\\r\\n     23 dig (digitalis used furing exercise ECG: 1 = yes; 0 = no)\\r\\n     24 prop (Beta blocker used during exercise ECG: 1 = yes; 0 = no)\\r\\n     25 nitr (nitrates used during exercise ECG: 1 = yes; 0 = no)\\r\\n     26 pro (calcium channel blocker used during exercise ECG: 1 = yes; 0 = no)\\r\\n     27 diuretic (diuretic used used during exercise ECG: 1 = yes; 0 = no)\\r\\n     28 proto: exercise protocol\\r\\n          1 = Bruce     \\r\\n          2 = Kottus\\r\\n          3 = McHenry\\r\\n          4 = fast Balke\\r\\n          5 = Balke\\r\\n          6 = Noughton \\r\\n          7 = bike 150 kpa min/min  (Not sure if \"kpa min/min\" is what was written!)\\r\\n          8 = bike 125 kpa min/min  \\r\\n          9 = bike 100 kpa min/min\\r\\n         10 = bike 75 kpa min/min\\r\\n         11 = bike 50 kpa min/min\\r\\n         12 = arm ergometer\\r\\n     29 thaldur: duration of exercise test in minutes\\r\\n     30 thaltime: time when ST measure depression was noted\\r\\n     31 met: mets achieved\\r\\n     32 thalach: maximum heart rate achieved\\r\\n     33 thalrest: resting heart rate\\r\\n     34 tpeakbps: peak exercise blood pressure (first of 2 parts)\\r\\n     35 tpeakbpd: peak exercise blood pressure (second of 2 parts)\\r\\n     36 dummy\\r\\n     37 trestbpd: resting blood pressure\\r\\n     38 exang: exercise induced angina (1 = yes; 0 = no)\\r\\n     39 xhypo: (1 = yes; 0 = no)\\r\\n     40 oldpeak = ST depression induced by exercise relative to rest\\r\\n     41 slope: the slope of the peak exercise ST segment\\r\\n        -- Value 1: upsloping\\r\\n        -- Value 2: flat\\r\\n        -- Value 3: downsloping\\r\\n     42 rldv5: height at rest\\r\\n     43 rldv5e: height at peak exercise\\r\\n     44 ca: number of major vessels (0-3) colored by flourosopy\\r\\n     45 restckm: irrelevant\\r\\n     46 exerckm: irrelevant\\r\\n     47 restef: rest raidonuclid (sp?) ejection fraction\\r\\n     48 restwm: rest wall (sp?) motion abnormality\\r\\n        0 = none\\r\\n        1 = mild or moderate\\r\\n        2 = moderate or severe\\r\\n        3 = akinesis or dyskmem (sp?)\\r\\n     49 exeref: exercise radinalid (sp?) ejection fraction\\r\\n     50 exerwm: exercise wall (sp?) motion \\r\\n     51 thal: 3 = normal; 6 = fixed defect; 7 = reversable defect\\r\\n     52 thalsev: not used\\r\\n     53 thalpul: not used\\r\\n     54 earlobe: not used\\r\\n     55 cmo: month of cardiac cath (sp?)  (perhaps \"call\")\\r\\n     56 cday: day of cardiac cath (sp?)\\r\\n     57 cyr: year of cardiac cath (sp?)\\r\\n     58 num: diagnosis of heart disease (angiographic disease status)\\r\\n        -- Value 0: < 50% diameter narrowing\\r\\n        -- Value 1: > 50% diameter narrowing\\r\\n        (in any major vessel: attributes 59 through 68 are vessels)\\r\\n     59 lmt\\r\\n     60 ladprox\\r\\n     61 laddist\\r\\n     62 diag\\r\\n     63 cxmain\\r\\n     64 ramus\\r\\n     65 om1\\r\\n     66 om2\\r\\n     67 rcaprox\\r\\n     68 rcadist\\r\\n     69 lvx1: not used\\r\\n     70 lvx2: not used\\r\\n     71 lvx3: not used\\r\\n     72 lvx4: not used\\r\\n     73 lvf: not used\\r\\n     74 cathef: not used\\r\\n     75 junk: not used\\r\\n     76 name: last name of patient  (I replaced this with the dummy string \"name\")', 'citation': None}}\n",
      "        name     role         type demographic  \\\n",
      "0        age  Feature      Integer         Age   \n",
      "1        sex  Feature  Categorical         Sex   \n",
      "2         cp  Feature  Categorical        None   \n",
      "3   trestbps  Feature      Integer        None   \n",
      "4       chol  Feature      Integer        None   \n",
      "5        fbs  Feature  Categorical        None   \n",
      "6    restecg  Feature  Categorical        None   \n",
      "7    thalach  Feature      Integer        None   \n",
      "8      exang  Feature  Categorical        None   \n",
      "9    oldpeak  Feature      Integer        None   \n",
      "10     slope  Feature  Categorical        None   \n",
      "11        ca  Feature      Integer        None   \n",
      "12      thal  Feature  Categorical        None   \n",
      "13       num   Target      Integer        None   \n",
      "\n",
      "                                          description  units missing_values  \n",
      "0                                                None  years             no  \n",
      "1                                                None   None             no  \n",
      "2                                                None   None             no  \n",
      "3   resting blood pressure (on admission to the ho...  mm Hg             no  \n",
      "4                                   serum cholestoral  mg/dl             no  \n",
      "5                     fasting blood sugar > 120 mg/dl   None             no  \n",
      "6                                                None   None             no  \n",
      "7                         maximum heart rate achieved   None             no  \n",
      "8                             exercise induced angina   None             no  \n",
      "9   ST depression induced by exercise relative to ...   None             no  \n",
      "10                                               None   None             no  \n",
      "11  number of major vessels (0-3) colored by flour...   None            yes  \n",
      "12                                               None   None            yes  \n",
      "13                         diagnosis of heart disease   None             no  \n"
     ]
    }
   ]
  },
  {
   "cell_type": "code",
   "execution_count": 3,
   "outputs": [],
   "source": [
    "from sklearn.model_selection import train_test_split\n",
    "X_train, X_test, y_train, y_test = train_test_split(X,y,test_size=0.2, random_state=42)"
   ],
   "metadata": {
    "collapsed": false,
    "ExecuteTime": {
     "end_time": "2023-12-14T19:45:35.941346500Z",
     "start_time": "2023-12-14T19:45:33.982428800Z"
    }
   }
  },
  {
   "cell_type": "code",
   "execution_count": 4,
   "outputs": [
    {
     "data": {
      "text/plain": "(242, 13)"
     },
     "execution_count": 4,
     "metadata": {},
     "output_type": "execute_result"
    }
   ],
   "source": [
    "X_train.shape"
   ],
   "metadata": {
    "collapsed": false,
    "ExecuteTime": {
     "end_time": "2023-12-14T19:45:36.032348800Z",
     "start_time": "2023-12-14T19:45:35.943346100Z"
    }
   }
  },
  {
   "cell_type": "code",
   "execution_count": 5,
   "outputs": [
    {
     "data": {
      "text/plain": "(61, 13)"
     },
     "execution_count": 5,
     "metadata": {},
     "output_type": "execute_result"
    }
   ],
   "source": [
    "X_test.shape"
   ],
   "metadata": {
    "collapsed": false,
    "ExecuteTime": {
     "end_time": "2023-12-14T19:45:36.045863400Z",
     "start_time": "2023-12-14T19:45:35.977344700Z"
    }
   }
  },
  {
   "cell_type": "markdown",
   "source": [
    "# Task 2: Data Preprocessing\n",
    "1. Handle missing values if any.\n",
    "2. Encode categorical variables using appropriate methods.\n",
    "3. Standardize or normalize numerical features if necessary."
   ],
   "metadata": {
    "id": "R6mFhVc8LpGW"
   }
  },
  {
   "cell_type": "code",
   "execution_count": 6,
   "metadata": {
    "id": "8gqyaMz3LTaZ",
    "ExecuteTime": {
     "end_time": "2023-12-14T19:45:36.191063700Z",
     "start_time": "2023-12-14T19:45:35.996342200Z"
    }
   },
   "outputs": [],
   "source": [
    "import pandas as pd\n",
    "from sklearn.impute import SimpleImputer\n",
    "from sklearn.preprocessing import StandardScaler, OneHotEncoder\n",
    "from sklearn.compose import ColumnTransformer\n",
    "from sklearn.pipeline import Pipeline"
   ]
  },
  {
   "cell_type": "code",
   "execution_count": 7,
   "outputs": [],
   "source": [
    "heart_disease = pd.concat([X,y], join='outer', axis=1)\n",
    "heart_disease.isnull().sum()\n",
    "\n",
    "numerical_features = heart_disease.select_dtypes(include=['float64']).columns\n",
    "categorical_features = ['sex','cp','fbs','restecg','exang','slope','ca','thal']\n",
    "preprocessor = ColumnTransformer(\n",
    "    transformers=[\n",
    "        ('num', StandardScaler(), numerical_features),\n",
    "        ('cat', OneHotEncoder(), categorical_features)\n",
    "    ]\n",
    ")"
   ],
   "metadata": {
    "collapsed": false,
    "ExecuteTime": {
     "end_time": "2023-12-14T19:45:36.207063900Z",
     "start_time": "2023-12-14T19:45:36.196066300Z"
    }
   }
  },
  {
   "cell_type": "markdown",
   "source": [
    "# Task 3: Initial XGBoost Model\n",
    "1. Build an initial XGBoost model using default hyperparameters.\n",
    "2. Train the model on the training set and evaluate its performance on the testing set.\n",
    "3. Note down the accuracy and any other relevant metrics."
   ],
   "metadata": {
    "id": "YZXT_IjuLzAt"
   }
  },
  {
   "cell_type": "code",
   "execution_count": 8,
   "outputs": [
    {
     "name": "stdout",
     "output_type": "stream",
     "text": [
      "Test accuracy: 0.47540983606557374\n"
     ]
    },
    {
     "name": "stderr",
     "output_type": "stream",
     "text": [
      "C:\\Users\\marta\\anaconda3\\lib\\site-packages\\sklearn\\preprocessing\\_label.py:115: DataConversionWarning: A column-vector y was passed when a 1d array was expected. Please change the shape of y to (n_samples, ), for example using ravel().\n",
      "  y = column_or_1d(y, warn=True)\n",
      "C:\\Users\\marta\\anaconda3\\lib\\site-packages\\sklearn\\preprocessing\\_label.py:133: DataConversionWarning: A column-vector y was passed when a 1d array was expected. Please change the shape of y to (n_samples, ), for example using ravel().\n",
      "  y = column_or_1d(y, warn=True)\n"
     ]
    }
   ],
   "source": [
    "from xgboost import XGBClassifier\n",
    "from sklearn.preprocessing import LabelEncoder\n",
    "from sklearn.metrics import accuracy_score\n",
    "\n",
    "# Create an XGBoost model with parameters\n",
    "params = {\n",
    "    'learning_rate': 0.5,\n",
    "    'n_estimators': 100,\n",
    "    'max_depth': 5\n",
    "}\n",
    "xgb_model = XGBClassifier(**params)\n",
    "\n",
    "# Encode the target variable using Label Encoding\n",
    "label_encoder_xgb = LabelEncoder()\n",
    "y_train_encoded = label_encoder_xgb.fit_transform(y_train)\n",
    "y_test_encoded = label_encoder_xgb.transform(y_test)\n",
    "# Train the model\n",
    "xgb_model.fit(X_train, y_train_encoded.ravel())\n",
    "\n",
    "# Make predictions on the test set\n",
    "predictions_encoded = xgb_model.predict(X_test)\n",
    "\n",
    "# Decode the predictions back to original labels if needed\n",
    "predictions_original_labels = label_encoder_xgb.inverse_transform(predictions_encoded)\n",
    "\n",
    "# Evaluate the accuracy of the model\n",
    "accuracy = accuracy_score(y_test, predictions_original_labels)\n",
    "print(f'Test accuracy: {accuracy}')\n"
   ],
   "metadata": {
    "collapsed": false,
    "ExecuteTime": {
     "end_time": "2023-12-14T19:45:36.473575800Z",
     "start_time": "2023-12-14T19:45:36.216065Z"
    }
   }
  },
  {
   "cell_type": "markdown",
   "source": [
    "# Task 4: Hyperparameter Tuning\n",
    "1. Experiment with hyperparameter tuning to improve model performance.\n",
    "2. Adjust hyperparameters such as learning_rate, n_estimators, max_depth, etc.\n",
    "3. Use techniques like cross-validation to find optimal hyperparameters.\n",
    "4. Train and evaluate the model with the tuned hyperparameters."
   ],
   "metadata": {
    "id": "WFnt6TGPL3lI"
   }
  },
  {
   "cell_type": "code",
   "execution_count": 9,
   "outputs": [],
   "source": [
    "from sklearn.model_selection import GridSearchCV\n",
    "from xgboost import XGBClassifier"
   ],
   "metadata": {
    "collapsed": false,
    "ExecuteTime": {
     "end_time": "2023-12-14T19:45:36.475577Z",
     "start_time": "2023-12-14T19:45:36.465577400Z"
    }
   }
  },
  {
   "cell_type": "code",
   "source": [
    "param_grid = {\n",
    "    'learning_rate': [0.1,0.3,0.5],\n",
    "    'n_estimators': [100,200,300],\n",
    "    'max_depth': [3,7,11]\n",
    "}\n",
    "\n",
    "xgb_classifier = XGBClassifier(objective='binary:logistic', eval_metric='logloss')\n",
    "\n",
    "grid_search = GridSearchCV(estimator=xgb_classifier, param_grid=param_grid, cv=3, scoring='accuracy')\n",
    "grid_search.fit(X_train, y_train)\n",
    "\n",
    "best_params = grid_search.best_params_\n",
    "print(\"Best Parameters:\", best_params)\n",
    "\n",
    "best_xgb_classifier = XGBClassifier(**best_params)\n",
    "best_xgb_classifier.fit(X_train, y_train)\n",
    "\n",
    "# Evaluate on test set\n",
    "accuracy = best_xgb_classifier.score(X_test, y_test)\n",
    "print(\"Accuracy on Test Set:\", accuracy)\n"
   ],
   "metadata": {
    "id": "nTKRJpnzL9n6",
    "ExecuteTime": {
     "end_time": "2023-12-14T19:45:56.664187600Z",
     "start_time": "2023-12-14T19:45:36.483575100Z"
    }
   },
   "execution_count": 10,
   "outputs": [
    {
     "name": "stdout",
     "output_type": "stream",
     "text": [
      "Best Parameters: {'learning_rate': 0.1, 'max_depth': 7, 'n_estimators': 100}\n",
      "Accuracy on Test Set: 0.5081967213114754\n"
     ]
    }
   ]
  },
  {
   "cell_type": "markdown",
   "source": [
    "# Task 5: Feature Importance\n",
    "1. Explore feature importance using the **feature_importances_** attribute of the trained XGBoost model.\n",
    "2. Identify the most important features for heart disease prediction."
   ],
   "metadata": {
    "id": "8Lumo2DCL_L9"
   }
  },
  {
   "cell_type": "code",
   "source": [
    "# Access feature importance scores\n",
    "importance_scores = best_xgb_classifier.feature_importances_\n",
    "\n",
    "# Create a dictionary mapping feature names to their importance scores\n",
    "feature_importance_dict = dict(zip(X_train.columns, importance_scores))\n",
    "\n",
    "# Sort the dictionary by importance scores in descending order\n",
    "sorted_feature_importance = sorted(feature_importance_dict.items(), key=lambda x: x[1], reverse=True)\n",
    "\n",
    "# Print the sorted feature importance scores\n",
    "for feature, importance in sorted_feature_importance:\n",
    "    print(f\"Feature: {feature}, Importance: {importance}\")\n"
   ],
   "metadata": {
    "id": "GbH5D_YHMGav",
    "ExecuteTime": {
     "end_time": "2023-12-14T19:45:56.725181100Z",
     "start_time": "2023-12-14T19:45:56.657187Z"
    }
   },
   "execution_count": 11,
   "outputs": [
    {
     "name": "stdout",
     "output_type": "stream",
     "text": [
      "Feature: cp, Importance: 0.1398404985666275\n",
      "Feature: ca, Importance: 0.1285875141620636\n",
      "Feature: thal, Importance: 0.12074780464172363\n",
      "Feature: exang, Importance: 0.08827200531959534\n",
      "Feature: oldpeak, Importance: 0.07935238629579544\n",
      "Feature: fbs, Importance: 0.06970468163490295\n",
      "Feature: thalach, Importance: 0.06273330003023148\n",
      "Feature: slope, Importance: 0.05617593228816986\n",
      "Feature: sex, Importance: 0.05611080676317215\n",
      "Feature: age, Importance: 0.05470280349254608\n",
      "Feature: chol, Importance: 0.053685516119003296\n",
      "Feature: restecg, Importance: 0.046365879476070404\n",
      "Feature: trestbps, Importance: 0.04372088983654976\n"
     ]
    }
   ]
  },
  {
   "cell_type": "code",
   "execution_count": 12,
   "outputs": [
    {
     "data": {
      "text/plain": "<Figure size 1000x600 with 1 Axes>",
      "image/png": "[encoded data removed]"
     },
     "metadata": {},
     "output_type": "display_data"
    }
   ],
   "source": [
    "import matplotlib.pyplot as plt\n",
    "\n",
    "# Extract feature names and importance scores from the sorted list\n",
    "features, importance = zip(*sorted_feature_importance)\n",
    "\n",
    "# Normalize importance scores\n",
    "max_importance = max(importance)\n",
    "normalized_importance = [score / max_importance for score in importance]\n",
    "\n",
    "# Plotting the feature importances\n",
    "plt.figure(figsize=(10, 6))\n",
    "plt.barh(range(len(features)), normalized_importance, align='center')\n",
    "plt.yticks(range(len(features)), features)\n",
    "plt.xlabel('Normalized Importance Scores')\n",
    "plt.title('Normalized Feature Importances for Heart Disease Prediction')\n",
    "plt.gca().invert_yaxis()  # Invert y-axis to display most important at the top\n",
    "plt.show()\n"
   ],
   "metadata": {
    "collapsed": false,
    "ExecuteTime": {
     "end_time": "2023-12-14T19:45:58.309252500Z",
     "start_time": "2023-12-14T19:45:56.690183200Z"
    }
   }
  },
  {
   "cell_type": "markdown",
   "source": [
    "# Task 6: Model Evaluation\n",
    "1. Compare the performance metrics of the initial model and the tuned model.\n",
    "2. Visualize the improvement achieved in a clear and concise manner.\n",
    "3. Discuss the impact of hyperparameter tuning and feature importance on model performance."
   ],
   "metadata": {
    "id": "JiAL2L9LMFpL"
   }
  },
  {
   "cell_type": "code",
   "source": [
    "from sklearn.metrics import precision_score, recall_score, f1_score\n",
    "\n",
    "xgb_model.fit(X_train, y_train)\n",
    "initial_predictions = xgb_model.predict(X_test)\n",
    "\n",
    "# Calculate initial model performance metrics\n",
    "initial_accuracy = accuracy_score(y_test, initial_predictions)\n",
    "initial_precision = precision_score(y_test, initial_predictions, average='weighted')\n",
    "initial_recall = recall_score(y_test, initial_predictions, average='weighted')\n",
    "initial_f1 = f1_score(y_test, initial_predictions, average='weighted')\n",
    "\n",
    "# Display initial model performance metrics\n",
    "print(\"Initial Model Metrics:\")\n",
    "print(f\"Accuracy: {initial_accuracy}\")\n",
    "print(f\"Precision: {initial_precision}\")\n",
    "print(f\"Recall: {initial_recall}\")\n",
    "print(f\"F1 Score: {initial_f1}\")\n"
   ],
   "metadata": {
    "id": "PpqMJ4bBMNRa",
    "ExecuteTime": {
     "end_time": "2023-12-14T19:45:58.542279100Z",
     "start_time": "2023-12-14T19:45:58.310251900Z"
    }
   },
   "execution_count": 13,
   "outputs": [
    {
     "name": "stdout",
     "output_type": "stream",
     "text": [
      "Initial Model Metrics:\n",
      "Accuracy: 0.47540983606557374\n",
      "Precision: 0.3971051262034869\n",
      "Recall: 0.47540983606557374\n",
      "F1 Score: 0.4323167791706847\n"
     ]
    }
   ]
  },
  {
   "cell_type": "code",
   "execution_count": 14,
   "outputs": [
    {
     "name": "stdout",
     "output_type": "stream",
     "text": [
      "\n",
      "Tuned Model Metrics:\n",
      "Accuracy: 0.5081967213114754\n",
      "Precision: 0.4290398126463701\n",
      "Recall: 0.5081967213114754\n",
      "F1 Score: 0.46497519413287325\n"
     ]
    }
   ],
   "source": [
    "best_xgb_classifier.fit(X_train, y_train)\n",
    "tuned_predictions = best_xgb_classifier.predict(X_test)\n",
    "\n",
    "# Calculate tuned model performance metrics\n",
    "tuned_accuracy = accuracy_score(y_test, tuned_predictions)\n",
    "tuned_precision = precision_score(y_test, tuned_predictions, average='weighted')\n",
    "tuned_recall = recall_score(y_test, tuned_predictions, average='weighted')\n",
    "tuned_f1 = f1_score(y_test, tuned_predictions, average='weighted')\n",
    "\n",
    "# Display tuned model performance metrics\n",
    "print(\"\\nTuned Model Metrics:\")\n",
    "print(f\"Accuracy: {tuned_accuracy}\")\n",
    "print(f\"Precision: {tuned_precision}\")\n",
    "print(f\"Recall: {tuned_recall}\")\n",
    "print(f\"F1 Score: {tuned_f1}\")\n"
   ],
   "metadata": {
    "collapsed": false,
    "ExecuteTime": {
     "end_time": "2023-12-14T19:45:58.870299300Z",
     "start_time": "2023-12-14T19:45:58.541275500Z"
    }
   }
  },
  {
   "cell_type": "code",
   "execution_count": 15,
   "outputs": [
    {
     "data": {
      "text/plain": "<Figure size 1000x600 with 1 Axes>",
      "image/png": "[encoded data removed]"
     },
     "metadata": {},
     "output_type": "display_data"
    }
   ],
   "source": [
    "import matplotlib.pyplot as plt\n",
    "\n",
    "# Metrics for comparison\n",
    "metrics = ['Accuracy', 'Precision', 'Recall', 'F1 Score']\n",
    "initial_metrics = [initial_accuracy, initial_precision, initial_recall, initial_f1]\n",
    "tuned_metrics = [tuned_accuracy, tuned_precision, tuned_recall, tuned_f1]\n",
    "\n",
    "# Plotting the comparison\n",
    "plt.figure(figsize=(10, 6))\n",
    "bar_width = 0.35\n",
    "index = range(len(metrics))\n",
    "plt.bar(index, initial_metrics, bar_width, label='Initial Model')\n",
    "plt.bar([i + bar_width for i in index], tuned_metrics, bar_width, label='Tuned Model')\n",
    "plt.xlabel('Metrics')\n",
    "plt.ylabel('Scores')\n",
    "plt.title('Comparison of Performance Metrics')\n",
    "plt.xticks([i + bar_width / 2 for i in index], metrics)\n",
    "plt.legend()\n",
    "plt.show()\n"
   ],
   "metadata": {
    "collapsed": false,
    "ExecuteTime": {
     "end_time": "2023-12-14T19:45:59.121988Z",
     "start_time": "2023-12-14T19:45:58.872299100Z"
    }
   }
  },
  {
   "cell_type": "code",
   "execution_count": 15,
   "outputs": [],
   "source": [],
   "metadata": {
    "collapsed": false,
    "ExecuteTime": {
     "end_time": "2023-12-14T19:45:59.239407Z",
     "start_time": "2023-12-14T19:45:59.123015200Z"
    }
   }
  }
 ]
}
