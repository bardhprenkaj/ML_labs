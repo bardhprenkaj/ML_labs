{
  "cells": [
    {
      "cell_type": "markdown",
      "metadata": {
        "id": "E5AYt3Cn35zA"
      },
      "source": [
        "**Challenge: Implement a Multiclass Classification Neural Network using PyTorch**\n",
        "\n",
        "Objective:\n",
        "Build a neural network using PyTorch to predict handwritten digits of MNIST.\n",
        "\n",
        "Steps:\n",
        "\n",
        "1. **Data Preparation**: Load the MNIST dataset using ```torchvision.datasets.MNIST```. Standardize/normalize the features. Split the dataset into training and testing sets using, for example, ```sklearn.model_selection.train_test_split()```. **Bonus scores**: *use PyTorch's built-* ```DataLoader``` *to split the dataset*.\n",
        "\n",
        "2. **Neural Network Architecture**: Define a simple feedforward neural network using PyTorch's ```nn.Module```. Design the input layer to match the number of features in the MNIST dataset and the output layer to have as many neurons as there are classes (10). You can experiment with the number of hidden layers and neurons to optimize the performance. **Bonus scores**: *Make your architecture flexibile to have as many hidden layers as the user wants, and use hyperparameter optimization to select the best number of hidden layeres.*\n",
        "\n",
        "3. **Loss Function and Optimizer**: Choose an appropriate loss function for multiclass classification. Select an optimizer, like SGD (Stochastic Gradient Descent) or Adam.\n",
        "\n",
        "4. **Training**: Write a training loop to iterate over the dataset.\n",
        "Forward pass the input through the network, calculate the loss, and perform backpropagation. Update the weights of the network using the chosen optimizer.\n",
        "\n",
        "5. **Testing**: Evaluate the trained model on the test set. Calculate the accuracy of the model.\n",
        "\n",
        "6. **Optimization**: Experiment with hyperparameters (learning rate, number of epochs, etc.) to optimize the model's performance. Consider adjusting the neural network architecture for better results. **Notice that you can't use the optimization algorithms from scikit-learn that we saw in lab1: e.g.,** ```GridSearchCV```.\n"
      ]
    },
    {
      "cell_type": "code",
      "execution_count": 1,
      "metadata": {},
      "outputs": [],
      "source": [
        "import torch. nn as nn \n",
        "import torch.optim as optim\n",
        "import torchvision \n",
        "import torch\n",
        "import torchvision.transforms as transforms\n",
        "from torch.utils.data import DataLoader\n",
        "import matplotlib as plt\n",
        "import numpy as np\n",
        "from sklearn.model_selection import cross_val_score\n",
        "from sklearn.model_selection import cross_val_predict"
      ]
    },
    {
      "cell_type": "markdown",
      "metadata": {},
      "source": [
        "## Task 1:Data preparation\n",
        "Load MNIST dataset and split it in train and test\n"
      ]
    },
    {
      "cell_type": "code",
      "execution_count": 2,
      "metadata": {},
      "outputs": [
        {
          "data": {
            "image/png": "[encoded data removed]",
            "text/plain": [
              "<Figure size 640x480 with 1 Axes>"
            ]
          },
          "metadata": {},
          "output_type": "display_data"
        }
      ],
      "source": [
        "transform=torchvision.transforms.Compose([torchvision.transforms.ToTensor()])\n",
        "trainset=torchvision.datasets.MNIST(root='./data', train= True, download= True, transform=transform)\n",
        "testset=torchvision.datasets.MNIST(root= './data', train= False, download= True, transform=transform)\n",
        "\n",
        "batch_size=32\n",
        "\n",
        "trainloader= torch.utils.data.DataLoader(trainset, batch_size=batch_size, drop_last= True, shuffle= True)\n",
        "testloader=torch.utils.data.DataLoader(testset, batch_size=batch_size, drop_last= True, shuffle= True)\n",
        "\n",
        "#import matplotlib.pyplot as plt\n",
        "\n",
        "#plt.imshow(trainset.data[7])\n",
        "#plt.show()"
      ]
    },
    {
      "cell_type": "markdown",
      "metadata": {},
      "source": [
        "## Task 2: Neural Network Architecture:\n",
        "Define a feed forward network using nn.Module."
      ]
    },
    {
      "cell_type": "code",
      "execution_count": 49,
      "metadata": {},
      "outputs": [
        {
          "name": "stdout",
          "output_type": "stream",
          "text": [
            "4\n"
          ]
        }
      ],
      "source": [
        "n=0\n",
        "while n<3:\n",
        "    n=int(input('How many layers do you want? (>2) '))\n",
        "print(n)"
      ]
    },
    {
      "cell_type": "code",
      "execution_count": 50,
      "metadata": {},
      "outputs": [],
      "source": [
        "class MNISTConvNet(nn.Module):\n",
        "    def __init__(self):\n",
        "        super().__init__()\n",
        "        self.conv1= nn.Conv2d(in_channels=1, out_channels=3, kernel_size=3, \n",
        "                              stride=1, padding=1) \n",
        "        self.act1=nn.ReLU()\n",
        "        \n",
        "        for i in range(n):\n",
        "            self.convi= nn.Conv2d(in_channels=3, out_channels=3, kernel_size=3, stride=1, padding=1)\n",
        "            self.pooli=nn.MaxPool2d(kernel_size=2)\n",
        "            self.acti= nn.ReLU()\n",
        "            \n",
        "        self.pooli=nn.MaxPool2d(kernel_size=2)\n",
        "\n",
        "\n",
        "        #(32, h, h)\n",
        "        self.flat= nn.Flatten()\n",
        "        self.fc3= nn.Linear(588, 512)\n",
        "        self.act3= nn.ReLU()\n",
        "\n",
        "        self.fc4= nn.Linear(512, 10)\n",
        "\n",
        "    def forward(self, x):\n",
        "        # input 1 x 28 x 28, output 3 x 28 x 28\n",
        "        x=self.conv1(x)\n",
        "        x=self.act1(x)\n",
        "        \n",
        "        x=self.convi(x)\n",
        "        x=self.acti(x)\n",
        "        x=self.pooli(x)\n",
        "\n",
        "        x=self.flat(x)\n",
        "        x=self.fc3(x)\n",
        "        x=self.act3(x)\n",
        "        x=self.fc4(x)\n",
        "        return x"
      ]
    },
    {
      "cell_type": "markdown",
      "metadata": {},
      "source": [
        "## Task 3 and 6: Loss function, optimazer and optimization"
      ]
    },
    {
      "cell_type": "markdown",
      "metadata": {},
      "source": [
        "I'm optimizing here the models.\n",
        "Model 1: has n+2 layers where n is the number given in input, lr=0.001.\n",
        "Model 2: has 2+2, lr=0.001.\n",
        "Model 3: has 2+2, lr=0.01, Adam optimizer.\n",
        "Model 2: has 3+2, lr=0.01.\n",
        "I set the number of epochs to 5 as the program takes a few time. However the accuracy is pretty high with 98.6% for the last model.\n"
      ]
    },
    {
      "cell_type": "code",
      "execution_count": 51,
      "metadata": {},
      "outputs": [],
      "source": [
        "model=MNISTConvNet()\n",
        "loss_fn=nn.CrossEntropyLoss()\n",
        "optimizer = optim.SGD(model.parameters(), lr=0.001, momentum=0.9)\n",
        "loss_fn=nn.CrossEntropyLoss()\n",
        "\n",
        "n=2\n",
        "model2=MNISTConvNet()\n",
        "loss_fn=nn.CrossEntropyLoss()\n",
        "optimizer2 = optim.SGD(model2.parameters(), lr=0.001, momentum=0.9)\n",
        "loss_fn=nn.CrossEntropyLoss()\n",
        "\n",
        "\n",
        "model3=MNISTConvNet()\n",
        "loss_fn=nn.CrossEntropyLoss()\n",
        "optimizer3 = optim.Adam(model3.parameters(), lr=0.01)\n",
        "loss_fn=nn.CrossEntropyLoss()\n",
        "\n",
        "n=3\n",
        "model4=MNISTConvNet()\n",
        "loss_fn=nn.CrossEntropyLoss()\n",
        "optimizer4 = optim.SGD(model4.parameters(), lr=0.01, momentum=0.9)\n",
        "loss_fn=nn.CrossEntropyLoss()"
      ]
    },
    {
      "cell_type": "markdown",
      "metadata": {},
      "source": [
        "## Task 4 and 5: Training and Testing"
      ]
    },
    {
      "cell_type": "code",
      "execution_count": 64,
      "metadata": {},
      "outputs": [
        {
          "name": "stdout",
          "output_type": "stream",
          "text": [
            "Epoch 1 --> loss1=0.07456328690995773,  loss2=0.06953446243281165,  loss3=0.06956424372843048,  loss4=0.022330602152370316\n",
            "Model1 accuracy= 97.83653259277344, Model2 accuracy=97.76642608642578, Model3 accuracy=97.35577392578125, Model4 accuracy=98.45753479003906, in epoch 1\n",
            "Epoch 2 --> loss1=0.06727867387893299,  loss2=0.06212817700750505,  loss3=0.062173006360660095,  loss4=0.015191885285127986\n",
            "Model1 accuracy= 97.56610107421875, Model2 accuracy=97.666259765625, Model3 accuracy=97.33573913574219, Model4 accuracy=98.6278076171875, in epoch 2\n",
            "Epoch 3 --> loss1=0.059379622105881574,  loss2=0.05371966057308018,  loss3=0.06403958243614716,  loss4=0.013558845629474733\n",
            "Model1 accuracy= 97.93669891357422, Model2 accuracy=97.96675109863281, Model3 accuracy=97.15544891357422, Model4 accuracy=98.51762390136719, in epoch 3\n",
            "Epoch 4 --> loss1=0.05607013768982142,  loss2=0.04919631836473321,  loss3=0.05555690675054277,  loss4=0.010571458494664936\n",
            "Model1 accuracy= 98.056884765625, Model2 accuracy=98.18710327148438, Model3 accuracy=97.75640869140625, Model4 accuracy=98.60777282714844, in epoch 4\n",
            "Epoch 5 --> loss1=0.04913296216251328,  loss2=0.0437582999451862,  loss3=0.06527419879712183,  loss4=0.008895946492042913\n",
            "Model1 accuracy= 97.73637390136719, Model2 accuracy=97.83653259277344, Model3 accuracy=97.21554565429688, Model4 accuracy=98.60777282714844, in epoch 5\n"
          ]
        }
      ],
      "source": [
        "n_epochs=5\n",
        "for epoch in range(n_epochs):\n",
        "    losses=[]\n",
        "    losses2=[]\n",
        "    losses3=[]\n",
        "    losses4=[]\n",
        "\n",
        "    for inputs, labels in trainloader:\n",
        "        y_pred=model(inputs)\n",
        "        loss=loss_fn(y_pred, labels)\n",
        "        losses.append(loss.item()) \n",
        "        optimizer.zero_grad()\n",
        "        loss.backward()\n",
        "        optimizer.step()\n",
        "\n",
        "        y_pred2=model2(inputs)\n",
        "        loss2=loss_fn(y_pred2, labels)\n",
        "        losses2.append(loss2.item()) \n",
        "        optimizer2.zero_grad()\n",
        "        loss2.backward()\n",
        "        optimizer2.step()\n",
        "\n",
        "        y_pred3=model3(inputs)\n",
        "        loss3=loss_fn(y_pred3, labels)\n",
        "        losses3.append(loss3.item()) \n",
        "        optimizer3.zero_grad()\n",
        "        loss3.backward()\n",
        "        optimizer3.step()\n",
        "\n",
        "        y_pred4=model4(inputs)\n",
        "        loss4=loss_fn(y_pred4, labels)\n",
        "        losses4.append(loss4.item()) \n",
        "        optimizer4.zero_grad()\n",
        "        loss4.backward()\n",
        "        optimizer4.step()\n",
        "    print(f'Epoch {epoch+1} --> loss1={np.mean(losses)},  loss2={np.mean(losses2)},  loss3={np.mean(losses3)},  loss4={np.mean(losses4)}')\n",
        "    acc= 0\n",
        "    count=0\n",
        "    acc2= 0\n",
        "    count2=0\n",
        "    acc3= 0\n",
        "    count3=0\n",
        "    acc4= 0\n",
        "    count4=0\n",
        "    for inputs, labels in testloader:\n",
        "        y_pred= model(inputs)\n",
        "        acc+= (torch.argmax(y_pred, 1)== labels).float().sum()\n",
        "        count+=len(labels)\n",
        "\n",
        "        y_pred2= model2(inputs)\n",
        "        acc2+= (torch.argmax(y_pred2, 1)== labels).float().sum()\n",
        "        count2+=len(labels)\n",
        "\n",
        "        y_pred3= model3(inputs)\n",
        "        acc3+= (torch.argmax(y_pred3, 1)== labels).float().sum()\n",
        "        count3+=len(labels)\n",
        "\n",
        "        y_pred4= model4(inputs)\n",
        "        acc4+= (torch.argmax(y_pred4, 1)== labels).float().sum()\n",
        "        count4+=len(labels)\n",
        "    acc /= count\n",
        "    acc2 /= count2\n",
        "    acc3 /= count3\n",
        "    acc4 /= count4\n",
        "    print(f'Model1 accuracy= {acc*100}, Model2 accuracy={acc2*100}, Model3 accuracy={acc3*100}, Model4 accuracy={acc4*100}, in epoch {epoch+1}')"
      ]
    },
    {
      "cell_type": "code",
      "execution_count": 69,
      "metadata": {},
      "outputs": [
        {
          "name": "stdout",
          "output_type": "stream",
          "text": [
            "tensor(1)\n"
          ]
        },
        {
          "data": {
            "image/png": "[encoded data removed]",
            "text/plain": [
              "<Figure size 640x480 with 1 Axes>"
            ]
          },
          "metadata": {},
          "output_type": "display_data"
        }
      ],
      "source": [
        "print(y_pred4[8].argmax())\n",
        "import matplotlib.pyplot as plt\n",
        "plt.imshow(trainset.data[8])\n",
        "plt.show()"
      ]
    }
  ],
  "metadata": {
    "colab": {
      "provenance": []
    },
    "kernelspec": {
      "display_name": "Python 3",
      "name": "python3"
    },
    "language_info": {
      "codemirror_mode": {
        "name": "ipython",
        "version": 3
      },
      "file_extension": ".py",
      "mimetype": "text/x-python",
      "name": "python",
      "nbconvert_exporter": "python",
      "pygments_lexer": "ipython3",
      "version": "3.11.5"
    }
  },
  "nbformat": 4,
  "nbformat_minor": 0
}
