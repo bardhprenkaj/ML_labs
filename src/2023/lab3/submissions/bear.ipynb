{
  "cells": [
    {
      "cell_type": "markdown",
      "metadata": {
        "id": "E5AYt3Cn35zA"
      },
      "source": [
        "**Challenge: Implement a Multiclass Classification Neural Network using PyTorch**\n",
        "\n",
        "Objective:\n",
        "Build a neural network using PyTorch to predict handwritten digits of MNIST.\n",
        "\n",
        "Steps:\n",
        "\n",
        "1. **Data Preparation**: Load the MNIST dataset using ```torchvision.datasets.MNIST```. Standardize/normalize the features. Split the dataset into training and testing sets using, for example, ```sklearn.model_selection.train_test_split()```. **Bonus scores**: *use PyTorch's built-* ```DataLoader``` *to split the dataset*.\n",
        "\n",
        "2. **Neural Network Architecture**: Define a simple feedforward neural network using PyTorch's ```nn.Module```. Design the input layer to match the number of features in the MNIST dataset and the output layer to have as many neurons as there are classes (10). You can experiment with the number of hidden layers and neurons to optimize the performance. **Bonus scores**: *Make your architecture flexibile to have as many hidden layers as the user wants, and use hyperparameter optimization to select the best number of hidden layeres.*\n",
        "\n",
        "3. **Loss Function and Optimizer**: Choose an appropriate loss function for multiclass classification. Select an optimizer, like SGD (Stochastic Gradient Descent) or Adam.\n",
        "\n",
        "4. **Training**: Write a training loop to iterate over the dataset.\n",
        "Forward pass the input through the network, calculate the loss, and perform backpropagation. Update the weights of the network using the chosen optimizer.\n",
        "\n",
        "5. **Testing**: Evaluate the trained model on the test set. Calculate the accuracy of the model.\n",
        "\n",
        "6. **Optimization**: Experiment with hyperparameters (learning rate, number of epochs, etc.) to optimize the model's performance. Consider adjusting the neural network architecture for better results. **Notice that you can't use the optimization algorithms from scikit-learn that we saw in lab1: e.g.,** ```GridSearchCV```.\n"
      ]
    },
    {
      "cell_type": "code",
      "execution_count": 435,
      "metadata": {
        "id": "5XLynrxJ33v6"
      },
      "outputs": [],
      "source": [
        "import numpy as np\n",
        "import torch\n",
        "import torch.nn as nn\n",
        "import torch.optim as optim\n",
        "from torch.utils.data import DataLoader\n",
        "import torchvision as tv"
      ]
    },
    {
      "cell_type": "markdown",
      "metadata": {
        "id": "E-GBtFOXy_mt"
      },
      "source": [
        "# Data preparation"
      ]
    },
    {
      "cell_type": "markdown",
      "metadata": {
        "id": "BaQ1w6vt6Gs3"
      },
      "source": [
        "## Loading and normalization"
      ]
    },
    {
      "cell_type": "code",
      "execution_count": 437,
      "metadata": {
        "id": "JUe2XwoCn4TI"
      },
      "outputs": [],
      "source": [
        "# The Normalize transform needs the mean and std of the dataset, but we need to load it first to\n",
        "# be able to calculate it. It will be modified later with the correct values.\n",
        "transforms = tv.transforms.Compose([tv.transforms.ToTensor(), tv.transforms.Normalize(0, 0)])\n",
        "\n",
        "train_set = tv.datasets.MNIST(root=\"./data\", train=True, download=True, transform=transforms)\n",
        "test_set = tv.datasets.MNIST(root=\"./data\", train=False, download=True, transform=transforms)"
      ]
    },
    {
      "cell_type": "markdown",
      "metadata": {},
      "source": [
        "## Normalization"
      ]
    },
    {
      "cell_type": "code",
      "execution_count": 438,
      "metadata": {},
      "outputs": [
        {
          "data": {
            "text/plain": [
              "(33.31842041015625, 78.56748962402344)"
            ]
          },
          "execution_count": 438,
          "metadata": {},
          "output_type": "execute_result"
        }
      ],
      "source": [
        "def calc_mean_std(tensor):\n",
        "    mean = tensor.float().mean().item()\n",
        "    std = tensor.float().std().item()\n",
        "    return mean, std\n",
        "\n",
        "mean, std = calc_mean_std(train_set.data)\n",
        "mean, std"
      ]
    },
    {
      "cell_type": "code",
      "execution_count": 439,
      "metadata": {},
      "outputs": [
        {
          "data": {
            "text/plain": [
              "(0.13066047219669116, 0.30810780244715075)"
            ]
          },
          "execution_count": 439,
          "metadata": {},
          "output_type": "execute_result"
        }
      ],
      "source": [
        "# ToTensor maps the pixel range [0, 255] to tensor range [0, 1]\n",
        "# The mean and std were calculated from the images so they have to be adjusted\n",
        "\n",
        "mean_after_tensor = mean / 255\n",
        "std_after_tensor = std / 255\n",
        "\n",
        "mean_after_tensor, std_after_tensor"
      ]
    },
    {
      "cell_type": "code",
      "execution_count": 440,
      "metadata": {},
      "outputs": [],
      "source": [
        "transforms.transforms[-1].mean = mean_after_tensor\n",
        "transforms.transforms[-1].std = std_after_tensor"
      ]
    },
    {
      "cell_type": "markdown",
      "metadata": {
        "id": "6mYvssYA6KqI"
      },
      "source": [
        "## Splitting"
      ]
    },
    {
      "cell_type": "code",
      "execution_count": 441,
      "metadata": {
        "id": "jkrtdKjpoRoK"
      },
      "outputs": [],
      "source": [
        "batch_size = 64\n",
        "\n",
        "train_loader = DataLoader(train_set, batch_size, shuffle=True, drop_last=True)\n",
        "test_loader = DataLoader(test_set, batch_size, shuffle=True, drop_last=True)"
      ]
    },
    {
      "cell_type": "markdown",
      "metadata": {
        "id": "mMkEw7ek6j3F"
      },
      "source": [
        "# Neural network architecture"
      ]
    },
    {
      "cell_type": "code",
      "execution_count": 442,
      "metadata": {
        "colab": {
          "base_uri": "https://localhost:8080/"
        },
        "id": "rfzruJoo_Ycu",
        "outputId": "2d93e949-20c2-458d-aad7-5dac3a4d1573"
      },
      "outputs": [
        {
          "data": {
            "text/plain": [
              "784"
            ]
          },
          "execution_count": 442,
          "metadata": {},
          "output_type": "execute_result"
        }
      ],
      "source": [
        "# Number of features after flattening\n",
        "feats = np.prod(train_set.data.shape[1:])\n",
        "feats"
      ]
    },
    {
      "cell_type": "code",
      "execution_count": 443,
      "metadata": {
        "colab": {
          "base_uri": "https://localhost:8080/"
        },
        "id": "M8IBAyxOavwD",
        "outputId": "79b32440-2d5b-4ecb-a83b-567282fe3a54"
      },
      "outputs": [
        {
          "data": {
            "text/plain": [
              "10"
            ]
          },
          "execution_count": 443,
          "metadata": {},
          "output_type": "execute_result"
        }
      ],
      "source": [
        "classes = len(train_set.classes)\n",
        "classes"
      ]
    },
    {
      "cell_type": "code",
      "execution_count": 444,
      "metadata": {
        "id": "Ej4CmPMh_MxJ"
      },
      "outputs": [],
      "source": [
        "class Net(nn.Module):\n",
        "\n",
        "    def __init__(self, hidden_layers, hidden_neurons, dropout_rate):\n",
        "        super().__init__()\n",
        "\n",
        "        self.flatten = nn.Flatten()\n",
        "        self.input = nn.Linear(feats, hidden_neurons)\n",
        "        self.act_input = nn.ReLU()\n",
        "\n",
        "        hidden = []\n",
        "        for _ in range(hidden_layers):\n",
        "            hidden.append(nn.Linear(hidden_neurons, hidden_neurons))\n",
        "            hidden.append(nn.ReLU())\n",
        "            hidden.append(nn.Dropout(dropout_rate))\n",
        "\n",
        "        self.hidden = nn.Sequential(*hidden)\n",
        "\n",
        "        self.output = nn.Linear(hidden_neurons, classes)\n",
        "\n",
        "    def forward(self, x):\n",
        "        x = self.flatten(x)\n",
        "        x = self.input(x)\n",
        "        x = self.hidden(x)\n",
        "        x = self.output(x)\n",
        "        return x\n"
      ]
    },
    {
      "cell_type": "code",
      "execution_count": 445,
      "metadata": {
        "id": "eKR8ufJznuiQ"
      },
      "outputs": [],
      "source": [
        "# We will try without dropout layers first\n",
        "model = Net(2, 128, 0)"
      ]
    },
    {
      "cell_type": "markdown",
      "metadata": {
        "id": "HWQAB7VakeEl"
      },
      "source": [
        "# Loss function and optimizer"
      ]
    },
    {
      "cell_type": "markdown",
      "metadata": {
        "id": "xzWOwip8kjbO"
      },
      "source": [
        "Since we are dealing with a non-binary classification problem, the best choice for a loss function is Cross Entropy."
      ]
    },
    {
      "cell_type": "code",
      "execution_count": 446,
      "metadata": {
        "id": "bWEKGJOZkgep"
      },
      "outputs": [],
      "source": [
        "loss_fn = nn.CrossEntropyLoss()"
      ]
    },
    {
      "cell_type": "markdown",
      "metadata": {},
      "source": [
        "For the optimizer, we will try SDG first but of course we will test other optimizers in the optimization section."
      ]
    },
    {
      "cell_type": "code",
      "execution_count": 447,
      "metadata": {
        "id": "ScZ7v3jxngHs"
      },
      "outputs": [],
      "source": [
        "optimizer = optim.SGD(model.parameters(), lr=0.01, momentum=0.9)"
      ]
    },
    {
      "cell_type": "markdown",
      "metadata": {
        "id": "IySskDwtppDx"
      },
      "source": [
        "# Training and testing"
      ]
    },
    {
      "cell_type": "code",
      "execution_count": 448,
      "metadata": {
        "colab": {
          "base_uri": "https://localhost:8080/",
          "height": 526
        },
        "id": "fMIhpL01prRc",
        "outputId": "7328cafd-1e1a-4a02-d92e-f75c5a0339aa"
      },
      "outputs": [],
      "source": [
        "def train(n_epochs, model, optimizer):\n",
        "    for epoch in range(n_epochs):\n",
        "        losses = []\n",
        "\n",
        "        # Update params\n",
        "        model.train()\n",
        "        tp = 0\n",
        "        for inputs, labels in train_loader:\n",
        "            pred = model(inputs)\n",
        "            loss = loss_fn(pred, labels)\n",
        "            losses.append(loss.item())\n",
        "\n",
        "            optimizer.zero_grad()\n",
        "            loss.backward()\n",
        "            optimizer.step()\n",
        "\n",
        "            tp += (pred.argmax(1) == labels).float().sum()\n",
        "\n",
        "        acc_train = tp / len(train_loader.dataset)\n",
        "\n",
        "        # Evaluate epoch\n",
        "        model.eval()\n",
        "        tp = 0\n",
        "        with torch.no_grad():\n",
        "            for inputs, labels in test_loader:\n",
        "                pred = model(inputs)\n",
        "\n",
        "                tp += (pred.argmax(1) == labels).float().sum()\n",
        "\n",
        "        acc_test = tp / len(test_loader.dataset)\n",
        "\n",
        "\n",
        "        print(\n",
        "            f\"Epoch {epoch + 1} | \" +\n",
        "            f\"Acc: Train {acc_train * 100:.2f}% Test {acc_test * 100:.2f}% | \" +\n",
        "            f\"Avg Loss: {np.mean(losses):.4f} Min Loss: {np.min(losses):.4f}\"\n",
        "        )\n",
        "\n"
      ]
    },
    {
      "cell_type": "code",
      "execution_count": 449,
      "metadata": {},
      "outputs": [
        {
          "name": "stdout",
          "output_type": "stream",
          "text": [
            "Epoch 1 | Acc: Train 89.31% Test 94.77% | Avg Loss: 0.3647 Min Loss: 0.0289\n",
            "Epoch 2 | Acc: Train 95.79% Test 95.95% | Avg Loss: 0.1355 Min Loss: 0.0134\n",
            "Epoch 3 | Acc: Train 97.01% Test 96.66% | Avg Loss: 0.0956 Min Loss: 0.0058\n",
            "Epoch 4 | Acc: Train 97.56% Test 96.80% | Avg Loss: 0.0763 Min Loss: 0.0034\n",
            "Epoch 5 | Acc: Train 98.00% Test 97.12% | Avg Loss: 0.0636 Min Loss: 0.0016\n",
            "Epoch 6 | Acc: Train 98.18% Test 97.43% | Avg Loss: 0.0534 Min Loss: 0.0017\n",
            "Epoch 7 | Acc: Train 98.49% Test 97.00% | Avg Loss: 0.0457 Min Loss: 0.0017\n",
            "Epoch 8 | Acc: Train 98.64% Test 97.21% | Avg Loss: 0.0391 Min Loss: 0.0007\n",
            "Epoch 9 | Acc: Train 98.76% Test 97.53% | Avg Loss: 0.0351 Min Loss: 0.0006\n",
            "Epoch 10 | Acc: Train 98.93% Test 97.66% | Avg Loss: 0.0309 Min Loss: 0.0003\n",
            "Epoch 11 | Acc: Train 99.09% Test 97.56% | Avg Loss: 0.0260 Min Loss: 0.0002\n",
            "Epoch 12 | Acc: Train 99.05% Test 97.71% | Avg Loss: 0.0256 Min Loss: 0.0003\n",
            "Epoch 13 | Acc: Train 99.25% Test 97.54% | Avg Loss: 0.0206 Min Loss: 0.0002\n",
            "Epoch 14 | Acc: Train 99.35% Test 97.53% | Avg Loss: 0.0177 Min Loss: 0.0001\n",
            "Epoch 15 | Acc: Train 99.40% Test 97.61% | Avg Loss: 0.0165 Min Loss: 0.0000\n",
            "Epoch 16 | Acc: Train 99.44% Test 97.68% | Avg Loss: 0.0149 Min Loss: 0.0001\n",
            "Epoch 17 | Acc: Train 99.33% Test 97.73% | Avg Loss: 0.0175 Min Loss: 0.0000\n",
            "Epoch 18 | Acc: Train 99.45% Test 97.53% | Avg Loss: 0.0142 Min Loss: 0.0000\n",
            "Epoch 19 | Acc: Train 99.50% Test 97.80% | Avg Loss: 0.0133 Min Loss: 0.0000\n",
            "Epoch 20 | Acc: Train 99.60% Test 97.67% | Avg Loss: 0.0103 Min Loss: 0.0000\n"
          ]
        }
      ],
      "source": [
        "train(20, model, optimizer)"
      ]
    },
    {
      "cell_type": "markdown",
      "metadata": {},
      "source": [
        "# Optimization"
      ]
    },
    {
      "cell_type": "markdown",
      "metadata": {},
      "source": [
        "## Dropout and learning rate"
      ]
    },
    {
      "cell_type": "markdown",
      "metadata": {},
      "source": [
        "First, we can see that the model is slightly overfitting, as the accuracy on the test set pleateaus at around $97\\%-98\\%$ but on the train set it continues going up until $99.60\\%$ (it would be more if we further increased the epochs). Let's see what happens when we use the dropout layers that, already getting ahead of the problem, we added before.\n",
        "\n",
        "The original model starts to overfit around epoch $3$, with a test accuracy of around $96\\%$. *Early stopping* would be a good technique to avoid overfitting here, as that accuracy is alredy quite high, but maybe we can do better. We will use that as a reference point for the following optimizations."
      ]
    },
    {
      "cell_type": "code",
      "execution_count": 460,
      "metadata": {},
      "outputs": [
        {
          "name": "stdout",
          "output_type": "stream",
          "text": [
            "Epoch 1 | Acc: Train 83.76% Test 93.68% | Avg Loss: 0.5237 Min Loss: 0.0703\n",
            "Epoch 2 | Acc: Train 92.12% Test 94.95% | Avg Loss: 0.2651 Min Loss: 0.0529\n",
            "Epoch 3 | Acc: Train 93.46% Test 95.92% | Avg Loss: 0.2216 Min Loss: 0.0158\n",
            "Epoch 4 | Acc: Train 94.06% Test 95.98% | Avg Loss: 0.1974 Min Loss: 0.0323\n",
            "Epoch 5 | Acc: Train 94.52% Test 96.55% | Avg Loss: 0.1863 Min Loss: 0.0238\n",
            "Epoch 6 | Acc: Train 94.95% Test 96.52% | Avg Loss: 0.1675 Min Loss: 0.0220\n",
            "Epoch 7 | Acc: Train 95.17% Test 96.72% | Avg Loss: 0.1615 Min Loss: 0.0173\n",
            "Epoch 8 | Acc: Train 95.53% Test 97.09% | Avg Loss: 0.1536 Min Loss: 0.0121\n",
            "Epoch 9 | Acc: Train 95.40% Test 96.69% | Avg Loss: 0.1540 Min Loss: 0.0134\n",
            "Epoch 10 | Acc: Train 95.56% Test 96.84% | Avg Loss: 0.1431 Min Loss: 0.0064\n",
            "Epoch 11 | Acc: Train 95.78% Test 96.49% | Avg Loss: 0.1399 Min Loss: 0.0112\n",
            "Epoch 12 | Acc: Train 95.90% Test 96.68% | Avg Loss: 0.1370 Min Loss: 0.0075\n",
            "Epoch 13 | Acc: Train 95.90% Test 97.24% | Avg Loss: 0.1351 Min Loss: 0.0103\n",
            "Epoch 14 | Acc: Train 96.07% Test 97.08% | Avg Loss: 0.1312 Min Loss: 0.0092\n",
            "Epoch 15 | Acc: Train 96.12% Test 97.00% | Avg Loss: 0.1288 Min Loss: 0.0076\n",
            "Epoch 16 | Acc: Train 96.13% Test 97.36% | Avg Loss: 0.1314 Min Loss: 0.0094\n",
            "Epoch 17 | Acc: Train 96.12% Test 97.09% | Avg Loss: 0.1283 Min Loss: 0.0051\n",
            "Epoch 18 | Acc: Train 96.25% Test 97.20% | Avg Loss: 0.1213 Min Loss: 0.0076\n",
            "Epoch 19 | Acc: Train 96.28% Test 97.06% | Avg Loss: 0.1226 Min Loss: 0.0075\n",
            "Epoch 20 | Acc: Train 96.35% Test 97.18% | Avg Loss: 0.1205 Min Loss: 0.0040\n",
            "Epoch 21 | Acc: Train 96.26% Test 97.44% | Avg Loss: 0.1229 Min Loss: 0.0027\n",
            "Epoch 22 | Acc: Train 96.51% Test 97.01% | Avg Loss: 0.1142 Min Loss: 0.0041\n",
            "Epoch 23 | Acc: Train 96.40% Test 97.43% | Avg Loss: 0.1195 Min Loss: 0.0041\n",
            "Epoch 24 | Acc: Train 96.42% Test 97.28% | Avg Loss: 0.1175 Min Loss: 0.0063\n",
            "Epoch 25 | Acc: Train 96.45% Test 97.37% | Avg Loss: 0.1145 Min Loss: 0.0031\n",
            "Epoch 26 | Acc: Train 96.39% Test 97.32% | Avg Loss: 0.1184 Min Loss: 0.0055\n",
            "Epoch 27 | Acc: Train 96.58% Test 97.56% | Avg Loss: 0.1112 Min Loss: 0.0053\n",
            "Epoch 28 | Acc: Train 96.67% Test 97.39% | Avg Loss: 0.1092 Min Loss: 0.0049\n",
            "Epoch 29 | Acc: Train 96.68% Test 97.58% | Avg Loss: 0.1099 Min Loss: 0.0057\n",
            "Epoch 30 | Acc: Train 96.57% Test 97.37% | Avg Loss: 0.1127 Min Loss: 0.0041\n",
            "Epoch 31 | Acc: Train 96.70% Test 97.44% | Avg Loss: 0.1083 Min Loss: 0.0041\n",
            "Epoch 32 | Acc: Train 96.64% Test 97.28% | Avg Loss: 0.1080 Min Loss: 0.0020\n",
            "Epoch 33 | Acc: Train 96.74% Test 97.51% | Avg Loss: 0.1066 Min Loss: 0.0046\n",
            "Epoch 34 | Acc: Train 96.56% Test 97.51% | Avg Loss: 0.1108 Min Loss: 0.0023\n",
            "Epoch 35 | Acc: Train 96.65% Test 97.20% | Avg Loss: 0.1099 Min Loss: 0.0040\n",
            "Epoch 36 | Acc: Train 96.72% Test 97.29% | Avg Loss: 0.1091 Min Loss: 0.0065\n",
            "Epoch 37 | Acc: Train 96.81% Test 97.45% | Avg Loss: 0.1043 Min Loss: 0.0029\n",
            "Epoch 38 | Acc: Train 96.63% Test 97.33% | Avg Loss: 0.1106 Min Loss: 0.0040\n",
            "Epoch 39 | Acc: Train 96.76% Test 97.30% | Avg Loss: 0.1037 Min Loss: 0.0074\n",
            "Epoch 40 | Acc: Train 96.77% Test 97.45% | Avg Loss: 0.1060 Min Loss: 0.0023\n",
            "Epoch 41 | Acc: Train 96.88% Test 97.05% | Avg Loss: 0.1022 Min Loss: 0.0014\n",
            "Epoch 42 | Acc: Train 96.89% Test 97.46% | Avg Loss: 0.1018 Min Loss: 0.0024\n",
            "Epoch 43 | Acc: Train 96.83% Test 97.49% | Avg Loss: 0.1029 Min Loss: 0.0038\n",
            "Epoch 44 | Acc: Train 96.80% Test 97.50% | Avg Loss: 0.1023 Min Loss: 0.0042\n",
            "Epoch 45 | Acc: Train 96.73% Test 97.41% | Avg Loss: 0.1070 Min Loss: 0.0038\n",
            "Epoch 46 | Acc: Train 96.94% Test 97.41% | Avg Loss: 0.1006 Min Loss: 0.0023\n",
            "Epoch 47 | Acc: Train 96.94% Test 97.40% | Avg Loss: 0.1011 Min Loss: 0.0038\n",
            "Epoch 48 | Acc: Train 96.90% Test 97.48% | Avg Loss: 0.1028 Min Loss: 0.0017\n",
            "Epoch 49 | Acc: Train 97.09% Test 97.41% | Avg Loss: 0.0949 Min Loss: 0.0018\n",
            "Epoch 50 | Acc: Train 96.81% Test 97.36% | Avg Loss: 0.1022 Min Loss: 0.0015\n"
          ]
        }
      ],
      "source": [
        "model = Net(2, 128, 0.3)\n",
        "optimizer = optim.SGD(model.parameters(), lr=0.01, momentum=0.9)\n",
        "train(50, model, optimizer)"
      ]
    },
    {
      "cell_type": "markdown",
      "metadata": {},
      "source": [
        "After testing several dropout rates, also adjusting the learning rate and epochs to account for the extra slowness in training that comes with dropout, a rate of $0.3$ is what seems optimal. We won't show the output for each test to avoid cluttering the notebook, but these were the most remarkable results:\n",
        "\n",
        "- With $0.5$ and $0.4$, using $lr=0.01$, accuracy started to plateau around $97\\%$, which is better than before but we wanted to see if it could do better.\n",
        "- With $0.3$ , using $lr=0.01$, accuracy went up to $97.5\\%$, even going up to $98\\%$ in some runs.\n",
        "- With $0.2$, it started overfitting again after around $12$ epochs."
      ]
    },
    {
      "cell_type": "markdown",
      "metadata": {},
      "source": [
        "## Optimizer"
      ]
    },
    {
      "cell_type": "markdown",
      "metadata": {},
      "source": [
        "Let's try with **Adam**."
      ]
    },
    {
      "cell_type": "code",
      "execution_count": 468,
      "metadata": {},
      "outputs": [
        {
          "name": "stdout",
          "output_type": "stream",
          "text": [
            "Epoch 1 | Acc: Train 90.34% Test 95.16% | Avg Loss: 0.3194 Min Loss: 0.0314\n",
            "Epoch 2 | Acc: Train 94.40% Test 96.05% | Avg Loss: 0.1825 Min Loss: 0.0210\n",
            "Epoch 3 | Acc: Train 95.31% Test 96.57% | Avg Loss: 0.1523 Min Loss: 0.0083\n",
            "Epoch 4 | Acc: Train 95.74% Test 96.79% | Avg Loss: 0.1368 Min Loss: 0.0155\n",
            "Epoch 5 | Acc: Train 96.04% Test 96.52% | Avg Loss: 0.1278 Min Loss: 0.0105\n",
            "Epoch 6 | Acc: Train 96.34% Test 97.01% | Avg Loss: 0.1170 Min Loss: 0.0049\n",
            "Epoch 7 | Acc: Train 96.58% Test 96.87% | Avg Loss: 0.1101 Min Loss: 0.0051\n",
            "Epoch 8 | Acc: Train 96.48% Test 97.31% | Avg Loss: 0.1107 Min Loss: 0.0052\n",
            "Epoch 9 | Acc: Train 96.69% Test 97.24% | Avg Loss: 0.1054 Min Loss: 0.0052\n",
            "Epoch 10 | Acc: Train 96.78% Test 96.88% | Avg Loss: 0.1007 Min Loss: 0.0029\n",
            "Epoch 11 | Acc: Train 96.85% Test 97.05% | Avg Loss: 0.1006 Min Loss: 0.0033\n",
            "Epoch 12 | Acc: Train 96.93% Test 97.16% | Avg Loss: 0.0958 Min Loss: 0.0038\n",
            "Epoch 13 | Acc: Train 96.91% Test 97.39% | Avg Loss: 0.0991 Min Loss: 0.0025\n",
            "Epoch 14 | Acc: Train 97.01% Test 97.05% | Avg Loss: 0.0949 Min Loss: 0.0020\n",
            "Epoch 15 | Acc: Train 97.10% Test 97.05% | Avg Loss: 0.0929 Min Loss: 0.0015\n",
            "Epoch 16 | Acc: Train 97.05% Test 97.66% | Avg Loss: 0.0938 Min Loss: 0.0041\n",
            "Epoch 17 | Acc: Train 97.24% Test 97.63% | Avg Loss: 0.0872 Min Loss: 0.0014\n",
            "Epoch 18 | Acc: Train 97.17% Test 97.34% | Avg Loss: 0.0873 Min Loss: 0.0016\n",
            "Epoch 19 | Acc: Train 97.29% Test 97.34% | Avg Loss: 0.0851 Min Loss: 0.0013\n",
            "Epoch 20 | Acc: Train 97.32% Test 97.57% | Avg Loss: 0.0853 Min Loss: 0.0012\n",
            "Epoch 21 | Acc: Train 97.29% Test 97.34% | Avg Loss: 0.0871 Min Loss: 0.0006\n",
            "Epoch 22 | Acc: Train 97.40% Test 97.40% | Avg Loss: 0.0808 Min Loss: 0.0008\n",
            "Epoch 23 | Acc: Train 97.42% Test 97.35% | Avg Loss: 0.0811 Min Loss: 0.0014\n",
            "Epoch 24 | Acc: Train 97.38% Test 97.59% | Avg Loss: 0.0827 Min Loss: 0.0015\n",
            "Epoch 25 | Acc: Train 97.49% Test 97.57% | Avg Loss: 0.0804 Min Loss: 0.0012\n",
            "Epoch 26 | Acc: Train 97.58% Test 97.15% | Avg Loss: 0.0760 Min Loss: 0.0005\n",
            "Epoch 27 | Acc: Train 97.43% Test 97.41% | Avg Loss: 0.0812 Min Loss: 0.0008\n",
            "Epoch 28 | Acc: Train 97.43% Test 96.91% | Avg Loss: 0.0797 Min Loss: 0.0010\n",
            "Epoch 29 | Acc: Train 97.46% Test 97.23% | Avg Loss: 0.0786 Min Loss: 0.0011\n",
            "Epoch 30 | Acc: Train 97.60% Test 97.53% | Avg Loss: 0.0761 Min Loss: 0.0005\n",
            "Epoch 31 | Acc: Train 97.63% Test 97.49% | Avg Loss: 0.0762 Min Loss: 0.0003\n",
            "Epoch 32 | Acc: Train 97.67% Test 97.38% | Avg Loss: 0.0740 Min Loss: 0.0003\n",
            "Epoch 33 | Acc: Train 97.61% Test 97.51% | Avg Loss: 0.0756 Min Loss: 0.0005\n",
            "Epoch 34 | Acc: Train 97.60% Test 97.50% | Avg Loss: 0.0763 Min Loss: 0.0005\n",
            "Epoch 35 | Acc: Train 97.69% Test 97.39% | Avg Loss: 0.0761 Min Loss: 0.0004\n",
            "Epoch 36 | Acc: Train 97.73% Test 97.30% | Avg Loss: 0.0721 Min Loss: 0.0001\n",
            "Epoch 37 | Acc: Train 97.67% Test 97.36% | Avg Loss: 0.0734 Min Loss: 0.0009\n",
            "Epoch 38 | Acc: Train 97.75% Test 97.41% | Avg Loss: 0.0743 Min Loss: 0.0007\n",
            "Epoch 39 | Acc: Train 97.80% Test 97.06% | Avg Loss: 0.0687 Min Loss: 0.0010\n",
            "Epoch 40 | Acc: Train 97.72% Test 97.34% | Avg Loss: 0.0725 Min Loss: 0.0005\n",
            "Epoch 41 | Acc: Train 97.76% Test 97.23% | Avg Loss: 0.0718 Min Loss: 0.0007\n",
            "Epoch 42 | Acc: Train 97.88% Test 97.55% | Avg Loss: 0.0674 Min Loss: 0.0003\n",
            "Epoch 43 | Acc: Train 97.71% Test 97.12% | Avg Loss: 0.0741 Min Loss: 0.0003\n",
            "Epoch 44 | Acc: Train 97.86% Test 97.35% | Avg Loss: 0.0706 Min Loss: 0.0004\n",
            "Epoch 45 | Acc: Train 97.73% Test 97.31% | Avg Loss: 0.0736 Min Loss: 0.0002\n",
            "Epoch 46 | Acc: Train 97.82% Test 97.13% | Avg Loss: 0.0691 Min Loss: 0.0001\n",
            "Epoch 47 | Acc: Train 97.84% Test 97.09% | Avg Loss: 0.0713 Min Loss: 0.0005\n",
            "Epoch 48 | Acc: Train 97.87% Test 97.44% | Avg Loss: 0.0692 Min Loss: 0.0004\n",
            "Epoch 49 | Acc: Train 97.86% Test 97.16% | Avg Loss: 0.0694 Min Loss: 0.0002\n",
            "Epoch 50 | Acc: Train 97.95% Test 97.35% | Avg Loss: 0.0640 Min Loss: 0.0003\n"
          ]
        }
      ],
      "source": [
        "model = Net(1, 128, 0.3)\n",
        "optimizer = optim.Adam(model.parameters(), lr=0.001)\n",
        "train(50, model, optimizer)"
      ]
    },
    {
      "cell_type": "markdown",
      "metadata": {},
      "source": [
        "Since Adam doesn't have momentum, it's more likely that the gradient explodes in later epochs with a big learning rate.\n",
        "\n",
        "- $lr=0.01$ caused the gradients to explode, as expected, and accuracy decreased continuously.\n",
        "- $lr=0.001$ yielded slightly worse results than **SGD** in the previous section."
      ]
    },
    {
      "cell_type": "markdown",
      "metadata": {},
      "source": [
        "## Number of hidden layers"
      ]
    },
    {
      "cell_type": "markdown",
      "metadata": {},
      "source": [
        "It is important to watch out for overfitting as it is a known effect of incresing the depth of neural networks."
      ]
    },
    {
      "cell_type": "code",
      "execution_count": 463,
      "metadata": {},
      "outputs": [
        {
          "name": "stdout",
          "output_type": "stream",
          "text": [
            "Epoch 1 | Acc: Train 89.14% Test 94.56% | Avg Loss: 0.3583 Min Loss: 0.0571\n",
            "Epoch 2 | Acc: Train 94.56% Test 96.24% | Avg Loss: 0.1813 Min Loss: 0.0263\n",
            "Epoch 3 | Acc: Train 95.47% Test 96.76% | Avg Loss: 0.1497 Min Loss: 0.0119\n",
            "Epoch 4 | Acc: Train 96.07% Test 96.65% | Avg Loss: 0.1302 Min Loss: 0.0089\n",
            "Epoch 5 | Acc: Train 96.32% Test 97.16% | Avg Loss: 0.1180 Min Loss: 0.0078\n",
            "Epoch 6 | Acc: Train 96.62% Test 97.29% | Avg Loss: 0.1107 Min Loss: 0.0051\n",
            "Epoch 7 | Acc: Train 96.65% Test 97.15% | Avg Loss: 0.1053 Min Loss: 0.0079\n",
            "Epoch 8 | Acc: Train 96.97% Test 97.22% | Avg Loss: 0.0979 Min Loss: 0.0034\n",
            "Epoch 9 | Acc: Train 96.83% Test 97.47% | Avg Loss: 0.0965 Min Loss: 0.0063\n",
            "Epoch 10 | Acc: Train 97.08% Test 97.43% | Avg Loss: 0.0900 Min Loss: 0.0060\n",
            "Epoch 11 | Acc: Train 97.18% Test 97.44% | Avg Loss: 0.0872 Min Loss: 0.0032\n",
            "Epoch 12 | Acc: Train 97.25% Test 97.46% | Avg Loss: 0.0846 Min Loss: 0.0030\n",
            "Epoch 13 | Acc: Train 97.31% Test 97.33% | Avg Loss: 0.0821 Min Loss: 0.0023\n",
            "Epoch 14 | Acc: Train 97.36% Test 97.41% | Avg Loss: 0.0819 Min Loss: 0.0014\n",
            "Epoch 15 | Acc: Train 97.50% Test 97.57% | Avg Loss: 0.0778 Min Loss: 0.0031\n",
            "Epoch 16 | Acc: Train 97.57% Test 97.75% | Avg Loss: 0.0756 Min Loss: 0.0042\n",
            "Epoch 17 | Acc: Train 97.52% Test 97.64% | Avg Loss: 0.0750 Min Loss: 0.0029\n",
            "Epoch 18 | Acc: Train 97.49% Test 97.54% | Avg Loss: 0.0751 Min Loss: 0.0013\n",
            "Epoch 19 | Acc: Train 97.72% Test 97.59% | Avg Loss: 0.0685 Min Loss: 0.0013\n",
            "Epoch 20 | Acc: Train 97.66% Test 97.54% | Avg Loss: 0.0713 Min Loss: 0.0022\n",
            "Epoch 21 | Acc: Train 97.69% Test 97.32% | Avg Loss: 0.0692 Min Loss: 0.0018\n",
            "Epoch 22 | Acc: Train 97.68% Test 97.54% | Avg Loss: 0.0705 Min Loss: 0.0017\n",
            "Epoch 23 | Acc: Train 97.67% Test 97.61% | Avg Loss: 0.0708 Min Loss: 0.0021\n",
            "Epoch 24 | Acc: Train 97.64% Test 97.45% | Avg Loss: 0.0703 Min Loss: 0.0008\n",
            "Epoch 25 | Acc: Train 97.63% Test 97.32% | Avg Loss: 0.0705 Min Loss: 0.0012\n",
            "Epoch 26 | Acc: Train 97.74% Test 97.49% | Avg Loss: 0.0671 Min Loss: 0.0015\n",
            "Epoch 27 | Acc: Train 97.76% Test 97.32% | Avg Loss: 0.0675 Min Loss: 0.0007\n",
            "Epoch 28 | Acc: Train 97.76% Test 97.59% | Avg Loss: 0.0671 Min Loss: 0.0012\n",
            "Epoch 29 | Acc: Train 97.96% Test 97.62% | Avg Loss: 0.0629 Min Loss: 0.0008\n",
            "Epoch 30 | Acc: Train 97.90% Test 97.61% | Avg Loss: 0.0627 Min Loss: 0.0018\n",
            "Epoch 31 | Acc: Train 97.84% Test 97.62% | Avg Loss: 0.0640 Min Loss: 0.0010\n",
            "Epoch 32 | Acc: Train 97.89% Test 97.78% | Avg Loss: 0.0637 Min Loss: 0.0007\n",
            "Epoch 33 | Acc: Train 97.94% Test 97.78% | Avg Loss: 0.0630 Min Loss: 0.0007\n",
            "Epoch 34 | Acc: Train 97.88% Test 97.57% | Avg Loss: 0.0639 Min Loss: 0.0009\n",
            "Epoch 35 | Acc: Train 98.12% Test 97.54% | Avg Loss: 0.0572 Min Loss: 0.0005\n",
            "Epoch 36 | Acc: Train 97.92% Test 97.44% | Avg Loss: 0.0620 Min Loss: 0.0004\n",
            "Epoch 37 | Acc: Train 97.97% Test 97.45% | Avg Loss: 0.0623 Min Loss: 0.0007\n",
            "Epoch 38 | Acc: Train 97.96% Test 97.54% | Avg Loss: 0.0612 Min Loss: 0.0016\n",
            "Epoch 39 | Acc: Train 98.06% Test 97.35% | Avg Loss: 0.0604 Min Loss: 0.0006\n",
            "Epoch 40 | Acc: Train 97.86% Test 97.40% | Avg Loss: 0.0642 Min Loss: 0.0013\n",
            "Epoch 41 | Acc: Train 98.11% Test 97.48% | Avg Loss: 0.0590 Min Loss: 0.0006\n",
            "Epoch 42 | Acc: Train 98.08% Test 97.55% | Avg Loss: 0.0572 Min Loss: 0.0011\n",
            "Epoch 43 | Acc: Train 97.99% Test 97.58% | Avg Loss: 0.0611 Min Loss: 0.0002\n",
            "Epoch 44 | Acc: Train 97.97% Test 97.49% | Avg Loss: 0.0607 Min Loss: 0.0005\n",
            "Epoch 45 | Acc: Train 98.05% Test 97.41% | Avg Loss: 0.0598 Min Loss: 0.0005\n",
            "Epoch 46 | Acc: Train 98.01% Test 97.59% | Avg Loss: 0.0604 Min Loss: 0.0004\n",
            "Epoch 47 | Acc: Train 98.12% Test 97.36% | Avg Loss: 0.0575 Min Loss: 0.0001\n",
            "Epoch 48 | Acc: Train 98.04% Test 97.44% | Avg Loss: 0.0597 Min Loss: 0.0005\n",
            "Epoch 49 | Acc: Train 98.04% Test 97.47% | Avg Loss: 0.0580 Min Loss: 0.0004\n",
            "Epoch 50 | Acc: Train 97.98% Test 97.41% | Avg Loss: 0.0616 Min Loss: 0.0003\n"
          ]
        }
      ],
      "source": [
        "model = Net(1, 128, 0.3)\n",
        "optimizer = optim.SGD(model.parameters(), lr=0.01, momentum=0.9)\n",
        "train(50, model, optimizer)"
      ]
    },
    {
      "cell_type": "markdown",
      "metadata": {},
      "source": [
        "- Neither $4$ nor $6$ layers improved accuracy.\n",
        "- Decreasing the number of layers to $1$ also maintained accuracy so by occam's razor, we will choose this number of layers.\n",
        "\n",
        "Decreasing the number of layers to 0 would cause the model to underfit as it gives it essentially no capacity to abstract and generalize."
      ]
    },
    {
      "cell_type": "markdown",
      "metadata": {},
      "source": [
        "## Number of neurons per hidden layer"
      ]
    },
    {
      "cell_type": "code",
      "execution_count": 465,
      "metadata": {},
      "outputs": [
        {
          "name": "stdout",
          "output_type": "stream",
          "text": [
            "Epoch 1 | Acc: Train 90.30% Test 94.85% | Avg Loss: 0.3253 Min Loss: 0.0454\n",
            "Epoch 2 | Acc: Train 95.31% Test 96.47% | Avg Loss: 0.1548 Min Loss: 0.0180\n",
            "Epoch 3 | Acc: Train 96.40% Test 96.94% | Avg Loss: 0.1174 Min Loss: 0.0078\n",
            "Epoch 4 | Acc: Train 96.89% Test 97.23% | Avg Loss: 0.0993 Min Loss: 0.0056\n",
            "Epoch 5 | Acc: Train 97.24% Test 97.35% | Avg Loss: 0.0860 Min Loss: 0.0054\n",
            "Epoch 6 | Acc: Train 97.50% Test 97.47% | Avg Loss: 0.0780 Min Loss: 0.0032\n",
            "Epoch 7 | Acc: Train 97.63% Test 97.68% | Avg Loss: 0.0710 Min Loss: 0.0026\n",
            "Epoch 8 | Acc: Train 97.77% Test 97.46% | Avg Loss: 0.0686 Min Loss: 0.0030\n",
            "Epoch 9 | Acc: Train 97.88% Test 97.80% | Avg Loss: 0.0625 Min Loss: 0.0026\n",
            "Epoch 10 | Acc: Train 98.11% Test 97.87% | Avg Loss: 0.0568 Min Loss: 0.0025\n",
            "Epoch 11 | Acc: Train 98.14% Test 97.82% | Avg Loss: 0.0543 Min Loss: 0.0009\n",
            "Epoch 12 | Acc: Train 98.31% Test 97.75% | Avg Loss: 0.0510 Min Loss: 0.0014\n",
            "Epoch 13 | Acc: Train 98.37% Test 97.86% | Avg Loss: 0.0478 Min Loss: 0.0011\n",
            "Epoch 14 | Acc: Train 98.40% Test 97.88% | Avg Loss: 0.0462 Min Loss: 0.0008\n",
            "Epoch 15 | Acc: Train 98.40% Test 97.88% | Avg Loss: 0.0451 Min Loss: 0.0010\n",
            "Epoch 16 | Acc: Train 98.57% Test 97.86% | Avg Loss: 0.0411 Min Loss: 0.0009\n",
            "Epoch 17 | Acc: Train 98.62% Test 98.02% | Avg Loss: 0.0400 Min Loss: 0.0010\n",
            "Epoch 18 | Acc: Train 98.57% Test 97.86% | Avg Loss: 0.0402 Min Loss: 0.0005\n",
            "Epoch 19 | Acc: Train 98.73% Test 97.99% | Avg Loss: 0.0366 Min Loss: 0.0004\n",
            "Epoch 20 | Acc: Train 98.62% Test 97.89% | Avg Loss: 0.0392 Min Loss: 0.0003\n",
            "Epoch 21 | Acc: Train 98.72% Test 97.95% | Avg Loss: 0.0370 Min Loss: 0.0004\n",
            "Epoch 22 | Acc: Train 98.84% Test 97.68% | Avg Loss: 0.0336 Min Loss: 0.0005\n",
            "Epoch 23 | Acc: Train 98.82% Test 97.91% | Avg Loss: 0.0330 Min Loss: 0.0003\n",
            "Epoch 24 | Acc: Train 98.88% Test 97.87% | Avg Loss: 0.0315 Min Loss: 0.0003\n",
            "Epoch 25 | Acc: Train 98.95% Test 97.88% | Avg Loss: 0.0292 Min Loss: 0.0001\n",
            "Epoch 26 | Acc: Train 98.97% Test 97.94% | Avg Loss: 0.0295 Min Loss: 0.0002\n",
            "Epoch 27 | Acc: Train 98.91% Test 98.01% | Avg Loss: 0.0302 Min Loss: 0.0002\n",
            "Epoch 28 | Acc: Train 98.89% Test 97.87% | Avg Loss: 0.0310 Min Loss: 0.0003\n",
            "Epoch 29 | Acc: Train 99.03% Test 98.07% | Avg Loss: 0.0268 Min Loss: 0.0001\n",
            "Epoch 30 | Acc: Train 99.01% Test 97.96% | Avg Loss: 0.0276 Min Loss: 0.0001\n",
            "Epoch 31 | Acc: Train 98.96% Test 98.11% | Avg Loss: 0.0286 Min Loss: 0.0001\n",
            "Epoch 32 | Acc: Train 99.08% Test 98.02% | Avg Loss: 0.0263 Min Loss: 0.0001\n",
            "Epoch 33 | Acc: Train 99.09% Test 97.99% | Avg Loss: 0.0257 Min Loss: 0.0001\n",
            "Epoch 34 | Acc: Train 99.05% Test 97.92% | Avg Loss: 0.0263 Min Loss: 0.0001\n",
            "Epoch 35 | Acc: Train 99.01% Test 97.91% | Avg Loss: 0.0292 Min Loss: 0.0001\n",
            "Epoch 36 | Acc: Train 98.98% Test 98.15% | Avg Loss: 0.0281 Min Loss: 0.0001\n",
            "Epoch 37 | Acc: Train 99.07% Test 97.83% | Avg Loss: 0.0265 Min Loss: 0.0001\n",
            "Epoch 38 | Acc: Train 99.01% Test 97.98% | Avg Loss: 0.0272 Min Loss: 0.0000\n",
            "Epoch 39 | Acc: Train 99.05% Test 97.87% | Avg Loss: 0.0264 Min Loss: 0.0001\n",
            "Epoch 40 | Acc: Train 99.11% Test 97.91% | Avg Loss: 0.0261 Min Loss: 0.0000\n",
            "Epoch 41 | Acc: Train 99.08% Test 97.98% | Avg Loss: 0.0269 Min Loss: 0.0000\n",
            "Epoch 42 | Acc: Train 99.08% Test 97.93% | Avg Loss: 0.0265 Min Loss: 0.0001\n",
            "Epoch 43 | Acc: Train 99.11% Test 97.82% | Avg Loss: 0.0269 Min Loss: 0.0001\n",
            "Epoch 44 | Acc: Train 99.09% Test 98.07% | Avg Loss: 0.0257 Min Loss: 0.0000\n",
            "Epoch 45 | Acc: Train 99.12% Test 98.08% | Avg Loss: 0.0246 Min Loss: 0.0001\n",
            "Epoch 46 | Acc: Train 99.11% Test 97.67% | Avg Loss: 0.0255 Min Loss: 0.0000\n",
            "Epoch 47 | Acc: Train 99.15% Test 98.02% | Avg Loss: 0.0246 Min Loss: 0.0000\n",
            "Epoch 48 | Acc: Train 99.21% Test 97.99% | Avg Loss: 0.0215 Min Loss: 0.0000\n",
            "Epoch 49 | Acc: Train 99.11% Test 97.84% | Avg Loss: 0.0258 Min Loss: 0.0000\n",
            "Epoch 50 | Acc: Train 99.21% Test 97.77% | Avg Loss: 0.0221 Min Loss: 0.0000\n"
          ]
        }
      ],
      "source": [
        "model = Net(1, 256, 0.3)\n",
        "optimizer = optim.SGD(model.parameters(), lr=0.01, momentum=0.9)\n",
        "train(50, model, optimizer)"
      ]
    },
    {
      "cell_type": "markdown",
      "metadata": {},
      "source": [
        "- $64$ neurons per layer made the model underfit.\n",
        "- $256$ overfitted.\n",
        "\n",
        "Thus, we stay with our choice of $128$ neurons per layer."
      ]
    },
    {
      "cell_type": "markdown",
      "metadata": {},
      "source": [
        "## CNN"
      ]
    },
    {
      "cell_type": "markdown",
      "metadata": {},
      "source": [
        "Taking a more drastic approach regarding network architecture, let's consider the following: With MNIST being an image dataset, why not just use a CNN?"
      ]
    },
    {
      "cell_type": "code",
      "execution_count": 509,
      "metadata": {},
      "outputs": [],
      "source": [
        "class ConvNet(nn.Module):\n",
        "\n",
        "    def __init__(self, hidden_neurons, dropout_rate):\n",
        "        super().__init__()\n",
        "\n",
        "        self.conv = nn.Sequential(\n",
        "            nn.LazyConv2d(32, 3),\n",
        "            nn.MaxPool2d(2),\n",
        "            nn.ReLU(),\n",
        "            nn.LazyConv2d(32, 3),\n",
        "            nn.ReLU(),\n",
        "            nn.Flatten(),\n",
        "        )\n",
        "\n",
        "        self.fc = nn.Sequential(\n",
        "            nn.LazyLinear(hidden_neurons),\n",
        "            nn.ReLU(),\n",
        "            nn.Dropout(dropout_rate),\n",
        "            nn.LazyLinear(classes),\n",
        "        )\n",
        "\n",
        "    def forward(self, x):\n",
        "        x = self.conv(x)\n",
        "        x = self.fc(x)\n",
        "        return x"
      ]
    },
    {
      "cell_type": "code",
      "execution_count": 511,
      "metadata": {},
      "outputs": [
        {
          "name": "stdout",
          "output_type": "stream",
          "text": [
            "Epoch 1 | Acc: Train 91.15% Test 97.69% | Avg Loss: 0.2853 Min Loss: 0.0153\n",
            "Epoch 2 | Acc: Train 97.18% Test 98.33% | Avg Loss: 0.0922 Min Loss: 0.0056\n",
            "Epoch 3 | Acc: Train 98.00% Test 98.54% | Avg Loss: 0.0663 Min Loss: 0.0032\n",
            "Epoch 4 | Acc: Train 98.26% Test 98.71% | Avg Loss: 0.0554 Min Loss: 0.0011\n",
            "Epoch 5 | Acc: Train 98.54% Test 98.90% | Avg Loss: 0.0456 Min Loss: 0.0007\n",
            "Epoch 6 | Acc: Train 98.80% Test 98.88% | Avg Loss: 0.0384 Min Loss: 0.0009\n",
            "Epoch 7 | Acc: Train 98.94% Test 99.08% | Avg Loss: 0.0330 Min Loss: 0.0003\n",
            "Epoch 8 | Acc: Train 98.98% Test 99.05% | Avg Loss: 0.0310 Min Loss: 0.0003\n",
            "Epoch 9 | Acc: Train 99.14% Test 98.99% | Avg Loss: 0.0267 Min Loss: 0.0003\n",
            "Epoch 10 | Acc: Train 99.21% Test 98.98% | Avg Loss: 0.0234 Min Loss: 0.0002\n",
            "Epoch 11 | Acc: Train 99.20% Test 99.18% | Avg Loss: 0.0233 Min Loss: 0.0001\n",
            "Epoch 12 | Acc: Train 99.32% Test 99.05% | Avg Loss: 0.0194 Min Loss: 0.0001\n",
            "Epoch 13 | Acc: Train 99.43% Test 99.04% | Avg Loss: 0.0162 Min Loss: 0.0000\n",
            "Epoch 14 | Acc: Train 99.40% Test 98.98% | Avg Loss: 0.0171 Min Loss: 0.0001\n",
            "Epoch 15 | Acc: Train 99.41% Test 99.11% | Avg Loss: 0.0156 Min Loss: 0.0000\n",
            "Epoch 16 | Acc: Train 99.45% Test 98.95% | Avg Loss: 0.0149 Min Loss: 0.0000\n",
            "Epoch 17 | Acc: Train 99.46% Test 99.01% | Avg Loss: 0.0143 Min Loss: 0.0000\n",
            "Epoch 18 | Acc: Train 99.55% Test 98.98% | Avg Loss: 0.0121 Min Loss: 0.0000\n",
            "Epoch 19 | Acc: Train 99.51% Test 99.09% | Avg Loss: 0.0119 Min Loss: 0.0000\n",
            "Epoch 20 | Acc: Train 99.60% Test 99.00% | Avg Loss: 0.0102 Min Loss: 0.0000\n"
          ]
        }
      ],
      "source": [
        "cnn = ConvNet(128, 0.5)\n",
        "optimizer = optim.SGD(cnn.parameters(), lr=0.01, momentum=0.9)\n",
        "train(20, cnn, optimizer)"
      ]
    },
    {
      "cell_type": "markdown",
      "metadata": {},
      "source": [
        "As we expected, even just after *two* epochs and with *no* hyperparameter optimization, the CNN has proved to be better than the MLP.\n",
        "\n",
        "This suggests that the reason why we weren't able to improve the accuracy of the MLP further than $98\\%$ was because of *bias*; the MLP just wasn't the right tool and couldn't fit the data better than that.\n",
        "\n",
        "We could add more dropout layers to the CNN to try to further increase performance, possibly one right before the fully connected part of the network, but we have to be aware of the fact that there's a noise factor that we cannot control, so accuracy will definitely not go much higher that the $99\\%$ we achieved with the CNN."
      ]
    },
    {
      "cell_type": "markdown",
      "metadata": {},
      "source": [
        "# Visualization"
      ]
    },
    {
      "cell_type": "markdown",
      "metadata": {},
      "source": [
        "This is not required but I wanted to play a bit with matplotlib and how to display images alongside predictions, so I might as well hand it in with the rest of the work."
      ]
    },
    {
      "cell_type": "code",
      "execution_count": 474,
      "metadata": {},
      "outputs": [],
      "source": [
        "import matplotlib.pyplot as plt"
      ]
    },
    {
      "cell_type": "code",
      "execution_count": 502,
      "metadata": {},
      "outputs": [
        {
          "data": {
            "image/png": "[encoded data removed]",
            "text/plain": [
              "<Figure size 1200x600 with 8 Axes>"
            ]
          },
          "metadata": {},
          "output_type": "display_data"
        }
      ],
      "source": [
        "rows = 2\n",
        "cols = 4\n",
        "\n",
        "fig, axes = plt.subplots(rows, cols, figsize=(3 * cols, 3 * rows))\n",
        "\n",
        "for i, (instance, label) in enumerate(DataLoader(test_set, 1)):\n",
        "    if i >= rows * cols:\n",
        "        break\n",
        "\n",
        "    ax = axes[i // cols, i % cols]\n",
        "    ax.imshow(test_set.data[i], cmap=\"gray\")\n",
        "    ax.set_title(f\"Label: {label.item()} Predicted: {model(instance).argmax(1).item()}\")\n",
        "\n",
        "plt.show()"
      ]
    }
  ],
  "metadata": {
    "colab": {
      "provenance": []
    },
    "kernelspec": {
      "display_name": "Python 3",
      "name": "python3"
    },
    "language_info": {
      "codemirror_mode": {
        "name": "ipython",
        "version": 3
      },
      "file_extension": ".py",
      "mimetype": "text/x-python",
      "name": "python",
      "nbconvert_exporter": "python",
      "pygments_lexer": "ipython3",
      "version": "3.11.5"
    }
  },
  "nbformat": 4,
  "nbformat_minor": 0
}
