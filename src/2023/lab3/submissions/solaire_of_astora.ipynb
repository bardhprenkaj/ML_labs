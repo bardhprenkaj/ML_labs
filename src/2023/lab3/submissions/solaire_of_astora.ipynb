{
  "cells": [
    {
      "attachments": {},
      "cell_type": "markdown",
      "metadata": {
        "id": "E5AYt3Cn35zA"
      },
      "source": [
        "**Challenge: Implement a Multiclass Classification Neural Network using PyTorch**\n",
        "\n",
        "Objective:\n",
        "Build a neural network using PyTorch to predict handwritten digits of MNIST.\n",
        "\n",
        "Steps:\n",
        "\n",
        "1. **Data Preparation**: Load the MNIST dataset using ```torchvision.datasets.MNIST```. Standardize/normalize the features. Split the dataset into training and testing sets using, for example, ```sklearn.model_selection.train_test_split()```. **Bonus scores**: *use PyTorch's built-* ```DataLoader``` *to split the dataset*.\n",
        "\n",
        "2. **Neural Network Architecture**: Define a simple feedforward neural network using PyTorch's ```nn.Module```. Design the input layer to match the number of features in the MNIST dataset and the output layer to have as many neurons as there are classes (10). You can experiment with the number of hidden layers and neurons to optimize the performance. **Bonus scores**: *Make your architecture flexibile to have as many hidden layers as the user wants, and use hyperparameter optimization to select the best number of hidden layeres.*\n",
        "\n",
        "3. **Loss Function and Optimizer**: Choose an appropriate loss function for multiclass classification. Select an optimizer, like SGD (Stochastic Gradient Descent) or Adam.\n",
        "\n",
        "4. **Training**: Write a training loop to iterate over the dataset.\n",
        "Forward pass the input through the network, calculate the loss, and perform backpropagation. Update the weights of the network using the chosen optimizer.\n",
        "\n",
        "5. **Testing**: Evaluate the trained model on the test set. Calculate the accuracy of the model.\n",
        "\n",
        "6. **Optimization**: Experiment with hyperparameters (learning rate, number of epochs, etc.) to optimize the model's performance. Consider adjusting the neural network architecture for better results. **Notice that you can't use the optimization algorithms from scikit-learn that we saw in lab1: e.g.,** ```GridSearchCV```.\n"
      ]
    },
    {
      "cell_type": "markdown",
      "metadata": {},
      "source": [
        "Solaire of Astora here, \\\\[T]/\n",
        "\n",
        "This is **not** my first rodeo, not to brag but I myself have trained a lot of models soo... let's see if I can make a massacre out of MNIST for the hundredth time.\n",
        "\n",
        "Let's first import our tools."
      ]
    },
    {
      "cell_type": "code",
      "execution_count": 1,
      "metadata": {
        "id": "5XLynrxJ33v6"
      },
      "outputs": [
        {
          "name": "stderr",
          "output_type": "stream",
          "text": [
            "c:\\Python311\\Lib\\site-packages\\tqdm\\auto.py:21: TqdmWarning: IProgress not found. Please update jupyter and ipywidgets. See https://ipywidgets.readthedocs.io/en/stable/user_install.html\n",
            "  from .autonotebook import tqdm as notebook_tqdm\n"
          ]
        }
      ],
      "source": [
        "import torch\n",
        "import torch.nn as nn\n",
        "import torchvision.transforms as T # We'll need this one for a lil party trick.\n",
        "from torchvision.datasets import MNIST\n",
        "from torch.utils.data import DataLoader, Subset, Dataset\n",
        "\n",
        "import tqdm\n",
        "import random\n",
        "import numpy as np\n",
        "from matplotlib import pyplot as plt"
      ]
    },
    {
      "cell_type": "markdown",
      "metadata": {},
      "source": [
        "First let's prepare our data, we split into train, valid, and test of course (using seed for reproducibility)"
      ]
    },
    {
      "cell_type": "code",
      "execution_count": 2,
      "metadata": {},
      "outputs": [
        {
          "name": "stdout",
          "output_type": "stream",
          "text": [
            "54000 6000 10000\n"
          ]
        }
      ],
      "source": [
        "underlying_dataset = MNIST(\"downloads\", train=True, download=True, transform=T.ToTensor())\n",
        "\n",
        "indexes = list(range(len(underlying_dataset)))\n",
        "random.seed(42)\n",
        "random.shuffle(indexes)\n",
        "\n",
        "n_train = int(len(indexes) * .9)\n",
        "underlying_train_dset = Subset(underlying_dataset, indexes[:n_train])\n",
        "underlying_valid_dset = Subset(underlying_dataset, indexes[n_train:])\n",
        "\n",
        "underlying_test_dset = MNIST(\"downloads\", train=False, download=True, transform=T.ToTensor())\n",
        "\n",
        "print(n_train, len(indexes) - n_train, len(underlying_test_dset))"
      ]
    },
    {
      "cell_type": "markdown",
      "metadata": {},
      "source": [
        "As I want to normalize the inputs, let's first calculate mean and standard deviation from the training set."
      ]
    },
    {
      "cell_type": "code",
      "execution_count": 3,
      "metadata": {},
      "outputs": [],
      "source": [
        "# images = []\n",
        "# for img, _ in underlying_train_dset:\n",
        "#     images.append(img)\n",
        "#\n",
        "# images = torch.stack(images)\n",
        "#\n",
        "# print(images.mean(), images.std())\n",
        "## 0.1306, 0.3081"
      ]
    },
    {
      "cell_type": "code",
      "execution_count": 4,
      "metadata": {},
      "outputs": [],
      "source": [
        "class MyDataset(Dataset):\n",
        "    def __init__(self, underlying_data, transform):\n",
        "        self.data = underlying_data\n",
        "        self.transform = transform\n",
        "\n",
        "    def __len__(self):\n",
        "        return len(self.data)\n",
        "\n",
        "    def __getitem__(self, idx):\n",
        "        if torch.is_tensor(idx):\n",
        "            idx = idx.tolist()\n",
        "\n",
        "        image, label = self.data[idx]\n",
        "        image = self.transform(image)\n",
        "        return (image, label)"
      ]
    },
    {
      "attachments": {},
      "cell_type": "markdown",
      "metadata": {},
      "source": [
        "This is the neat trick that'll help us- the elastic transform! It distorts images and, in this specific case, is great as it represents those little inconsistencies that we make when writing."
      ]
    },
    {
      "cell_type": "code",
      "execution_count": 5,
      "metadata": {},
      "outputs": [
        {
          "data": {
            "image/png": "[encoded data removed]",
            "text/plain": [
              "<Figure size 800x800 with 10 Axes>"
            ]
          },
          "metadata": {},
          "output_type": "display_data"
        }
      ],
      "source": [
        "elastic = T.ElasticTransform()\n",
        "\n",
        "fig=plt.figure(figsize=(8, 8))\n",
        "for i in range(10):\n",
        "    a = underlying_train_dset[i][0]\n",
        "    a = elastic(a)[0]\n",
        "    fig.add_subplot(2, 5, i+1)\n",
        "    plt.imshow(a)\n",
        "\n",
        "plt.show()"
      ]
    },
    {
      "cell_type": "code",
      "execution_count": 6,
      "metadata": {},
      "outputs": [],
      "source": [
        "train_transform = T.Compose([\n",
        "    T.ElasticTransform(),\n",
        "    T.Normalize(0.1306, 0.3081)\n",
        "])\n",
        "\n",
        "valid_test_transform = T.Normalize(0.1306, 0.3081)\n",
        "\n",
        "train_dset = MyDataset(underlying_train_dset, train_transform)\n",
        "valid_dset = MyDataset(underlying_valid_dset, valid_test_transform)\n",
        "test_dset = MyDataset(underlying_test_dset, valid_test_transform)"
      ]
    },
    {
      "attachments": {},
      "cell_type": "markdown",
      "metadata": {},
      "source": [
        "We now write our model; normally I'd use a CNN, but it is required to build a Feed Forward NN so I'll comply-"
      ]
    },
    {
      "cell_type": "code",
      "execution_count": 7,
      "metadata": {},
      "outputs": [
        {
          "name": "stdout",
          "output_type": "stream",
          "text": [
            "135562\n",
            "torch.Size([32, 10])\n"
          ]
        }
      ],
      "source": [
        "class Classifier(nn.Module):\n",
        "    def __init__(self, layers=[(128, 0), (128, .5), (128, .5)], classes=10):\n",
        "\n",
        "        assert len(layers) > 0\n",
        "\n",
        "        super().__init__()\n",
        "\n",
        "        prev_dims = 28 * 28\n",
        "        modules = []\n",
        "\n",
        "        for dims, p in layers:\n",
        "            \n",
        "            ll = nn.Linear(prev_dims, dims)\n",
        "\n",
        "            nn.init.kaiming_normal_(ll.weight, a=.1, mode=\"fan_out\", nonlinearity=\"leaky_relu\")\n",
        "            nn.init.constant_(ll.bias, 0)\n",
        "\n",
        "            bn = nn.BatchNorm1d(dims)\n",
        "\n",
        "            nn.init.constant_(bn.weight, 1)\n",
        "            nn.init.constant_(bn.bias, 0)\n",
        "\n",
        "            modules.append(ll)\n",
        "            modules.append(nn.LeakyReLU(.1, True))\n",
        "            modules.append(bn)\n",
        "            modules.append(nn.Dropout(p, True))\n",
        "\n",
        "            prev_dims = dims\n",
        "\n",
        "        ll = nn.Linear(prev_dims, classes)\n",
        "        nn.init.kaiming_normal_(ll.weight, mode=\"fan_out\", nonlinearity=\"linear\")\n",
        "        nn.init.constant_(ll.bias, 0)\n",
        "\n",
        "        modules.append(ll)\n",
        "\n",
        "        self.pred = nn.Sequential(*modules)\n",
        "\n",
        "    def forward(self, x):\n",
        "        return self.pred(x.flatten(1))\n",
        "    \n",
        "# Test\n",
        "model = Classifier()\n",
        "print(sum([p.numel() for p in model.parameters()]))\n",
        "\n",
        "fake_in = torch.randn((32, 1, 28, 28))\n",
        "fake_out = model(fake_in)\n",
        "print(fake_out.shape)\n",
        "\n",
        "del model\n",
        "del fake_in\n",
        "del fake_out"
      ]
    },
    {
      "attachments": {},
      "cell_type": "markdown",
      "metadata": {},
      "source": [
        "Now that we've defined our model, let's define a small training loop:"
      ]
    },
    {
      "cell_type": "code",
      "execution_count": 8,
      "metadata": {},
      "outputs": [],
      "source": [
        "def train(lr, wd, batch_size, epochs, train_dset=train_dset, valid_dset=valid_dset, layers=[(128, 0), (128, .5), (128, .5)]):\n",
        "    device = \"cuda\" if torch.cuda.is_available() else \"cpu\"\n",
        "\n",
        "    torch.random.manual_seed(42)\n",
        "    train = DataLoader(train_dset, batch_size, shuffle=True)\n",
        "    valid = DataLoader(valid_dset, batch_size, shuffle=False)\n",
        "\n",
        "    model = Classifier(layers).to(device)\n",
        "    optimizer = torch.optim.AdamW(model.parameters(), lr=lr, weight_decay=wd)\n",
        "    # This scheduler is essentially useless as we do few epochs.\n",
        "    scheduler = torch.optim.lr_scheduler.ReduceLROnPlateau(optimizer, mode=\"max\", factor=.1, patience=3, threshold=.2, min_lr=1e-6)\n",
        "\n",
        "    criterion = nn.CrossEntropyLoss(reduction=\"none\") # We set to none as we want to do calculate a mean at our own pace (an average of averages != an average of all the values).\n",
        "\n",
        "    pbar = tqdm.tqdm()\n",
        "\n",
        "    tot_train = len(train_dset)\n",
        "    train_accus = []\n",
        "    valid_accus = []\n",
        "\n",
        "    best_accu = 0\n",
        "\n",
        "    for epoch in range(epochs):\n",
        "        losses = []\n",
        "        accus = []\n",
        "\n",
        "        model.train()\n",
        "\n",
        "        pbar.set_description_str(f\"Train {epoch + 1:02d}\", refresh=False)\n",
        "        pbar.reset(tot_train)\n",
        "        \n",
        "        for img, target in train:\n",
        "            img = img.to(device)\n",
        "            target = target.to(device)\n",
        "\n",
        "            pred = model(img)\n",
        "\n",
        "            loss = criterion(pred, target)\n",
        "            loss.mean().backward()\n",
        "\n",
        "            optimizer.step()\n",
        "            optimizer.zero_grad()\n",
        "\n",
        "            accu = (pred.argmax(-1) == target).float()\n",
        "\n",
        "            losses.extend(loss.detach().cpu().tolist())\n",
        "            accus.extend(accu.detach().cpu().tolist())\n",
        "\n",
        "            if len(losses) >= tot_train * .1:\n",
        "                mean_loss = torch.tensor(losses).mean().item()\n",
        "                mean_accu = torch.tensor(accus).mean().item()\n",
        "                pbar.set_postfix_str(f\"loss={mean_loss:.3f}, accu={mean_accu:.3f}\", refresh=False)\n",
        "                losses.clear()\n",
        "                accus.clear()\n",
        "                train_accus.append(mean_accu)\n",
        "\n",
        "            pbar.update(img.shape[0])\n",
        "        \n",
        "        model.eval()\n",
        "\n",
        "        with torch.no_grad():\n",
        "            losses = []\n",
        "            accus = []\n",
        "\n",
        "            for img, target in valid:\n",
        "                img = img.to(device)\n",
        "                target = target.to(device)\n",
        "\n",
        "                pred = model(img)\n",
        "\n",
        "                loss = criterion(pred, target)\n",
        "\n",
        "                accu = (pred.argmax(-1) == target).float()\n",
        "\n",
        "                losses.extend(loss.cpu().tolist())\n",
        "                accus.extend(accu.cpu().tolist())\n",
        "\n",
        "            mean_loss = torch.tensor(losses).mean().item()\n",
        "            mean_accu = torch.tensor(accus).mean().item()\n",
        "            print(f\"Valid {epoch +1:02d}: loss={mean_loss:.3f}, accu={mean_accu:.3f}\")\n",
        "\n",
        "            valid_accus.append(mean_accu)\n",
        "            scheduler.step(mean_accu)\n",
        "\n",
        "            if best_accu < mean_accu:\n",
        "                best_accu = mean_accu\n",
        "    \n",
        "    return model, train_accus, valid_accus, best_accu\n"
      ]
    },
    {
      "attachments": {},
      "cell_type": "markdown",
      "metadata": {},
      "source": [
        "Let's run a hyperparameter grid search. We'll find learning rate and weight decay only on the first epoch. Then we'll try a couple of different hidden layer combinations on the best results for 5 epochs! (I've commented this cell out and left only the training for the best values as it takes a while to run everything)"
      ]
    },
    {
      "cell_type": "code",
      "execution_count": 9,
      "metadata": {},
      "outputs": [
        {
          "name": "stderr",
          "output_type": "stream",
          "text": [
            "Train 02:   0%|          | 64/54000 [00:00<01:52, 480.01it/s, loss=0.541, accu=0.835]   "
          ]
        },
        {
          "name": "stdout",
          "output_type": "stream",
          "text": [
            "Valid 01: loss=0.201, accu=0.941\n"
          ]
        },
        {
          "name": "stderr",
          "output_type": "stream",
          "text": [
            "Train 03:   0%|          | 64/54000 [00:00<01:56, 464.34it/s, loss=0.407, accu=0.879]   "
          ]
        },
        {
          "name": "stdout",
          "output_type": "stream",
          "text": [
            "Valid 02: loss=0.147, accu=0.956\n"
          ]
        },
        {
          "name": "stderr",
          "output_type": "stream",
          "text": [
            "Train 04:   0%|          | 64/54000 [00:00<01:49, 491.25it/s, loss=0.382, accu=0.884]   "
          ]
        },
        {
          "name": "stdout",
          "output_type": "stream",
          "text": [
            "Valid 03: loss=0.119, accu=0.966\n"
          ]
        },
        {
          "name": "stderr",
          "output_type": "stream",
          "text": [
            "Train 05:   0%|          | 64/54000 [00:00<01:59, 452.63it/s, loss=0.321, accu=0.909]   "
          ]
        },
        {
          "name": "stdout",
          "output_type": "stream",
          "text": [
            "Valid 04: loss=0.114, accu=0.967\n"
          ]
        },
        {
          "name": "stderr",
          "output_type": "stream",
          "text": [
            "Train 05: 100%|██████████| 54000/54000 [02:07<00:00, 424.73it/s, loss=0.310, accu=0.908]"
          ]
        },
        {
          "name": "stdout",
          "output_type": "stream",
          "text": [
            "Valid 05: loss=0.095, accu=0.973\n"
          ]
        },
        {
          "name": "stderr",
          "output_type": "stream",
          "text": [
            "\n"
          ]
        }
      ],
      "source": [
        "# lrs = [1e-1, 1e-2, 1e-3, 1e-4]\n",
        "# wds = [1e-3, 1e-4, 1e-5, 0]\n",
        "# best_result = (lrs[0], wds[0], 0)\n",
        "\n",
        "# for lr in lrs:\n",
        "#     for wd in wds:\n",
        "#         _, _, _, accu = train(lr, wd, 32, 1)\n",
        "#         if best_result[-1] < accu:\n",
        "#             best_result = (lr, wd, accu)\n",
        "\n",
        "\n",
        "# possible_layers = [\n",
        "#     [(128, 0), (128, .5), (128, .5)],\n",
        "#     [(16, 0), (16, .5), (16, .5)],\n",
        "#     [(256, 0), (256, .5), (256, .5)],\n",
        "#     [(256, 0), (128, .5), (64, .5)]\n",
        "# ]\n",
        "\n",
        "# lr, wd, _ = best_result\n",
        "\n",
        "# best_result = (possible_layers[0], None, 0)\n",
        "\n",
        "# for layers in possible_layers:\n",
        "#     model, _, _, accu = train(lr, wd, 32, 5, layers=layers)\n",
        "#     if best_result[-1] < accu:\n",
        "#         best_result = (layers, model, accu)\n",
        "\n",
        "\n",
        "# print(f\"best: lr={lr}, wd={wd}, layers={best_result[0]}, accu={best_result[2]:.3f}\")\n",
        "\n",
        "## best: lr=0.01, wd=1e-05, layers=[(128, 0), (128, 0.5), (128, 0.5)], accu=0.973\n",
        "\n",
        "model, _, _, accu = train(0.01, 1e-05, 32, 5, layers=[(128, 0), (128, 0.5), (128, 0.5)])"
      ]
    },
    {
      "attachments": {},
      "cell_type": "markdown",
      "metadata": {},
      "source": [
        "Now we've got a somewhat good model (it takes a while to run models on a mere CPU ok? I can't try every combination >:P) so let's test it."
      ]
    },
    {
      "cell_type": "code",
      "execution_count": 10,
      "metadata": {},
      "outputs": [
        {
          "name": "stdout",
          "output_type": "stream",
          "text": [
            "Test: accu=0.973\n"
          ]
        }
      ],
      "source": [
        "device = \"cuda\" if torch.cuda.is_available() else \"cpu\"\n",
        "\n",
        "test = DataLoader(test_dset, 32, shuffle=False)\n",
        "\n",
        "model.eval()\n",
        "preds = []\n",
        "targs = []\n",
        "\n",
        "with torch.no_grad():\n",
        "    for img, target in test:\n",
        "        img = img.to(device)\n",
        "        target = target.to(device)\n",
        "\n",
        "        pred = model(img)\n",
        "\n",
        "        preds.extend(pred.argmax(-1).tolist())\n",
        "        targs.extend(target.tolist())\n",
        "\n",
        "    mean_accu = (torch.tensor(preds) == torch.tensor(targs)).float().mean().item()\n",
        "    print(f\"Test: accu={mean_accu:.3f}\")"
      ]
    },
    {
      "attachments": {},
      "cell_type": "markdown",
      "metadata": {},
      "source": [
        "This dataset is balanced, therefore accuracy should be a fairly good metric- yet since this is a multi-class classification task it would be better to check the performance through a confusion matrix, which should give us all the insights we need."
      ]
    },
    {
      "cell_type": "code",
      "execution_count": 17,
      "metadata": {},
      "outputs": [
        {
          "data": {
            "image/png": "[encoded data removed]",
            "text/plain": [
              "<Figure size 640x480 with 2 Axes>"
            ]
          },
          "metadata": {},
          "output_type": "display_data"
        }
      ],
      "source": [
        "from sklearn.metrics import confusion_matrix, ConfusionMatrixDisplay\n",
        "\n",
        "res = confusion_matrix(targs, preds)\n",
        "\n",
        "disp = ConfusionMatrixDisplay(res, display_labels=range(10))\n",
        "disp.plot()\n",
        "plt.show()"
      ]
    },
    {
      "attachments": {},
      "cell_type": "markdown",
      "metadata": {},
      "source": [
        "Nice.\n",
        "I don't have much to say other than this, the matrix speaks for itself, other than a couple of outliers we managed to achieve a pretty impressive result...\n",
        "\n",
        "But, if I have to be slightly critic, the MNIST challenge is quite outdated and, as shown here, can be solved with quite little effort (and it has been done since 1998 by [LeCun](http://yann.lecun.com/exdb/mnist/)!). In my opinion, a good starting dataset should otherwise be FashionMNIST, which is a drop-in replacement for MNIST but gives a slightly bigger challenge.\n",
        "\n",
        "Anyway, enough of this rant- Solaire of Astora out, have a good day!"
      ]
    }
  ],
  "metadata": {
    "colab": {
      "provenance": []
    },
    "kernelspec": {
      "display_name": "Python 3",
      "name": "python3"
    },
    "language_info": {
      "codemirror_mode": {
        "name": "ipython",
        "version": 3
      },
      "file_extension": ".py",
      "mimetype": "text/x-python",
      "name": "python",
      "nbconvert_exporter": "python",
      "pygments_lexer": "ipython3",
      "version": "3.11.6"
    }
  },
  "nbformat": 4,
  "nbformat_minor": 0
}
