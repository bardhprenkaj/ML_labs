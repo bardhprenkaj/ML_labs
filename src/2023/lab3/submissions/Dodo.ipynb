{
  "cells": [
    {
      "cell_type": "markdown",
      "metadata": {
        "id": "E5AYt3Cn35zA"
      },
      "source": [
        "**Challenge: Implement a Multiclass Classification Neural network using PyTorch**\n",
        "\n",
        "Objective:\n",
        "Build a neural network using PyTorch to predict handwritten digits of MNIST.\n",
        "\n",
        "Steps:\n",
        "\n",
        "1. **Data Preparation**: Load the MNIST dataset using ```torchvision.datasets.MNIST```. Standardize/normalize the features. Split the dataset into training and testing sets using, for example, ```sklearn.model_selection.train_test_split()```. **Bonus scores**: *use PyTorch's built-* ```DataLoader``` *to split the dataset*.\n",
        "\n",
        "2. **Neural network Architecture**: Define a simple feedforward neural network using PyTorch's ```nn.Module```. Design the input layer to match the number of features in the MNIST dataset and the output layer to have as many neurons as there are classes (10). You can experiment with the number of hidden layers and neurons to optimize the performance. **Bonus scores**: *Make your architecture flexibile to have as many hidden layers as the user wants, and use hyperparameter optimization to select the best number of hidden layeres.*\n",
        "\n",
        "3. **Loss Function and Optimizer**: Choose an appropriate loss function for multiclass classification. Select an optimizer, like SGD (Stochastic Gradient Descent) or Adam.\n",
        "\n",
        "4. **Training**: Write a training loop to iterate over the dataset.\n",
        "Forward pass the input through the network, calculate the loss, and perform backpropagation. Update the weights of the network using the chosen optimizer.\n",
        "\n",
        "5. **Testing**: Evaluate the trained model on the test set. Calculate the accuracy of the model.\n",
        "\n",
        "6. **Optimization**: Experiment with hyperparameters (learning rate, number of epochs, etc.) to optimize the model's performance. Consider adjusting the neural network architecture for better results. **Notice that you can't use the optimization algorithms from scikit-learn that we saw in lab1: e.g.,** ```GridSearchCV```.\n"
      ]
    },
    {
      "cell_type": "markdown",
      "metadata": {
        "id": "vDuvQmiUrVXp"
      },
      "source": [
        "# Intro\n",
        "\n",
        "This is a brief guide and summary of this notebook.\n",
        "\n",
        "In the imports and setup chapter we do all our imports and preprocess our data. In this notebook skorch is used, uncomment the pip command to use it on colab.\n",
        "\n",
        "In the NN chapter there's an implementation of a simple, not configurable feed forward network. The subdivision is kinda straightforward.\n",
        "\n",
        "In the Custom NN chapter there's an implementation of a configurable ffn. The parameter 'layers' is a list of the dimension of the input of each layer, the parameter 'inputSize' is the dimension of the input layer and the parameter 'hiddenDefault' is used only in case there aren't any hidden layout and it determinate the size of the input of the output layer.\n",
        "Between each layer an activation layer is inserted automatically.\n",
        "So if we have input size 28 * 28, layer=[200,100] our structure will be: [ ('layer1',(28*28,200)), ('act1',fn), ('layer2',(200,100)), ('act2',fn), ('layer3',(100,10))]\n",
        "\n",
        "In the last chapter we have a Skorch implementation. Skorch is a sklearn wrapper used for pytorch. It's mere purpose is to create an interface to use sklearn methods on pytorch modules. I used it to been able to use sklearn GridSearchCV in order to fine tune the hyperparameters.\n",
        "\n"
      ]
    },
    {
      "cell_type": "markdown",
      "metadata": {
        "id": "U0ycuQ8nrVXr"
      },
      "source": [
        "# Imports and setup"
      ]
    },
    {
      "cell_type": "markdown",
      "metadata": {
        "id": "iZozXPYDrVXt"
      },
      "source": [
        "## Imports"
      ]
    },
    {
      "cell_type": "code",
      "execution_count": 1,
      "metadata": {
        "colab": {
          "base_uri": "https://localhost:8080/"
        },
        "id": "W9mJfwmBrVXv",
        "outputId": "4adbd5f2-bff1-4496-e67f-8fb5a8c3db38"
      },
      "outputs": [],
      "source": [
        "#!pip install skorch\n",
        "\n",
        "import torchvision.datasets.mnist as mnist\n",
        "import torch\n",
        "import torch.nn as nn\n",
        "import torch.nn.functional as F\n",
        "import torch.optim as optim\n",
        "import torchvision.transforms as transforms\n",
        "import matplotlib.pyplot as plt\n",
        "import numpy as np\n",
        "from skorch import NeuralNetClassifier\n",
        "from sklearn.model_selection import GridSearchCV\n"
      ]
    },
    {
      "cell_type": "markdown",
      "metadata": {
        "id": "17EUKd4drVXx"
      },
      "source": [
        "## Setup"
      ]
    },
    {
      "cell_type": "code",
      "execution_count": null,
      "metadata": {},
      "outputs": [],
      "source": [
        "torch.cuda.is_available()\n",
        "device=torch.device('cuda:0' if torch.cuda.is_available() else 'cpu')\n",
        "\n",
        "\n",
        "transform = transforms.Compose([transforms.ToTensor(), transforms.Normalize((0.5,), (0.5,))])\n",
        "\n",
        "#The data is already divided into train and test by the authors of the dataset, so I'm not sure about the request to divide it with train_test_split.\n",
        "dataset = mnist.MNIST(root='./data', download=True, train=True, transform=transform)\n",
        "testset = mnist.MNIST(root='./data', download=True, train=False, transform=transform)\n",
        "\n",
        "\n",
        "batch_size = 8\n",
        "trainloader = torch.utils.data.DataLoader(dataset, batch_size=batch_size, shuffle=True)\n",
        "testloader = torch.utils.data.DataLoader(testset, batch_size=batch_size, shuffle=False)\n",
        "\n",
        "print(len(dataset))\n",
        "print(len(testset))\n",
        "print(len(trainloader))\n",
        "print(len(testloader))"
      ]
    },
    {
      "cell_type": "markdown",
      "metadata": {
        "id": "xj9U0ANjrVXz"
      },
      "source": [
        "# NN"
      ]
    },
    {
      "cell_type": "markdown",
      "metadata": {
        "id": "XrG1C-_5rVX1"
      },
      "source": [
        "## Init of NN"
      ]
    },
    {
      "cell_type": "code",
      "execution_count": 3,
      "metadata": {
        "id": "6NXofXRwrVX2"
      },
      "outputs": [],
      "source": [
        "class myNN(nn.Module):\n",
        "    def __init__(self):\n",
        "        super(myNN, self).__init__()\n",
        "        self.fc1 = nn.Linear(28*28, 200)\n",
        "        self.fc2 = nn.Linear(200, 10)\n",
        "\n",
        "    def forward(self, x):\n",
        "        x = x.view(-1, 28*28)\n",
        "        x = F.relu(self.fc1(x))\n",
        "        return self.fc2(x)\n",
        "\n",
        "\n",
        "ffn = myNN().to(device)\n",
        "criterion = nn.CrossEntropyLoss()\n",
        "#optimizer = optim.SGD(ffn.parameters(), lr=0.001, momentum=0.4)\n",
        "optimizer = optim.Adam(ffn.parameters(), lr=0.001)"
      ]
    },
    {
      "cell_type": "markdown",
      "metadata": {
        "id": "5LVPVvEvrVX3"
      },
      "source": [
        "## Training phase"
      ]
    },
    {
      "cell_type": "code",
      "execution_count": 4,
      "metadata": {
        "id": "5XLynrxJ33v6",
        "outputId": "cf1b6749-cf0d-4fa4-d485-2c27a49cb916"
      },
      "outputs": [
        {
          "name": "stdout",
          "output_type": "stream",
          "text": [
            "[1, 2000] loss: 0.48010443090088667\n",
            "[1, 4000] loss: 0.27761990653903923\n",
            "[1, 6000] loss: 0.21578022703243185\n",
            "[2, 2000] loss: 0.1763130079927796\n",
            "[2, 4000] loss: 0.16941093571758392\n",
            "[2, 6000] loss: 0.16122472617687528\n",
            "[3, 2000] loss: 0.12922619332366958\n",
            "[3, 4000] loss: 0.13863731349368982\n",
            "[3, 6000] loss: 0.1432750749830593\n",
            "[4, 2000] loss: 0.1182959944759441\n",
            "[4, 4000] loss: 0.117022002852058\n",
            "[4, 6000] loss: 0.12597192210779212\n",
            "[5, 2000] loss: 0.10888234706892218\n",
            "[5, 4000] loss: 0.10499607920552625\n",
            "[5, 6000] loss: 0.10969750836172171\n",
            "[6, 2000] loss: 0.09327202055015642\n",
            "[6, 4000] loss: 0.10350502500523907\n",
            "[6, 6000] loss: 0.10020245129187878\n",
            "[7, 2000] loss: 0.09295159343919096\n",
            "[7, 4000] loss: 0.09545812236633153\n",
            "[7, 6000] loss: 0.09950098262791073\n",
            "[8, 2000] loss: 0.08312258570839821\n",
            "[8, 4000] loss: 0.08768206606775823\n",
            "[8, 6000] loss: 0.09165356756828837\n",
            "[9, 2000] loss: 0.07648560665158646\n",
            "[9, 4000] loss: 0.08711659955348551\n",
            "[9, 6000] loss: 0.08280397975034108\n",
            "[10, 2000] loss: 0.07326814749243792\n",
            "[10, 4000] loss: 0.07994050240163107\n",
            "[10, 6000] loss: 0.08105545770693555\n",
            "Finished Training\n"
          ]
        }
      ],
      "source": [
        "\n",
        "for epoch in range(10):\n",
        "    running_loss = 0.0\n",
        "    for i, data in enumerate(trainloader):\n",
        "        inputs, labels = data\n",
        "        inputs, labels = inputs.to(device), labels.to(device)\n",
        "        optimizer.zero_grad()\n",
        "        outputs = ffn(inputs)\n",
        "        loss = criterion(outputs, labels)\n",
        "        loss.backward()\n",
        "        optimizer.step()\n",
        "        running_loss += loss.item()\n",
        "\n",
        "        if i % 2000 == 1999:\n",
        "            print(f'[{epoch+1}, {i+1}] loss: {running_loss/2000}')\n",
        "            running_loss = 0.0\n",
        "\n",
        "print('Finished Training')\n"
      ]
    },
    {
      "cell_type": "markdown",
      "metadata": {
        "id": "hy_of2SPrVX5"
      },
      "source": [
        "## Train phase"
      ]
    },
    {
      "cell_type": "code",
      "execution_count": 5,
      "metadata": {
        "id": "hnJI9UayrVX6",
        "outputId": "b002cffd-b42b-4b65-e959-5e4824e1f32c"
      },
      "outputs": [
        {
          "name": "stdout",
          "output_type": "stream",
          "text": [
            "Accuracy of the network on the 10000 test images: 97.07%\n"
          ]
        }
      ],
      "source": [
        "\n",
        "correct = 0\n",
        "total = 0\n",
        "with torch.no_grad():\n",
        "    for data in testloader:\n",
        "        inputs, labels = data\n",
        "        inputs, labels = inputs.to(device), labels.to(device)\n",
        "        outputs = ffn(inputs)\n",
        "        _, predicted = torch.max(outputs.data, 1)\n",
        "        total += labels.size(0)\n",
        "        correct += (predicted==labels).sum().item()\n",
        "\n",
        "print(f'Accuracy of the network on the 10000 test images: {100*correct/total}%')"
      ]
    },
    {
      "cell_type": "markdown",
      "metadata": {
        "id": "vq5uEO5ErVX7"
      },
      "source": [
        "# Custom NN"
      ]
    },
    {
      "cell_type": "code",
      "execution_count": 49,
      "metadata": {
        "id": "SYw01x-urVX7"
      },
      "outputs": [],
      "source": [
        "\n",
        "class myNN(nn.Module):\n",
        "    def __init__(self, hiddenDefault=100,inputSize=28*28,layers=[],hiddenFun=nn.ReLU(),firstFun=nn.ReLU(),dropout=True,dropVal=0.3):\n",
        "        super(myNN, self).__init__()\n",
        "\n",
        "        #initialize hidden layers, we add ReLU after each layer except the last one.\n",
        "        hidden = nn.Sequential()\n",
        "        for i in range(len(layers) - 1):\n",
        "            hidden.add_module(f\"Linear{i}\", nn.Linear(layers[i], layers[i + 1]))\n",
        "            if i < len(layers) - 2:\n",
        "                hidden.add_module(f\"ReLU{i}\", hiddenFun)\n",
        "                if dropout:\n",
        "                  hidden.add_module(f'Dropout{i}',nn.Dropout(dropVal))\n",
        "\n",
        "        #we prepare the connection between the fc1, hidden and fc2 layers.\n",
        "        if(len(layers)>0):\n",
        "            hiddenInput=layers[0]\n",
        "            hiddenOutput=layers[-1]\n",
        "        else:\n",
        "            hiddenInput=hiddenDefault\n",
        "            hiddenOutput=hiddenDefault\n",
        "\n",
        "\n",
        "        self.inputSize=inputSize\n",
        "        self.hiddenInput=hiddenInput\n",
        "        self.hiddenOutput=hiddenOutput\n",
        "        self.firstFun=firstFun\n",
        "\n",
        "        self.fc1 = nn.Linear(inputSize, hiddenInput)\n",
        "        self.hidden=hidden\n",
        "        self.fc2 = nn.Linear(hiddenOutput, 10)\n",
        "\n",
        "    def forward(self, x):\n",
        "\n",
        "        x = x.view(-1, self.inputSize)\n",
        "        x = self.fc1(x)\n",
        "        x = self.firstFun(x)\n",
        "        x = self.hidden(x)\n",
        "        x = self.fc2(x)\n",
        "        return x\n",
        "\n",
        "\n",
        "ffn = myNN(layers=[70],dropout=False).to(device)\n"
      ]
    },
    {
      "cell_type": "code",
      "execution_count": 50,
      "metadata": {
        "id": "Qxsegs6FrVX8"
      },
      "outputs": [],
      "source": [
        "criterion = nn.CrossEntropyLoss()\n",
        "optimizer = optim.Adam(ffn.parameters(), lr=0.0001)"
      ]
    },
    {
      "cell_type": "markdown",
      "metadata": {
        "id": "4jQeftFprVX8"
      },
      "source": [
        "## Training phase"
      ]
    },
    {
      "cell_type": "code",
      "execution_count": 51,
      "metadata": {
        "colab": {
          "base_uri": "https://localhost:8080/"
        },
        "id": "8IHTz3WqrVX8",
        "outputId": "b76c8fb9-bb1e-4ac8-8038-5bbdd43ea7fb"
      },
      "outputs": [
        {
          "name": "stdout",
          "output_type": "stream",
          "text": [
            "[1, 2000] loss: 0.8756500407177955\n",
            "[1, 4000] loss: 0.4193520734682679\n",
            "[1, 6000] loss: 0.36563054214883595\n",
            "[2, 2000] loss: 0.3112572430926375\n",
            "[2, 4000] loss: 0.29173303379537535\n",
            "[2, 6000] loss: 0.27918854940496385\n",
            "[3, 2000] loss: 0.24766510563646443\n",
            "[3, 4000] loss: 0.23948690553428606\n",
            "[3, 6000] loss: 0.23008980083209463\n",
            "[4, 2000] loss: 0.20886862733843736\n",
            "[4, 4000] loss: 0.19785064445238096\n",
            "[4, 6000] loss: 0.20286418897646946\n",
            "[5, 2000] loss: 0.17599192129657604\n",
            "[5, 4000] loss: 0.17986748983117287\n",
            "[5, 6000] loss: 0.16666196359856986\n",
            "[6, 2000] loss: 0.1504832161619561\n",
            "[6, 4000] loss: 0.16270032851863653\n",
            "[6, 6000] loss: 0.15067298324999864\n",
            "[7, 2000] loss: 0.1369216052828124\n",
            "[7, 4000] loss: 0.13601353262510382\n",
            "[7, 6000] loss: 0.13292419160914143\n",
            "[8, 2000] loss: 0.12473735597921769\n",
            "[8, 4000] loss: 0.12166116120404331\n",
            "[8, 6000] loss: 0.1243082568491227\n",
            "[9, 2000] loss: 0.11848127367842244\n",
            "[9, 4000] loss: 0.11910722489099135\n",
            "[9, 6000] loss: 0.10481672462739516\n",
            "[10, 2000] loss: 0.10361941423435929\n",
            "[10, 4000] loss: 0.0995474794920301\n",
            "[10, 6000] loss: 0.10902333064396226\n",
            "[11, 2000] loss: 0.09447293774667195\n",
            "[11, 4000] loss: 0.09927638147637481\n",
            "[11, 6000] loss: 0.09620522583680577\n",
            "[12, 2000] loss: 0.08654027962867986\n",
            "[12, 4000] loss: 0.09236937448158278\n",
            "[12, 6000] loss: 0.08891354964888888\n",
            "[13, 2000] loss: 0.08487449585454306\n",
            "[13, 4000] loss: 0.08415030772198225\n",
            "[13, 6000] loss: 0.08500341691501671\n",
            "[14, 2000] loss: 0.07748983153120208\n",
            "[14, 4000] loss: 0.0815518697432999\n",
            "[14, 6000] loss: 0.08198512485846005\n",
            "[15, 2000] loss: 0.07006814025088534\n",
            "[15, 4000] loss: 0.07438831861245854\n",
            "[15, 6000] loss: 0.07578372137074621\n",
            "[16, 2000] loss: 0.07019907254264399\n",
            "[16, 4000] loss: 0.07661483966691594\n",
            "[16, 6000] loss: 0.06734691947387546\n",
            "[17, 2000] loss: 0.06655837987857739\n",
            "[17, 4000] loss: 0.0683286450817468\n",
            "[17, 6000] loss: 0.06565462631569244\n",
            "[18, 2000] loss: 0.06326565567227954\n",
            "[18, 4000] loss: 0.06511139263473524\n",
            "[18, 6000] loss: 0.0631361036491835\n",
            "[19, 2000] loss: 0.05866618902904156\n",
            "[19, 4000] loss: 0.06261849934729252\n",
            "[19, 6000] loss: 0.060225206932438595\n",
            "[20, 2000] loss: 0.0552612193419518\n",
            "[20, 4000] loss: 0.058861205399847676\n",
            "[20, 6000] loss: 0.06109733746204438\n",
            "Finished Training\n"
          ]
        }
      ],
      "source": [
        "\n",
        "for epoch in range(20):\n",
        "    running_loss = 0.0\n",
        "    for i, data in enumerate(trainloader):\n",
        "        inputs, labels = data\n",
        "        inputs, labels = inputs.to(device), labels.to(device)\n",
        "        optimizer.zero_grad()\n",
        "        outputs = ffn(inputs)\n",
        "        loss = criterion(outputs, labels)\n",
        "        loss.backward()\n",
        "        optimizer.step()\n",
        "        running_loss += loss.item()\n",
        "\n",
        "        if i % 2000 == 1999:\n",
        "            print(f'[{epoch+1}, {i+1}] loss: {running_loss/2000}')\n",
        "            running_loss = 0.0\n",
        "\n",
        "print('Finished Training')\n"
      ]
    },
    {
      "cell_type": "markdown",
      "metadata": {
        "id": "273hT871rVX9"
      },
      "source": [
        "## Test phase"
      ]
    },
    {
      "cell_type": "code",
      "execution_count": 52,
      "metadata": {
        "colab": {
          "base_uri": "https://localhost:8080/"
        },
        "id": "7d3rXup4rVX9",
        "outputId": "d1e8e4ac-bfb9-4361-919d-9f08e6b462ce"
      },
      "outputs": [
        {
          "name": "stdout",
          "output_type": "stream",
          "text": [
            "Accuracy of the network on the 10000 test images: 97.36%\n"
          ]
        }
      ],
      "source": [
        "\n",
        "correct = 0\n",
        "total = 0\n",
        "with torch.no_grad():\n",
        "    for data in testloader:\n",
        "        inputs, labels = data\n",
        "        inputs, labels = inputs.to(device), labels.to(device)\n",
        "        outputs = ffn(inputs)\n",
        "        _, predicted = torch.max(outputs.data, 1)\n",
        "        total += labels.size(0)\n",
        "        correct += (predicted==labels).sum().item()\n",
        "\n",
        "\n",
        "defaultAccuracy=100*correct/total\n",
        "print(f'Accuracy of the network on the 10000 test images: {defaultAccuracy}%')\n",
        "\n"
      ]
    },
    {
      "cell_type": "markdown",
      "metadata": {
        "id": "hLL-rYtHrVX_"
      },
      "source": [
        "# Skorch implementation"
      ]
    },
    {
      "cell_type": "code",
      "execution_count": 39,
      "metadata": {
        "id": "6TBBvcDXrVYB"
      },
      "outputs": [],
      "source": [
        "# create the skorch wrapper\n",
        "model = NeuralNetClassifier(\n",
        "    module=myNN(layers=[500,200,100]),  # define the module here\n",
        "    criterion=nn.CrossEntropyLoss,\n",
        "    optimizer=optim.Adam,\n",
        "    max_epochs=40,\n",
        "    lr=0.00007,\n",
        "    \n",
        ")"
      ]
    },
    {
      "cell_type": "code",
      "execution_count": 43,
      "metadata": {
        "id": "ouCDCo9XrVYD",
        "outputId": "4325c051-77c1-4a36-a072-cb0a0db69a13"
      },
      "outputs": [
        {
          "name": "stdout",
          "output_type": "stream",
          "text": [
            "X shape: torch.Size([60000, 784])\n",
            "y shape: torch.Size([60000])\n",
            "  epoch    train_loss    valid_acc    valid_loss     dur\n",
            "-------  ------------  -----------  ------------  ------\n",
            "      1        \u001b[36m1.6145\u001b[0m       \u001b[32m0.8868\u001b[0m        \u001b[35m0.3797\u001b[0m  5.2412\n",
            "      2        \u001b[36m0.5014\u001b[0m       \u001b[32m0.9226\u001b[0m        \u001b[35m0.2674\u001b[0m  5.1238\n",
            "      3        \u001b[36m0.3526\u001b[0m       \u001b[32m0.9362\u001b[0m        \u001b[35m0.2176\u001b[0m  5.1285\n",
            "      4        \u001b[36m0.2781\u001b[0m       \u001b[32m0.9453\u001b[0m        \u001b[35m0.1860\u001b[0m  5.0940\n",
            "      5        \u001b[36m0.2284\u001b[0m       \u001b[32m0.9496\u001b[0m        \u001b[35m0.1663\u001b[0m  5.0871\n",
            "      6        \u001b[36m0.1956\u001b[0m       \u001b[32m0.9534\u001b[0m        \u001b[35m0.1506\u001b[0m  5.1562\n",
            "      7        \u001b[36m0.1691\u001b[0m       \u001b[32m0.9569\u001b[0m        \u001b[35m0.1395\u001b[0m  5.1499\n",
            "      8        \u001b[36m0.1469\u001b[0m       \u001b[32m0.9601\u001b[0m        \u001b[35m0.1299\u001b[0m  5.0865\n",
            "      9        \u001b[36m0.1294\u001b[0m       \u001b[32m0.9623\u001b[0m        \u001b[35m0.1221\u001b[0m  5.0821\n",
            "     10        \u001b[36m0.1130\u001b[0m       \u001b[32m0.9643\u001b[0m        \u001b[35m0.1157\u001b[0m  5.1011\n",
            "     11        \u001b[36m0.1021\u001b[0m       \u001b[32m0.9657\u001b[0m        \u001b[35m0.1103\u001b[0m  5.1332\n",
            "     12        \u001b[36m0.0917\u001b[0m       \u001b[32m0.9673\u001b[0m        \u001b[35m0.1062\u001b[0m  5.0699\n",
            "     13        \u001b[36m0.0817\u001b[0m       \u001b[32m0.9689\u001b[0m        \u001b[35m0.1010\u001b[0m  5.0963\n",
            "     14        \u001b[36m0.0714\u001b[0m       \u001b[32m0.9702\u001b[0m        \u001b[35m0.0979\u001b[0m  5.1000\n",
            "     15        \u001b[36m0.0654\u001b[0m       \u001b[32m0.9718\u001b[0m        \u001b[35m0.0942\u001b[0m  5.1191\n",
            "     16        \u001b[36m0.0582\u001b[0m       \u001b[32m0.9723\u001b[0m        \u001b[35m0.0929\u001b[0m  5.0691\n",
            "     17        \u001b[36m0.0530\u001b[0m       \u001b[32m0.9724\u001b[0m        \u001b[35m0.0905\u001b[0m  5.0811\n",
            "     18        \u001b[36m0.0486\u001b[0m       \u001b[32m0.9732\u001b[0m        \u001b[35m0.0881\u001b[0m  5.1198\n",
            "     19        \u001b[36m0.0431\u001b[0m       \u001b[32m0.9752\u001b[0m        \u001b[35m0.0865\u001b[0m  5.2011\n",
            "     20        \u001b[36m0.0398\u001b[0m       0.9751        \u001b[35m0.0853\u001b[0m  5.0621\n",
            "     21        \u001b[36m0.0359\u001b[0m       0.9751        \u001b[35m0.0835\u001b[0m  5.1362\n",
            "     22        \u001b[36m0.0329\u001b[0m       \u001b[32m0.9753\u001b[0m        0.0837  5.0539\n",
            "     23        \u001b[36m0.0288\u001b[0m       \u001b[32m0.9762\u001b[0m        \u001b[35m0.0830\u001b[0m  5.0978\n",
            "     24        \u001b[36m0.0255\u001b[0m       0.9759        \u001b[35m0.0818\u001b[0m  5.1047\n",
            "     25        \u001b[36m0.0230\u001b[0m       \u001b[32m0.9770\u001b[0m        \u001b[35m0.0818\u001b[0m  5.0481\n",
            "     26        \u001b[36m0.0222\u001b[0m       0.9770        0.0824  5.0931\n",
            "     27        \u001b[36m0.0204\u001b[0m       \u001b[32m0.9775\u001b[0m        \u001b[35m0.0807\u001b[0m  5.0881\n",
            "     28        \u001b[36m0.0182\u001b[0m       0.9773        0.0833  5.0823\n",
            "     29        \u001b[36m0.0174\u001b[0m       \u001b[32m0.9780\u001b[0m        \u001b[35m0.0804\u001b[0m  5.0821\n",
            "     30        \u001b[36m0.0158\u001b[0m       \u001b[32m0.9782\u001b[0m        0.0810  5.0921\n",
            "     31        \u001b[36m0.0142\u001b[0m       0.9775        0.0815  5.1972\n",
            "     32        \u001b[36m0.0131\u001b[0m       \u001b[32m0.9794\u001b[0m        0.0804  5.0739\n",
            "     33        \u001b[36m0.0122\u001b[0m       0.9786        \u001b[35m0.0799\u001b[0m  5.0981\n",
            "     34        \u001b[36m0.0117\u001b[0m       0.9791        0.0801  5.0591\n",
            "     35        \u001b[36m0.0104\u001b[0m       0.9782        0.0837  5.0988\n",
            "     36        \u001b[36m0.0103\u001b[0m       \u001b[32m0.9797\u001b[0m        \u001b[35m0.0786\u001b[0m  5.0595\n",
            "     37        \u001b[36m0.0082\u001b[0m       0.9794        0.0809  5.0623\n",
            "     38        0.0083       0.9796        0.0798  5.1762\n",
            "     39        \u001b[36m0.0079\u001b[0m       0.9797        0.0829  5.1502\n",
            "     40        \u001b[36m0.0077\u001b[0m       0.9795        0.0819  5.1159\n",
            "     41        \u001b[36m0.0072\u001b[0m       0.9788        0.0837  5.1014\n",
            "     42        \u001b[36m0.0061\u001b[0m       0.9789        0.0849  5.1128\n",
            "     43        \u001b[36m0.0052\u001b[0m       0.9778        0.0865  5.0211\n",
            "     44        0.0062       \u001b[32m0.9801\u001b[0m        0.0844  4.9921\n",
            "     45        0.0059       0.9775        0.0883  5.0881\n",
            "     46        \u001b[36m0.0050\u001b[0m       \u001b[32m0.9803\u001b[0m        0.0806  5.0296\n",
            "     47        \u001b[36m0.0043\u001b[0m       0.9794        0.0845  5.1463\n",
            "     48        0.0047       0.9794        0.0852  4.9831\n",
            "     49        0.0043       0.9801        0.0846  5.1021\n",
            "     50        \u001b[36m0.0042\u001b[0m       0.9802        0.0838  5.0348\n",
            "     51        \u001b[36m0.0038\u001b[0m       0.9796        0.0852  5.0245\n",
            "     52        0.0039       0.9802        0.0832  5.0677\n",
            "     53        0.0046       0.9799        0.0852  5.0869\n",
            "     54        0.0039       0.9802        0.0836  5.0890\n",
            "     55        \u001b[36m0.0027\u001b[0m       \u001b[32m0.9809\u001b[0m        0.0852  5.1442\n",
            "     56        0.0030       0.9802        0.0873  5.0191\n",
            "     57        \u001b[36m0.0027\u001b[0m       \u001b[32m0.9812\u001b[0m        0.0861  5.0471\n",
            "     58        0.0031       0.9804        0.0872  4.9559\n",
            "     59        0.0030       0.9809        0.0836  5.0035\n",
            "     60        \u001b[36m0.0026\u001b[0m       0.9806        0.0868  4.7531\n",
            "     61        \u001b[36m0.0024\u001b[0m       0.9802        0.0886  4.7453\n",
            "     62        \u001b[36m0.0022\u001b[0m       0.9800        0.0864  4.7646\n",
            "     63        0.0024       \u001b[32m0.9818\u001b[0m        0.0870  4.7850\n",
            "     64        \u001b[36m0.0020\u001b[0m       0.9810        0.0909  4.8381\n",
            "     65        0.0023       0.9802        0.0871  4.8362\n",
            "     66        0.0021       0.9806        0.0859  4.8361\n",
            "     67        0.0020       0.9810        0.0877  4.8721\n",
            "     68        \u001b[36m0.0018\u001b[0m       0.9807        0.0906  5.0024\n",
            "     69        0.0020       0.9806        0.0902  5.0138\n",
            "     70        0.0022       0.9810        0.0883  5.2713\n",
            "     71        \u001b[36m0.0018\u001b[0m       0.9805        0.0902  5.2740\n",
            "     72        \u001b[36m0.0015\u001b[0m       0.9814        0.0909  5.2102\n",
            "     73        0.0016       0.9809        0.0907  5.2502\n",
            "     74        0.0016       0.9808        0.0907  5.2898\n",
            "     75        0.0021       0.9803        0.0932  5.2913\n",
            "     76        0.0016       0.9804        0.0911  5.2997\n",
            "     77        \u001b[36m0.0011\u001b[0m       0.9811        0.0935  5.3262\n",
            "     78        0.0012       0.9799        0.0977  5.3042\n",
            "     79        0.0015       0.9803        0.0931  5.2802\n",
            "     80        0.0012       0.9808        0.0913  5.2766\n",
            "     81        0.0011       0.9802        0.0954  5.2265\n",
            "     82        0.0012       0.9804        0.0956  5.2582\n",
            "     83        0.0013       0.9805        0.0977  5.3081\n",
            "     84        0.0012       0.9806        0.0992  5.2880\n",
            "     85        0.0015       0.9811        0.0949  5.3157\n",
            "     86        0.0016       0.9812        0.0934  5.3139\n",
            "     87        0.0012       0.9807        0.0962  5.3033\n",
            "     88        \u001b[36m0.0010\u001b[0m       0.9812        0.0962  5.2820\n",
            "     89        \u001b[36m0.0009\u001b[0m       0.9817        0.0948  5.2924\n",
            "     90        0.0011       0.9809        0.0995  5.2832\n",
            "     91        0.0013       0.9812        0.0999  5.3392\n",
            "     92        0.0013       0.9813        0.0930  5.3263\n",
            "     93        0.0011       0.9809        0.0982  5.2822\n",
            "     94        0.0014       0.9813        0.0966  5.3012\n",
            "     95        0.0014       0.9806        0.0912  5.2612\n",
            "     96        0.0011       \u001b[32m0.9820\u001b[0m        0.0949  5.3063\n",
            "     97        0.0010       0.9812        0.0986  5.3084\n",
            "     98        \u001b[36m0.0006\u001b[0m       0.9812        0.0982  5.3202\n",
            "     99        0.0006       0.9808        0.0958  5.3182\n",
            "    100        0.0008       0.9808        0.0978  5.2604\n"
          ]
        },
        {
          "data": {
            "text/html": [
              "<style>#sk-container-id-5 {color: black;}#sk-container-id-5 pre{padding: 0;}#sk-container-id-5 div.sk-toggleable {background-color: white;}#sk-container-id-5 label.sk-toggleable__label {cursor: pointer;display: block;width: 100%;margin-bottom: 0;padding: 0.3em;box-sizing: border-box;text-align: center;}#sk-container-id-5 label.sk-toggleable__label-arrow:before {content: \"▸\";float: left;margin-right: 0.25em;color: #696969;}#sk-container-id-5 label.sk-toggleable__label-arrow:hover:before {color: black;}#sk-container-id-5 div.sk-estimator:hover label.sk-toggleable__label-arrow:before {color: black;}#sk-container-id-5 div.sk-toggleable__content {max-height: 0;max-width: 0;overflow: hidden;text-align: left;background-color: #f0f8ff;}#sk-container-id-5 div.sk-toggleable__content pre {margin: 0.2em;color: black;border-radius: 0.25em;background-color: #f0f8ff;}#sk-container-id-5 input.sk-toggleable__control:checked~div.sk-toggleable__content {max-height: 200px;max-width: 100%;overflow: auto;}#sk-container-id-5 input.sk-toggleable__control:checked~label.sk-toggleable__label-arrow:before {content: \"▾\";}#sk-container-id-5 div.sk-estimator input.sk-toggleable__control:checked~label.sk-toggleable__label {background-color: #d4ebff;}#sk-container-id-5 div.sk-label input.sk-toggleable__control:checked~label.sk-toggleable__label {background-color: #d4ebff;}#sk-container-id-5 input.sk-hidden--visually {border: 0;clip: rect(1px 1px 1px 1px);clip: rect(1px, 1px, 1px, 1px);height: 1px;margin: -1px;overflow: hidden;padding: 0;position: absolute;width: 1px;}#sk-container-id-5 div.sk-estimator {font-family: monospace;background-color: #f0f8ff;border: 1px dotted black;border-radius: 0.25em;box-sizing: border-box;margin-bottom: 0.5em;}#sk-container-id-5 div.sk-estimator:hover {background-color: #d4ebff;}#sk-container-id-5 div.sk-parallel-item::after {content: \"\";width: 100%;border-bottom: 1px solid gray;flex-grow: 1;}#sk-container-id-5 div.sk-label:hover label.sk-toggleable__label {background-color: #d4ebff;}#sk-container-id-5 div.sk-serial::before {content: \"\";position: absolute;border-left: 1px solid gray;box-sizing: border-box;top: 0;bottom: 0;left: 50%;z-index: 0;}#sk-container-id-5 div.sk-serial {display: flex;flex-direction: column;align-items: center;background-color: white;padding-right: 0.2em;padding-left: 0.2em;position: relative;}#sk-container-id-5 div.sk-item {position: relative;z-index: 1;}#sk-container-id-5 div.sk-parallel {display: flex;align-items: stretch;justify-content: center;background-color: white;position: relative;}#sk-container-id-5 div.sk-item::before, #sk-container-id-5 div.sk-parallel-item::before {content: \"\";position: absolute;border-left: 1px solid gray;box-sizing: border-box;top: 0;bottom: 0;left: 50%;z-index: -1;}#sk-container-id-5 div.sk-parallel-item {display: flex;flex-direction: column;z-index: 1;position: relative;background-color: white;}#sk-container-id-5 div.sk-parallel-item:first-child::after {align-self: flex-end;width: 50%;}#sk-container-id-5 div.sk-parallel-item:last-child::after {align-self: flex-start;width: 50%;}#sk-container-id-5 div.sk-parallel-item:only-child::after {width: 0;}#sk-container-id-5 div.sk-dashed-wrapped {border: 1px dashed gray;margin: 0 0.4em 0.5em 0.4em;box-sizing: border-box;padding-bottom: 0.4em;background-color: white;}#sk-container-id-5 div.sk-label label {font-family: monospace;font-weight: bold;display: inline-block;line-height: 1.2em;}#sk-container-id-5 div.sk-label-container {text-align: center;}#sk-container-id-5 div.sk-container {/* jupyter's `normalize.less` sets `[hidden] { display: none; }` but bootstrap.min.css set `[hidden] { display: none !important; }` so we also need the `!important` here to be able to override the default hidden behavior on the sphinx rendered scikit-learn.org. See: https://github.com/scikit-learn/scikit-learn/issues/21755 */display: inline-block !important;position: relative;}#sk-container-id-5 div.sk-text-repr-fallback {display: none;}</style><div id=\"sk-container-id-5\" class=\"sk-top-container\"><div class=\"sk-text-repr-fallback\"><pre>GridSearchCV(cv=5,\n",
              "             estimator=&lt;class &#x27;skorch.classifier.NeuralNetClassifier&#x27;&gt;[uninitialized](\n",
              "  module=myNN(\n",
              "    (firstFun): ReLU()\n",
              "    (fc1): Linear(in_features=784, out_features=500, bias=True)\n",
              "    (hidden): Sequential(\n",
              "      (Linear0): Linear(in_features=500, out_features=200, bias=True)\n",
              "      (ReLU0): ReLU()\n",
              "      (Dropout0): Dropout(p=0.3, inplace=False)\n",
              "      (Linear1): Linear(in_features=200, out_features=100, bias=True)\n",
              "    )\n",
              "    (fc2): Linear(in_features=100, out_features=10, bias=True)\n",
              "  ),\n",
              "),\n",
              "             n_jobs=-1,\n",
              "             param_grid={&#x27;module__dropVal&#x27;: [0.3],\n",
              "                         &#x27;module__layers&#x27;: [[100], [500], [100, 100],\n",
              "                                            [500, 100], [1000, 500, 100],\n",
              "                                            [1000, 300, 100], [500, 200, 100],\n",
              "                                            [200, 200, 100]]},\n",
              "             scoring=&#x27;accuracy&#x27;)</pre><b>In a Jupyter environment, please rerun this cell to show the HTML representation or trust the notebook. <br />On GitHub, the HTML representation is unable to render, please try loading this page with nbviewer.org.</b></div><div class=\"sk-container\" hidden><div class=\"sk-item sk-dashed-wrapped\"><div class=\"sk-label-container\"><div class=\"sk-label sk-toggleable\"><input class=\"sk-toggleable__control sk-hidden--visually\" id=\"sk-estimator-id-13\" type=\"checkbox\" ><label for=\"sk-estimator-id-13\" class=\"sk-toggleable__label sk-toggleable__label-arrow\">GridSearchCV</label><div class=\"sk-toggleable__content\"><pre>GridSearchCV(cv=5,\n",
              "             estimator=&lt;class &#x27;skorch.classifier.NeuralNetClassifier&#x27;&gt;[uninitialized](\n",
              "  module=myNN(\n",
              "    (firstFun): ReLU()\n",
              "    (fc1): Linear(in_features=784, out_features=500, bias=True)\n",
              "    (hidden): Sequential(\n",
              "      (Linear0): Linear(in_features=500, out_features=200, bias=True)\n",
              "      (ReLU0): ReLU()\n",
              "      (Dropout0): Dropout(p=0.3, inplace=False)\n",
              "      (Linear1): Linear(in_features=200, out_features=100, bias=True)\n",
              "    )\n",
              "    (fc2): Linear(in_features=100, out_features=10, bias=True)\n",
              "  ),\n",
              "),\n",
              "             n_jobs=-1,\n",
              "             param_grid={&#x27;module__dropVal&#x27;: [0.3],\n",
              "                         &#x27;module__layers&#x27;: [[100], [500], [100, 100],\n",
              "                                            [500, 100], [1000, 500, 100],\n",
              "                                            [1000, 300, 100], [500, 200, 100],\n",
              "                                            [200, 200, 100]]},\n",
              "             scoring=&#x27;accuracy&#x27;)</pre></div></div></div><div class=\"sk-parallel\"><div class=\"sk-parallel-item\"><div class=\"sk-item\"><div class=\"sk-label-container\"><div class=\"sk-label sk-toggleable\"><input class=\"sk-toggleable__control sk-hidden--visually\" id=\"sk-estimator-id-14\" type=\"checkbox\" ><label for=\"sk-estimator-id-14\" class=\"sk-toggleable__label sk-toggleable__label-arrow\">estimator: NeuralNetClassifier</label><div class=\"sk-toggleable__content\"><pre>&lt;class &#x27;skorch.classifier.NeuralNetClassifier&#x27;&gt;[uninitialized](\n",
              "  module=myNN(\n",
              "    (firstFun): ReLU()\n",
              "    (fc1): Linear(in_features=784, out_features=500, bias=True)\n",
              "    (hidden): Sequential(\n",
              "      (Linear0): Linear(in_features=500, out_features=200, bias=True)\n",
              "      (ReLU0): ReLU()\n",
              "      (Dropout0): Dropout(p=0.3, inplace=False)\n",
              "      (Linear1): Linear(in_features=200, out_features=100, bias=True)\n",
              "    )\n",
              "    (fc2): Linear(in_features=100, out_features=10, bias=True)\n",
              "  ),\n",
              ")</pre></div></div></div><div class=\"sk-serial\"><div class=\"sk-item\"><div class=\"sk-estimator sk-toggleable\"><input class=\"sk-toggleable__control sk-hidden--visually\" id=\"sk-estimator-id-15\" type=\"checkbox\" ><label for=\"sk-estimator-id-15\" class=\"sk-toggleable__label sk-toggleable__label-arrow\">NeuralNetClassifier</label><div class=\"sk-toggleable__content\"><pre>&lt;class &#x27;skorch.classifier.NeuralNetClassifier&#x27;&gt;[uninitialized](\n",
              "  module=myNN(\n",
              "    (firstFun): ReLU()\n",
              "    (fc1): Linear(in_features=784, out_features=500, bias=True)\n",
              "    (hidden): Sequential(\n",
              "      (Linear0): Linear(in_features=500, out_features=200, bias=True)\n",
              "      (ReLU0): ReLU()\n",
              "      (Dropout0): Dropout(p=0.3, inplace=False)\n",
              "      (Linear1): Linear(in_features=200, out_features=100, bias=True)\n",
              "    )\n",
              "    (fc2): Linear(in_features=100, out_features=10, bias=True)\n",
              "  ),\n",
              ")</pre></div></div></div></div></div></div></div></div></div></div>"
            ],
            "text/plain": [
              "GridSearchCV(cv=5,\n",
              "             estimator=<class 'skorch.classifier.NeuralNetClassifier'>[uninitialized](\n",
              "  module=myNN(\n",
              "    (firstFun): ReLU()\n",
              "    (fc1): Linear(in_features=784, out_features=500, bias=True)\n",
              "    (hidden): Sequential(\n",
              "      (Linear0): Linear(in_features=500, out_features=200, bias=True)\n",
              "      (ReLU0): ReLU()\n",
              "      (Dropout0): Dropout(p=0.3, inplace=False)\n",
              "      (Linear1): Linear(in_features=200, out_features=100, bias=True)\n",
              "    )\n",
              "    (fc2): Linear(in_features=100, out_features=10, bias=True)\n",
              "  ),\n",
              "),\n",
              "             n_jobs=-1,\n",
              "             param_grid={'module__dropVal': [0.3],\n",
              "                         'module__layers': [[100], [500], [100, 100],\n",
              "                                            [500, 100], [1000, 500, 100],\n",
              "                                            [1000, 300, 100], [500, 200, 100],\n",
              "                                            [200, 200, 100]]},\n",
              "             scoring='accuracy')"
            ]
          },
          "execution_count": 43,
          "metadata": {},
          "output_type": "execute_result"
        }
      ],
      "source": [
        "param_grid = {\n",
        "    'module__layers': [[100],[500],[100,100],[500,100],[1000,500,100],[1000,300,100],[500,200,100],[200,200,100],],\n",
        "    'module__dropVal': [0.3],\n",
        "}\n",
        "\n",
        "grid_search = GridSearchCV(model, param_grid, scoring='accuracy', cv=5, n_jobs=-1)\n",
        "\n",
        "X = dataset.data.reshape(-1,28*28).float()\n",
        "y = dataset.targets\n",
        "print(\"X shape:\", X.shape)\n",
        "print(\"y shape:\", y.shape)\n",
        "grid_search.fit(X, y)\n"
      ]
    },
    {
      "cell_type": "code",
      "execution_count": 44,
      "metadata": {
        "id": "JUcgUzcirVYE",
        "outputId": "80ef8e0c-a4a2-49ea-d6e8-4d10924358ab"
      },
      "outputs": [
        {
          "data": {
            "text/plain": [
              "(0.9768333333333332,\n",
              " {'module__dropVal': 0.3, 'module__layers': [1000, 500, 100]})"
            ]
          },
          "execution_count": 44,
          "metadata": {},
          "output_type": "execute_result"
        }
      ],
      "source": [
        "accuracyTuned=grid_search.best_score_*100\n",
        "grid_search.best_score_, grid_search.best_params_"
      ]
    },
    {
      "cell_type": "code",
      "execution_count": 53,
      "metadata": {
        "id": "WGTPSm6IrVYF",
        "outputId": "b31239e0-6877-46fc-d616-2a6fb46bc4e3"
      },
      "outputs": [
        {
          "data": {
            "image/png": "[encoded data removed]",
            "text/plain": [
              "<Figure size 640x480 with 1 Axes>"
            ]
          },
          "metadata": {},
          "output_type": "display_data"
        }
      ],
      "source": [
        "\n",
        "val1=[defaultAccuracy,defaultAccuracy]\n",
        "plt.bar([\"Default\",\"Tuned\"],val1,color='blue')\n",
        "plt.bar([\"Default\",\"Tuned\"],[0,accuracyTuned-defaultAccuracy],bottom=val1,color='lightblue')\n",
        "# Add a dotted line\n",
        "plt.axhline(y=defaultAccuracy, color='red', linestyle='dotted')\n",
        "\n",
        "plt.ylim(defaultAccuracy-(defaultAccuracy/10),accuracyTuned+(accuracyTuned/40))\n",
        "plt.show()\n",
        "\n"
      ]
    }
  ],
  "metadata": {
    "accelerator": "GPU",
    "colab": {
      "gpuType": "T4",
      "provenance": []
    },
    "kernelspec": {
      "display_name": "Python 3",
      "name": "python3"
    },
    "language_info": {
      "codemirror_mode": {
        "name": "ipython",
        "version": 3
      },
      "file_extension": ".py",
      "mimetype": "text/x-python",
      "name": "python",
      "nbconvert_exporter": "python",
      "pygments_lexer": "ipython3",
      "version": "3.10.3"
    }
  },
  "nbformat": 4,
  "nbformat_minor": 0
}
